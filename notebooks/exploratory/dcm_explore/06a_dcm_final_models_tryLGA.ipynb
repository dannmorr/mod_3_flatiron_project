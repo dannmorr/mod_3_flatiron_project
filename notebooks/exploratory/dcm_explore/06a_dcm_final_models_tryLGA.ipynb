{
 "cells": [
  {
   "cell_type": "markdown",
   "metadata": {},
   "source": [
    "# I thought the last notebook was my final for modeling..."
   ]
  },
  {
   "cell_type": "markdown",
   "metadata": {},
   "source": [
    "### Amanda discovered some new info on data collection late last night that suggests the feature \"lga\" might give us better results than \"basin\".\n",
    "#### Time to find out if that is true."
   ]
  },
  {
   "cell_type": "code",
   "execution_count": 1,
   "metadata": {},
   "outputs": [],
   "source": [
    "# Standard imports\n",
    "import pandas as pd\n",
    "import numpy as np\n",
    "import matplotlib.pyplot as plt\n",
    "import seaborn as sns\n",
    "\n",
    "#additional EDA\n",
    "from pandas_profiling import ProfileReport\n",
    "\n",
    "# Model selection\n",
    "from sklearn.model_selection import train_test_split, KFold, cross_val_score, GridSearchCV\n",
    "\n",
    "# Preprocessing\n",
    "from sklearn.impute import SimpleImputer\n",
    "from sklearn.preprocessing import StandardScaler, OneHotEncoder\n",
    "\n",
    "# Models\n",
    "from sklearn.linear_model import LogisticRegression\n",
    "from sklearn.tree import DecisionTreeClassifier\n",
    "from sklearn.neighbors import KNeighborsClassifier\n",
    "\n",
    "# Metrics\n",
    "from sklearn.metrics import accuracy_score, recall_score, precision_score, f1_score, confusion_matrix, plot_confusion_matrix, classification_report\n",
    "\n",
    "# Ensemble/XGBoost\n",
    "from sklearn.ensemble import RandomForestClassifier, GradientBoostingClassifier, AdaBoostClassifier\n",
    "\n",
    "# Visualizing\n",
    "from sklearn.tree import export_graphviz\n",
    "from IPython.display import Image  \n",
    "from sklearn.tree import export_graphviz\n",
    "from pydotplus import graph_from_dot_data\n",
    "from sklearn.tree import plot_tree"
   ]
  },
  {
   "cell_type": "markdown",
   "metadata": {},
   "source": [
    "### Reading in the geodata_clean csv... Amanda's research showed that some observations needed to be dropped. see README for details."
   ]
  },
  {
   "cell_type": "code",
   "execution_count": 2,
   "metadata": {},
   "outputs": [
    {
     "data": {
      "text/html": [
       "<div>\n",
       "<style scoped>\n",
       "    .dataframe tbody tr th:only-of-type {\n",
       "        vertical-align: middle;\n",
       "    }\n",
       "\n",
       "    .dataframe tbody tr th {\n",
       "        vertical-align: top;\n",
       "    }\n",
       "\n",
       "    .dataframe thead th {\n",
       "        text-align: right;\n",
       "    }\n",
       "</style>\n",
       "<table border=\"1\" class=\"dataframe\">\n",
       "  <thead>\n",
       "    <tr style=\"text-align: right;\">\n",
       "      <th></th>\n",
       "      <th>Unnamed: 0</th>\n",
       "      <th>id</th>\n",
       "      <th>amount_tsh</th>\n",
       "      <th>date_recorded</th>\n",
       "      <th>funder</th>\n",
       "      <th>gps_height</th>\n",
       "      <th>installer</th>\n",
       "      <th>longitude</th>\n",
       "      <th>latitude</th>\n",
       "      <th>wpt_name</th>\n",
       "      <th>...</th>\n",
       "      <th>quantity_group</th>\n",
       "      <th>source</th>\n",
       "      <th>source_type</th>\n",
       "      <th>source_class</th>\n",
       "      <th>waterpoint_type</th>\n",
       "      <th>waterpoint_type_group</th>\n",
       "      <th>status_group</th>\n",
       "      <th>geometry</th>\n",
       "      <th>x</th>\n",
       "      <th>y</th>\n",
       "    </tr>\n",
       "  </thead>\n",
       "  <tbody>\n",
       "    <tr>\n",
       "      <th>0</th>\n",
       "      <td>0</td>\n",
       "      <td>69572</td>\n",
       "      <td>6000.0</td>\n",
       "      <td>2011-03-14</td>\n",
       "      <td>Roman</td>\n",
       "      <td>1390</td>\n",
       "      <td>Roman</td>\n",
       "      <td>34.938093</td>\n",
       "      <td>-9.856322</td>\n",
       "      <td>none</td>\n",
       "      <td>...</td>\n",
       "      <td>enough</td>\n",
       "      <td>spring</td>\n",
       "      <td>spring</td>\n",
       "      <td>groundwater</td>\n",
       "      <td>communal standpipe</td>\n",
       "      <td>communal standpipe</td>\n",
       "      <td>functional</td>\n",
       "      <td>POINT (34.93809275 -9.856321769999999)</td>\n",
       "      <td>34.938093</td>\n",
       "      <td>-9.856322</td>\n",
       "    </tr>\n",
       "    <tr>\n",
       "      <th>1</th>\n",
       "      <td>1</td>\n",
       "      <td>8776</td>\n",
       "      <td>0.0</td>\n",
       "      <td>2013-03-06</td>\n",
       "      <td>Grumeti</td>\n",
       "      <td>1399</td>\n",
       "      <td>GRUMETI</td>\n",
       "      <td>34.698766</td>\n",
       "      <td>-2.147466</td>\n",
       "      <td>Zahanati</td>\n",
       "      <td>...</td>\n",
       "      <td>insufficient</td>\n",
       "      <td>rainwater harvesting</td>\n",
       "      <td>rainwater harvesting</td>\n",
       "      <td>surface</td>\n",
       "      <td>communal standpipe</td>\n",
       "      <td>communal standpipe</td>\n",
       "      <td>functional</td>\n",
       "      <td>POINT (34.6987661 -2.14746569)</td>\n",
       "      <td>34.698766</td>\n",
       "      <td>-2.147466</td>\n",
       "    </tr>\n",
       "    <tr>\n",
       "      <th>2</th>\n",
       "      <td>2</td>\n",
       "      <td>34310</td>\n",
       "      <td>25.0</td>\n",
       "      <td>2013-02-25</td>\n",
       "      <td>Lottery Club</td>\n",
       "      <td>686</td>\n",
       "      <td>World vision</td>\n",
       "      <td>37.460664</td>\n",
       "      <td>-3.821329</td>\n",
       "      <td>Kwa Mahundi</td>\n",
       "      <td>...</td>\n",
       "      <td>enough</td>\n",
       "      <td>dam</td>\n",
       "      <td>dam</td>\n",
       "      <td>surface</td>\n",
       "      <td>communal standpipe multiple</td>\n",
       "      <td>communal standpipe</td>\n",
       "      <td>functional</td>\n",
       "      <td>POINT (37.46066446 -3.82132853)</td>\n",
       "      <td>37.460664</td>\n",
       "      <td>-3.821329</td>\n",
       "    </tr>\n",
       "    <tr>\n",
       "      <th>3</th>\n",
       "      <td>3</td>\n",
       "      <td>67743</td>\n",
       "      <td>0.0</td>\n",
       "      <td>2013-01-28</td>\n",
       "      <td>Unicef</td>\n",
       "      <td>263</td>\n",
       "      <td>UNICEF</td>\n",
       "      <td>38.486161</td>\n",
       "      <td>-11.155298</td>\n",
       "      <td>Zahanati Ya Nanyumbu</td>\n",
       "      <td>...</td>\n",
       "      <td>dry</td>\n",
       "      <td>machine dbh</td>\n",
       "      <td>borehole</td>\n",
       "      <td>groundwater</td>\n",
       "      <td>communal standpipe multiple</td>\n",
       "      <td>communal standpipe</td>\n",
       "      <td>non functional</td>\n",
       "      <td>POINT (38.48616088 -11.15529772)</td>\n",
       "      <td>38.486161</td>\n",
       "      <td>-11.155298</td>\n",
       "    </tr>\n",
       "    <tr>\n",
       "      <th>4</th>\n",
       "      <td>4</td>\n",
       "      <td>19728</td>\n",
       "      <td>0.0</td>\n",
       "      <td>2011-07-13</td>\n",
       "      <td>Action In A</td>\n",
       "      <td>0</td>\n",
       "      <td>Artisan</td>\n",
       "      <td>31.130847</td>\n",
       "      <td>-1.825359</td>\n",
       "      <td>Shuleni</td>\n",
       "      <td>...</td>\n",
       "      <td>seasonal</td>\n",
       "      <td>rainwater harvesting</td>\n",
       "      <td>rainwater harvesting</td>\n",
       "      <td>surface</td>\n",
       "      <td>communal standpipe</td>\n",
       "      <td>communal standpipe</td>\n",
       "      <td>functional</td>\n",
       "      <td>POINT (31.13084671 -1.82535885)</td>\n",
       "      <td>31.130847</td>\n",
       "      <td>-1.825359</td>\n",
       "    </tr>\n",
       "  </tbody>\n",
       "</table>\n",
       "<p>5 rows × 45 columns</p>\n",
       "</div>"
      ],
      "text/plain": [
       "   Unnamed: 0     id  amount_tsh date_recorded        funder  gps_height  \\\n",
       "0           0  69572      6000.0    2011-03-14         Roman        1390   \n",
       "1           1   8776         0.0    2013-03-06       Grumeti        1399   \n",
       "2           2  34310        25.0    2013-02-25  Lottery Club         686   \n",
       "3           3  67743         0.0    2013-01-28        Unicef         263   \n",
       "4           4  19728         0.0    2011-07-13   Action In A           0   \n",
       "\n",
       "      installer  longitude   latitude              wpt_name  ...  \\\n",
       "0         Roman  34.938093  -9.856322                  none  ...   \n",
       "1       GRUMETI  34.698766  -2.147466              Zahanati  ...   \n",
       "2  World vision  37.460664  -3.821329           Kwa Mahundi  ...   \n",
       "3        UNICEF  38.486161 -11.155298  Zahanati Ya Nanyumbu  ...   \n",
       "4       Artisan  31.130847  -1.825359               Shuleni  ...   \n",
       "\n",
       "   quantity_group                source           source_type source_class  \\\n",
       "0          enough                spring                spring  groundwater   \n",
       "1    insufficient  rainwater harvesting  rainwater harvesting      surface   \n",
       "2          enough                   dam                   dam      surface   \n",
       "3             dry           machine dbh              borehole  groundwater   \n",
       "4        seasonal  rainwater harvesting  rainwater harvesting      surface   \n",
       "\n",
       "               waterpoint_type  waterpoint_type_group    status_group  \\\n",
       "0           communal standpipe     communal standpipe      functional   \n",
       "1           communal standpipe     communal standpipe      functional   \n",
       "2  communal standpipe multiple     communal standpipe      functional   \n",
       "3  communal standpipe multiple     communal standpipe  non functional   \n",
       "4           communal standpipe     communal standpipe      functional   \n",
       "\n",
       "                                 geometry          x          y  \n",
       "0  POINT (34.93809275 -9.856321769999999)  34.938093  -9.856322  \n",
       "1          POINT (34.6987661 -2.14746569)  34.698766  -2.147466  \n",
       "2         POINT (37.46066446 -3.82132853)  37.460664  -3.821329  \n",
       "3        POINT (38.48616088 -11.15529772)  38.486161 -11.155298  \n",
       "4         POINT (31.13084671 -1.82535885)  31.130847  -1.825359  \n",
       "\n",
       "[5 rows x 45 columns]"
      ]
     },
     "execution_count": 2,
     "metadata": {},
     "output_type": "execute_result"
    }
   ],
   "source": [
    "df = pd.read_csv(\"../geodata_clean.csv\")\n",
    "df.head()"
   ]
  },
  {
   "cell_type": "markdown",
   "metadata": {},
   "source": [
    "Making my smaller data frame with our chosen features.\n",
    "In this version I will substitute \"lga\" for \"basin\", and add \"management_group\""
   ]
  },
  {
   "cell_type": "code",
   "execution_count": 3,
   "metadata": {},
   "outputs": [
    {
     "data": {
      "text/html": [
       "<div>\n",
       "<style scoped>\n",
       "    .dataframe tbody tr th:only-of-type {\n",
       "        vertical-align: middle;\n",
       "    }\n",
       "\n",
       "    .dataframe tbody tr th {\n",
       "        vertical-align: top;\n",
       "    }\n",
       "\n",
       "    .dataframe thead th {\n",
       "        text-align: right;\n",
       "    }\n",
       "</style>\n",
       "<table border=\"1\" class=\"dataframe\">\n",
       "  <thead>\n",
       "    <tr style=\"text-align: right;\">\n",
       "      <th></th>\n",
       "      <th>status_group</th>\n",
       "      <th>lga</th>\n",
       "      <th>quantity_group</th>\n",
       "      <th>quality_group</th>\n",
       "      <th>management_group</th>\n",
       "      <th>extraction_type</th>\n",
       "      <th>source_type</th>\n",
       "      <th>waterpoint_type</th>\n",
       "    </tr>\n",
       "  </thead>\n",
       "  <tbody>\n",
       "    <tr>\n",
       "      <th>0</th>\n",
       "      <td>functional</td>\n",
       "      <td>Ludewa</td>\n",
       "      <td>enough</td>\n",
       "      <td>good</td>\n",
       "      <td>user-group</td>\n",
       "      <td>gravity</td>\n",
       "      <td>spring</td>\n",
       "      <td>communal standpipe</td>\n",
       "    </tr>\n",
       "    <tr>\n",
       "      <th>1</th>\n",
       "      <td>functional</td>\n",
       "      <td>Serengeti</td>\n",
       "      <td>insufficient</td>\n",
       "      <td>good</td>\n",
       "      <td>user-group</td>\n",
       "      <td>gravity</td>\n",
       "      <td>rainwater harvesting</td>\n",
       "      <td>communal standpipe</td>\n",
       "    </tr>\n",
       "    <tr>\n",
       "      <th>2</th>\n",
       "      <td>functional</td>\n",
       "      <td>Simanjiro</td>\n",
       "      <td>enough</td>\n",
       "      <td>good</td>\n",
       "      <td>user-group</td>\n",
       "      <td>gravity</td>\n",
       "      <td>dam</td>\n",
       "      <td>communal standpipe multiple</td>\n",
       "    </tr>\n",
       "    <tr>\n",
       "      <th>3</th>\n",
       "      <td>non functional</td>\n",
       "      <td>Nanyumbu</td>\n",
       "      <td>dry</td>\n",
       "      <td>good</td>\n",
       "      <td>user-group</td>\n",
       "      <td>submersible</td>\n",
       "      <td>borehole</td>\n",
       "      <td>communal standpipe multiple</td>\n",
       "    </tr>\n",
       "    <tr>\n",
       "      <th>4</th>\n",
       "      <td>functional</td>\n",
       "      <td>Karagwe</td>\n",
       "      <td>seasonal</td>\n",
       "      <td>good</td>\n",
       "      <td>other</td>\n",
       "      <td>gravity</td>\n",
       "      <td>rainwater harvesting</td>\n",
       "      <td>communal standpipe</td>\n",
       "    </tr>\n",
       "  </tbody>\n",
       "</table>\n",
       "</div>"
      ],
      "text/plain": [
       "     status_group        lga quantity_group quality_group management_group  \\\n",
       "0      functional     Ludewa         enough          good       user-group   \n",
       "1      functional  Serengeti   insufficient          good       user-group   \n",
       "2      functional  Simanjiro         enough          good       user-group   \n",
       "3  non functional   Nanyumbu            dry          good       user-group   \n",
       "4      functional    Karagwe       seasonal          good            other   \n",
       "\n",
       "  extraction_type           source_type              waterpoint_type  \n",
       "0         gravity                spring           communal standpipe  \n",
       "1         gravity  rainwater harvesting           communal standpipe  \n",
       "2         gravity                   dam  communal standpipe multiple  \n",
       "3     submersible              borehole  communal standpipe multiple  \n",
       "4         gravity  rainwater harvesting           communal standpipe  "
      ]
     },
     "execution_count": 3,
     "metadata": {},
     "output_type": "execute_result"
    }
   ],
   "source": [
    "st_df = df[['status_group','lga','quantity_group','quality_group','management_group',\n",
    "            'extraction_type','source_type','waterpoint_type']]\n",
    "st_df.head()"
   ]
  },
  {
   "cell_type": "code",
   "execution_count": 4,
   "metadata": {},
   "outputs": [],
   "source": [
    "# identify target and features\n",
    "# target variable\n",
    "y = st_df['status_group']\n",
    "# features\n",
    "X = st_df.drop('status_group', axis=1)"
   ]
  },
  {
   "cell_type": "markdown",
   "metadata": {},
   "source": [
    "train test split with .25 test size"
   ]
  },
  {
   "cell_type": "code",
   "execution_count": 5,
   "metadata": {},
   "outputs": [],
   "source": [
    "# time for a train test split and a new model or two\n",
    "\n",
    "X_train, X_test, y_train, y_test = train_test_split(X, y, random_state=42, test_size=.2)"
   ]
  },
  {
   "cell_type": "code",
   "execution_count": 6,
   "metadata": {},
   "outputs": [],
   "source": [
    "#encode the categoricals\n",
    "ohe = OneHotEncoder(drop='first')\n",
    "\n",
    "ohe.fit(X_train)\n",
    "X_train_ohe = ohe.transform(X_train).toarray()\n",
    "\n",
    "# Creating this DataFrame is only to show the result of the ohe\n",
    "ohe_df = pd.DataFrame(X_train_ohe, columns=ohe.get_feature_names(X_train.columns))"
   ]
  },
  {
   "cell_type": "markdown",
   "metadata": {},
   "source": [
    "### We decided Random Forest Classifier gave us the best result"
   ]
  },
  {
   "cell_type": "markdown",
   "metadata": {},
   "source": [
    "    Instantiate."
   ]
  },
  {
   "cell_type": "code",
   "execution_count": 7,
   "metadata": {},
   "outputs": [],
   "source": [
    "# Instantiate a RandomForestClassifier\n",
    "rfc1 = RandomForestClassifier(n_estimators=500, random_state=42)"
   ]
  },
  {
   "cell_type": "markdown",
   "metadata": {},
   "source": [
    "    Fit."
   ]
  },
  {
   "cell_type": "code",
   "execution_count": 8,
   "metadata": {},
   "outputs": [
    {
     "data": {
      "text/plain": [
       "RandomForestClassifier(n_estimators=500, random_state=42)"
      ]
     },
     "execution_count": 8,
     "metadata": {},
     "output_type": "execute_result"
    }
   ],
   "source": [
    "rfc1.fit(X_train_ohe, y_train)"
   ]
  },
  {
   "cell_type": "markdown",
   "metadata": {},
   "source": [
    "    Predict."
   ]
  },
  {
   "cell_type": "code",
   "execution_count": 9,
   "metadata": {},
   "outputs": [],
   "source": [
    "rfc1_preds = rfc1.predict(X_train_ohe)"
   ]
  },
  {
   "cell_type": "markdown",
   "metadata": {},
   "source": [
    "    Return scores."
   ]
  },
  {
   "cell_type": "code",
   "execution_count": 10,
   "metadata": {},
   "outputs": [],
   "source": [
    "def display_scores(true, preds, model_name):\n",
    "    \"\"\"Returns a function running metric scores, classification_report, and confusion_matrix for a model.\"\"\"\n",
    "    rec = recall_score(true, preds, average='micro')\n",
    "    acc = accuracy_score(true, preds)\n",
    "    f1 = f1_score(true, preds, average='micro', zero_division=0)\n",
    "    prec = precision_score(true, preds, average='micro', zero_division=0)\n",
    "    rc = classification_report(true, preds)\n",
    "    cm = confusion_matrix(true, preds)\n",
    "    \n",
    "    print(\"Model: {}\".format(model_name))\n",
    "    print(\"Recall: {}\".format(rec))\n",
    "    print(\"Accuracy: {}\".format(acc))\n",
    "    print(\"F1-Score: {}\".format(f1))\n",
    "    print(\"Precision: {}\".format(prec))\n",
    "    print(\"Classification Report:\\n {}\".format(rc))\n",
    "    print(\"Confusion Matrix:\\n {}\".format(cm))\n",
    "    print(\"--------------------------------------------------------------------------------\")\n",
    "    \n",
    "\n",
    "    return display_scores\n"
   ]
  },
  {
   "cell_type": "code",
   "execution_count": 11,
   "metadata": {},
   "outputs": [
    {
     "name": "stdout",
     "output_type": "stream",
     "text": [
      "Model: Random Forest 1\n",
      "Recall: 0.8049706967657911\n",
      "Accuracy: 0.8049706967657911\n",
      "F1-Score: 0.8049706967657911\n",
      "Precision: 0.8049706967657911\n",
      "Classification Report:\n",
      "                          precision    recall  f1-score   support\n",
      "\n",
      "             functional       0.79      0.91      0.85     25088\n",
      "functional needs repair       0.64      0.27      0.38      3140\n",
      "         non functional       0.84      0.75      0.79     17842\n",
      "\n",
      "               accuracy                           0.80     46070\n",
      "              macro avg       0.76      0.64      0.67     46070\n",
      "           weighted avg       0.80      0.80      0.79     46070\n",
      "\n",
      "Confusion Matrix:\n",
      " [[22880   254  1954]\n",
      " [ 1787   837   516]\n",
      " [ 4252   222 13368]]\n",
      "--------------------------------------------------------------------------------\n"
     ]
    },
    {
     "data": {
      "text/plain": [
       "<function __main__.display_scores(true, preds, model_name)>"
      ]
     },
     "execution_count": 11,
     "metadata": {},
     "output_type": "execute_result"
    }
   ],
   "source": [
    "display_scores(y_train, rfc1_preds , model_name='Random Forest 1')"
   ]
  },
  {
   "cell_type": "markdown",
   "metadata": {},
   "source": [
    "    Plot confusion matrix."
   ]
  },
  {
   "cell_type": "code",
   "execution_count": 12,
   "metadata": {},
   "outputs": [
    {
     "data": {
      "image/png": "[encoded data removed]",
      "text/plain": [
       "<Figure size 576x396 with 2 Axes>"
      ]
     },
     "metadata": {},
     "output_type": "display_data"
    }
   ],
   "source": [
    "fig, ax = plt.subplots()\n",
    "fig.suptitle(\"Confusion Matrix - Training values\")\n",
    "plot_confusion_matrix(rfc1, X_train_ohe, y_train, ax=ax, cmap=\"Blues\");"
   ]
  },
  {
   "cell_type": "markdown",
   "metadata": {},
   "source": [
    "result: Overall a better score than the models in my previous noteboo, especially recall for non-functional wells!\n",
    "    "
   ]
  },
  {
   "cell_type": "code",
   "execution_count": 13,
   "metadata": {
    "collapsed": true,
    "jupyter": {
     "outputs_hidden": true
    }
   },
   "outputs": [
    {
     "name": "stdout",
     "output_type": "stream",
     "text": [
      "lga_Arusha Urban , 0.0005626119777887173\n",
      "lga_Babati , 0.0027755680147985634\n",
      "lga_Bagamoyo , 0.003736473315384184\n",
      "lga_Bahi , 0.001786042756337658\n",
      "lga_Bariadi , 0.002449995428159126\n",
      "lga_Biharamulo , 0.0020645419856792774\n",
      "lga_Bukoba Rural , 0.003209440188410444\n",
      "lga_Bukoba Urban , 0.0010009004155354204\n",
      "lga_Bukombe , 0.0019198875264989721\n",
      "lga_Bunda , 0.0037342671556000874\n",
      "lga_Chamwino , 0.0027790987271736982\n",
      "lga_Chato , 0.002236211291343306\n",
      "lga_Chunya , 0.006843237406188862\n",
      "lga_Dodoma Urban , 0.0030277055047521267\n",
      "lga_Hai , 0.002713824796442274\n",
      "lga_Hanang , 0.0024859046267782336\n",
      "lga_Handeni , 0.0015569662254757864\n",
      "lga_Igunga , 0.0035225169513514983\n",
      "lga_Ilala , 0.002983356273785523\n",
      "lga_Ileje , 0.0027774683958573924\n",
      "lga_Ilemela , 0.0012296177825650023\n",
      "lga_Iramba , 0.0029151026521628733\n",
      "lga_Iringa Rural , 0.0035596212937738284\n",
      "lga_Kahama , 0.006410195262223765\n",
      "lga_Karagwe , 0.0034279239762311352\n",
      "lga_Karatu , 0.004410018644298297\n",
      "lga_Kasulu , 0.006339386527085636\n",
      "lga_Kibaha , 0.0023160875395478327\n",
      "lga_Kibondo , 0.008089134598459852\n",
      "lga_Kigoma Rural , 0.008271463107640861\n",
      "lga_Kigoma Urban , 0.0006318870532045183\n",
      "lga_Kilindi , 0.0014998755681415827\n",
      "lga_Kilolo , 0.0015656303009574635\n",
      "lga_Kilombero , 0.0031916984946809518\n",
      "lga_Kilosa , 0.005420004318780998\n",
      "lga_Kilwa , 0.0027288482345524286\n",
      "lga_Kinondoni , 0.0009032483075659099\n",
      "lga_Kisarawe , 0.0037145881959971816\n",
      "lga_Kishapu , 0.0037510890103747397\n",
      "lga_Kiteto , 0.0028196771337223358\n",
      "lga_Kondoa , 0.006338337783027887\n",
      "lga_Kongwa , 0.0031441221190224478\n",
      "lga_Korogwe , 0.003168912078530038\n",
      "lga_Kwimba , 0.003194587779677453\n",
      "lga_Kyela , 0.007556254456146153\n",
      "lga_Lindi Rural , 0.002994652799826544\n",
      "lga_Lindi Urban , 4.058888579965881e-05\n",
      "lga_Liwale , 0.0011700979160831806\n",
      "lga_Longido , 0.002268767309336354\n",
      "lga_Ludewa , 0.002482726021411926\n",
      "lga_Lushoto , 0.0015769345774154936\n",
      "lga_Mafia , 0.0014471603877903474\n",
      "lga_Magu , 0.004060249908255307\n",
      "lga_Makete , 0.0038897215639355502\n",
      "lga_Manyoni , 0.0042901931712192596\n",
      "lga_Masasi , 0.00414160357937816\n",
      "lga_Maswa , 0.004646252091508557\n",
      "lga_Mbarali , 0.0027424006513463947\n",
      "lga_Mbeya Rural , 0.002153168388332046\n",
      "lga_Mbinga , 0.0035080519843430917\n",
      "lga_Mbozi , 0.005737314224637334\n",
      "lga_Mbulu , 0.002835593443273857\n",
      "lga_Meatu , 0.0026877260980190942\n",
      "lga_Meru , 0.004596656666996094\n",
      "lga_Misenyi , 0.003734191782209022\n",
      "lga_Missungwi , 0.0034990467813344364\n",
      "lga_Mkinga , 0.0027046036725179106\n",
      "lga_Mkuranga , 0.0046323969065475545\n",
      "lga_Monduli , 0.002209541615511741\n",
      "lga_Morogoro Rural , 0.0022955346337200887\n",
      "lga_Morogoro Urban , 0.0011301815073836076\n",
      "lga_Moshi Rural , 0.005480570583737231\n",
      "lga_Moshi Urban , 0.0008758391004740431\n",
      "lga_Mpanda , 0.005875954804975678\n",
      "lga_Mpwapwa , 0.0033389356252120335\n",
      "lga_Mtwara Rural , 0.002351321568651296\n",
      "lga_Mtwara Urban , 0.0013673196330882694\n",
      "lga_Mufindi , 0.002329992513833603\n",
      "lga_Muheza , 0.0028121898385622575\n",
      "lga_Muleba , 0.0033174651577054805\n",
      "lga_Musoma Rural , 0.0045993368778211125\n",
      "lga_Mvomero , 0.005797150692538096\n",
      "lga_Mwanga , 0.0036223773919633762\n",
      "lga_Nachingwea , 0.0025253961707725754\n",
      "lga_Namtumbo , 0.0030679395698079716\n",
      "lga_Nanyumbu , 0.0007699839321101774\n",
      "lga_Newala , 0.0034706053440661734\n",
      "lga_Ngara , 0.005765017525353981\n",
      "lga_Ngorongoro , 0.0025143398284091377\n",
      "lga_Njombe , 0.009880311626215017\n",
      "lga_Nkasi , 0.0031677503200612687\n",
      "lga_Nyamagana , 9.481117392603317e-05\n",
      "lga_Nzega , 0.003334378314645774\n",
      "lga_Pangani , 0.003129904658467102\n",
      "lga_Rombo , 0.006714490008911547\n",
      "lga_Rorya , 0.003227781000348581\n",
      "lga_Ruangwa , 0.004088130028377774\n",
      "lga_Rufiji , 0.003979020094128234\n",
      "lga_Rungwe , 0.005260474532416975\n",
      "lga_Same , 0.00574978998459135\n",
      "lga_Sengerema , 0.004592774225619653\n",
      "lga_Serengeti , 0.0058974732634867015\n",
      "lga_Shinyanga Rural , 0.004845877670462243\n",
      "lga_Shinyanga Urban , 0.0017240986127066227\n",
      "lga_Siha , 0.0028981727295830737\n",
      "lga_Sikonge , 0.0013718257290768882\n",
      "lga_Simanjiro , 0.0034349469045166134\n",
      "lga_Singida Rural , 0.0061464617054115146\n",
      "lga_Singida Urban , 0.0016135625419263068\n",
      "lga_Songea Rural , 0.004414032432716966\n",
      "lga_Songea Urban , 0.0003619630743950047\n",
      "lga_Sumbawanga Rural , 0.003657412677997883\n",
      "lga_Sumbawanga Urban , 0.002104273593909998\n",
      "lga_Tabora Urban , 0.001026243517581477\n",
      "lga_Tandahimba , 0.0023668598789931402\n",
      "lga_Tanga , 0.0011446255617241425\n",
      "lga_Tarime , 0.002659117974564353\n",
      "lga_Temeke , 0.0016224466665768023\n",
      "lga_Tunduru , 0.003544478347318324\n",
      "lga_Ukerewe , 0.0032190451532933865\n",
      "lga_Ulanga , 0.0028427933807249938\n",
      "lga_Urambo , 0.0020689797447017034\n",
      "lga_Uyui , 0.002873509123996957\n",
      "quantity_group_enough , 0.10475284672917178\n",
      "quantity_group_insufficient , 0.0664066242426101\n",
      "quantity_group_seasonal , 0.03515158960139698\n",
      "quantity_group_unknown , 0.004811370980951608\n",
      "quality_group_fluoride , 0.001873543591961022\n",
      "quality_group_good , 0.014537019629943115\n",
      "quality_group_milky , 0.003113917699182099\n",
      "quality_group_salty , 0.008644574577277745\n",
      "quality_group_unknown , 0.014582504818361161\n",
      "management_group_other , 0.004983073524527813\n",
      "management_group_parastatal , 0.006853804161091891\n",
      "management_group_unknown , 0.0037199261690687344\n",
      "management_group_user-group , 0.02589455431590007\n",
      "extraction_type_cemo , 0.0003672260967193374\n",
      "extraction_type_climax , 0.0005173588289589053\n",
      "extraction_type_gravity , 0.015195254567887397\n",
      "extraction_type_india mark ii , 0.005630053140225858\n",
      "extraction_type_india mark iii , 0.0008518684047250077\n",
      "extraction_type_ksb , 0.005225957485367162\n",
      "extraction_type_mono , 0.006931242223628873\n",
      "extraction_type_nira/tanira , 0.012173944969678467\n",
      "extraction_type_other , 0.05741360968228458\n",
      "extraction_type_other - mkulima/shinyanga , 0.0001429721737547892\n",
      "extraction_type_other - play pump , 0.0007251636225568957\n",
      "extraction_type_other - rope pump , 0.0021861459715895953\n",
      "extraction_type_other - swn 81 , 0.0014715445356432704\n",
      "extraction_type_submersible , 0.007749280715417864\n",
      "extraction_type_swn 80 , 0.005532268699300807\n",
      "extraction_type_walimi , 0.0003029963927323653\n",
      "extraction_type_windmill , 0.0009387725317431176\n",
      "source_type_dam , 0.004680930970845306\n",
      "source_type_other , 0.0022452951057348714\n",
      "source_type_rainwater harvesting , 0.010364460559019963\n",
      "source_type_river/lake , 0.012140701103034252\n",
      "source_type_shallow well , 0.014483401976965387\n",
      "source_type_spring , 0.015967568469845317\n",
      "waterpoint_type_communal standpipe , 0.023587341392904512\n",
      "waterpoint_type_communal standpipe multiple , 0.01595505122050036\n",
      "waterpoint_type_dam , 5.7275103710637405e-05\n",
      "waterpoint_type_hand pump , 0.01728208946686047\n",
      "waterpoint_type_improved spring , 0.004030760268666319\n",
      "waterpoint_type_other , 0.05734587411595222\n"
     ]
    }
   ],
   "source": [
    "for col, feature in zip(ohe_df.columns, rfc1.feature_importances_):\n",
    "    print(col,\",\", feature)"
   ]
  },
  {
   "cell_type": "markdown",
   "metadata": {},
   "source": [
    "### Testing"
   ]
  },
  {
   "cell_type": "code",
   "execution_count": 14,
   "metadata": {},
   "outputs": [
    {
     "name": "stdout",
     "output_type": "stream",
     "text": [
      "Model: Random Forest Test 1\n",
      "Recall: 0.8286160791804132\n",
      "Accuracy: 0.8286160791804132\n",
      "F1-Score: 0.8286160791804132\n",
      "Precision: 0.8286160791804132\n",
      "Classification Report:\n",
      "                          precision    recall  f1-score   support\n",
      "\n",
      "             functional       0.81      0.93      0.87      6301\n",
      "functional needs repair       0.73      0.36      0.48       791\n",
      "         non functional       0.87      0.77      0.82      4426\n",
      "\n",
      "               accuracy                           0.83     11518\n",
      "              macro avg       0.80      0.69      0.72     11518\n",
      "           weighted avg       0.83      0.83      0.82     11518\n",
      "\n",
      "Confusion Matrix:\n",
      " [[5833   63  405]\n",
      " [ 381  284  126]\n",
      " [ 955   44 3427]]\n",
      "--------------------------------------------------------------------------------\n"
     ]
    }
   ],
   "source": [
    "#encode the test set\n",
    "X_test_ohe = ohe.transform(X_test)\n",
    "\n",
    "#fit\n",
    "rfc1.fit(X_test_ohe, y_test)\n",
    "#predict\n",
    "y1_preds = rfc1.predict(X_test_ohe)\n",
    "#check scores\n",
    "display_scores(y_test, y1_preds , model_name='Random Forest Test 1');"
   ]
  },
  {
   "cell_type": "code",
   "execution_count": 15,
   "metadata": {},
   "outputs": [
    {
     "data": {
      "image/png": "[encoded data removed]",
      "text/plain": [
       "<Figure size 576x396 with 2 Axes>"
      ]
     },
     "metadata": {},
     "output_type": "display_data"
    }
   ],
   "source": [
    "fig, ax = plt.subplots()\n",
    "figsize=(20,20)\n",
    "fig.suptitle(\"Final Model Confusion Matrix\")\n",
    "plot_confusion_matrix(rfc1, X_test_ohe, y_test, ax=ax, cmap=\"Blues\");"
   ]
  },
  {
   "cell_type": "code",
   "execution_count": null,
   "metadata": {},
   "outputs": [],
   "source": []
  }
 ],
 "metadata": {
  "kernelspec": {
   "display_name": "asp-env",
   "language": "python",
   "name": "asp"
  },
  "language_info": {
   "codemirror_mode": {
    "name": "ipython",
    "version": 3
   },
   "file_extension": ".py",
   "mimetype": "text/x-python",
   "name": "python",
   "nbconvert_exporter": "python",
   "pygments_lexer": "ipython3",
   "version": "3.8.2"
  },
  "toc": {
   "base_numbering": 1,
   "nav_menu": {},
   "number_sections": true,
   "sideBar": true,
   "skip_h1_title": false,
   "title_cell": "Table of Contents",
   "title_sidebar": "Contents",
   "toc_cell": false,
   "toc_position": {},
   "toc_section_display": true,
   "toc_window_display": false
  }
 },
 "nbformat": 4,
 "nbformat_minor": 4
}
