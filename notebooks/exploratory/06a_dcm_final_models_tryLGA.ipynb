{
 "cells": [
  {
   "cell_type": "markdown",
   "metadata": {},
   "source": [
    "# I thought the last notebook was my final for modeling..."
   ]
  },
  {
   "cell_type": "markdown",
   "metadata": {},
   "source": [
    "### Amanda discovered some new info on data collection late last night that suggests the feature \"lga\" might give us better results than \"basin\".\n",
    "#### Time to find out"
   ]
  },
  {
   "cell_type": "code",
   "execution_count": 1,
   "metadata": {},
   "outputs": [],
   "source": [
    "# Standard imports\n",
    "import pandas as pd\n",
    "import numpy as np\n",
    "import matplotlib.pyplot as plt\n",
    "import seaborn as sns\n",
    "\n",
    "#additional EDA\n",
    "from pandas_profiling import ProfileReport\n",
    "\n",
    "# Model selection\n",
    "from sklearn.model_selection import train_test_split, KFold, cross_val_score, GridSearchCV\n",
    "\n",
    "# Preprocessing\n",
    "from sklearn.impute import SimpleImputer\n",
    "from sklearn.preprocessing import StandardScaler, OneHotEncoder\n",
    "\n",
    "# Models\n",
    "from sklearn.linear_model import LogisticRegression\n",
    "from sklearn.tree import DecisionTreeClassifier\n",
    "from sklearn.neighbors import KNeighborsClassifier\n",
    "\n",
    "# Metrics\n",
    "from sklearn.metrics import accuracy_score, recall_score, precision_score, f1_score, confusion_matrix, plot_confusion_matrix, classification_report\n",
    "\n",
    "# Ensemble/XGBoost\n",
    "from sklearn.ensemble import RandomForestClassifier, GradientBoostingClassifier, AdaBoostClassifier\n",
    "\n",
    "# Visualizing\n",
    "from sklearn.tree import export_graphviz\n",
    "from IPython.display import Image  \n",
    "from sklearn.tree import export_graphviz\n",
    "from pydotplus import graph_from_dot_data\n",
    "from sklearn.tree import plot_tree"
   ]
  },
  {
   "cell_type": "markdown",
   "metadata": {},
   "source": [
    "### Reading in the geodata_clean csv... Amanda's research showed that some observations needed to be dropped. see README for details."
   ]
  },
  {
   "cell_type": "code",
   "execution_count": 2,
   "metadata": {},
   "outputs": [
    {
     "data": {
      "text/html": [
       "<div>\n",
       "<style scoped>\n",
       "    .dataframe tbody tr th:only-of-type {\n",
       "        vertical-align: middle;\n",
       "    }\n",
       "\n",
       "    .dataframe tbody tr th {\n",
       "        vertical-align: top;\n",
       "    }\n",
       "\n",
       "    .dataframe thead th {\n",
       "        text-align: right;\n",
       "    }\n",
       "</style>\n",
       "<table border=\"1\" class=\"dataframe\">\n",
       "  <thead>\n",
       "    <tr style=\"text-align: right;\">\n",
       "      <th></th>\n",
       "      <th>Unnamed: 0</th>\n",
       "      <th>id</th>\n",
       "      <th>amount_tsh</th>\n",
       "      <th>date_recorded</th>\n",
       "      <th>funder</th>\n",
       "      <th>gps_height</th>\n",
       "      <th>installer</th>\n",
       "      <th>longitude</th>\n",
       "      <th>latitude</th>\n",
       "      <th>wpt_name</th>\n",
       "      <th>...</th>\n",
       "      <th>quantity_group</th>\n",
       "      <th>source</th>\n",
       "      <th>source_type</th>\n",
       "      <th>source_class</th>\n",
       "      <th>waterpoint_type</th>\n",
       "      <th>waterpoint_type_group</th>\n",
       "      <th>status_group</th>\n",
       "      <th>geometry</th>\n",
       "      <th>x</th>\n",
       "      <th>y</th>\n",
       "    </tr>\n",
       "  </thead>\n",
       "  <tbody>\n",
       "    <tr>\n",
       "      <th>0</th>\n",
       "      <td>0</td>\n",
       "      <td>69572</td>\n",
       "      <td>6000.0</td>\n",
       "      <td>2011-03-14</td>\n",
       "      <td>Roman</td>\n",
       "      <td>1390</td>\n",
       "      <td>Roman</td>\n",
       "      <td>34.938093</td>\n",
       "      <td>-9.856322</td>\n",
       "      <td>none</td>\n",
       "      <td>...</td>\n",
       "      <td>enough</td>\n",
       "      <td>spring</td>\n",
       "      <td>spring</td>\n",
       "      <td>groundwater</td>\n",
       "      <td>communal standpipe</td>\n",
       "      <td>communal standpipe</td>\n",
       "      <td>functional</td>\n",
       "      <td>POINT (34.93809275 -9.856321769999999)</td>\n",
       "      <td>34.938093</td>\n",
       "      <td>-9.856322</td>\n",
       "    </tr>\n",
       "    <tr>\n",
       "      <th>1</th>\n",
       "      <td>1</td>\n",
       "      <td>8776</td>\n",
       "      <td>0.0</td>\n",
       "      <td>2013-03-06</td>\n",
       "      <td>Grumeti</td>\n",
       "      <td>1399</td>\n",
       "      <td>GRUMETI</td>\n",
       "      <td>34.698766</td>\n",
       "      <td>-2.147466</td>\n",
       "      <td>Zahanati</td>\n",
       "      <td>...</td>\n",
       "      <td>insufficient</td>\n",
       "      <td>rainwater harvesting</td>\n",
       "      <td>rainwater harvesting</td>\n",
       "      <td>surface</td>\n",
       "      <td>communal standpipe</td>\n",
       "      <td>communal standpipe</td>\n",
       "      <td>functional</td>\n",
       "      <td>POINT (34.6987661 -2.14746569)</td>\n",
       "      <td>34.698766</td>\n",
       "      <td>-2.147466</td>\n",
       "    </tr>\n",
       "    <tr>\n",
       "      <th>2</th>\n",
       "      <td>2</td>\n",
       "      <td>34310</td>\n",
       "      <td>25.0</td>\n",
       "      <td>2013-02-25</td>\n",
       "      <td>Lottery Club</td>\n",
       "      <td>686</td>\n",
       "      <td>World vision</td>\n",
       "      <td>37.460664</td>\n",
       "      <td>-3.821329</td>\n",
       "      <td>Kwa Mahundi</td>\n",
       "      <td>...</td>\n",
       "      <td>enough</td>\n",
       "      <td>dam</td>\n",
       "      <td>dam</td>\n",
       "      <td>surface</td>\n",
       "      <td>communal standpipe multiple</td>\n",
       "      <td>communal standpipe</td>\n",
       "      <td>functional</td>\n",
       "      <td>POINT (37.46066446 -3.82132853)</td>\n",
       "      <td>37.460664</td>\n",
       "      <td>-3.821329</td>\n",
       "    </tr>\n",
       "    <tr>\n",
       "      <th>3</th>\n",
       "      <td>3</td>\n",
       "      <td>67743</td>\n",
       "      <td>0.0</td>\n",
       "      <td>2013-01-28</td>\n",
       "      <td>Unicef</td>\n",
       "      <td>263</td>\n",
       "      <td>UNICEF</td>\n",
       "      <td>38.486161</td>\n",
       "      <td>-11.155298</td>\n",
       "      <td>Zahanati Ya Nanyumbu</td>\n",
       "      <td>...</td>\n",
       "      <td>dry</td>\n",
       "      <td>machine dbh</td>\n",
       "      <td>borehole</td>\n",
       "      <td>groundwater</td>\n",
       "      <td>communal standpipe multiple</td>\n",
       "      <td>communal standpipe</td>\n",
       "      <td>non functional</td>\n",
       "      <td>POINT (38.48616088 -11.15529772)</td>\n",
       "      <td>38.486161</td>\n",
       "      <td>-11.155298</td>\n",
       "    </tr>\n",
       "    <tr>\n",
       "      <th>4</th>\n",
       "      <td>4</td>\n",
       "      <td>19728</td>\n",
       "      <td>0.0</td>\n",
       "      <td>2011-07-13</td>\n",
       "      <td>Action In A</td>\n",
       "      <td>0</td>\n",
       "      <td>Artisan</td>\n",
       "      <td>31.130847</td>\n",
       "      <td>-1.825359</td>\n",
       "      <td>Shuleni</td>\n",
       "      <td>...</td>\n",
       "      <td>seasonal</td>\n",
       "      <td>rainwater harvesting</td>\n",
       "      <td>rainwater harvesting</td>\n",
       "      <td>surface</td>\n",
       "      <td>communal standpipe</td>\n",
       "      <td>communal standpipe</td>\n",
       "      <td>functional</td>\n",
       "      <td>POINT (31.13084671 -1.82535885)</td>\n",
       "      <td>31.130847</td>\n",
       "      <td>-1.825359</td>\n",
       "    </tr>\n",
       "  </tbody>\n",
       "</table>\n",
       "<p>5 rows × 45 columns</p>\n",
       "</div>"
      ],
      "text/plain": [
       "   Unnamed: 0     id  amount_tsh date_recorded        funder  gps_height  \\\n",
       "0           0  69572      6000.0    2011-03-14         Roman        1390   \n",
       "1           1   8776         0.0    2013-03-06       Grumeti        1399   \n",
       "2           2  34310        25.0    2013-02-25  Lottery Club         686   \n",
       "3           3  67743         0.0    2013-01-28        Unicef         263   \n",
       "4           4  19728         0.0    2011-07-13   Action In A           0   \n",
       "\n",
       "      installer  longitude   latitude              wpt_name  ...  \\\n",
       "0         Roman  34.938093  -9.856322                  none  ...   \n",
       "1       GRUMETI  34.698766  -2.147466              Zahanati  ...   \n",
       "2  World vision  37.460664  -3.821329           Kwa Mahundi  ...   \n",
       "3        UNICEF  38.486161 -11.155298  Zahanati Ya Nanyumbu  ...   \n",
       "4       Artisan  31.130847  -1.825359               Shuleni  ...   \n",
       "\n",
       "   quantity_group                source           source_type source_class  \\\n",
       "0          enough                spring                spring  groundwater   \n",
       "1    insufficient  rainwater harvesting  rainwater harvesting      surface   \n",
       "2          enough                   dam                   dam      surface   \n",
       "3             dry           machine dbh              borehole  groundwater   \n",
       "4        seasonal  rainwater harvesting  rainwater harvesting      surface   \n",
       "\n",
       "               waterpoint_type  waterpoint_type_group    status_group  \\\n",
       "0           communal standpipe     communal standpipe      functional   \n",
       "1           communal standpipe     communal standpipe      functional   \n",
       "2  communal standpipe multiple     communal standpipe      functional   \n",
       "3  communal standpipe multiple     communal standpipe  non functional   \n",
       "4           communal standpipe     communal standpipe      functional   \n",
       "\n",
       "                                 geometry          x          y  \n",
       "0  POINT (34.93809275 -9.856321769999999)  34.938093  -9.856322  \n",
       "1          POINT (34.6987661 -2.14746569)  34.698766  -2.147466  \n",
       "2         POINT (37.46066446 -3.82132853)  37.460664  -3.821329  \n",
       "3        POINT (38.48616088 -11.15529772)  38.486161 -11.155298  \n",
       "4         POINT (31.13084671 -1.82535885)  31.130847  -1.825359  \n",
       "\n",
       "[5 rows x 45 columns]"
      ]
     },
     "execution_count": 2,
     "metadata": {},
     "output_type": "execute_result"
    }
   ],
   "source": [
    "df = pd.read_csv(\"../geodata_clean.csv\")\n",
    "df.head()"
   ]
  },
  {
   "cell_type": "markdown",
   "metadata": {},
   "source": [
    "Making my smaller data frame with our chosen features.\n",
    "In this version I will substitute \"lga\" for \"basin\", and add \"management_group\""
   ]
  },
  {
   "cell_type": "code",
   "execution_count": 3,
   "metadata": {},
   "outputs": [
    {
     "data": {
      "text/html": [
       "<div>\n",
       "<style scoped>\n",
       "    .dataframe tbody tr th:only-of-type {\n",
       "        vertical-align: middle;\n",
       "    }\n",
       "\n",
       "    .dataframe tbody tr th {\n",
       "        vertical-align: top;\n",
       "    }\n",
       "\n",
       "    .dataframe thead th {\n",
       "        text-align: right;\n",
       "    }\n",
       "</style>\n",
       "<table border=\"1\" class=\"dataframe\">\n",
       "  <thead>\n",
       "    <tr style=\"text-align: right;\">\n",
       "      <th></th>\n",
       "      <th>status_group</th>\n",
       "      <th>lga</th>\n",
       "      <th>quantity_group</th>\n",
       "      <th>quality_group</th>\n",
       "      <th>management_group</th>\n",
       "      <th>extraction_type</th>\n",
       "      <th>source_type</th>\n",
       "      <th>waterpoint_type</th>\n",
       "    </tr>\n",
       "  </thead>\n",
       "  <tbody>\n",
       "    <tr>\n",
       "      <th>0</th>\n",
       "      <td>functional</td>\n",
       "      <td>Ludewa</td>\n",
       "      <td>enough</td>\n",
       "      <td>good</td>\n",
       "      <td>user-group</td>\n",
       "      <td>gravity</td>\n",
       "      <td>spring</td>\n",
       "      <td>communal standpipe</td>\n",
       "    </tr>\n",
       "    <tr>\n",
       "      <th>1</th>\n",
       "      <td>functional</td>\n",
       "      <td>Serengeti</td>\n",
       "      <td>insufficient</td>\n",
       "      <td>good</td>\n",
       "      <td>user-group</td>\n",
       "      <td>gravity</td>\n",
       "      <td>rainwater harvesting</td>\n",
       "      <td>communal standpipe</td>\n",
       "    </tr>\n",
       "    <tr>\n",
       "      <th>2</th>\n",
       "      <td>functional</td>\n",
       "      <td>Simanjiro</td>\n",
       "      <td>enough</td>\n",
       "      <td>good</td>\n",
       "      <td>user-group</td>\n",
       "      <td>gravity</td>\n",
       "      <td>dam</td>\n",
       "      <td>communal standpipe multiple</td>\n",
       "    </tr>\n",
       "    <tr>\n",
       "      <th>3</th>\n",
       "      <td>non functional</td>\n",
       "      <td>Nanyumbu</td>\n",
       "      <td>dry</td>\n",
       "      <td>good</td>\n",
       "      <td>user-group</td>\n",
       "      <td>submersible</td>\n",
       "      <td>borehole</td>\n",
       "      <td>communal standpipe multiple</td>\n",
       "    </tr>\n",
       "    <tr>\n",
       "      <th>4</th>\n",
       "      <td>functional</td>\n",
       "      <td>Karagwe</td>\n",
       "      <td>seasonal</td>\n",
       "      <td>good</td>\n",
       "      <td>other</td>\n",
       "      <td>gravity</td>\n",
       "      <td>rainwater harvesting</td>\n",
       "      <td>communal standpipe</td>\n",
       "    </tr>\n",
       "  </tbody>\n",
       "</table>\n",
       "</div>"
      ],
      "text/plain": [
       "     status_group        lga quantity_group quality_group management_group  \\\n",
       "0      functional     Ludewa         enough          good       user-group   \n",
       "1      functional  Serengeti   insufficient          good       user-group   \n",
       "2      functional  Simanjiro         enough          good       user-group   \n",
       "3  non functional   Nanyumbu            dry          good       user-group   \n",
       "4      functional    Karagwe       seasonal          good            other   \n",
       "\n",
       "  extraction_type           source_type              waterpoint_type  \n",
       "0         gravity                spring           communal standpipe  \n",
       "1         gravity  rainwater harvesting           communal standpipe  \n",
       "2         gravity                   dam  communal standpipe multiple  \n",
       "3     submersible              borehole  communal standpipe multiple  \n",
       "4         gravity  rainwater harvesting           communal standpipe  "
      ]
     },
     "execution_count": 3,
     "metadata": {},
     "output_type": "execute_result"
    }
   ],
   "source": [
    "\n",
    "st_df = df[['status_group','lga','quantity_group','quality_group','management_group',\n",
    "            'extraction_type','source_type','waterpoint_type']]\n",
    "st_df.head()"
   ]
  },
  {
   "cell_type": "code",
   "execution_count": 4,
   "metadata": {},
   "outputs": [],
   "source": [
    "# identify target and features\n",
    "# target variable\n",
    "y = st_df['status_group']\n",
    "# features\n",
    "X = st_df.drop('status_group', axis=1)"
   ]
  },
  {
   "cell_type": "markdown",
   "metadata": {},
   "source": [
    "train test split with .25 test size"
   ]
  },
  {
   "cell_type": "code",
   "execution_count": 5,
   "metadata": {},
   "outputs": [],
   "source": [
    "# time for a train test split and a new model or two\n",
    "\n",
    "X_train, X_test, y_train, y_test = train_test_split(X, y, random_state=42, test_size=.25)"
   ]
  },
  {
   "cell_type": "code",
   "execution_count": 6,
   "metadata": {},
   "outputs": [],
   "source": [
    "#encode the categoricals\n",
    "ohe = OneHotEncoder(drop='first')\n",
    "\n",
    "ohe.fit(X_train)\n",
    "X_train_ohe = ohe.transform(X_train).toarray()\n",
    "\n",
    "# Creating this DataFrame is only to show the result of the ohe\n",
    "ohe_df = pd.DataFrame(X_train_ohe, columns=ohe.get_feature_names(X_train.columns))"
   ]
  },
  {
   "cell_type": "markdown",
   "metadata": {},
   "source": [
    "### We decided Random Forest Classifier gave us the best result"
   ]
  },
  {
   "cell_type": "markdown",
   "metadata": {},
   "source": [
    "    Instantiate."
   ]
  },
  {
   "cell_type": "code",
   "execution_count": 12,
   "metadata": {},
   "outputs": [],
   "source": [
    "# Instantiate a RandomForestClassifier\n",
    "rfc1 = RandomForestClassifier(n_estimators=500, random_state=42)"
   ]
  },
  {
   "cell_type": "markdown",
   "metadata": {},
   "source": [
    "    Fit."
   ]
  },
  {
   "cell_type": "code",
   "execution_count": 13,
   "metadata": {},
   "outputs": [
    {
     "data": {
      "text/plain": [
       "RandomForestClassifier(n_estimators=500, random_state=42)"
      ]
     },
     "execution_count": 13,
     "metadata": {},
     "output_type": "execute_result"
    }
   ],
   "source": [
    "rfc1.fit(X_train_ohe, y_train)"
   ]
  },
  {
   "cell_type": "markdown",
   "metadata": {},
   "source": [
    "    Predict."
   ]
  },
  {
   "cell_type": "code",
   "execution_count": 14,
   "metadata": {},
   "outputs": [],
   "source": [
    "rfc1_preds = rfc1.predict(X_train_ohe)"
   ]
  },
  {
   "cell_type": "markdown",
   "metadata": {},
   "source": [
    "    Return scores."
   ]
  },
  {
   "cell_type": "code",
   "execution_count": 15,
   "metadata": {},
   "outputs": [],
   "source": [
    "def display_scores(true, preds, model_name):\n",
    "    \"\"\"Returns a function running metric scores, classification_report, and confusion_matrix for a model.\"\"\"\n",
    "    rec = recall_score(true, preds, average='micro')\n",
    "    acc = accuracy_score(true, preds)\n",
    "    f1 = f1_score(true, preds, average='micro', zero_division=0)\n",
    "    prec = precision_score(true, preds, average='micro', zero_division=0)\n",
    "    rc = classification_report(true, preds)\n",
    "    cm = confusion_matrix(true, preds)\n",
    "    \n",
    "    print(\"Model: {}\".format(model_name))\n",
    "    print(\"Recall: {}\".format(rec))\n",
    "    print(\"Accuracy: {}\".format(acc))\n",
    "    print(\"F1-Score: {}\".format(f1))\n",
    "    print(\"Precision: {}\".format(prec))\n",
    "    print(\"Classification Report:\\n {}\".format(rc))\n",
    "    print(\"Confusion Matrix:\\n {}\".format(cm))\n",
    "    print(\"--------------------------------------------------------------------------------\")\n",
    "    \n",
    "\n",
    "    return display_scores\n"
   ]
  },
  {
   "cell_type": "code",
   "execution_count": 16,
   "metadata": {},
   "outputs": [
    {
     "name": "stdout",
     "output_type": "stream",
     "text": [
      "Model: Random Forest 1\n",
      "Recall: 0.8055613437984765\n",
      "Accuracy: 0.8055613437984765\n",
      "F1-Score: 0.8055613437984765\n",
      "Precision: 0.8055613437984765\n",
      "Classification Report:\n",
      "                          precision    recall  f1-score   support\n",
      "\n",
      "             functional       0.79      0.92      0.85     23519\n",
      "functional needs repair       0.65      0.26      0.37      2922\n",
      "         non functional       0.85      0.75      0.79     16750\n",
      "\n",
      "               accuracy                           0.81     43191\n",
      "              macro avg       0.76      0.64      0.67     43191\n",
      "           weighted avg       0.80      0.81      0.79     43191\n",
      "\n",
      "Confusion Matrix:\n",
      " [[21540   232  1747]\n",
      " [ 1714   755   453]\n",
      " [ 4070   182 12498]]\n",
      "--------------------------------------------------------------------------------\n"
     ]
    },
    {
     "data": {
      "text/plain": [
       "<function __main__.display_scores(true, preds, model_name)>"
      ]
     },
     "execution_count": 16,
     "metadata": {},
     "output_type": "execute_result"
    }
   ],
   "source": [
    "display_scores(y_train, rfc1_preds , model_name='Random Forest 1')"
   ]
  },
  {
   "cell_type": "markdown",
   "metadata": {},
   "source": [
    "    Plot confusion matrix."
   ]
  },
  {
   "cell_type": "code",
   "execution_count": 17,
   "metadata": {},
   "outputs": [
    {
     "data": {
      "image/png": "[encoded data removed]",
      "text/plain": [
       "<Figure size 576x396 with 2 Axes>"
      ]
     },
     "metadata": {},
     "output_type": "display_data"
    }
   ],
   "source": [
    "fig, ax = plt.subplots()\n",
    "fig.suptitle(\"Confusion Matrix - Training values\")\n",
    "\n",
    "plot_confusion_matrix(rfc1, X_train_ohe, y_train, ax=ax, cmap=\"Blues\");"
   ]
  },
  {
   "cell_type": "markdown",
   "metadata": {},
   "source": [
    "result: Overall a better score, especially recall for non-functional\n",
    "    "
   ]
  },
  {
   "cell_type": "code",
   "execution_count": 42,
   "metadata": {},
   "outputs": [
    {
     "name": "stdout",
     "output_type": "stream",
     "text": [
      "lga_Arusha Urban , 0.0004884548678202653\n",
      "lga_Babati , 0.00292117332681879\n",
      "lga_Bagamoyo , 0.003916371568619622\n",
      "lga_Bahi , 0.001513080430341722\n",
      "lga_Bariadi , 0.004372223609943775\n",
      "lga_Biharamulo , 0.002491222743507566\n",
      "lga_Bukoba Rural , 0.004225598225065139\n",
      "lga_Bukoba Urban , 0.000768428237050005\n",
      "lga_Bukombe , 0.0021901763660991166\n",
      "lga_Bunda , 0.003964786910589499\n",
      "lga_Chamwino , 0.0023066712413128097\n",
      "lga_Chato , 0.0018726547151238654\n",
      "lga_Chunya , 0.0064209666938045565\n",
      "lga_Dodoma Urban , 0.002680972632672394\n",
      "lga_Hai , 0.001723294633412482\n",
      "lga_Hanang , 0.0020271277675665647\n",
      "lga_Handeni , 0.0016977092387984545\n",
      "lga_Igunga , 0.003359210002974923\n",
      "lga_Ilala , 0.002677597744713734\n",
      "lga_Ileje , 0.0023745999810483908\n",
      "lga_Ilemela , 0.002264652756779189\n",
      "lga_Iramba , 0.0032010857466596154\n",
      "lga_Iringa Rural , 0.0035190146847829\n",
      "lga_Kahama , 0.005902340670199823\n",
      "lga_Karagwe , 0.0038939176032090467\n",
      "lga_Karatu , 0.004271954051727912\n",
      "lga_Kasulu , 0.007265134277044793\n",
      "lga_Kibaha , 0.002229647288255876\n",
      "lga_Kibondo , 0.008321359767452447\n",
      "lga_Kigoma Rural , 0.011024125529404308\n",
      "lga_Kigoma Urban , 0.0006018427146898163\n",
      "lga_Kilindi , 0.0016152710408969065\n",
      "lga_Kilolo , 0.00209982821624579\n",
      "lga_Kilombero , 0.0039976943166602115\n",
      "lga_Kilosa , 0.0066496903110877005\n",
      "lga_Kilwa , 0.00375222951573146\n",
      "lga_Kinondoni , 0.0007213473379458861\n",
      "lga_Kisarawe , 0.00469760555175776\n",
      "lga_Kishapu , 0.0038668258551076925\n",
      "lga_Kiteto , 0.0038180461243935027\n",
      "lga_Kondoa , 0.00592354983633704\n",
      "lga_Kongwa , 0.0027882809727219912\n",
      "lga_Korogwe , 0.00444344352431885\n",
      "lga_Kwimba , 0.004140820639681768\n",
      "lga_Kyela , 0.007443407239338477\n",
      "lga_Lindi Rural , 0.0032192048968916424\n",
      "lga_Lindi Urban , 7.937379358387734e-05\n",
      "lga_Liwale , 0.0017271731400449167\n",
      "lga_Longido , 0.002902711407119178\n",
      "lga_Ludewa , 0.0022931112204925166\n",
      "lga_Lushoto , 0.0016778027358225094\n",
      "lga_Mafia , 0.0019767449662589738\n",
      "lga_Magu , 0.004583577793608846\n",
      "lga_Makete , 0.0022050626131286223\n",
      "lga_Manyoni , 0.0035914663965165346\n",
      "lga_Masasi , 0.006164131927181264\n",
      "lga_Maswa , 0.005797989004134161\n",
      "lga_Mbarali , 0.0025999629456348035\n",
      "lga_Mbeya Rural , 0.002103454177435238\n",
      "lga_Mbinga , 0.002702570291298788\n",
      "lga_Mbozi , 0.006515284514771878\n",
      "lga_Mbulu , 0.002894571955603944\n",
      "lga_Meatu , 0.002716312514376252\n",
      "lga_Meru , 0.004755307355366123\n",
      "lga_Misenyi , 0.0025358561049846347\n",
      "lga_Missungwi , 0.003381723520830704\n",
      "lga_Mkinga , 0.003266370766649839\n",
      "lga_Mkuranga , 0.005041241646812926\n",
      "lga_Monduli , 0.002090035241324089\n",
      "lga_Morogoro Rural , 0.0031035526392282687\n",
      "lga_Morogoro Urban , 0.0011175889080601732\n",
      "lga_Moshi Rural , 0.005086658722326692\n",
      "lga_Moshi Urban , 0.0006268603964915599\n",
      "lga_Mpanda , 0.005552683033027748\n",
      "lga_Mpwapwa , 0.004853279883019527\n",
      "lga_Mtwara Rural , 0.0026856619640401647\n",
      "lga_Mtwara Urban , 0.0016183713439496515\n",
      "lga_Mufindi , 0.003023638337754637\n",
      "lga_Muheza , 0.002530476040932658\n",
      "lga_Muleba , 0.00443458648981894\n",
      "lga_Musoma Rural , 0.004988754482422447\n",
      "lga_Mvomero , 0.0062362125106853366\n",
      "lga_Mwanga , 0.0037468014146683345\n",
      "lga_Nachingwea , 0.00334703879452406\n",
      "lga_Namtumbo , 0.002801377119518018\n",
      "lga_Nanyumbu , 0.0013694949010761553\n",
      "lga_Newala , 0.004615183782251172\n",
      "lga_Ngara , 0.006424694424560049\n",
      "lga_Ngorongoro , 0.0025514579370210576\n",
      "lga_Njombe , 0.011030681158906102\n",
      "lga_Nkasi , 0.0035451420650513894\n",
      "lga_Nyamagana , 0.0\n",
      "lga_Nzega , 0.004042310437687751\n",
      "lga_Pangani , 0.0027295102490698412\n",
      "lga_Rombo , 0.005443867761409876\n",
      "lga_Rorya , 0.004122515539006257\n",
      "lga_Ruangwa , 0.005712329433073837\n",
      "lga_Rufiji , 0.0045014822430528905\n",
      "lga_Rungwe , 0.006339973071591961\n",
      "lga_Same , 0.005971952675877695\n",
      "lga_Sengerema , 0.006520706578352374\n",
      "lga_Serengeti , 0.007019085174367681\n",
      "lga_Shinyanga Rural , 0.004764719199197623\n",
      "lga_Shinyanga Urban , 0.002175417754873708\n",
      "lga_Siha , 0.003268688380220666\n",
      "lga_Sikonge , 0.0010189622203554578\n",
      "lga_Simanjiro , 0.0035714667016387767\n",
      "lga_Singida Rural , 0.0050659708477358515\n",
      "lga_Singida Urban , 0.0018681105786771076\n",
      "lga_Songea Rural , 0.0038085823872293974\n",
      "lga_Songea Urban , 0.00035708066901363894\n",
      "lga_Sumbawanga Rural , 0.006255744296783415\n",
      "lga_Sumbawanga Urban , 0.0013975659513396858\n",
      "lga_Tabora Urban , 0.0011332846856911953\n",
      "lga_Tandahimba , 0.003179005565393695\n",
      "lga_Tanga , 0.00072896497334898\n",
      "lga_Tarime , 0.0025139211600574032\n",
      "lga_Temeke , 0.0015614118769791338\n",
      "lga_Tunduru , 0.002911866148836182\n",
      "lga_Ukerewe , 0.002986847457011968\n",
      "lga_Ulanga , 0.004105400441179285\n",
      "lga_Urambo , 0.0028884378190952493\n",
      "lga_Uyui , 0.003972629423201208\n",
      "quantity_group_enough , 0.08483247160147911\n",
      "quantity_group_insufficient , 0.06551730108799027\n",
      "quantity_group_seasonal , 0.03019772542657532\n",
      "quantity_group_unknown , 0.00450955017661382\n",
      "quality_group_fluoride , 0.0016283881421899258\n",
      "quality_group_good , 0.015951421162703098\n",
      "quality_group_milky , 0.0031472751338974155\n",
      "quality_group_salty , 0.010218296830548338\n",
      "quality_group_unknown , 0.015628583153641688\n",
      "management_group_other , 0.0042478676885915854\n",
      "management_group_parastatal , 0.006442847931269272\n",
      "management_group_unknown , 0.004772513760842237\n",
      "management_group_user-group , 0.02761044048404528\n",
      "extraction_type_cemo , 0.000454268183648154\n",
      "extraction_type_climax , 0.00037562480144629834\n",
      "extraction_type_gravity , 0.01605232365380968\n",
      "extraction_type_india mark ii , 0.006724096663424138\n",
      "extraction_type_india mark iii , 0.0006818145271647913\n",
      "extraction_type_ksb , 0.006104773557071318\n",
      "extraction_type_mono , 0.00740010106746908\n",
      "extraction_type_nira/tanira , 0.011601897244242043\n",
      "extraction_type_other , 0.04919456538709048\n",
      "extraction_type_other - mkulima/shinyanga , 0.0\n",
      "extraction_type_other - play pump , 0.0006726759111849427\n",
      "extraction_type_other - rope pump , 0.0023173241627995125\n",
      "extraction_type_other - swn 81 , 0.0016710838179235321\n",
      "extraction_type_submersible , 0.008578253506081502\n",
      "extraction_type_swn 80 , 0.007063684974650554\n",
      "extraction_type_walimi , 0.0002108758183167304\n",
      "extraction_type_windmill , 0.0009261259818396875\n",
      "source_type_dam , 0.005161109189230671\n",
      "source_type_other , 0.002219542849268528\n",
      "source_type_rainwater harvesting , 0.009573815041743093\n",
      "source_type_river/lake , 0.012862897558783427\n",
      "source_type_shallow well , 0.014820689770317407\n",
      "source_type_spring , 0.016217882329268043\n",
      "waterpoint_type_communal standpipe , 0.020991083743592917\n",
      "waterpoint_type_communal standpipe multiple , 0.01462614071007019\n",
      "waterpoint_type_dam , 0.00022299383356357995\n",
      "waterpoint_type_hand pump , 0.015167241248458477\n",
      "waterpoint_type_improved spring , 0.004612744058349639\n",
      "waterpoint_type_other , 0.0522952023385336\n"
     ]
    }
   ],
   "source": [
    "for col, feature in zip(ohe_df.columns, rfc1.feature_importances_):\n",
    "    print(col,\",\", feature)"
   ]
  },
  {
   "cell_type": "markdown",
   "metadata": {},
   "source": [
    "### Testing"
   ]
  },
  {
   "cell_type": "code",
   "execution_count": 36,
   "metadata": {},
   "outputs": [
    {
     "name": "stdout",
     "output_type": "stream",
     "text": [
      "Model: Random Forest Test 1\n",
      "Recall: 0.8237132735986664\n",
      "Accuracy: 0.8237132735986664\n",
      "F1-Score: 0.8237132735986664\n",
      "Precision: 0.8237132735986664\n",
      "Classification Report:\n",
      "                          precision    recall  f1-score   support\n",
      "\n",
      "             functional       0.81      0.92      0.86      7870\n",
      "functional needs repair       0.74      0.33      0.46      1009\n",
      "         non functional       0.86      0.77      0.81      5518\n",
      "\n",
      "               accuracy                           0.82     14397\n",
      "              macro avg       0.80      0.68      0.71     14397\n",
      "           weighted avg       0.82      0.82      0.81     14397\n",
      "\n",
      "Confusion Matrix:\n",
      " [[7261   71  538]\n",
      " [ 510  333  166]\n",
      " [1208   45 4265]]\n",
      "--------------------------------------------------------------------------------\n"
     ]
    },
    {
     "data": {
      "text/plain": [
       "<function __main__.display_scores(true, preds, model_name)>"
      ]
     },
     "execution_count": 36,
     "metadata": {},
     "output_type": "execute_result"
    }
   ],
   "source": [
    "#encode the test set\n",
    "X_test_ohe = ohe.transform(X_test)\n",
    "\n",
    "#fit\n",
    "rfc1.fit(X_test_ohe, y_test)\n",
    "#predict\n",
    "y1_preds = rfc1.predict(X_test_ohe)\n",
    "#check scores\n",
    "display_scores(y_test, y1_preds , model_name='Random Forest Test 1');"
   ]
  },
  {
   "cell_type": "code",
   "execution_count": 37,
   "metadata": {},
   "outputs": [
    {
     "data": {
      "image/png": "[encoded data removed]",
      "text/plain": [
       "<Figure size 576x396 with 2 Axes>"
      ]
     },
     "metadata": {},
     "output_type": "display_data"
    }
   ],
   "source": [
    "fig, ax = plt.subplots()\n",
    "fig.suptitle(\"Confusion Matrix - Training values\")\n",
    "\n",
    "plot_confusion_matrix(rfc1, X_test_ohe, y_test, ax=ax, cmap=\"Blues\");"
   ]
  },
  {
   "cell_type": "code",
   "execution_count": null,
   "metadata": {},
   "outputs": [],
   "source": []
  }
 ],
 "metadata": {
  "kernelspec": {
   "display_name": "asp-env",
   "language": "python",
   "name": "asp"
  },
  "language_info": {
   "codemirror_mode": {
    "name": "ipython",
    "version": 3
   },
   "file_extension": ".py",
   "mimetype": "text/x-python",
   "name": "python",
   "nbconvert_exporter": "python",
   "pygments_lexer": "ipython3",
   "version": "3.8.2"
  },
  "toc": {
   "base_numbering": 1,
   "nav_menu": {},
   "number_sections": true,
   "sideBar": true,
   "skip_h1_title": false,
   "title_cell": "Table of Contents",
   "title_sidebar": "Contents",
   "toc_cell": false,
   "toc_position": {},
   "toc_section_display": true,
   "toc_window_display": false
  }
 },
 "nbformat": 4,
 "nbformat_minor": 4
}
