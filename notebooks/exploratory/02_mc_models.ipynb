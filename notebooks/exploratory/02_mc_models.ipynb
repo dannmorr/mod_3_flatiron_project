{
 "cells": [
  {
   "cell_type": "markdown",
   "metadata": {},
   "source": [
    "# Model Notebook\n",
    "\n",
    "The purpose of this notebook is to create various models and try and determine which one works best for the project task. As well as trying various models, I will also experiment with different features and perform feature engineering to try and get the best predictors. As I go through this process I will try and explore the data further and continue with EDA.\n",
    "\n",
    "I will start by importing the necessary libraries"
   ]
  },
  {
   "cell_type": "code",
   "execution_count": 25,
   "metadata": {},
   "outputs": [],
   "source": [
    "# Standard imports\n",
    "import pandas as pd\n",
    "import numpy as np\n",
    "import matplotlib.pyplot as plt\n",
    "import seaborn as sns\n",
    "\n",
    "# Model selection\n",
    "from sklearn.model_selection import train_test_split, KFold, cross_val_score, GridSearchCV\n",
    "\n",
    "# Preprocessing\n",
    "from sklearn.impute import SimpleImputer\n",
    "from sklearn.preprocessing import StandardScaler, OneHotEncoder\n",
    "\n",
    "# Models\n",
    "from sklearn.linear_model import LogisticRegression\n",
    "from sklearn.tree import DecisionTreeClassifier\n",
    "from sklearn.neighbors import KNeighborsClassifier\n",
    "\n",
    "# Metrics\n",
    "from sklearn.metrics import accuracy_score, recall_score, precision_score, confusion_matrix, make_scorer\n",
    "\n",
    "# Ensemble/XGBoost\n",
    "from sklearn.ensemble import RandomForestClassifier, GradientBoostingClassifier\n",
    "from xgboost import XGBClassifier\n",
    "\n",
    "#.py file\n",
    "%load_ext autoreload\n",
    "%autoreload 2\n",
    "import os\n",
    "import sys\n",
    "module_path = os.path.abspath(os.path.join(os.pardir, os.pardir))\n",
    "if module_path not in sys.path:\n",
    "    sys.path.append(module_path)\n",
    "import src.mc_functions as mcf\n",
    "\n",
    "%matplotlib inline"
   ]
  },
  {
   "cell_type": "markdown",
   "metadata": {},
   "source": [
    "Store training features and labels in dataframes. I will then combine the two dataframes to create one with both the features and labels."
   ]
  },
  {
   "cell_type": "code",
   "execution_count": 2,
   "metadata": {},
   "outputs": [],
   "source": [
    "vals = pd.read_csv('../training_set_values')\n",
    "labels = pd.read_csv('../training_set_labels')"
   ]
  },
  {
   "cell_type": "markdown",
   "metadata": {},
   "source": [
    "Now I will drop 'Unnamed: 0' from both dataframes and join on the id column."
   ]
  },
  {
   "cell_type": "code",
   "execution_count": 5,
   "metadata": {},
   "outputs": [],
   "source": [
    "df = labels.merge(vals, on='id', how='outer')"
   ]
  },
  {
   "cell_type": "code",
   "execution_count": 6,
   "metadata": {},
   "outputs": [
    {
     "output_type": "execute_result",
     "data": {
      "text/plain": "      id    status_group  ...              waterpoint_type waterpoint_type_group\n0  69572      functional  ...           communal standpipe    communal standpipe\n1   8776      functional  ...           communal standpipe    communal standpipe\n2  34310      functional  ...  communal standpipe multiple    communal standpipe\n3  67743  non functional  ...  communal standpipe multiple    communal standpipe\n4  19728      functional  ...           communal standpipe    communal standpipe\n\n[5 rows x 41 columns]",
      "text/html": "<div>\n<style scoped>\n    .dataframe tbody tr th:only-of-type {\n        vertical-align: middle;\n    }\n\n    .dataframe tbody tr th {\n        vertical-align: top;\n    }\n\n    .dataframe thead th {\n        text-align: right;\n    }\n</style>\n<table border=\"1\" class=\"dataframe\">\n  <thead>\n    <tr style=\"text-align: right;\">\n      <th></th>\n      <th>id</th>\n      <th>status_group</th>\n      <th>amount_tsh</th>\n      <th>date_recorded</th>\n      <th>funder</th>\n      <th>gps_height</th>\n      <th>installer</th>\n      <th>longitude</th>\n      <th>latitude</th>\n      <th>wpt_name</th>\n      <th>num_private</th>\n      <th>basin</th>\n      <th>subvillage</th>\n      <th>region</th>\n      <th>region_code</th>\n      <th>district_code</th>\n      <th>lga</th>\n      <th>ward</th>\n      <th>population</th>\n      <th>public_meeting</th>\n      <th>recorded_by</th>\n      <th>scheme_management</th>\n      <th>scheme_name</th>\n      <th>permit</th>\n      <th>construction_year</th>\n      <th>extraction_type</th>\n      <th>extraction_type_group</th>\n      <th>extraction_type_class</th>\n      <th>management</th>\n      <th>management_group</th>\n      <th>payment</th>\n      <th>payment_type</th>\n      <th>water_quality</th>\n      <th>quality_group</th>\n      <th>quantity</th>\n      <th>quantity_group</th>\n      <th>source</th>\n      <th>source_type</th>\n      <th>source_class</th>\n      <th>waterpoint_type</th>\n      <th>waterpoint_type_group</th>\n    </tr>\n  </thead>\n  <tbody>\n    <tr>\n      <td>0</td>\n      <td>69572</td>\n      <td>functional</td>\n      <td>6000.0</td>\n      <td>2011-03-14</td>\n      <td>Roman</td>\n      <td>1390</td>\n      <td>Roman</td>\n      <td>34.938093</td>\n      <td>-9.856322</td>\n      <td>none</td>\n      <td>0</td>\n      <td>Lake Nyasa</td>\n      <td>Mnyusi B</td>\n      <td>Iringa</td>\n      <td>11</td>\n      <td>5</td>\n      <td>Ludewa</td>\n      <td>Mundindi</td>\n      <td>109</td>\n      <td>True</td>\n      <td>GeoData Consultants Ltd</td>\n      <td>VWC</td>\n      <td>Roman</td>\n      <td>False</td>\n      <td>1999</td>\n      <td>gravity</td>\n      <td>gravity</td>\n      <td>gravity</td>\n      <td>vwc</td>\n      <td>user-group</td>\n      <td>pay annually</td>\n      <td>annually</td>\n      <td>soft</td>\n      <td>good</td>\n      <td>enough</td>\n      <td>enough</td>\n      <td>spring</td>\n      <td>spring</td>\n      <td>groundwater</td>\n      <td>communal standpipe</td>\n      <td>communal standpipe</td>\n    </tr>\n    <tr>\n      <td>1</td>\n      <td>8776</td>\n      <td>functional</td>\n      <td>0.0</td>\n      <td>2013-03-06</td>\n      <td>Grumeti</td>\n      <td>1399</td>\n      <td>GRUMETI</td>\n      <td>34.698766</td>\n      <td>-2.147466</td>\n      <td>Zahanati</td>\n      <td>0</td>\n      <td>Lake Victoria</td>\n      <td>Nyamara</td>\n      <td>Mara</td>\n      <td>20</td>\n      <td>2</td>\n      <td>Serengeti</td>\n      <td>Natta</td>\n      <td>280</td>\n      <td>NaN</td>\n      <td>GeoData Consultants Ltd</td>\n      <td>Other</td>\n      <td>NaN</td>\n      <td>True</td>\n      <td>2010</td>\n      <td>gravity</td>\n      <td>gravity</td>\n      <td>gravity</td>\n      <td>wug</td>\n      <td>user-group</td>\n      <td>never pay</td>\n      <td>never pay</td>\n      <td>soft</td>\n      <td>good</td>\n      <td>insufficient</td>\n      <td>insufficient</td>\n      <td>rainwater harvesting</td>\n      <td>rainwater harvesting</td>\n      <td>surface</td>\n      <td>communal standpipe</td>\n      <td>communal standpipe</td>\n    </tr>\n    <tr>\n      <td>2</td>\n      <td>34310</td>\n      <td>functional</td>\n      <td>25.0</td>\n      <td>2013-02-25</td>\n      <td>Lottery Club</td>\n      <td>686</td>\n      <td>World vision</td>\n      <td>37.460664</td>\n      <td>-3.821329</td>\n      <td>Kwa Mahundi</td>\n      <td>0</td>\n      <td>Pangani</td>\n      <td>Majengo</td>\n      <td>Manyara</td>\n      <td>21</td>\n      <td>4</td>\n      <td>Simanjiro</td>\n      <td>Ngorika</td>\n      <td>250</td>\n      <td>True</td>\n      <td>GeoData Consultants Ltd</td>\n      <td>VWC</td>\n      <td>Nyumba ya mungu pipe scheme</td>\n      <td>True</td>\n      <td>2009</td>\n      <td>gravity</td>\n      <td>gravity</td>\n      <td>gravity</td>\n      <td>vwc</td>\n      <td>user-group</td>\n      <td>pay per bucket</td>\n      <td>per bucket</td>\n      <td>soft</td>\n      <td>good</td>\n      <td>enough</td>\n      <td>enough</td>\n      <td>dam</td>\n      <td>dam</td>\n      <td>surface</td>\n      <td>communal standpipe multiple</td>\n      <td>communal standpipe</td>\n    </tr>\n    <tr>\n      <td>3</td>\n      <td>67743</td>\n      <td>non functional</td>\n      <td>0.0</td>\n      <td>2013-01-28</td>\n      <td>Unicef</td>\n      <td>263</td>\n      <td>UNICEF</td>\n      <td>38.486161</td>\n      <td>-11.155298</td>\n      <td>Zahanati Ya Nanyumbu</td>\n      <td>0</td>\n      <td>Ruvuma / Southern Coast</td>\n      <td>Mahakamani</td>\n      <td>Mtwara</td>\n      <td>90</td>\n      <td>63</td>\n      <td>Nanyumbu</td>\n      <td>Nanyumbu</td>\n      <td>58</td>\n      <td>True</td>\n      <td>GeoData Consultants Ltd</td>\n      <td>VWC</td>\n      <td>NaN</td>\n      <td>True</td>\n      <td>1986</td>\n      <td>submersible</td>\n      <td>submersible</td>\n      <td>submersible</td>\n      <td>vwc</td>\n      <td>user-group</td>\n      <td>never pay</td>\n      <td>never pay</td>\n      <td>soft</td>\n      <td>good</td>\n      <td>dry</td>\n      <td>dry</td>\n      <td>machine dbh</td>\n      <td>borehole</td>\n      <td>groundwater</td>\n      <td>communal standpipe multiple</td>\n      <td>communal standpipe</td>\n    </tr>\n    <tr>\n      <td>4</td>\n      <td>19728</td>\n      <td>functional</td>\n      <td>0.0</td>\n      <td>2011-07-13</td>\n      <td>Action In A</td>\n      <td>0</td>\n      <td>Artisan</td>\n      <td>31.130847</td>\n      <td>-1.825359</td>\n      <td>Shuleni</td>\n      <td>0</td>\n      <td>Lake Victoria</td>\n      <td>Kyanyamisa</td>\n      <td>Kagera</td>\n      <td>18</td>\n      <td>1</td>\n      <td>Karagwe</td>\n      <td>Nyakasimbi</td>\n      <td>0</td>\n      <td>True</td>\n      <td>GeoData Consultants Ltd</td>\n      <td>NaN</td>\n      <td>NaN</td>\n      <td>True</td>\n      <td>0</td>\n      <td>gravity</td>\n      <td>gravity</td>\n      <td>gravity</td>\n      <td>other</td>\n      <td>other</td>\n      <td>never pay</td>\n      <td>never pay</td>\n      <td>soft</td>\n      <td>good</td>\n      <td>seasonal</td>\n      <td>seasonal</td>\n      <td>rainwater harvesting</td>\n      <td>rainwater harvesting</td>\n      <td>surface</td>\n      <td>communal standpipe</td>\n      <td>communal standpipe</td>\n    </tr>\n  </tbody>\n</table>\n</div>"
     },
     "metadata": {},
     "execution_count": 6
    }
   ],
   "source": [
    "df.head()"
   ]
  },
  {
   "cell_type": "code",
   "execution_count": null,
   "metadata": {},
   "outputs": [],
   "source": []
  },
  {
   "cell_type": "code",
   "execution_count": 7,
   "metadata": {},
   "outputs": [
    {
     "output_type": "execute_result",
     "data": {
      "text/plain": "(59400, 41)"
     },
     "metadata": {},
     "execution_count": 7
    }
   ],
   "source": [
    "df.shape"
   ]
  },
  {
   "cell_type": "markdown",
   "metadata": {},
   "source": [
    "Now I can drop the id column since all the data is corresponding correctly."
   ]
  },
  {
   "cell_type": "code",
   "execution_count": 8,
   "metadata": {},
   "outputs": [],
   "source": [
    "df.drop('id', axis=1, inplace=True)"
   ]
  },
  {
   "cell_type": "markdown",
   "metadata": {},
   "source": [
    "I also know from my initial data exploration that I can drop the num_private and scheme_name columns."
   ]
  },
  {
   "cell_type": "code",
   "execution_count": 9,
   "metadata": {},
   "outputs": [],
   "source": [
    "df.drop(['num_private', 'scheme_name'], axis=1, inplace=True)"
   ]
  },
  {
   "cell_type": "markdown",
   "metadata": {},
   "source": [
    "Okay great, the base dataframe is all set up. As I stated at the beginning of the notebook, what I really want to do is experiment with some different features before focusing on a specific model."
   ]
  },
  {
   "cell_type": "markdown",
   "metadata": {},
   "source": [
    "## Train Test Split\n",
    "\n",
    "First I need to separate the features and target variables"
   ]
  },
  {
   "cell_type": "code",
   "execution_count": 127,
   "metadata": {},
   "outputs": [],
   "source": [
    "# target\n",
    "y = df['status_group']\n",
    "# features\n",
    "X = df.drop('status_group', axis=1)"
   ]
  },
  {
   "cell_type": "code",
   "execution_count": 197,
   "metadata": {},
   "outputs": [],
   "source": [
    "# train test split\n",
    "X_train, X_test, y_train, y_test = train_test_split(X, y, random_state=42, test_size=.2)"
   ]
  },
  {
   "cell_type": "code",
   "execution_count": 58,
   "metadata": {},
   "outputs": [
    {
     "output_type": "execute_result",
     "data": {
      "text/plain": "Index(['amount_tsh', 'date_recorded', 'funder', 'gps_height', 'installer',\n       'longitude', 'latitude', 'wpt_name', 'basin', 'subvillage', 'region',\n       'region_code', 'district_code', 'lga', 'ward', 'population',\n       'public_meeting', 'recorded_by', 'scheme_management', 'permit',\n       'construction_year', 'extraction_type', 'extraction_type_group',\n       'extraction_type_class', 'management', 'management_group', 'payment',\n       'payment_type', 'water_quality', 'quality_group', 'quantity',\n       'quantity_group', 'source', 'source_type', 'source_class',\n       'waterpoint_type', 'waterpoint_type_group'],\n      dtype='object')"
     },
     "metadata": {},
     "execution_count": 58
    }
   ],
   "source": [
    "X_train.columns"
   ]
  },
  {
   "cell_type": "markdown",
   "metadata": {},
   "source": [
    "Next I will drop the redundant columns from both X_train and X_test as well as the columns I don't think will be very useful."
   ]
  },
  {
   "cell_type": "code",
   "execution_count": 129,
   "metadata": {},
   "outputs": [],
   "source": [
    "to_drop = ['funder', 'longitude', 'latitude', 'wpt_name', 'subvillage', 'region_code', 'district_code',\n",
    "            'lga', 'ward', 'public_meeting', 'recorded_by', 'permit', 'extraction_type', 'extraction_type_class',\n",
    "            'management', 'payment_type', 'quality_group', 'quantity_group', 'source', 'source_class',\n",
    "            'waterpoint_type']"
   ]
  },
  {
   "cell_type": "code",
   "execution_count": 198,
   "metadata": {},
   "outputs": [],
   "source": [
    "X_train.drop(to_drop, axis=1, inplace=True)\n",
    "X_test.drop(to_drop, axis=1, inplace=True)"
   ]
  },
  {
   "cell_type": "code",
   "execution_count": 131,
   "metadata": {},
   "outputs": [
    {
     "output_type": "execute_result",
     "data": {
      "text/plain": "Index(['amount_tsh', 'date_recorded', 'gps_height', 'installer', 'basin',\n       'region', 'population', 'scheme_management', 'construction_year',\n       'extraction_type_group', 'management_group', 'payment', 'water_quality',\n       'quantity', 'source_type', 'waterpoint_type_group'],\n      dtype='object')"
     },
     "metadata": {},
     "execution_count": 131
    }
   ],
   "source": [
    "X_train.columns"
   ]
  },
  {
   "cell_type": "markdown",
   "metadata": {},
   "source": [
    "Great now these are the columns I will work with from here on out. Not all of these will be in the final model but I will experiment with these going forward."
   ]
  },
  {
   "cell_type": "markdown",
   "metadata": {},
   "source": [
    "One thing I think would really influence the quality of the pump is how old it is. Although there is not a column for age, I can use the construction_year and date_recorded to engineer an age column. The only problem is construction_year has a lot of 0, so I will need to take care of that first. I will start by replacing all 0 values in construction_year with NAN."
   ]
  },
  {
   "cell_type": "code",
   "execution_count": 83,
   "metadata": {},
   "outputs": [
    {
     "output_type": "execute_result",
     "data": {
      "text/plain": "2010.0    2133\n2008.0    2124\n2009.0    2027\n2000.0    1682\n2007.0    1275\n2006.0    1174\n2003.0    1035\n2011.0    1003\n2012.0     883\n2004.0     874\n2002.0     850\n1978.0     840\n1995.0     815\n2005.0     802\n1990.0     781\n1998.0     781\n1999.0     779\n1985.0     740\n1980.0     666\n1996.0     648\n1984.0     631\n1982.0     597\n1994.0     593\n1972.0     558\n1974.0     535\n1992.0     524\n1997.0     521\n1993.0     480\n1988.0     423\n2001.0     423\n1983.0     393\n1986.0     355\n1975.0     349\n1976.0     318\n1970.0     316\n1991.0     256\n1989.0     242\n1987.0     238\n1981.0     182\n1977.0     165\n1979.0     158\n1973.0     146\n2013.0     134\n1971.0     120\n1960.0      87\n1963.0      76\n1967.0      74\n1968.0      58\n1969.0      49\n1964.0      31\n1962.0      27\n1965.0      16\n1961.0      16\n1966.0      14\nName: construction_year, dtype: int64"
     },
     "metadata": {},
     "execution_count": 83
    }
   ],
   "source": [
    "X_train['construction_year'].value_counts()"
   ]
  },
  {
   "cell_type": "code",
   "execution_count": 84,
   "metadata": {},
   "outputs": [
    {
     "output_type": "execute_result",
     "data": {
      "text/plain": "amount_tsh                   0\ndate_recorded                0\ngps_height                   0\ninstaller                 2889\nbasin                        0\nregion                       0\npopulation                   0\nscheme_management         3102\nconstruction_year        16503\nextraction_type_group        0\nmanagement_group             0\npayment                      0\nwater_quality                0\nquantity                     0\nsource_type                  0\nwaterpoint_type_group        0\ndtype: int64"
     },
     "metadata": {},
     "execution_count": 84
    }
   ],
   "source": [
    "X_train.isna().sum()"
   ]
  },
  {
   "cell_type": "markdown",
   "metadata": {},
   "source": [
    "Okay now all values in construction_year that were 0 are classified as a missing value. I would assume that pumps in the same general area were constructed about the same time. So I want to fill the missing values for construction_year with the average construction year for that given region."
   ]
  },
  {
   "cell_type": "code",
   "execution_count": 85,
   "metadata": {},
   "outputs": [
    {
     "output_type": "execute_result",
     "data": {
      "text/plain": "Iringa           4254\nShinyanga        3977\nMbeya            3659\nKilimanjaro      3466\nMorogoro         3223\nArusha           2692\nKagera           2662\nMwanza           2475\nKigoma           2255\nPwani            2115\nRuvuma           2105\nTanga            2052\nDodoma           1755\nSingida          1664\nMara             1590\nTabora           1578\nRukwa            1454\nMtwara           1374\nManyara          1266\nLindi            1250\nDar es Salaam     654\nName: region, dtype: int64"
     },
     "metadata": {},
     "execution_count": 85
    }
   ],
   "source": [
    "X_train['region'].value_counts()"
   ]
  },
  {
   "cell_type": "markdown",
   "metadata": {},
   "source": [
    "First I will make a dict that has the average construction year for each region"
   ]
  },
  {
   "cell_type": "code",
   "execution_count": 86,
   "metadata": {},
   "outputs": [],
   "source": [
    "regions = X_train['region'].unique()"
   ]
  },
  {
   "cell_type": "code",
   "execution_count": 87,
   "metadata": {},
   "outputs": [
    {
     "output_type": "execute_result",
     "data": {
      "text/plain": "array(['Manyara', 'Dodoma', 'Mbeya', 'Morogoro', 'Mwanza', 'Shinyanga',\n       'Kigoma', 'Tanga', 'Iringa', 'Arusha', 'Kagera', 'Singida',\n       'Tabora', 'Rukwa', 'Pwani', 'Ruvuma', 'Dar es Salaam',\n       'Kilimanjaro', 'Lindi', 'Mtwara', 'Mara'], dtype=object)"
     },
     "metadata": {},
     "execution_count": 87
    }
   ],
   "source": [
    "regions"
   ]
  },
  {
   "cell_type": "code",
   "execution_count": 104,
   "metadata": {},
   "outputs": [
    {
     "output_type": "execute_result",
     "data": {
      "text/plain": "                         amount_tsh  gps_height  population  construction_year\nbasin                                                                         \nInternal                        0.0      1219.5         1.0             2002.0\nLake Nyasa                      0.0       476.0         0.0             2000.0\nLake Rukwa                      0.0         0.0         0.0             1989.0\nLake Tanganyika                 0.0       873.0        60.0             1997.0\nLake Victoria                   0.0         0.0         0.0             1998.0\nPangani                         0.0      1164.0       100.0             2000.0\nRufiji                         20.0       791.0        54.0             2000.0\nRuvuma / Southern Coast         0.0       340.0       200.0             1996.0\nWami / Ruvu                     0.0        73.0        80.0             2004.0",
      "text/html": "<div>\n<style scoped>\n    .dataframe tbody tr th:only-of-type {\n        vertical-align: middle;\n    }\n\n    .dataframe tbody tr th {\n        vertical-align: top;\n    }\n\n    .dataframe thead th {\n        text-align: right;\n    }\n</style>\n<table border=\"1\" class=\"dataframe\">\n  <thead>\n    <tr style=\"text-align: right;\">\n      <th></th>\n      <th>amount_tsh</th>\n      <th>gps_height</th>\n      <th>population</th>\n      <th>construction_year</th>\n    </tr>\n    <tr>\n      <th>basin</th>\n      <th></th>\n      <th></th>\n      <th></th>\n      <th></th>\n    </tr>\n  </thead>\n  <tbody>\n    <tr>\n      <td>Internal</td>\n      <td>0.0</td>\n      <td>1219.5</td>\n      <td>1.0</td>\n      <td>2002.0</td>\n    </tr>\n    <tr>\n      <td>Lake Nyasa</td>\n      <td>0.0</td>\n      <td>476.0</td>\n      <td>0.0</td>\n      <td>2000.0</td>\n    </tr>\n    <tr>\n      <td>Lake Rukwa</td>\n      <td>0.0</td>\n      <td>0.0</td>\n      <td>0.0</td>\n      <td>1989.0</td>\n    </tr>\n    <tr>\n      <td>Lake Tanganyika</td>\n      <td>0.0</td>\n      <td>873.0</td>\n      <td>60.0</td>\n      <td>1997.0</td>\n    </tr>\n    <tr>\n      <td>Lake Victoria</td>\n      <td>0.0</td>\n      <td>0.0</td>\n      <td>0.0</td>\n      <td>1998.0</td>\n    </tr>\n    <tr>\n      <td>Pangani</td>\n      <td>0.0</td>\n      <td>1164.0</td>\n      <td>100.0</td>\n      <td>2000.0</td>\n    </tr>\n    <tr>\n      <td>Rufiji</td>\n      <td>20.0</td>\n      <td>791.0</td>\n      <td>54.0</td>\n      <td>2000.0</td>\n    </tr>\n    <tr>\n      <td>Ruvuma / Southern Coast</td>\n      <td>0.0</td>\n      <td>340.0</td>\n      <td>200.0</td>\n      <td>1996.0</td>\n    </tr>\n    <tr>\n      <td>Wami / Ruvu</td>\n      <td>0.0</td>\n      <td>73.0</td>\n      <td>80.0</td>\n      <td>2004.0</td>\n    </tr>\n  </tbody>\n</table>\n</div>"
     },
     "metadata": {},
     "execution_count": 104
    }
   ],
   "source": [
    "X_train.groupby('basin').median()"
   ]
  },
  {
   "cell_type": "markdown",
   "metadata": {},
   "source": [
    "From the information above it looks like a few of the regions do not have any data recorded on them. I think it may be best to drop those."
   ]
  },
  {
   "cell_type": "code",
   "execution_count": 94,
   "metadata": {},
   "outputs": [
    {
     "output_type": "execute_result",
     "data": {
      "text/plain": "12115"
     },
     "metadata": {},
     "execution_count": 94
    }
   ],
   "source": [
    "missing_regions = ['Dodoma', 'Kagera', 'Mbeya', 'Tabora']\n",
    "total = 0\n",
    "for region in missing_regions:\n",
    "    total += len(X_train[X_train['region'] == region])\n",
    "    total += len(X_test[X_test['region'] == region])\n",
    "total"
   ]
  },
  {
   "cell_type": "markdown",
   "metadata": {},
   "source": [
    "So by dropping the rows that have a region listed above I will lose 12115 observations total. That is a lot and I don't think I want to do that."
   ]
  },
  {
   "cell_type": "code",
   "execution_count": 96,
   "metadata": {},
   "outputs": [
    {
     "output_type": "execute_result",
     "data": {
      "text/plain": "                         amount_tsh   gps_height  population  construction_year\nbasin                                                                          \nInternal                 200.825753   888.397822  162.522742        1195.631006\nLake Nyasa               532.446312   752.149393   62.330532         985.417367\nLake Rukwa               454.679487   587.322650  161.271368         838.179487\nLake Tanganyika          186.591449   725.044339  266.558987        1129.834521\nLake Victoria             19.990210   314.729320  132.921684         465.326481\nPangani                  277.135893  1040.371731  168.533111        1952.550362\nRufiji                   680.243598   866.393504  183.497189        1564.235478\nRuvuma / Southern Coast  214.417693   431.325868  275.555431        1905.221725\nWami / Ruvu              349.230769   211.603550  260.873204        1620.712595",
      "text/html": "<div>\n<style scoped>\n    .dataframe tbody tr th:only-of-type {\n        vertical-align: middle;\n    }\n\n    .dataframe tbody tr th {\n        vertical-align: top;\n    }\n\n    .dataframe thead th {\n        text-align: right;\n    }\n</style>\n<table border=\"1\" class=\"dataframe\">\n  <thead>\n    <tr style=\"text-align: right;\">\n      <th></th>\n      <th>amount_tsh</th>\n      <th>gps_height</th>\n      <th>population</th>\n      <th>construction_year</th>\n    </tr>\n    <tr>\n      <th>basin</th>\n      <th></th>\n      <th></th>\n      <th></th>\n      <th></th>\n    </tr>\n  </thead>\n  <tbody>\n    <tr>\n      <td>Internal</td>\n      <td>200.825753</td>\n      <td>888.397822</td>\n      <td>162.522742</td>\n      <td>1195.631006</td>\n    </tr>\n    <tr>\n      <td>Lake Nyasa</td>\n      <td>532.446312</td>\n      <td>752.149393</td>\n      <td>62.330532</td>\n      <td>985.417367</td>\n    </tr>\n    <tr>\n      <td>Lake Rukwa</td>\n      <td>454.679487</td>\n      <td>587.322650</td>\n      <td>161.271368</td>\n      <td>838.179487</td>\n    </tr>\n    <tr>\n      <td>Lake Tanganyika</td>\n      <td>186.591449</td>\n      <td>725.044339</td>\n      <td>266.558987</td>\n      <td>1129.834521</td>\n    </tr>\n    <tr>\n      <td>Lake Victoria</td>\n      <td>19.990210</td>\n      <td>314.729320</td>\n      <td>132.921684</td>\n      <td>465.326481</td>\n    </tr>\n    <tr>\n      <td>Pangani</td>\n      <td>277.135893</td>\n      <td>1040.371731</td>\n      <td>168.533111</td>\n      <td>1952.550362</td>\n    </tr>\n    <tr>\n      <td>Rufiji</td>\n      <td>680.243598</td>\n      <td>866.393504</td>\n      <td>183.497189</td>\n      <td>1564.235478</td>\n    </tr>\n    <tr>\n      <td>Ruvuma / Southern Coast</td>\n      <td>214.417693</td>\n      <td>431.325868</td>\n      <td>275.555431</td>\n      <td>1905.221725</td>\n    </tr>\n    <tr>\n      <td>Wami / Ruvu</td>\n      <td>349.230769</td>\n      <td>211.603550</td>\n      <td>260.873204</td>\n      <td>1620.712595</td>\n    </tr>\n  </tbody>\n</table>\n</div>"
     },
     "metadata": {},
     "execution_count": 96
    }
   ],
   "source": [
    "X_test.groupby('basin').mean()"
   ]
  },
  {
   "cell_type": "code",
   "execution_count": 103,
   "metadata": {},
   "outputs": [
    {
     "output_type": "execute_result",
     "data": {
      "text/plain": "                         amount_tsh  gps_height  population  construction_year\nbasin                                                                         \nInternal                        0.0        1222           1             2002.0\nLake Nyasa                      0.0           0           0             2000.0\nLake Rukwa                      0.0           0           0             1989.0\nLake Tanganyika                 0.0         915         100             1996.0\nLake Victoria                   0.0           0           0             1998.0\nPangani                         0.0        1176          90             2000.0\nRufiji                         20.0         736          55             2000.0\nRuvuma / Southern Coast         0.0         350         200             1995.0\nWami / Ruvu                     0.0          70          85             2003.0",
      "text/html": "<div>\n<style scoped>\n    .dataframe tbody tr th:only-of-type {\n        vertical-align: middle;\n    }\n\n    .dataframe tbody tr th {\n        vertical-align: top;\n    }\n\n    .dataframe thead th {\n        text-align: right;\n    }\n</style>\n<table border=\"1\" class=\"dataframe\">\n  <thead>\n    <tr style=\"text-align: right;\">\n      <th></th>\n      <th>amount_tsh</th>\n      <th>gps_height</th>\n      <th>population</th>\n      <th>construction_year</th>\n    </tr>\n    <tr>\n      <th>basin</th>\n      <th></th>\n      <th></th>\n      <th></th>\n      <th></th>\n    </tr>\n  </thead>\n  <tbody>\n    <tr>\n      <td>Internal</td>\n      <td>0.0</td>\n      <td>1222</td>\n      <td>1</td>\n      <td>2002.0</td>\n    </tr>\n    <tr>\n      <td>Lake Nyasa</td>\n      <td>0.0</td>\n      <td>0</td>\n      <td>0</td>\n      <td>2000.0</td>\n    </tr>\n    <tr>\n      <td>Lake Rukwa</td>\n      <td>0.0</td>\n      <td>0</td>\n      <td>0</td>\n      <td>1989.0</td>\n    </tr>\n    <tr>\n      <td>Lake Tanganyika</td>\n      <td>0.0</td>\n      <td>915</td>\n      <td>100</td>\n      <td>1996.0</td>\n    </tr>\n    <tr>\n      <td>Lake Victoria</td>\n      <td>0.0</td>\n      <td>0</td>\n      <td>0</td>\n      <td>1998.0</td>\n    </tr>\n    <tr>\n      <td>Pangani</td>\n      <td>0.0</td>\n      <td>1176</td>\n      <td>90</td>\n      <td>2000.0</td>\n    </tr>\n    <tr>\n      <td>Rufiji</td>\n      <td>20.0</td>\n      <td>736</td>\n      <td>55</td>\n      <td>2000.0</td>\n    </tr>\n    <tr>\n      <td>Ruvuma / Southern Coast</td>\n      <td>0.0</td>\n      <td>350</td>\n      <td>200</td>\n      <td>1995.0</td>\n    </tr>\n    <tr>\n      <td>Wami / Ruvu</td>\n      <td>0.0</td>\n      <td>70</td>\n      <td>85</td>\n      <td>2003.0</td>\n    </tr>\n  </tbody>\n</table>\n</div>"
     },
     "metadata": {},
     "execution_count": 103
    }
   ],
   "source": [
    "X_test.groupby('basin').median()"
   ]
  },
  {
   "cell_type": "code",
   "execution_count": 101,
   "metadata": {},
   "outputs": [
    {
     "output_type": "execute_result",
     "data": {
      "text/plain": "2010.0    2133\n2008.0    2124\n2009.0    2027\n2000.0    1682\n2007.0    1275\n2006.0    1174\n2003.0    1035\n2011.0    1003\n2012.0     883\n2004.0     874\n2002.0     850\n1978.0     840\n1995.0     815\n2005.0     802\n1990.0     781\n1998.0     781\n1999.0     779\n1985.0     740\n1980.0     666\n1996.0     648\n1984.0     631\n1982.0     597\n1994.0     593\n1972.0     558\n1974.0     535\n1992.0     524\n1997.0     521\n1993.0     480\n1988.0     423\n2001.0     423\n1983.0     393\n1986.0     355\n1975.0     349\n1976.0     318\n1970.0     316\n1991.0     256\n1989.0     242\n1987.0     238\n1981.0     182\n1977.0     165\n1979.0     158\n1973.0     146\n2013.0     134\n1971.0     120\n1960.0      87\n1963.0      76\n1967.0      74\n1968.0      58\n1969.0      49\n1964.0      31\n1962.0      27\n1965.0      16\n1961.0      16\n1966.0      14\nName: construction_year, dtype: int64"
     },
     "metadata": {},
     "execution_count": 101
    }
   ],
   "source": [
    "X_train['construction_year'].value_counts()"
   ]
  },
  {
   "cell_type": "markdown",
   "metadata": {},
   "source": [
    "Since there are about 20,000 construction_year values missing, I think setting them as the average year of the construction of pipes in the basin will work fine. I may end up changing this or dropping the age column altogether. So now I will create a dictionary with unique basins and the median construction year, now that I think about it median will be much more accuarate than mean."
   ]
  },
  {
   "cell_type": "code",
   "execution_count": 105,
   "metadata": {},
   "outputs": [
    {
     "output_type": "display_data",
     "data": {
      "text/plain": "<Figure size 720x720 with 1 Axes>",
      "image/svg+xml": "<?xml version=\"1.0\" encoding=\"utf-8\" standalone=\"no\"?>\n<!DOCTYPE svg PUBLIC \"-//W3C//DTD SVG 1.1//EN\"\n  \"http://www.w3.org/Graphics/SVG/1.1/DTD/svg11.dtd\">\n<!-- Created with matplotlib (https://matplotlib.org/) -->\n<svg height=\"574.678125pt\" version=\"1.1\" viewBox=\"0 0 604.85 574.678125\" width=\"604.85pt\" xmlns=\"http://www.w3.org/2000/svg\" xmlns:xlink=\"http://www.w3.org/1999/xlink\">\n <defs>\n  <style type=\"text/css\">\n*{stroke-linecap:butt;stroke-linejoin:round;}\n  </style>\n </defs>\n <g id=\"figure_1\">\n  <g id=\"patch_1\">\n   <path d=\"M 0 574.678125 \nL 604.85 574.678125 \nL 604.85 0 \nL 0 0 \nz\n\" style=\"fill:none;\"/>\n  </g>\n  <g id=\"axes_1\">\n   <g id=\"patch_2\">\n    <path d=\"M 39.65 550.8 \nL 597.65 550.8 \nL 597.65 7.2 \nL 39.65 7.2 \nz\n\" style=\"fill:#ffffff;\"/>\n   </g>\n   <g id=\"patch_3\">\n    <path clip-path=\"url(#p7e5ca05209)\" d=\"M 65.013636 550.8 \nL 115.740909 550.8 \nL 115.740909 535.026672 \nL 65.013636 535.026672 \nz\n\" style=\"fill:#1f77b4;\"/>\n   </g>\n   <g id=\"patch_4\">\n    <path clip-path=\"url(#p7e5ca05209)\" d=\"M 115.740909 550.8 \nL 166.468182 550.8 \nL 166.468182 518.941618 \nL 115.740909 518.941618 \nz\n\" style=\"fill:#1f77b4;\"/>\n   </g>\n   <g id=\"patch_5\">\n    <path clip-path=\"url(#p7e5ca05209)\" d=\"M 166.468182 550.8 \nL 217.195455 550.8 \nL 217.195455 444.314451 \nL 166.468182 444.314451 \nz\n\" style=\"fill:#1f77b4;\"/>\n   </g>\n   <g id=\"patch_6\">\n    <path clip-path=\"url(#p7e5ca05209)\" d=\"M 217.195455 550.8 \nL 267.922727 550.8 \nL 267.922727 405.598101 \nL 217.195455 405.598101 \nz\n\" style=\"fill:#1f77b4;\"/>\n   </g>\n   <g id=\"patch_7\">\n    <path clip-path=\"url(#p7e5ca05209)\" d=\"M 267.922727 550.8 \nL 318.65 550.8 \nL 318.65 381.47052 \nL 267.922727 381.47052 \nz\n\" style=\"fill:#1f77b4;\"/>\n   </g>\n   <g id=\"patch_8\">\n    <path clip-path=\"url(#p7e5ca05209)\" d=\"M 318.65 550.8 \nL 369.377273 550.8 \nL 369.377273 429.850372 \nL 318.65 429.850372 \nz\n\" style=\"fill:#1f77b4;\"/>\n   </g>\n   <g id=\"patch_9\">\n    <path clip-path=\"url(#p7e5ca05209)\" d=\"M 369.377273 550.8 \nL 420.104545 550.8 \nL 420.104545 327.541949 \nL 369.377273 327.541949 \nz\n\" style=\"fill:#1f77b4;\"/>\n   </g>\n   <g id=\"patch_10\">\n    <path clip-path=\"url(#p7e5ca05209)\" d=\"M 420.104545 550.8 \nL 470.831818 550.8 \nL 470.831818 269.311561 \nL 420.104545 269.311561 \nz\n\" style=\"fill:#1f77b4;\"/>\n   </g>\n   <g id=\"patch_11\">\n    <path clip-path=\"url(#p7e5ca05209)\" d=\"M 470.831818 550.8 \nL 521.559091 550.8 \nL 521.559091 229.098927 \nL 470.831818 229.098927 \nz\n\" style=\"fill:#1f77b4;\"/>\n   </g>\n   <g id=\"patch_12\">\n    <path clip-path=\"url(#p7e5ca05209)\" d=\"M 521.559091 550.8 \nL 572.286364 550.8 \nL 572.286364 33.085714 \nL 521.559091 33.085714 \nz\n\" style=\"fill:#1f77b4;\"/>\n   </g>\n   <g id=\"matplotlib.axis_1\">\n    <g id=\"xtick_1\">\n     <g id=\"line2d_1\">\n      <path clip-path=\"url(#p7e5ca05209)\" d=\"M 65.013636 550.8 \nL 65.013636 7.2 \n\" style=\"fill:none;stroke:#b0b0b0;stroke-linecap:square;stroke-width:0.8;\"/>\n     </g>\n     <g id=\"line2d_2\">\n      <defs>\n       <path d=\"M 0 0 \nL 0 3.5 \n\" id=\"meb1ff591d0\" style=\"stroke:#000000;stroke-width:0.8;\"/>\n      </defs>\n      <g>\n       <use style=\"stroke:#000000;stroke-width:0.8;\" x=\"65.013636\" xlink:href=\"#meb1ff591d0\" y=\"550.8\"/>\n      </g>\n     </g>\n     <g id=\"text_1\">\n      <!-- 1960 -->\n      <defs>\n       <path d=\"M 12.40625 8.296875 \nL 28.515625 8.296875 \nL 28.515625 63.921875 \nL 10.984375 60.40625 \nL 10.984375 69.390625 \nL 28.421875 72.90625 \nL 38.28125 72.90625 \nL 38.28125 8.296875 \nL 54.390625 8.296875 \nL 54.390625 0 \nL 12.40625 0 \nz\n\" id=\"DejaVuSans-49\"/>\n       <path d=\"M 10.984375 1.515625 \nL 10.984375 10.5 \nQ 14.703125 8.734375 18.5 7.8125 \nQ 22.3125 6.890625 25.984375 6.890625 \nQ 35.75 6.890625 40.890625 13.453125 \nQ 46.046875 20.015625 46.78125 33.40625 \nQ 43.953125 29.203125 39.59375 26.953125 \nQ 35.25 24.703125 29.984375 24.703125 \nQ 19.046875 24.703125 12.671875 31.3125 \nQ 6.296875 37.9375 6.296875 49.421875 \nQ 6.296875 60.640625 12.9375 67.421875 \nQ 19.578125 74.21875 30.609375 74.21875 \nQ 43.265625 74.21875 49.921875 64.515625 \nQ 56.59375 54.828125 56.59375 36.375 \nQ 56.59375 19.140625 48.40625 8.859375 \nQ 40.234375 -1.421875 26.421875 -1.421875 \nQ 22.703125 -1.421875 18.890625 -0.6875 \nQ 15.09375 0.046875 10.984375 1.515625 \nz\nM 30.609375 32.421875 \nQ 37.25 32.421875 41.125 36.953125 \nQ 45.015625 41.5 45.015625 49.421875 \nQ 45.015625 57.28125 41.125 61.84375 \nQ 37.25 66.40625 30.609375 66.40625 \nQ 23.96875 66.40625 20.09375 61.84375 \nQ 16.21875 57.28125 16.21875 49.421875 \nQ 16.21875 41.5 20.09375 36.953125 \nQ 23.96875 32.421875 30.609375 32.421875 \nz\n\" id=\"DejaVuSans-57\"/>\n       <path d=\"M 33.015625 40.375 \nQ 26.375 40.375 22.484375 35.828125 \nQ 18.609375 31.296875 18.609375 23.390625 \nQ 18.609375 15.53125 22.484375 10.953125 \nQ 26.375 6.390625 33.015625 6.390625 \nQ 39.65625 6.390625 43.53125 10.953125 \nQ 47.40625 15.53125 47.40625 23.390625 \nQ 47.40625 31.296875 43.53125 35.828125 \nQ 39.65625 40.375 33.015625 40.375 \nz\nM 52.59375 71.296875 \nL 52.59375 62.3125 \nQ 48.875 64.0625 45.09375 64.984375 \nQ 41.3125 65.921875 37.59375 65.921875 \nQ 27.828125 65.921875 22.671875 59.328125 \nQ 17.53125 52.734375 16.796875 39.40625 \nQ 19.671875 43.65625 24.015625 45.921875 \nQ 28.375 48.1875 33.59375 48.1875 \nQ 44.578125 48.1875 50.953125 41.515625 \nQ 57.328125 34.859375 57.328125 23.390625 \nQ 57.328125 12.15625 50.6875 5.359375 \nQ 44.046875 -1.421875 33.015625 -1.421875 \nQ 20.359375 -1.421875 13.671875 8.265625 \nQ 6.984375 17.96875 6.984375 36.375 \nQ 6.984375 53.65625 15.1875 63.9375 \nQ 23.390625 74.21875 37.203125 74.21875 \nQ 40.921875 74.21875 44.703125 73.484375 \nQ 48.484375 72.75 52.59375 71.296875 \nz\n\" id=\"DejaVuSans-54\"/>\n       <path d=\"M 31.78125 66.40625 \nQ 24.171875 66.40625 20.328125 58.90625 \nQ 16.5 51.421875 16.5 36.375 \nQ 16.5 21.390625 20.328125 13.890625 \nQ 24.171875 6.390625 31.78125 6.390625 \nQ 39.453125 6.390625 43.28125 13.890625 \nQ 47.125 21.390625 47.125 36.375 \nQ 47.125 51.421875 43.28125 58.90625 \nQ 39.453125 66.40625 31.78125 66.40625 \nz\nM 31.78125 74.21875 \nQ 44.046875 74.21875 50.515625 64.515625 \nQ 56.984375 54.828125 56.984375 36.375 \nQ 56.984375 17.96875 50.515625 8.265625 \nQ 44.046875 -1.421875 31.78125 -1.421875 \nQ 19.53125 -1.421875 13.0625 8.265625 \nQ 6.59375 17.96875 6.59375 36.375 \nQ 6.59375 54.828125 13.0625 64.515625 \nQ 19.53125 74.21875 31.78125 74.21875 \nz\n\" id=\"DejaVuSans-48\"/>\n      </defs>\n      <g transform=\"translate(52.288636 565.398438)scale(0.1 -0.1)\">\n       <use xlink:href=\"#DejaVuSans-49\"/>\n       <use x=\"63.623047\" xlink:href=\"#DejaVuSans-57\"/>\n       <use x=\"127.246094\" xlink:href=\"#DejaVuSans-54\"/>\n       <use x=\"190.869141\" xlink:href=\"#DejaVuSans-48\"/>\n      </g>\n     </g>\n    </g>\n    <g id=\"xtick_2\">\n     <g id=\"line2d_3\">\n      <path clip-path=\"url(#p7e5ca05209)\" d=\"M 160.725472 550.8 \nL 160.725472 7.2 \n\" style=\"fill:none;stroke:#b0b0b0;stroke-linecap:square;stroke-width:0.8;\"/>\n     </g>\n     <g id=\"line2d_4\">\n      <g>\n       <use style=\"stroke:#000000;stroke-width:0.8;\" x=\"160.725472\" xlink:href=\"#meb1ff591d0\" y=\"550.8\"/>\n      </g>\n     </g>\n     <g id=\"text_2\">\n      <!-- 1970 -->\n      <defs>\n       <path d=\"M 8.203125 72.90625 \nL 55.078125 72.90625 \nL 55.078125 68.703125 \nL 28.609375 0 \nL 18.3125 0 \nL 43.21875 64.59375 \nL 8.203125 64.59375 \nz\n\" id=\"DejaVuSans-55\"/>\n      </defs>\n      <g transform=\"translate(148.000472 565.398438)scale(0.1 -0.1)\">\n       <use xlink:href=\"#DejaVuSans-49\"/>\n       <use x=\"63.623047\" xlink:href=\"#DejaVuSans-57\"/>\n       <use x=\"127.246094\" xlink:href=\"#DejaVuSans-55\"/>\n       <use x=\"190.869141\" xlink:href=\"#DejaVuSans-48\"/>\n      </g>\n     </g>\n    </g>\n    <g id=\"xtick_3\">\n     <g id=\"line2d_5\">\n      <path clip-path=\"url(#p7e5ca05209)\" d=\"M 256.437307 550.8 \nL 256.437307 7.2 \n\" style=\"fill:none;stroke:#b0b0b0;stroke-linecap:square;stroke-width:0.8;\"/>\n     </g>\n     <g id=\"line2d_6\">\n      <g>\n       <use style=\"stroke:#000000;stroke-width:0.8;\" x=\"256.437307\" xlink:href=\"#meb1ff591d0\" y=\"550.8\"/>\n      </g>\n     </g>\n     <g id=\"text_3\">\n      <!-- 1980 -->\n      <defs>\n       <path d=\"M 31.78125 34.625 \nQ 24.75 34.625 20.71875 30.859375 \nQ 16.703125 27.09375 16.703125 20.515625 \nQ 16.703125 13.921875 20.71875 10.15625 \nQ 24.75 6.390625 31.78125 6.390625 \nQ 38.8125 6.390625 42.859375 10.171875 \nQ 46.921875 13.96875 46.921875 20.515625 \nQ 46.921875 27.09375 42.890625 30.859375 \nQ 38.875 34.625 31.78125 34.625 \nz\nM 21.921875 38.8125 \nQ 15.578125 40.375 12.03125 44.71875 \nQ 8.5 49.078125 8.5 55.328125 \nQ 8.5 64.0625 14.71875 69.140625 \nQ 20.953125 74.21875 31.78125 74.21875 \nQ 42.671875 74.21875 48.875 69.140625 \nQ 55.078125 64.0625 55.078125 55.328125 \nQ 55.078125 49.078125 51.53125 44.71875 \nQ 48 40.375 41.703125 38.8125 \nQ 48.828125 37.15625 52.796875 32.3125 \nQ 56.78125 27.484375 56.78125 20.515625 \nQ 56.78125 9.90625 50.3125 4.234375 \nQ 43.84375 -1.421875 31.78125 -1.421875 \nQ 19.734375 -1.421875 13.25 4.234375 \nQ 6.78125 9.90625 6.78125 20.515625 \nQ 6.78125 27.484375 10.78125 32.3125 \nQ 14.796875 37.15625 21.921875 38.8125 \nz\nM 18.3125 54.390625 \nQ 18.3125 48.734375 21.84375 45.5625 \nQ 25.390625 42.390625 31.78125 42.390625 \nQ 38.140625 42.390625 41.71875 45.5625 \nQ 45.3125 48.734375 45.3125 54.390625 \nQ 45.3125 60.0625 41.71875 63.234375 \nQ 38.140625 66.40625 31.78125 66.40625 \nQ 25.390625 66.40625 21.84375 63.234375 \nQ 18.3125 60.0625 18.3125 54.390625 \nz\n\" id=\"DejaVuSans-56\"/>\n      </defs>\n      <g transform=\"translate(243.712307 565.398438)scale(0.1 -0.1)\">\n       <use xlink:href=\"#DejaVuSans-49\"/>\n       <use x=\"63.623047\" xlink:href=\"#DejaVuSans-57\"/>\n       <use x=\"127.246094\" xlink:href=\"#DejaVuSans-56\"/>\n       <use x=\"190.869141\" xlink:href=\"#DejaVuSans-48\"/>\n      </g>\n     </g>\n    </g>\n    <g id=\"xtick_4\">\n     <g id=\"line2d_7\">\n      <path clip-path=\"url(#p7e5ca05209)\" d=\"M 352.149142 550.8 \nL 352.149142 7.2 \n\" style=\"fill:none;stroke:#b0b0b0;stroke-linecap:square;stroke-width:0.8;\"/>\n     </g>\n     <g id=\"line2d_8\">\n      <g>\n       <use style=\"stroke:#000000;stroke-width:0.8;\" x=\"352.149142\" xlink:href=\"#meb1ff591d0\" y=\"550.8\"/>\n      </g>\n     </g>\n     <g id=\"text_4\">\n      <!-- 1990 -->\n      <g transform=\"translate(339.424142 565.398438)scale(0.1 -0.1)\">\n       <use xlink:href=\"#DejaVuSans-49\"/>\n       <use x=\"63.623047\" xlink:href=\"#DejaVuSans-57\"/>\n       <use x=\"127.246094\" xlink:href=\"#DejaVuSans-57\"/>\n       <use x=\"190.869141\" xlink:href=\"#DejaVuSans-48\"/>\n      </g>\n     </g>\n    </g>\n    <g id=\"xtick_5\">\n     <g id=\"line2d_9\">\n      <path clip-path=\"url(#p7e5ca05209)\" d=\"M 447.860978 550.8 \nL 447.860978 7.2 \n\" style=\"fill:none;stroke:#b0b0b0;stroke-linecap:square;stroke-width:0.8;\"/>\n     </g>\n     <g id=\"line2d_10\">\n      <g>\n       <use style=\"stroke:#000000;stroke-width:0.8;\" x=\"447.860978\" xlink:href=\"#meb1ff591d0\" y=\"550.8\"/>\n      </g>\n     </g>\n     <g id=\"text_5\">\n      <!-- 2000 -->\n      <defs>\n       <path d=\"M 19.1875 8.296875 \nL 53.609375 8.296875 \nL 53.609375 0 \nL 7.328125 0 \nL 7.328125 8.296875 \nQ 12.9375 14.109375 22.625 23.890625 \nQ 32.328125 33.6875 34.8125 36.53125 \nQ 39.546875 41.84375 41.421875 45.53125 \nQ 43.3125 49.21875 43.3125 52.78125 \nQ 43.3125 58.59375 39.234375 62.25 \nQ 35.15625 65.921875 28.609375 65.921875 \nQ 23.96875 65.921875 18.8125 64.3125 \nQ 13.671875 62.703125 7.8125 59.421875 \nL 7.8125 69.390625 \nQ 13.765625 71.78125 18.9375 73 \nQ 24.125 74.21875 28.421875 74.21875 \nQ 39.75 74.21875 46.484375 68.546875 \nQ 53.21875 62.890625 53.21875 53.421875 \nQ 53.21875 48.921875 51.53125 44.890625 \nQ 49.859375 40.875 45.40625 35.40625 \nQ 44.1875 33.984375 37.640625 27.21875 \nQ 31.109375 20.453125 19.1875 8.296875 \nz\n\" id=\"DejaVuSans-50\"/>\n      </defs>\n      <g transform=\"translate(435.135978 565.398438)scale(0.1 -0.1)\">\n       <use xlink:href=\"#DejaVuSans-50\"/>\n       <use x=\"63.623047\" xlink:href=\"#DejaVuSans-48\"/>\n       <use x=\"127.246094\" xlink:href=\"#DejaVuSans-48\"/>\n       <use x=\"190.869141\" xlink:href=\"#DejaVuSans-48\"/>\n      </g>\n     </g>\n    </g>\n    <g id=\"xtick_6\">\n     <g id=\"line2d_11\">\n      <path clip-path=\"url(#p7e5ca05209)\" d=\"M 543.572813 550.8 \nL 543.572813 7.2 \n\" style=\"fill:none;stroke:#b0b0b0;stroke-linecap:square;stroke-width:0.8;\"/>\n     </g>\n     <g id=\"line2d_12\">\n      <g>\n       <use style=\"stroke:#000000;stroke-width:0.8;\" x=\"543.572813\" xlink:href=\"#meb1ff591d0\" y=\"550.8\"/>\n      </g>\n     </g>\n     <g id=\"text_6\">\n      <!-- 2010 -->\n      <g transform=\"translate(530.847813 565.398438)scale(0.1 -0.1)\">\n       <use xlink:href=\"#DejaVuSans-50\"/>\n       <use x=\"63.623047\" xlink:href=\"#DejaVuSans-48\"/>\n       <use x=\"127.246094\" xlink:href=\"#DejaVuSans-49\"/>\n       <use x=\"190.869141\" xlink:href=\"#DejaVuSans-48\"/>\n      </g>\n     </g>\n    </g>\n   </g>\n   <g id=\"matplotlib.axis_2\">\n    <g id=\"ytick_1\">\n     <g id=\"line2d_13\">\n      <path clip-path=\"url(#p7e5ca05209)\" d=\"M 39.65 550.8 \nL 597.65 550.8 \n\" style=\"fill:none;stroke:#b0b0b0;stroke-linecap:square;stroke-width:0.8;\"/>\n     </g>\n     <g id=\"line2d_14\">\n      <defs>\n       <path d=\"M 0 0 \nL -3.5 0 \n\" id=\"m63b15c393c\" style=\"stroke:#000000;stroke-width:0.8;\"/>\n      </defs>\n      <g>\n       <use style=\"stroke:#000000;stroke-width:0.8;\" x=\"39.65\" xlink:href=\"#m63b15c393c\" y=\"550.8\"/>\n      </g>\n     </g>\n     <g id=\"text_7\">\n      <!-- 0 -->\n      <g transform=\"translate(26.2875 554.599219)scale(0.1 -0.1)\">\n       <use xlink:href=\"#DejaVuSans-48\"/>\n      </g>\n     </g>\n    </g>\n    <g id=\"ytick_2\">\n     <g id=\"line2d_15\">\n      <path clip-path=\"url(#p7e5ca05209)\" d=\"M 39.65 488.454831 \nL 597.65 488.454831 \n\" style=\"fill:none;stroke:#b0b0b0;stroke-linecap:square;stroke-width:0.8;\"/>\n     </g>\n     <g id=\"line2d_16\">\n      <g>\n       <use style=\"stroke:#000000;stroke-width:0.8;\" x=\"39.65\" xlink:href=\"#m63b15c393c\" y=\"488.454831\"/>\n      </g>\n     </g>\n     <g id=\"text_8\">\n      <!-- 1000 -->\n      <g transform=\"translate(7.2 492.254049)scale(0.1 -0.1)\">\n       <use xlink:href=\"#DejaVuSans-49\"/>\n       <use x=\"63.623047\" xlink:href=\"#DejaVuSans-48\"/>\n       <use x=\"127.246094\" xlink:href=\"#DejaVuSans-48\"/>\n       <use x=\"190.869141\" xlink:href=\"#DejaVuSans-48\"/>\n      </g>\n     </g>\n    </g>\n    <g id=\"ytick_3\">\n     <g id=\"line2d_17\">\n      <path clip-path=\"url(#p7e5ca05209)\" d=\"M 39.65 426.109661 \nL 597.65 426.109661 \n\" style=\"fill:none;stroke:#b0b0b0;stroke-linecap:square;stroke-width:0.8;\"/>\n     </g>\n     <g id=\"line2d_18\">\n      <g>\n       <use style=\"stroke:#000000;stroke-width:0.8;\" x=\"39.65\" xlink:href=\"#m63b15c393c\" y=\"426.109661\"/>\n      </g>\n     </g>\n     <g id=\"text_9\">\n      <!-- 2000 -->\n      <g transform=\"translate(7.2 429.90888)scale(0.1 -0.1)\">\n       <use xlink:href=\"#DejaVuSans-50\"/>\n       <use x=\"63.623047\" xlink:href=\"#DejaVuSans-48\"/>\n       <use x=\"127.246094\" xlink:href=\"#DejaVuSans-48\"/>\n       <use x=\"190.869141\" xlink:href=\"#DejaVuSans-48\"/>\n      </g>\n     </g>\n    </g>\n    <g id=\"ytick_4\">\n     <g id=\"line2d_19\">\n      <path clip-path=\"url(#p7e5ca05209)\" d=\"M 39.65 363.764492 \nL 597.65 363.764492 \n\" style=\"fill:none;stroke:#b0b0b0;stroke-linecap:square;stroke-width:0.8;\"/>\n     </g>\n     <g id=\"line2d_20\">\n      <g>\n       <use style=\"stroke:#000000;stroke-width:0.8;\" x=\"39.65\" xlink:href=\"#m63b15c393c\" y=\"363.764492\"/>\n      </g>\n     </g>\n     <g id=\"text_10\">\n      <!-- 3000 -->\n      <defs>\n       <path d=\"M 40.578125 39.3125 \nQ 47.65625 37.796875 51.625 33 \nQ 55.609375 28.21875 55.609375 21.1875 \nQ 55.609375 10.40625 48.1875 4.484375 \nQ 40.765625 -1.421875 27.09375 -1.421875 \nQ 22.515625 -1.421875 17.65625 -0.515625 \nQ 12.796875 0.390625 7.625 2.203125 \nL 7.625 11.71875 \nQ 11.71875 9.328125 16.59375 8.109375 \nQ 21.484375 6.890625 26.8125 6.890625 \nQ 36.078125 6.890625 40.9375 10.546875 \nQ 45.796875 14.203125 45.796875 21.1875 \nQ 45.796875 27.640625 41.28125 31.265625 \nQ 36.765625 34.90625 28.71875 34.90625 \nL 20.21875 34.90625 \nL 20.21875 43.015625 \nL 29.109375 43.015625 \nQ 36.375 43.015625 40.234375 45.921875 \nQ 44.09375 48.828125 44.09375 54.296875 \nQ 44.09375 59.90625 40.109375 62.90625 \nQ 36.140625 65.921875 28.71875 65.921875 \nQ 24.65625 65.921875 20.015625 65.03125 \nQ 15.375 64.15625 9.8125 62.3125 \nL 9.8125 71.09375 \nQ 15.4375 72.65625 20.34375 73.4375 \nQ 25.25 74.21875 29.59375 74.21875 \nQ 40.828125 74.21875 47.359375 69.109375 \nQ 53.90625 64.015625 53.90625 55.328125 \nQ 53.90625 49.265625 50.4375 45.09375 \nQ 46.96875 40.921875 40.578125 39.3125 \nz\n\" id=\"DejaVuSans-51\"/>\n      </defs>\n      <g transform=\"translate(7.2 367.563711)scale(0.1 -0.1)\">\n       <use xlink:href=\"#DejaVuSans-51\"/>\n       <use x=\"63.623047\" xlink:href=\"#DejaVuSans-48\"/>\n       <use x=\"127.246094\" xlink:href=\"#DejaVuSans-48\"/>\n       <use x=\"190.869141\" xlink:href=\"#DejaVuSans-48\"/>\n      </g>\n     </g>\n    </g>\n    <g id=\"ytick_5\">\n     <g id=\"line2d_21\">\n      <path clip-path=\"url(#p7e5ca05209)\" d=\"M 39.65 301.419323 \nL 597.65 301.419323 \n\" style=\"fill:none;stroke:#b0b0b0;stroke-linecap:square;stroke-width:0.8;\"/>\n     </g>\n     <g id=\"line2d_22\">\n      <g>\n       <use style=\"stroke:#000000;stroke-width:0.8;\" x=\"39.65\" xlink:href=\"#m63b15c393c\" y=\"301.419323\"/>\n      </g>\n     </g>\n     <g id=\"text_11\">\n      <!-- 4000 -->\n      <defs>\n       <path d=\"M 37.796875 64.3125 \nL 12.890625 25.390625 \nL 37.796875 25.390625 \nz\nM 35.203125 72.90625 \nL 47.609375 72.90625 \nL 47.609375 25.390625 \nL 58.015625 25.390625 \nL 58.015625 17.1875 \nL 47.609375 17.1875 \nL 47.609375 0 \nL 37.796875 0 \nL 37.796875 17.1875 \nL 4.890625 17.1875 \nL 4.890625 26.703125 \nz\n\" id=\"DejaVuSans-52\"/>\n      </defs>\n      <g transform=\"translate(7.2 305.218542)scale(0.1 -0.1)\">\n       <use xlink:href=\"#DejaVuSans-52\"/>\n       <use x=\"63.623047\" xlink:href=\"#DejaVuSans-48\"/>\n       <use x=\"127.246094\" xlink:href=\"#DejaVuSans-48\"/>\n       <use x=\"190.869141\" xlink:href=\"#DejaVuSans-48\"/>\n      </g>\n     </g>\n    </g>\n    <g id=\"ytick_6\">\n     <g id=\"line2d_23\">\n      <path clip-path=\"url(#p7e5ca05209)\" d=\"M 39.65 239.074154 \nL 597.65 239.074154 \n\" style=\"fill:none;stroke:#b0b0b0;stroke-linecap:square;stroke-width:0.8;\"/>\n     </g>\n     <g id=\"line2d_24\">\n      <g>\n       <use style=\"stroke:#000000;stroke-width:0.8;\" x=\"39.65\" xlink:href=\"#m63b15c393c\" y=\"239.074154\"/>\n      </g>\n     </g>\n     <g id=\"text_12\">\n      <!-- 5000 -->\n      <defs>\n       <path d=\"M 10.796875 72.90625 \nL 49.515625 72.90625 \nL 49.515625 64.59375 \nL 19.828125 64.59375 \nL 19.828125 46.734375 \nQ 21.96875 47.46875 24.109375 47.828125 \nQ 26.265625 48.1875 28.421875 48.1875 \nQ 40.625 48.1875 47.75 41.5 \nQ 54.890625 34.8125 54.890625 23.390625 \nQ 54.890625 11.625 47.5625 5.09375 \nQ 40.234375 -1.421875 26.90625 -1.421875 \nQ 22.3125 -1.421875 17.546875 -0.640625 \nQ 12.796875 0.140625 7.71875 1.703125 \nL 7.71875 11.625 \nQ 12.109375 9.234375 16.796875 8.0625 \nQ 21.484375 6.890625 26.703125 6.890625 \nQ 35.15625 6.890625 40.078125 11.328125 \nQ 45.015625 15.765625 45.015625 23.390625 \nQ 45.015625 31 40.078125 35.4375 \nQ 35.15625 39.890625 26.703125 39.890625 \nQ 22.75 39.890625 18.8125 39.015625 \nQ 14.890625 38.140625 10.796875 36.28125 \nz\n\" id=\"DejaVuSans-53\"/>\n      </defs>\n      <g transform=\"translate(7.2 242.873372)scale(0.1 -0.1)\">\n       <use xlink:href=\"#DejaVuSans-53\"/>\n       <use x=\"63.623047\" xlink:href=\"#DejaVuSans-48\"/>\n       <use x=\"127.246094\" xlink:href=\"#DejaVuSans-48\"/>\n       <use x=\"190.869141\" xlink:href=\"#DejaVuSans-48\"/>\n      </g>\n     </g>\n    </g>\n    <g id=\"ytick_7\">\n     <g id=\"line2d_25\">\n      <path clip-path=\"url(#p7e5ca05209)\" d=\"M 39.65 176.728984 \nL 597.65 176.728984 \n\" style=\"fill:none;stroke:#b0b0b0;stroke-linecap:square;stroke-width:0.8;\"/>\n     </g>\n     <g id=\"line2d_26\">\n      <g>\n       <use style=\"stroke:#000000;stroke-width:0.8;\" x=\"39.65\" xlink:href=\"#m63b15c393c\" y=\"176.728984\"/>\n      </g>\n     </g>\n     <g id=\"text_13\">\n      <!-- 6000 -->\n      <g transform=\"translate(7.2 180.528203)scale(0.1 -0.1)\">\n       <use xlink:href=\"#DejaVuSans-54\"/>\n       <use x=\"63.623047\" xlink:href=\"#DejaVuSans-48\"/>\n       <use x=\"127.246094\" xlink:href=\"#DejaVuSans-48\"/>\n       <use x=\"190.869141\" xlink:href=\"#DejaVuSans-48\"/>\n      </g>\n     </g>\n    </g>\n    <g id=\"ytick_8\">\n     <g id=\"line2d_27\">\n      <path clip-path=\"url(#p7e5ca05209)\" d=\"M 39.65 114.383815 \nL 597.65 114.383815 \n\" style=\"fill:none;stroke:#b0b0b0;stroke-linecap:square;stroke-width:0.8;\"/>\n     </g>\n     <g id=\"line2d_28\">\n      <g>\n       <use style=\"stroke:#000000;stroke-width:0.8;\" x=\"39.65\" xlink:href=\"#m63b15c393c\" y=\"114.383815\"/>\n      </g>\n     </g>\n     <g id=\"text_14\">\n      <!-- 7000 -->\n      <g transform=\"translate(7.2 118.183034)scale(0.1 -0.1)\">\n       <use xlink:href=\"#DejaVuSans-55\"/>\n       <use x=\"63.623047\" xlink:href=\"#DejaVuSans-48\"/>\n       <use x=\"127.246094\" xlink:href=\"#DejaVuSans-48\"/>\n       <use x=\"190.869141\" xlink:href=\"#DejaVuSans-48\"/>\n      </g>\n     </g>\n    </g>\n    <g id=\"ytick_9\">\n     <g id=\"line2d_29\">\n      <path clip-path=\"url(#p7e5ca05209)\" d=\"M 39.65 52.038646 \nL 597.65 52.038646 \n\" style=\"fill:none;stroke:#b0b0b0;stroke-linecap:square;stroke-width:0.8;\"/>\n     </g>\n     <g id=\"line2d_30\">\n      <g>\n       <use style=\"stroke:#000000;stroke-width:0.8;\" x=\"39.65\" xlink:href=\"#m63b15c393c\" y=\"52.038646\"/>\n      </g>\n     </g>\n     <g id=\"text_15\">\n      <!-- 8000 -->\n      <g transform=\"translate(7.2 55.837864)scale(0.1 -0.1)\">\n       <use xlink:href=\"#DejaVuSans-56\"/>\n       <use x=\"63.623047\" xlink:href=\"#DejaVuSans-48\"/>\n       <use x=\"127.246094\" xlink:href=\"#DejaVuSans-48\"/>\n       <use x=\"190.869141\" xlink:href=\"#DejaVuSans-48\"/>\n      </g>\n     </g>\n    </g>\n   </g>\n   <g id=\"patch_13\">\n    <path d=\"M 39.65 550.8 \nL 39.65 7.2 \n\" style=\"fill:none;stroke:#000000;stroke-linecap:square;stroke-linejoin:miter;stroke-width:0.8;\"/>\n   </g>\n   <g id=\"patch_14\">\n    <path d=\"M 597.65 550.8 \nL 597.65 7.2 \n\" style=\"fill:none;stroke:#000000;stroke-linecap:square;stroke-linejoin:miter;stroke-width:0.8;\"/>\n   </g>\n   <g id=\"patch_15\">\n    <path d=\"M 39.65 550.8 \nL 597.65 550.8 \n\" style=\"fill:none;stroke:#000000;stroke-linecap:square;stroke-linejoin:miter;stroke-width:0.8;\"/>\n   </g>\n   <g id=\"patch_16\">\n    <path d=\"M 39.65 7.2 \nL 597.65 7.2 \n\" style=\"fill:none;stroke:#000000;stroke-linecap:square;stroke-linejoin:miter;stroke-width:0.8;\"/>\n   </g>\n  </g>\n </g>\n <defs>\n  <clipPath id=\"p7e5ca05209\">\n   <rect height=\"543.6\" width=\"558\" x=\"39.65\" y=\"7.2\"/>\n  </clipPath>\n </defs>\n</svg>\n",
      "image/png": "[encoded data removed]"
     },
     "metadata": {
      "needs_background": "light"
     }
    }
   ],
   "source": [
    "X_train['construction_year'].hist(figsize=(10,10));"
   ]
  },
  {
   "cell_type": "markdown",
   "metadata": {},
   "source": [
    "Definitely median. Since the distribution of construction year is so skewed median will be a much better value to fill in."
   ]
  },
  {
   "cell_type": "code",
   "execution_count": 106,
   "metadata": {},
   "outputs": [],
   "source": [
    "unique_basin = X_train['basin'].unique()"
   ]
  },
  {
   "cell_type": "code",
   "execution_count": 107,
   "metadata": {},
   "outputs": [
    {
     "output_type": "execute_result",
     "data": {
      "text/plain": "array(['Internal', 'Lake Rukwa', 'Rufiji', 'Wami / Ruvu', 'Lake Victoria',\n       'Lake Tanganyika', 'Pangani', 'Lake Nyasa',\n       'Ruvuma / Southern Coast'], dtype=object)"
     },
     "metadata": {},
     "execution_count": 107
    }
   ],
   "source": [
    "unique_basin"
   ]
  },
  {
   "cell_type": "code",
   "execution_count": 111,
   "metadata": {},
   "outputs": [],
   "source": [
    "med_year_per_basin = {}\n",
    "for basin in unique_basin:\n",
    "    med_year = X_train[X_train['basin'] == basin].median()['construction_year']\n",
    "    med_year_per_basin[basin] = med_year"
   ]
  },
  {
   "cell_type": "code",
   "execution_count": 112,
   "metadata": {},
   "outputs": [
    {
     "output_type": "execute_result",
     "data": {
      "text/plain": "{'Internal': 2002.0,\n 'Lake Rukwa': 1989.0,\n 'Rufiji': 2000.0,\n 'Wami / Ruvu': 2004.0,\n 'Lake Victoria': 1998.0,\n 'Lake Tanganyika': 1997.0,\n 'Pangani': 2000.0,\n 'Lake Nyasa': 2000.0,\n 'Ruvuma / Southern Coast': 1996.0}"
     },
     "metadata": {},
     "execution_count": 112
    }
   ],
   "source": [
    "med_year_per_basin"
   ]
  },
  {
   "cell_type": "markdown",
   "metadata": {},
   "source": [
    "Great, now I can fill the missing construction year values with the median year in that basin"
   ]
  },
  {
   "cell_type": "code",
   "execution_count": 199,
   "metadata": {},
   "outputs": [],
   "source": [
    "for idx, row in X_train.iterrows():\n",
    "    if row['construction_year'] == 0:\n",
    "        X_train['construction_year'][idx] = med_year_per_basin[row['basin']]"
   ]
  },
  {
   "cell_type": "code",
   "execution_count": 155,
   "metadata": {},
   "outputs": [
    {
     "output_type": "execute_result",
     "data": {
      "text/plain": "1998    6960\n2000    5012\n2002    3373\n1997    2795\n2010    2133\n2008    2124\n2009    2027\n2004    1725\n1989    1414\n2007    1275\n2006    1174\n2003    1035\n2011    1003\n2012     883\n1978     840\n1996     822\n1995     815\n2005     802\n1990     781\n1999     779\n1985     740\n1980     666\n1984     631\n1982     597\n1994     593\n1972     558\n1974     535\n1992     524\n1993     480\n2001     423\n1988     423\n1983     393\n1986     355\n1975     349\n1976     318\n1970     316\n1991     256\n1987     238\n1981     182\n1977     165\n1979     158\n1973     146\n2013     134\n1971     120\n1960      87\n1963      76\n1967      74\n1968      58\n1969      49\n1964      31\n1962      27\n1965      16\n1961      16\n1966      14\nName: construction_year, dtype: int64"
     },
     "metadata": {},
     "execution_count": 155
    }
   ],
   "source": [
    "X_train['construction_year'].value_counts()"
   ]
  },
  {
   "cell_type": "markdown",
   "metadata": {},
   "source": [
    "Great that worked now I can use the date_recorded column to get the year the water pump was recorded. Then subtract construction_year from that year to get age."
   ]
  },
  {
   "cell_type": "markdown",
   "metadata": {},
   "source": [
    "Just found out that date_recorded is not the date the pump was expected but date the row was entered in the dataframe. So to compute age I will just use current_year - construction_year"
   ]
  },
  {
   "cell_type": "code",
   "execution_count": 200,
   "metadata": {},
   "outputs": [],
   "source": [
    "X_train['current_year'] = pd.datetime.now().year"
   ]
  },
  {
   "cell_type": "code",
   "execution_count": 201,
   "metadata": {},
   "outputs": [],
   "source": [
    "X_train['date_recorded'] = pd.to_datetime(X_train['date_recorded'], infer_datetime_format=True)"
   ]
  },
  {
   "cell_type": "code",
   "execution_count": 160,
   "metadata": {},
   "outputs": [],
   "source": [
    "X_train['year'] = X_train['date_recorded'].apply(lambda x: x.year)"
   ]
  },
  {
   "cell_type": "code",
   "execution_count": 161,
   "metadata": {},
   "outputs": [
    {
     "output_type": "execute_result",
     "data": {
      "text/plain": "2011    22947\n2013    19425\n2012     5124\n2004       24\nName: year, dtype: int64"
     },
     "metadata": {},
     "execution_count": 161
    }
   ],
   "source": [
    "X_train['year'].value_counts()"
   ]
  },
  {
   "cell_type": "code",
   "execution_count": 202,
   "metadata": {},
   "outputs": [],
   "source": [
    "X_train['age'] = X_train['current_year'] - X_train['construction_year']"
   ]
  },
  {
   "cell_type": "code",
   "execution_count": 163,
   "metadata": {},
   "outputs": [
    {
     "output_type": "execute_result",
     "data": {
      "text/plain": "<matplotlib.axes._subplots.AxesSubplot at 0x7ff0fa4f10b8>"
     },
     "metadata": {},
     "execution_count": 163
    },
    {
     "output_type": "display_data",
     "data": {
      "text/plain": "<Figure size 432x288 with 1 Axes>",
      "image/svg+xml": "<?xml version=\"1.0\" encoding=\"utf-8\" standalone=\"no\"?>\n<!DOCTYPE svg PUBLIC \"-//W3C//DTD SVG 1.1//EN\"\n  \"http://www.w3.org/Graphics/SVG/1.1/DTD/svg11.dtd\">\n<!-- Created with matplotlib (https://matplotlib.org/) -->\n<svg height=\"248.518125pt\" version=\"1.1\" viewBox=\"0 0 388.0125 248.518125\" width=\"388.0125pt\" xmlns=\"http://www.w3.org/2000/svg\" xmlns:xlink=\"http://www.w3.org/1999/xlink\">\n <defs>\n  <style type=\"text/css\">\n*{stroke-linecap:butt;stroke-linejoin:round;}\n  </style>\n </defs>\n <g id=\"figure_1\">\n  <g id=\"patch_1\">\n   <path d=\"M 0 248.518125 \nL 388.0125 248.518125 \nL 388.0125 0 \nL 0 0 \nz\n\" style=\"fill:none;\"/>\n  </g>\n  <g id=\"axes_1\">\n   <g id=\"patch_2\">\n    <path d=\"M 46.0125 224.64 \nL 380.8125 224.64 \nL 380.8125 7.2 \nL 46.0125 7.2 \nz\n\" style=\"fill:#ffffff;\"/>\n   </g>\n   <g id=\"patch_3\">\n    <path clip-path=\"url(#p4782418cb9)\" d=\"M 61.230682 224.64 \nL 91.667045 224.64 \nL 91.667045 224.556531 \nL 61.230682 224.556531 \nz\n\" style=\"fill:#1f77b4;\"/>\n   </g>\n   <g id=\"patch_4\">\n    <path clip-path=\"url(#p4782418cb9)\" d=\"M 91.667045 224.64 \nL 122.103409 224.64 \nL 122.103409 131.775168 \nL 91.667045 131.775168 \nz\n\" style=\"fill:#1f77b4;\"/>\n   </g>\n   <g id=\"patch_5\">\n    <path clip-path=\"url(#p4782418cb9)\" d=\"M 122.103409 224.64 \nL 152.539773 224.64 \nL 152.539773 114.103663 \nL 122.103409 114.103663 \nz\n\" style=\"fill:#1f77b4;\"/>\n   </g>\n   <g id=\"patch_6\">\n    <path clip-path=\"url(#p4782418cb9)\" d=\"M 152.539773 224.64 \nL 182.976136 224.64 \nL 182.976136 17.554286 \nL 152.539773 17.554286 \nz\n\" style=\"fill:#1f77b4;\"/>\n   </g>\n   <g id=\"patch_7\">\n    <path clip-path=\"url(#p4782418cb9)\" d=\"M 182.976136 224.64 \nL 213.4125 224.64 \nL 213.4125 174.391874 \nL 182.976136 174.391874 \nz\n\" style=\"fill:#1f77b4;\"/>\n   </g>\n   <g id=\"patch_8\">\n    <path clip-path=\"url(#p4782418cb9)\" d=\"M 213.4125 224.64 \nL 243.848864 224.64 \nL 243.848864 188.235746 \nL 213.4125 188.235746 \nz\n\" style=\"fill:#1f77b4;\"/>\n   </g>\n   <g id=\"patch_9\">\n    <path clip-path=\"url(#p4782418cb9)\" d=\"M 243.848864 224.64 \nL 274.285227 224.64 \nL 274.285227 194.674756 \nL 243.848864 194.674756 \nz\n\" style=\"fill:#1f77b4;\"/>\n   </g>\n   <g id=\"patch_10\">\n    <path clip-path=\"url(#p4782418cb9)\" d=\"M 274.285227 224.64 \nL 304.721591 224.64 \nL 304.721591 198.430845 \nL 274.285227 198.430845 \nz\n\" style=\"fill:#1f77b4;\"/>\n   </g>\n   <g id=\"patch_11\">\n    <path clip-path=\"url(#p4782418cb9)\" d=\"M 304.721591 224.64 \nL 335.157955 224.64 \nL 335.157955 214.421053 \nL 304.721591 214.421053 \nz\n\" style=\"fill:#1f77b4;\"/>\n   </g>\n   <g id=\"patch_12\">\n    <path clip-path=\"url(#p4782418cb9)\" d=\"M 335.157955 224.64 \nL 365.594318 224.64 \nL 365.594318 221.623205 \nL 335.157955 221.623205 \nz\n\" style=\"fill:#1f77b4;\"/>\n   </g>\n   <g id=\"matplotlib.axis_1\">\n    <g id=\"xtick_1\">\n     <g id=\"line2d_1\">\n      <path clip-path=\"url(#p4782418cb9)\" d=\"M 46.0125 224.64 \nL 46.0125 7.2 \n\" style=\"fill:none;stroke:#b0b0b0;stroke-linecap:square;stroke-width:0.8;\"/>\n     </g>\n     <g id=\"line2d_2\">\n      <defs>\n       <path d=\"M 0 0 \nL 0 3.5 \n\" id=\"me01cf51885\" style=\"stroke:#000000;stroke-width:0.8;\"/>\n      </defs>\n      <g>\n       <use style=\"stroke:#000000;stroke-width:0.8;\" x=\"46.0125\" xlink:href=\"#me01cf51885\" y=\"224.64\"/>\n      </g>\n     </g>\n     <g id=\"text_1\">\n      <!-- −10 -->\n      <defs>\n       <path d=\"M 10.59375 35.5 \nL 73.1875 35.5 \nL 73.1875 27.203125 \nL 10.59375 27.203125 \nz\n\" id=\"DejaVuSans-8722\"/>\n       <path d=\"M 12.40625 8.296875 \nL 28.515625 8.296875 \nL 28.515625 63.921875 \nL 10.984375 60.40625 \nL 10.984375 69.390625 \nL 28.421875 72.90625 \nL 38.28125 72.90625 \nL 38.28125 8.296875 \nL 54.390625 8.296875 \nL 54.390625 0 \nL 12.40625 0 \nz\n\" id=\"DejaVuSans-49\"/>\n       <path d=\"M 31.78125 66.40625 \nQ 24.171875 66.40625 20.328125 58.90625 \nQ 16.5 51.421875 16.5 36.375 \nQ 16.5 21.390625 20.328125 13.890625 \nQ 24.171875 6.390625 31.78125 6.390625 \nQ 39.453125 6.390625 43.28125 13.890625 \nQ 47.125 21.390625 47.125 36.375 \nQ 47.125 51.421875 43.28125 58.90625 \nQ 39.453125 66.40625 31.78125 66.40625 \nz\nM 31.78125 74.21875 \nQ 44.046875 74.21875 50.515625 64.515625 \nQ 56.984375 54.828125 56.984375 36.375 \nQ 56.984375 17.96875 50.515625 8.265625 \nQ 44.046875 -1.421875 31.78125 -1.421875 \nQ 19.53125 -1.421875 13.0625 8.265625 \nQ 6.59375 17.96875 6.59375 36.375 \nQ 6.59375 54.828125 13.0625 64.515625 \nQ 19.53125 74.21875 31.78125 74.21875 \nz\n\" id=\"DejaVuSans-48\"/>\n      </defs>\n      <g transform=\"translate(35.460156 239.238437)scale(0.1 -0.1)\">\n       <use xlink:href=\"#DejaVuSans-8722\"/>\n       <use x=\"83.789062\" xlink:href=\"#DejaVuSans-49\"/>\n       <use x=\"147.412109\" xlink:href=\"#DejaVuSans-48\"/>\n      </g>\n     </g>\n    </g>\n    <g id=\"xtick_2\">\n     <g id=\"line2d_3\">\n      <path clip-path=\"url(#p4782418cb9)\" d=\"M 96.739773 224.64 \nL 96.739773 7.2 \n\" style=\"fill:none;stroke:#b0b0b0;stroke-linecap:square;stroke-width:0.8;\"/>\n     </g>\n     <g id=\"line2d_4\">\n      <g>\n       <use style=\"stroke:#000000;stroke-width:0.8;\" x=\"96.739773\" xlink:href=\"#me01cf51885\" y=\"224.64\"/>\n      </g>\n     </g>\n     <g id=\"text_2\">\n      <!-- 0 -->\n      <g transform=\"translate(93.558523 239.238437)scale(0.1 -0.1)\">\n       <use xlink:href=\"#DejaVuSans-48\"/>\n      </g>\n     </g>\n    </g>\n    <g id=\"xtick_3\">\n     <g id=\"line2d_5\">\n      <path clip-path=\"url(#p4782418cb9)\" d=\"M 147.467045 224.64 \nL 147.467045 7.2 \n\" style=\"fill:none;stroke:#b0b0b0;stroke-linecap:square;stroke-width:0.8;\"/>\n     </g>\n     <g id=\"line2d_6\">\n      <g>\n       <use style=\"stroke:#000000;stroke-width:0.8;\" x=\"147.467045\" xlink:href=\"#me01cf51885\" y=\"224.64\"/>\n      </g>\n     </g>\n     <g id=\"text_3\">\n      <!-- 10 -->\n      <g transform=\"translate(141.104545 239.238437)scale(0.1 -0.1)\">\n       <use xlink:href=\"#DejaVuSans-49\"/>\n       <use x=\"63.623047\" xlink:href=\"#DejaVuSans-48\"/>\n      </g>\n     </g>\n    </g>\n    <g id=\"xtick_4\">\n     <g id=\"line2d_7\">\n      <path clip-path=\"url(#p4782418cb9)\" d=\"M 198.194318 224.64 \nL 198.194318 7.2 \n\" style=\"fill:none;stroke:#b0b0b0;stroke-linecap:square;stroke-width:0.8;\"/>\n     </g>\n     <g id=\"line2d_8\">\n      <g>\n       <use style=\"stroke:#000000;stroke-width:0.8;\" x=\"198.194318\" xlink:href=\"#me01cf51885\" y=\"224.64\"/>\n      </g>\n     </g>\n     <g id=\"text_4\">\n      <!-- 20 -->\n      <defs>\n       <path d=\"M 19.1875 8.296875 \nL 53.609375 8.296875 \nL 53.609375 0 \nL 7.328125 0 \nL 7.328125 8.296875 \nQ 12.9375 14.109375 22.625 23.890625 \nQ 32.328125 33.6875 34.8125 36.53125 \nQ 39.546875 41.84375 41.421875 45.53125 \nQ 43.3125 49.21875 43.3125 52.78125 \nQ 43.3125 58.59375 39.234375 62.25 \nQ 35.15625 65.921875 28.609375 65.921875 \nQ 23.96875 65.921875 18.8125 64.3125 \nQ 13.671875 62.703125 7.8125 59.421875 \nL 7.8125 69.390625 \nQ 13.765625 71.78125 18.9375 73 \nQ 24.125 74.21875 28.421875 74.21875 \nQ 39.75 74.21875 46.484375 68.546875 \nQ 53.21875 62.890625 53.21875 53.421875 \nQ 53.21875 48.921875 51.53125 44.890625 \nQ 49.859375 40.875 45.40625 35.40625 \nQ 44.1875 33.984375 37.640625 27.21875 \nQ 31.109375 20.453125 19.1875 8.296875 \nz\n\" id=\"DejaVuSans-50\"/>\n      </defs>\n      <g transform=\"translate(191.831818 239.238437)scale(0.1 -0.1)\">\n       <use xlink:href=\"#DejaVuSans-50\"/>\n       <use x=\"63.623047\" xlink:href=\"#DejaVuSans-48\"/>\n      </g>\n     </g>\n    </g>\n    <g id=\"xtick_5\">\n     <g id=\"line2d_9\">\n      <path clip-path=\"url(#p4782418cb9)\" d=\"M 248.921591 224.64 \nL 248.921591 7.2 \n\" style=\"fill:none;stroke:#b0b0b0;stroke-linecap:square;stroke-width:0.8;\"/>\n     </g>\n     <g id=\"line2d_10\">\n      <g>\n       <use style=\"stroke:#000000;stroke-width:0.8;\" x=\"248.921591\" xlink:href=\"#me01cf51885\" y=\"224.64\"/>\n      </g>\n     </g>\n     <g id=\"text_5\">\n      <!-- 30 -->\n      <defs>\n       <path d=\"M 40.578125 39.3125 \nQ 47.65625 37.796875 51.625 33 \nQ 55.609375 28.21875 55.609375 21.1875 \nQ 55.609375 10.40625 48.1875 4.484375 \nQ 40.765625 -1.421875 27.09375 -1.421875 \nQ 22.515625 -1.421875 17.65625 -0.515625 \nQ 12.796875 0.390625 7.625 2.203125 \nL 7.625 11.71875 \nQ 11.71875 9.328125 16.59375 8.109375 \nQ 21.484375 6.890625 26.8125 6.890625 \nQ 36.078125 6.890625 40.9375 10.546875 \nQ 45.796875 14.203125 45.796875 21.1875 \nQ 45.796875 27.640625 41.28125 31.265625 \nQ 36.765625 34.90625 28.71875 34.90625 \nL 20.21875 34.90625 \nL 20.21875 43.015625 \nL 29.109375 43.015625 \nQ 36.375 43.015625 40.234375 45.921875 \nQ 44.09375 48.828125 44.09375 54.296875 \nQ 44.09375 59.90625 40.109375 62.90625 \nQ 36.140625 65.921875 28.71875 65.921875 \nQ 24.65625 65.921875 20.015625 65.03125 \nQ 15.375 64.15625 9.8125 62.3125 \nL 9.8125 71.09375 \nQ 15.4375 72.65625 20.34375 73.4375 \nQ 25.25 74.21875 29.59375 74.21875 \nQ 40.828125 74.21875 47.359375 69.109375 \nQ 53.90625 64.015625 53.90625 55.328125 \nQ 53.90625 49.265625 50.4375 45.09375 \nQ 46.96875 40.921875 40.578125 39.3125 \nz\n\" id=\"DejaVuSans-51\"/>\n      </defs>\n      <g transform=\"translate(242.559091 239.238437)scale(0.1 -0.1)\">\n       <use xlink:href=\"#DejaVuSans-51\"/>\n       <use x=\"63.623047\" xlink:href=\"#DejaVuSans-48\"/>\n      </g>\n     </g>\n    </g>\n    <g id=\"xtick_6\">\n     <g id=\"line2d_11\">\n      <path clip-path=\"url(#p4782418cb9)\" d=\"M 299.648864 224.64 \nL 299.648864 7.2 \n\" style=\"fill:none;stroke:#b0b0b0;stroke-linecap:square;stroke-width:0.8;\"/>\n     </g>\n     <g id=\"line2d_12\">\n      <g>\n       <use style=\"stroke:#000000;stroke-width:0.8;\" x=\"299.648864\" xlink:href=\"#me01cf51885\" y=\"224.64\"/>\n      </g>\n     </g>\n     <g id=\"text_6\">\n      <!-- 40 -->\n      <defs>\n       <path d=\"M 37.796875 64.3125 \nL 12.890625 25.390625 \nL 37.796875 25.390625 \nz\nM 35.203125 72.90625 \nL 47.609375 72.90625 \nL 47.609375 25.390625 \nL 58.015625 25.390625 \nL 58.015625 17.1875 \nL 47.609375 17.1875 \nL 47.609375 0 \nL 37.796875 0 \nL 37.796875 17.1875 \nL 4.890625 17.1875 \nL 4.890625 26.703125 \nz\n\" id=\"DejaVuSans-52\"/>\n      </defs>\n      <g transform=\"translate(293.286364 239.238437)scale(0.1 -0.1)\">\n       <use xlink:href=\"#DejaVuSans-52\"/>\n       <use x=\"63.623047\" xlink:href=\"#DejaVuSans-48\"/>\n      </g>\n     </g>\n    </g>\n    <g id=\"xtick_7\">\n     <g id=\"line2d_13\">\n      <path clip-path=\"url(#p4782418cb9)\" d=\"M 350.376136 224.64 \nL 350.376136 7.2 \n\" style=\"fill:none;stroke:#b0b0b0;stroke-linecap:square;stroke-width:0.8;\"/>\n     </g>\n     <g id=\"line2d_14\">\n      <g>\n       <use style=\"stroke:#000000;stroke-width:0.8;\" x=\"350.376136\" xlink:href=\"#me01cf51885\" y=\"224.64\"/>\n      </g>\n     </g>\n     <g id=\"text_7\">\n      <!-- 50 -->\n      <defs>\n       <path d=\"M 10.796875 72.90625 \nL 49.515625 72.90625 \nL 49.515625 64.59375 \nL 19.828125 64.59375 \nL 19.828125 46.734375 \nQ 21.96875 47.46875 24.109375 47.828125 \nQ 26.265625 48.1875 28.421875 48.1875 \nQ 40.625 48.1875 47.75 41.5 \nQ 54.890625 34.8125 54.890625 23.390625 \nQ 54.890625 11.625 47.5625 5.09375 \nQ 40.234375 -1.421875 26.90625 -1.421875 \nQ 22.3125 -1.421875 17.546875 -0.640625 \nQ 12.796875 0.140625 7.71875 1.703125 \nL 7.71875 11.625 \nQ 12.109375 9.234375 16.796875 8.0625 \nQ 21.484375 6.890625 26.703125 6.890625 \nQ 35.15625 6.890625 40.078125 11.328125 \nQ 45.015625 15.765625 45.015625 23.390625 \nQ 45.015625 31 40.078125 35.4375 \nQ 35.15625 39.890625 26.703125 39.890625 \nQ 22.75 39.890625 18.8125 39.015625 \nQ 14.890625 38.140625 10.796875 36.28125 \nz\n\" id=\"DejaVuSans-53\"/>\n      </defs>\n      <g transform=\"translate(344.013636 239.238437)scale(0.1 -0.1)\">\n       <use xlink:href=\"#DejaVuSans-53\"/>\n       <use x=\"63.623047\" xlink:href=\"#DejaVuSans-48\"/>\n      </g>\n     </g>\n    </g>\n   </g>\n   <g id=\"matplotlib.axis_2\">\n    <g id=\"ytick_1\">\n     <g id=\"line2d_15\">\n      <path clip-path=\"url(#p4782418cb9)\" d=\"M 46.0125 224.64 \nL 380.8125 224.64 \n\" style=\"fill:none;stroke:#b0b0b0;stroke-linecap:square;stroke-width:0.8;\"/>\n     </g>\n     <g id=\"line2d_16\">\n      <defs>\n       <path d=\"M 0 0 \nL -3.5 0 \n\" id=\"m19f164d1ef\" style=\"stroke:#000000;stroke-width:0.8;\"/>\n      </defs>\n      <g>\n       <use style=\"stroke:#000000;stroke-width:0.8;\" x=\"46.0125\" xlink:href=\"#m19f164d1ef\" y=\"224.64\"/>\n      </g>\n     </g>\n     <g id=\"text_8\">\n      <!-- 0 -->\n      <g transform=\"translate(32.65 228.439219)scale(0.1 -0.1)\">\n       <use xlink:href=\"#DejaVuSans-48\"/>\n      </g>\n     </g>\n    </g>\n    <g id=\"ytick_2\">\n     <g id=\"line2d_17\">\n      <path clip-path=\"url(#p4782418cb9)\" d=\"M 46.0125 194.829769 \nL 380.8125 194.829769 \n\" style=\"fill:none;stroke:#b0b0b0;stroke-linecap:square;stroke-width:0.8;\"/>\n     </g>\n     <g id=\"line2d_18\">\n      <g>\n       <use style=\"stroke:#000000;stroke-width:0.8;\" x=\"46.0125\" xlink:href=\"#m19f164d1ef\" y=\"194.829769\"/>\n      </g>\n     </g>\n     <g id=\"text_9\">\n      <!-- 2500 -->\n      <g transform=\"translate(13.5625 198.628988)scale(0.1 -0.1)\">\n       <use xlink:href=\"#DejaVuSans-50\"/>\n       <use x=\"63.623047\" xlink:href=\"#DejaVuSans-53\"/>\n       <use x=\"127.246094\" xlink:href=\"#DejaVuSans-48\"/>\n       <use x=\"190.869141\" xlink:href=\"#DejaVuSans-48\"/>\n      </g>\n     </g>\n    </g>\n    <g id=\"ytick_3\">\n     <g id=\"line2d_19\">\n      <path clip-path=\"url(#p4782418cb9)\" d=\"M 46.0125 165.019538 \nL 380.8125 165.019538 \n\" style=\"fill:none;stroke:#b0b0b0;stroke-linecap:square;stroke-width:0.8;\"/>\n     </g>\n     <g id=\"line2d_20\">\n      <g>\n       <use style=\"stroke:#000000;stroke-width:0.8;\" x=\"46.0125\" xlink:href=\"#m19f164d1ef\" y=\"165.019538\"/>\n      </g>\n     </g>\n     <g id=\"text_10\">\n      <!-- 5000 -->\n      <g transform=\"translate(13.5625 168.818756)scale(0.1 -0.1)\">\n       <use xlink:href=\"#DejaVuSans-53\"/>\n       <use x=\"63.623047\" xlink:href=\"#DejaVuSans-48\"/>\n       <use x=\"127.246094\" xlink:href=\"#DejaVuSans-48\"/>\n       <use x=\"190.869141\" xlink:href=\"#DejaVuSans-48\"/>\n      </g>\n     </g>\n    </g>\n    <g id=\"ytick_4\">\n     <g id=\"line2d_21\">\n      <path clip-path=\"url(#p4782418cb9)\" d=\"M 46.0125 135.209306 \nL 380.8125 135.209306 \n\" style=\"fill:none;stroke:#b0b0b0;stroke-linecap:square;stroke-width:0.8;\"/>\n     </g>\n     <g id=\"line2d_22\">\n      <g>\n       <use style=\"stroke:#000000;stroke-width:0.8;\" x=\"46.0125\" xlink:href=\"#m19f164d1ef\" y=\"135.209306\"/>\n      </g>\n     </g>\n     <g id=\"text_11\">\n      <!-- 7500 -->\n      <defs>\n       <path d=\"M 8.203125 72.90625 \nL 55.078125 72.90625 \nL 55.078125 68.703125 \nL 28.609375 0 \nL 18.3125 0 \nL 43.21875 64.59375 \nL 8.203125 64.59375 \nz\n\" id=\"DejaVuSans-55\"/>\n      </defs>\n      <g transform=\"translate(13.5625 139.008525)scale(0.1 -0.1)\">\n       <use xlink:href=\"#DejaVuSans-55\"/>\n       <use x=\"63.623047\" xlink:href=\"#DejaVuSans-53\"/>\n       <use x=\"127.246094\" xlink:href=\"#DejaVuSans-48\"/>\n       <use x=\"190.869141\" xlink:href=\"#DejaVuSans-48\"/>\n      </g>\n     </g>\n    </g>\n    <g id=\"ytick_5\">\n     <g id=\"line2d_23\">\n      <path clip-path=\"url(#p4782418cb9)\" d=\"M 46.0125 105.399075 \nL 380.8125 105.399075 \n\" style=\"fill:none;stroke:#b0b0b0;stroke-linecap:square;stroke-width:0.8;\"/>\n     </g>\n     <g id=\"line2d_24\">\n      <g>\n       <use style=\"stroke:#000000;stroke-width:0.8;\" x=\"46.0125\" xlink:href=\"#m19f164d1ef\" y=\"105.399075\"/>\n      </g>\n     </g>\n     <g id=\"text_12\">\n      <!-- 10000 -->\n      <g transform=\"translate(7.2 109.198294)scale(0.1 -0.1)\">\n       <use xlink:href=\"#DejaVuSans-49\"/>\n       <use x=\"63.623047\" xlink:href=\"#DejaVuSans-48\"/>\n       <use x=\"127.246094\" xlink:href=\"#DejaVuSans-48\"/>\n       <use x=\"190.869141\" xlink:href=\"#DejaVuSans-48\"/>\n       <use x=\"254.492188\" xlink:href=\"#DejaVuSans-48\"/>\n      </g>\n     </g>\n    </g>\n    <g id=\"ytick_6\">\n     <g id=\"line2d_25\">\n      <path clip-path=\"url(#p4782418cb9)\" d=\"M 46.0125 75.588844 \nL 380.8125 75.588844 \n\" style=\"fill:none;stroke:#b0b0b0;stroke-linecap:square;stroke-width:0.8;\"/>\n     </g>\n     <g id=\"line2d_26\">\n      <g>\n       <use style=\"stroke:#000000;stroke-width:0.8;\" x=\"46.0125\" xlink:href=\"#m19f164d1ef\" y=\"75.588844\"/>\n      </g>\n     </g>\n     <g id=\"text_13\">\n      <!-- 12500 -->\n      <g transform=\"translate(7.2 79.388063)scale(0.1 -0.1)\">\n       <use xlink:href=\"#DejaVuSans-49\"/>\n       <use x=\"63.623047\" xlink:href=\"#DejaVuSans-50\"/>\n       <use x=\"127.246094\" xlink:href=\"#DejaVuSans-53\"/>\n       <use x=\"190.869141\" xlink:href=\"#DejaVuSans-48\"/>\n       <use x=\"254.492188\" xlink:href=\"#DejaVuSans-48\"/>\n      </g>\n     </g>\n    </g>\n    <g id=\"ytick_7\">\n     <g id=\"line2d_27\">\n      <path clip-path=\"url(#p4782418cb9)\" d=\"M 46.0125 45.778613 \nL 380.8125 45.778613 \n\" style=\"fill:none;stroke:#b0b0b0;stroke-linecap:square;stroke-width:0.8;\"/>\n     </g>\n     <g id=\"line2d_28\">\n      <g>\n       <use style=\"stroke:#000000;stroke-width:0.8;\" x=\"46.0125\" xlink:href=\"#m19f164d1ef\" y=\"45.778613\"/>\n      </g>\n     </g>\n     <g id=\"text_14\">\n      <!-- 15000 -->\n      <g transform=\"translate(7.2 49.577831)scale(0.1 -0.1)\">\n       <use xlink:href=\"#DejaVuSans-49\"/>\n       <use x=\"63.623047\" xlink:href=\"#DejaVuSans-53\"/>\n       <use x=\"127.246094\" xlink:href=\"#DejaVuSans-48\"/>\n       <use x=\"190.869141\" xlink:href=\"#DejaVuSans-48\"/>\n       <use x=\"254.492188\" xlink:href=\"#DejaVuSans-48\"/>\n      </g>\n     </g>\n    </g>\n    <g id=\"ytick_8\">\n     <g id=\"line2d_29\">\n      <path clip-path=\"url(#p4782418cb9)\" d=\"M 46.0125 15.968381 \nL 380.8125 15.968381 \n\" style=\"fill:none;stroke:#b0b0b0;stroke-linecap:square;stroke-width:0.8;\"/>\n     </g>\n     <g id=\"line2d_30\">\n      <g>\n       <use style=\"stroke:#000000;stroke-width:0.8;\" x=\"46.0125\" xlink:href=\"#m19f164d1ef\" y=\"15.968381\"/>\n      </g>\n     </g>\n     <g id=\"text_15\">\n      <!-- 17500 -->\n      <g transform=\"translate(7.2 19.7676)scale(0.1 -0.1)\">\n       <use xlink:href=\"#DejaVuSans-49\"/>\n       <use x=\"63.623047\" xlink:href=\"#DejaVuSans-55\"/>\n       <use x=\"127.246094\" xlink:href=\"#DejaVuSans-53\"/>\n       <use x=\"190.869141\" xlink:href=\"#DejaVuSans-48\"/>\n       <use x=\"254.492188\" xlink:href=\"#DejaVuSans-48\"/>\n      </g>\n     </g>\n    </g>\n   </g>\n   <g id=\"patch_13\">\n    <path d=\"M 46.0125 224.64 \nL 46.0125 7.2 \n\" style=\"fill:none;stroke:#000000;stroke-linecap:square;stroke-linejoin:miter;stroke-width:0.8;\"/>\n   </g>\n   <g id=\"patch_14\">\n    <path d=\"M 380.8125 224.64 \nL 380.8125 7.2 \n\" style=\"fill:none;stroke:#000000;stroke-linecap:square;stroke-linejoin:miter;stroke-width:0.8;\"/>\n   </g>\n   <g id=\"patch_15\">\n    <path d=\"M 46.0125 224.64 \nL 380.8125 224.64 \n\" style=\"fill:none;stroke:#000000;stroke-linecap:square;stroke-linejoin:miter;stroke-width:0.8;\"/>\n   </g>\n   <g id=\"patch_16\">\n    <path d=\"M 46.0125 7.2 \nL 380.8125 7.2 \n\" style=\"fill:none;stroke:#000000;stroke-linecap:square;stroke-linejoin:miter;stroke-width:0.8;\"/>\n   </g>\n  </g>\n </g>\n <defs>\n  <clipPath id=\"p4782418cb9\">\n   <rect height=\"217.44\" width=\"334.8\" x=\"46.0125\" y=\"7.2\"/>\n  </clipPath>\n </defs>\n</svg>\n",
      "image/png": "[encoded data removed]"
     },
     "metadata": {
      "needs_background": "light"
     }
    }
   ],
   "source": [
    "X_train['age'].hist()"
   ]
  },
  {
   "cell_type": "markdown",
   "metadata": {},
   "source": [
    "Awesome now I have a column that gives the age of the waterpump. Now I want to do the same thing for X_test"
   ]
  },
  {
   "cell_type": "code",
   "execution_count": 203,
   "metadata": {},
   "outputs": [],
   "source": [
    "for idx, row in X_test.iterrows():\n",
    "    if row['construction_year'] == 0:\n",
    "        X_test['construction_year'][idx] = med_year_per_basin[row['basin']]"
   ]
  },
  {
   "cell_type": "code",
   "execution_count": 204,
   "metadata": {},
   "outputs": [],
   "source": [
    "X_test['current_year'] = pd.datetime.now().year"
   ]
  },
  {
   "cell_type": "code",
   "execution_count": 165,
   "metadata": {},
   "outputs": [],
   "source": [
    "X_test['date_recorded'] = pd.to_datetime(X_test['date_recorded'], infer_datetime_format=True)"
   ]
  },
  {
   "cell_type": "code",
   "execution_count": 166,
   "metadata": {},
   "outputs": [],
   "source": [
    "X_test['year'] = X_test['date_recorded'].apply(lambda x: x.year)"
   ]
  },
  {
   "cell_type": "code",
   "execution_count": 205,
   "metadata": {},
   "outputs": [],
   "source": [
    "X_test['age'] = X_test['current_year'] - X_test['construction_year']"
   ]
  },
  {
   "cell_type": "markdown",
   "metadata": {},
   "source": [
    "Now I can drop construction_year and date_recorded from both X_train and X_test"
   ]
  },
  {
   "cell_type": "code",
   "execution_count": 206,
   "metadata": {},
   "outputs": [],
   "source": [
    "X_train.drop(['date_recorded', 'construction_year'], axis=1, inplace=True)\n",
    "X_test.drop(['date_recorded', 'construction_year'], axis=1, inplace=True)"
   ]
  },
  {
   "cell_type": "markdown",
   "metadata": {},
   "source": [
    "## Look at other missing values\n",
    "\n",
    "Now that I have an age column to use, I can look at the other columns that are missing data."
   ]
  },
  {
   "cell_type": "code",
   "execution_count": 169,
   "metadata": {},
   "outputs": [
    {
     "output_type": "execute_result",
     "data": {
      "text/plain": "amount_tsh                  0\ngps_height                  0\ninstaller                2889\nbasin                       0\nregion                      0\npopulation                  0\nscheme_management        3102\nextraction_type_group       0\nmanagement_group            0\npayment                     0\nwater_quality               0\nquantity                    0\nsource_type                 0\nwaterpoint_type_group       0\nyear                        0\nage                         0\ndtype: int64"
     },
     "metadata": {},
     "execution_count": 169
    }
   ],
   "source": [
    "X_train.isna().sum()"
   ]
  },
  {
   "cell_type": "markdown",
   "metadata": {},
   "source": [
    "For now, I am just going to impute these missing values with the most_frequent. In the future I may go back and do something similar to what I did with construction_year"
   ]
  },
  {
   "cell_type": "code",
   "execution_count": 207,
   "metadata": {},
   "outputs": [],
   "source": [
    "X_train.drop('scheme_management', axis=1, inplace=True)\n",
    "X_test.drop('scheme_management', axis=1, inplace=True)"
   ]
  },
  {
   "cell_type": "markdown",
   "metadata": {},
   "source": [
    "I dropped scheme_management because is is practically the same as management_group and I just forgot to do that before. I also need to drop year as that is not relevant any longer"
   ]
  },
  {
   "cell_type": "code",
   "execution_count": 209,
   "metadata": {},
   "outputs": [],
   "source": [
    "X_train.drop('current_year', axis=1, inplace=True)\n",
    "X_test.drop('current_year', axis=1, inplace=True)"
   ]
  },
  {
   "cell_type": "code",
   "execution_count": 210,
   "metadata": {},
   "outputs": [],
   "source": [
    "# instantiate SimpleImputer  with strategy='most_frequent'\n",
    "impute = SimpleImputer(strategy='most_frequent')"
   ]
  },
  {
   "cell_type": "code",
   "execution_count": 211,
   "metadata": {},
   "outputs": [],
   "source": [
    "X_train_formatted = X_train.copy()"
   ]
  },
  {
   "cell_type": "code",
   "execution_count": 212,
   "metadata": {},
   "outputs": [],
   "source": [
    "X_train_formatted['installer'] = impute.fit_transform(np.array(X_train_formatted['installer']).reshape(-1, 1))"
   ]
  },
  {
   "cell_type": "code",
   "execution_count": 213,
   "metadata": {},
   "outputs": [],
   "source": [
    "X_test_formatted = X_test.copy()"
   ]
  },
  {
   "cell_type": "code",
   "execution_count": 257,
   "metadata": {},
   "outputs": [],
   "source": [
    "X_test_formatted['installer'] = impute.transform(np.array(X_test_formatted['installer']).reshape(-1, 1))"
   ]
  },
  {
   "cell_type": "markdown",
   "metadata": {},
   "source": [
    "And finally before I can scale the data and move onto model creation I want to group together some of the values in 'installer'. There are about 2000 different values in installer, way too many to OHE. So I will group all the values not in the top ten into installer_other"
   ]
  },
  {
   "cell_type": "code",
   "execution_count": 281,
   "metadata": {},
   "outputs": [],
   "source": [
    "X_train_formatted['installer'] = mcf.summarize_variable(X_train_formatted, 'installer', 11)\n",
    "X_test_formatted['installer'] = mcf.summarize_variable(X_test_formatted, 'installer', 11)"
   ]
  },
  {
   "cell_type": "code",
   "execution_count": 301,
   "metadata": {},
   "outputs": [
    {
     "output_type": "execute_result",
     "data": {
      "text/plain": "installer_other    5853\nDWE                4224\nGovernment          403\nRWE                 234\nDANIDA              215\nCommu               210\nKKKT                166\nHesawa              158\n0                   144\nTCRS                137\nCES                 136\nName: installer, dtype: int64"
     },
     "metadata": {},
     "execution_count": 301
    }
   ],
   "source": [
    "X_test_formatted['installer'].value_counts()"
   ]
  },
  {
   "cell_type": "markdown",
   "metadata": {},
   "source": [
    "## Scale data\n",
    "\n",
    "I can now scale the numerical data with StandardScaler and encode the categorical data with OHE."
   ]
  },
  {
   "cell_type": "code",
   "execution_count": 319,
   "metadata": {},
   "outputs": [],
   "source": [
    "X_train_formatted.drop('installer', axis=1, inplace=True)\n",
    "X_test_formatted.drop('installer', axis=1, inplace=True)"
   ]
  },
  {
   "cell_type": "code",
   "execution_count": 320,
   "metadata": {},
   "outputs": [],
   "source": [
    "# instantiate StandardScaler and OHE\n",
    "scaler = StandardScaler()\n",
    "ohe = OneHotEncoder()"
   ]
  },
  {
   "cell_type": "code",
   "execution_count": 321,
   "metadata": {
    "tags": []
   },
   "outputs": [
    {
     "output_type": "stream",
     "name": "stdout",
     "text": "<class 'pandas.core.frame.DataFrame'>\nInt64Index: 47520 entries, 3607 to 56422\nData columns (total 13 columns):\namount_tsh               47520 non-null float64\ngps_height               47520 non-null float64\nbasin                    47520 non-null object\nregion                   47520 non-null object\npopulation               47520 non-null float64\nextraction_type_group    47520 non-null object\nmanagement_group         47520 non-null object\npayment                  47520 non-null object\nwater_quality            47520 non-null object\nquantity                 47520 non-null object\nsource_type              47520 non-null object\nwaterpoint_type_group    47520 non-null object\nage                      47520 non-null float64\ndtypes: float64(4), object(9)\nmemory usage: 6.3+ MB\n"
    }
   ],
   "source": [
    "X_train_formatted.info()"
   ]
  },
  {
   "cell_type": "code",
   "execution_count": 322,
   "metadata": {},
   "outputs": [],
   "source": [
    "num_vars = ['amount_tsh', 'gps_height', 'population', 'age']\n",
    "cat_vars = ['basin', 'region', 'extraction_type_group', 'management_group',\n",
    "            'payment', 'water_quality', 'quantity', 'source_type', 'waterpoint_type_group']"
   ]
  },
  {
   "cell_type": "code",
   "execution_count": 323,
   "metadata": {},
   "outputs": [],
   "source": [
    "# scale numerical train and test data\n",
    "X_train_formatted[num_vars] = scaler.fit_transform(X_train_formatted[num_vars])\n",
    "X_test_formatted[num_vars] = scaler.transform(X_test_formatted[num_vars])"
   ]
  },
  {
   "cell_type": "code",
   "execution_count": 324,
   "metadata": {},
   "outputs": [],
   "source": [
    "# OHE categorical train and test data\n",
    "e_train = ohe.fit_transform(X_train_formatted[cat_vars])\n",
    "e_train_df = pd.DataFrame(e_train.todense(), index=X_train_formatted[cat_vars].index, columns=ohe.get_feature_names())\n",
    "e_test = ohe.transform(X_test_formatted[cat_vars])\n",
    "e_test_df = pd.DataFrame(e_test.todense(), index=X_test_formatted[cat_vars].index, columns=ohe.get_feature_names())"
   ]
  },
  {
   "cell_type": "code",
   "execution_count": 325,
   "metadata": {},
   "outputs": [],
   "source": [
    "X_train_f = X_train_formatted.drop(cat_vars, axis=1)\n",
    "X_test_f = X_test_formatted.drop(cat_vars, axis=1)"
   ]
  },
  {
   "cell_type": "code",
   "execution_count": 326,
   "metadata": {},
   "outputs": [],
   "source": [
    "X_train_f = pd.concat([X_train_f, e_train_df], axis=1)\n",
    "X_test_f = pd.concat([X_test_f, e_test_df], axis=1)"
   ]
  },
  {
   "cell_type": "code",
   "execution_count": 327,
   "metadata": {
    "tags": []
   },
   "outputs": [
    {
     "output_type": "stream",
     "name": "stdout",
     "text": "<class 'pandas.core.frame.DataFrame'>\nInt64Index: 47520 entries, 3607 to 56422\nData columns (total 85 columns):\namount_tsh                    47520 non-null float64\ngps_height                    47520 non-null float64\npopulation                    47520 non-null float64\nage                           47520 non-null float64\nx0_Internal                   47520 non-null float64\nx0_Lake Nyasa                 47520 non-null float64\nx0_Lake Rukwa                 47520 non-null float64\nx0_Lake Tanganyika            47520 non-null float64\nx0_Lake Victoria              47520 non-null float64\nx0_Pangani                    47520 non-null float64\nx0_Rufiji                     47520 non-null float64\nx0_Ruvuma / Southern Coast    47520 non-null float64\nx0_Wami / Ruvu                47520 non-null float64\nx1_Arusha                     47520 non-null float64\nx1_Dar es Salaam              47520 non-null float64\nx1_Dodoma                     47520 non-null float64\nx1_Iringa                     47520 non-null float64\nx1_Kagera                     47520 non-null float64\nx1_Kigoma                     47520 non-null float64\nx1_Kilimanjaro                47520 non-null float64\nx1_Lindi                      47520 non-null float64\nx1_Manyara                    47520 non-null float64\nx1_Mara                       47520 non-null float64\nx1_Mbeya                      47520 non-null float64\nx1_Morogoro                   47520 non-null float64\nx1_Mtwara                     47520 non-null float64\nx1_Mwanza                     47520 non-null float64\nx1_Pwani                      47520 non-null float64\nx1_Rukwa                      47520 non-null float64\nx1_Ruvuma                     47520 non-null float64\nx1_Shinyanga                  47520 non-null float64\nx1_Singida                    47520 non-null float64\nx1_Tabora                     47520 non-null float64\nx1_Tanga                      47520 non-null float64\nx2_afridev                    47520 non-null float64\nx2_gravity                    47520 non-null float64\nx2_india mark ii              47520 non-null float64\nx2_india mark iii             47520 non-null float64\nx2_mono                       47520 non-null float64\nx2_nira/tanira                47520 non-null float64\nx2_other                      47520 non-null float64\nx2_other handpump             47520 non-null float64\nx2_other motorpump            47520 non-null float64\nx2_rope pump                  47520 non-null float64\nx2_submersible                47520 non-null float64\nx2_swn 80                     47520 non-null float64\nx2_wind-powered               47520 non-null float64\nx3_commercial                 47520 non-null float64\nx3_other                      47520 non-null float64\nx3_parastatal                 47520 non-null float64\nx3_unknown                    47520 non-null float64\nx3_user-group                 47520 non-null float64\nx4_never pay                  47520 non-null float64\nx4_other                      47520 non-null float64\nx4_pay annually               47520 non-null float64\nx4_pay monthly                47520 non-null float64\nx4_pay per bucket             47520 non-null float64\nx4_pay when scheme fails      47520 non-null float64\nx4_unknown                    47520 non-null float64\nx5_coloured                   47520 non-null float64\nx5_fluoride                   47520 non-null float64\nx5_fluoride abandoned         47520 non-null float64\nx5_milky                      47520 non-null float64\nx5_salty                      47520 non-null float64\nx5_salty abandoned            47520 non-null float64\nx5_soft                       47520 non-null float64\nx5_unknown                    47520 non-null float64\nx6_dry                        47520 non-null float64\nx6_enough                     47520 non-null float64\nx6_insufficient               47520 non-null float64\nx6_seasonal                   47520 non-null float64\nx6_unknown                    47520 non-null float64\nx7_borehole                   47520 non-null float64\nx7_dam                        47520 non-null float64\nx7_other                      47520 non-null float64\nx7_rainwater harvesting       47520 non-null float64\nx7_river/lake                 47520 non-null float64\nx7_shallow well               47520 non-null float64\nx7_spring                     47520 non-null float64\nx8_cattle trough              47520 non-null float64\nx8_communal standpipe         47520 non-null float64\nx8_dam                        47520 non-null float64\nx8_hand pump                  47520 non-null float64\nx8_improved spring            47520 non-null float64\nx8_other                      47520 non-null float64\ndtypes: float64(85)\nmemory usage: 32.4 MB\n"
    }
   ],
   "source": [
    "X_train_f.info()"
   ]
  },
  {
   "cell_type": "code",
   "execution_count": 328,
   "metadata": {
    "tags": []
   },
   "outputs": [
    {
     "output_type": "stream",
     "name": "stdout",
     "text": "<class 'pandas.core.frame.DataFrame'>\nInt64Index: 11880 entries, 2980 to 41264\nData columns (total 85 columns):\namount_tsh                    11880 non-null float64\ngps_height                    11880 non-null float64\npopulation                    11880 non-null float64\nage                           11880 non-null float64\nx0_Internal                   11880 non-null float64\nx0_Lake Nyasa                 11880 non-null float64\nx0_Lake Rukwa                 11880 non-null float64\nx0_Lake Tanganyika            11880 non-null float64\nx0_Lake Victoria              11880 non-null float64\nx0_Pangani                    11880 non-null float64\nx0_Rufiji                     11880 non-null float64\nx0_Ruvuma / Southern Coast    11880 non-null float64\nx0_Wami / Ruvu                11880 non-null float64\nx1_Arusha                     11880 non-null float64\nx1_Dar es Salaam              11880 non-null float64\nx1_Dodoma                     11880 non-null float64\nx1_Iringa                     11880 non-null float64\nx1_Kagera                     11880 non-null float64\nx1_Kigoma                     11880 non-null float64\nx1_Kilimanjaro                11880 non-null float64\nx1_Lindi                      11880 non-null float64\nx1_Manyara                    11880 non-null float64\nx1_Mara                       11880 non-null float64\nx1_Mbeya                      11880 non-null float64\nx1_Morogoro                   11880 non-null float64\nx1_Mtwara                     11880 non-null float64\nx1_Mwanza                     11880 non-null float64\nx1_Pwani                      11880 non-null float64\nx1_Rukwa                      11880 non-null float64\nx1_Ruvuma                     11880 non-null float64\nx1_Shinyanga                  11880 non-null float64\nx1_Singida                    11880 non-null float64\nx1_Tabora                     11880 non-null float64\nx1_Tanga                      11880 non-null float64\nx2_afridev                    11880 non-null float64\nx2_gravity                    11880 non-null float64\nx2_india mark ii              11880 non-null float64\nx2_india mark iii             11880 non-null float64\nx2_mono                       11880 non-null float64\nx2_nira/tanira                11880 non-null float64\nx2_other                      11880 non-null float64\nx2_other handpump             11880 non-null float64\nx2_other motorpump            11880 non-null float64\nx2_rope pump                  11880 non-null float64\nx2_submersible                11880 non-null float64\nx2_swn 80                     11880 non-null float64\nx2_wind-powered               11880 non-null float64\nx3_commercial                 11880 non-null float64\nx3_other                      11880 non-null float64\nx3_parastatal                 11880 non-null float64\nx3_unknown                    11880 non-null float64\nx3_user-group                 11880 non-null float64\nx4_never pay                  11880 non-null float64\nx4_other                      11880 non-null float64\nx4_pay annually               11880 non-null float64\nx4_pay monthly                11880 non-null float64\nx4_pay per bucket             11880 non-null float64\nx4_pay when scheme fails      11880 non-null float64\nx4_unknown                    11880 non-null float64\nx5_coloured                   11880 non-null float64\nx5_fluoride                   11880 non-null float64\nx5_fluoride abandoned         11880 non-null float64\nx5_milky                      11880 non-null float64\nx5_salty                      11880 non-null float64\nx5_salty abandoned            11880 non-null float64\nx5_soft                       11880 non-null float64\nx5_unknown                    11880 non-null float64\nx6_dry                        11880 non-null float64\nx6_enough                     11880 non-null float64\nx6_insufficient               11880 non-null float64\nx6_seasonal                   11880 non-null float64\nx6_unknown                    11880 non-null float64\nx7_borehole                   11880 non-null float64\nx7_dam                        11880 non-null float64\nx7_other                      11880 non-null float64\nx7_rainwater harvesting       11880 non-null float64\nx7_river/lake                 11880 non-null float64\nx7_shallow well               11880 non-null float64\nx7_spring                     11880 non-null float64\nx8_cattle trough              11880 non-null float64\nx8_communal standpipe         11880 non-null float64\nx8_dam                        11880 non-null float64\nx8_hand pump                  11880 non-null float64\nx8_improved spring            11880 non-null float64\nx8_other                      11880 non-null float64\ndtypes: float64(85)\nmemory usage: 8.1 MB\n"
    }
   ],
   "source": [
    "X_test_f.info()"
   ]
  },
  {
   "cell_type": "code",
   "execution_count": 329,
   "metadata": {},
   "outputs": [
    {
     "output_type": "execute_result",
     "data": {
      "text/plain": "       amount_tsh  gps_height  ...  x8_improved spring  x8_other\n3607    -0.084999    2.053863  ...                 0.0       0.0\n50870   -0.100621   -0.965049  ...                 0.0       0.0\n20413   -0.100621   -0.965049  ...                 0.0       1.0\n52806   -0.100621   -0.965049  ...                 0.0       0.0\n50091   -0.006889    0.511216  ...                 0.0       1.0\n\n[5 rows x 85 columns]",
      "text/html": "<div>\n<style scoped>\n    .dataframe tbody tr th:only-of-type {\n        vertical-align: middle;\n    }\n\n    .dataframe tbody tr th {\n        vertical-align: top;\n    }\n\n    .dataframe thead th {\n        text-align: right;\n    }\n</style>\n<table border=\"1\" class=\"dataframe\">\n  <thead>\n    <tr style=\"text-align: right;\">\n      <th></th>\n      <th>amount_tsh</th>\n      <th>gps_height</th>\n      <th>population</th>\n      <th>age</th>\n      <th>x0_Internal</th>\n      <th>x0_Lake Nyasa</th>\n      <th>x0_Lake Rukwa</th>\n      <th>x0_Lake Tanganyika</th>\n      <th>x0_Lake Victoria</th>\n      <th>x0_Pangani</th>\n      <th>x0_Rufiji</th>\n      <th>x0_Ruvuma / Southern Coast</th>\n      <th>x0_Wami / Ruvu</th>\n      <th>x1_Arusha</th>\n      <th>x1_Dar es Salaam</th>\n      <th>x1_Dodoma</th>\n      <th>x1_Iringa</th>\n      <th>x1_Kagera</th>\n      <th>x1_Kigoma</th>\n      <th>x1_Kilimanjaro</th>\n      <th>x1_Lindi</th>\n      <th>x1_Manyara</th>\n      <th>x1_Mara</th>\n      <th>x1_Mbeya</th>\n      <th>x1_Morogoro</th>\n      <th>x1_Mtwara</th>\n      <th>x1_Mwanza</th>\n      <th>x1_Pwani</th>\n      <th>x1_Rukwa</th>\n      <th>x1_Ruvuma</th>\n      <th>x1_Shinyanga</th>\n      <th>x1_Singida</th>\n      <th>x1_Tabora</th>\n      <th>x1_Tanga</th>\n      <th>x2_afridev</th>\n      <th>x2_gravity</th>\n      <th>x2_india mark ii</th>\n      <th>x2_india mark iii</th>\n      <th>x2_mono</th>\n      <th>x2_nira/tanira</th>\n      <th>...</th>\n      <th>x2_swn 80</th>\n      <th>x2_wind-powered</th>\n      <th>x3_commercial</th>\n      <th>x3_other</th>\n      <th>x3_parastatal</th>\n      <th>x3_unknown</th>\n      <th>x3_user-group</th>\n      <th>x4_never pay</th>\n      <th>x4_other</th>\n      <th>x4_pay annually</th>\n      <th>x4_pay monthly</th>\n      <th>x4_pay per bucket</th>\n      <th>x4_pay when scheme fails</th>\n      <th>x4_unknown</th>\n      <th>x5_coloured</th>\n      <th>x5_fluoride</th>\n      <th>x5_fluoride abandoned</th>\n      <th>x5_milky</th>\n      <th>x5_salty</th>\n      <th>x5_salty abandoned</th>\n      <th>x5_soft</th>\n      <th>x5_unknown</th>\n      <th>x6_dry</th>\n      <th>x6_enough</th>\n      <th>x6_insufficient</th>\n      <th>x6_seasonal</th>\n      <th>x6_unknown</th>\n      <th>x7_borehole</th>\n      <th>x7_dam</th>\n      <th>x7_other</th>\n      <th>x7_rainwater harvesting</th>\n      <th>x7_river/lake</th>\n      <th>x7_shallow well</th>\n      <th>x7_spring</th>\n      <th>x8_cattle trough</th>\n      <th>x8_communal standpipe</th>\n      <th>x8_dam</th>\n      <th>x8_hand pump</th>\n      <th>x8_improved spring</th>\n      <th>x8_other</th>\n    </tr>\n  </thead>\n  <tbody>\n    <tr>\n      <td>3607</td>\n      <td>-0.084999</td>\n      <td>2.053863</td>\n      <td>-0.041306</td>\n      <td>-0.057075</td>\n      <td>1.0</td>\n      <td>0.0</td>\n      <td>0.0</td>\n      <td>0.0</td>\n      <td>0.0</td>\n      <td>0.0</td>\n      <td>0.0</td>\n      <td>0.0</td>\n      <td>0.0</td>\n      <td>0.0</td>\n      <td>0.0</td>\n      <td>0.0</td>\n      <td>0.0</td>\n      <td>0.0</td>\n      <td>0.0</td>\n      <td>0.0</td>\n      <td>0.0</td>\n      <td>1.0</td>\n      <td>0.0</td>\n      <td>0.0</td>\n      <td>0.0</td>\n      <td>0.0</td>\n      <td>0.0</td>\n      <td>0.0</td>\n      <td>0.0</td>\n      <td>0.0</td>\n      <td>0.0</td>\n      <td>0.0</td>\n      <td>0.0</td>\n      <td>0.0</td>\n      <td>0.0</td>\n      <td>1.0</td>\n      <td>0.0</td>\n      <td>0.0</td>\n      <td>0.0</td>\n      <td>0.0</td>\n      <td>...</td>\n      <td>0.0</td>\n      <td>0.0</td>\n      <td>0.0</td>\n      <td>0.0</td>\n      <td>0.0</td>\n      <td>0.0</td>\n      <td>1.0</td>\n      <td>0.0</td>\n      <td>0.0</td>\n      <td>0.0</td>\n      <td>0.0</td>\n      <td>1.0</td>\n      <td>0.0</td>\n      <td>0.0</td>\n      <td>0.0</td>\n      <td>0.0</td>\n      <td>0.0</td>\n      <td>0.0</td>\n      <td>0.0</td>\n      <td>0.0</td>\n      <td>1.0</td>\n      <td>0.0</td>\n      <td>0.0</td>\n      <td>0.0</td>\n      <td>1.0</td>\n      <td>0.0</td>\n      <td>0.0</td>\n      <td>0.0</td>\n      <td>0.0</td>\n      <td>0.0</td>\n      <td>0.0</td>\n      <td>0.0</td>\n      <td>0.0</td>\n      <td>1.0</td>\n      <td>0.0</td>\n      <td>1.0</td>\n      <td>0.0</td>\n      <td>0.0</td>\n      <td>0.0</td>\n      <td>0.0</td>\n    </tr>\n    <tr>\n      <td>50870</td>\n      <td>-0.100621</td>\n      <td>-0.965049</td>\n      <td>-0.379739</td>\n      <td>-0.445449</td>\n      <td>1.0</td>\n      <td>0.0</td>\n      <td>0.0</td>\n      <td>0.0</td>\n      <td>0.0</td>\n      <td>0.0</td>\n      <td>0.0</td>\n      <td>0.0</td>\n      <td>0.0</td>\n      <td>0.0</td>\n      <td>0.0</td>\n      <td>1.0</td>\n      <td>0.0</td>\n      <td>0.0</td>\n      <td>0.0</td>\n      <td>0.0</td>\n      <td>0.0</td>\n      <td>0.0</td>\n      <td>0.0</td>\n      <td>0.0</td>\n      <td>0.0</td>\n      <td>0.0</td>\n      <td>0.0</td>\n      <td>0.0</td>\n      <td>0.0</td>\n      <td>0.0</td>\n      <td>0.0</td>\n      <td>0.0</td>\n      <td>0.0</td>\n      <td>0.0</td>\n      <td>0.0</td>\n      <td>0.0</td>\n      <td>1.0</td>\n      <td>0.0</td>\n      <td>0.0</td>\n      <td>0.0</td>\n      <td>...</td>\n      <td>0.0</td>\n      <td>0.0</td>\n      <td>0.0</td>\n      <td>0.0</td>\n      <td>0.0</td>\n      <td>0.0</td>\n      <td>1.0</td>\n      <td>1.0</td>\n      <td>0.0</td>\n      <td>0.0</td>\n      <td>0.0</td>\n      <td>0.0</td>\n      <td>0.0</td>\n      <td>0.0</td>\n      <td>0.0</td>\n      <td>0.0</td>\n      <td>0.0</td>\n      <td>0.0</td>\n      <td>0.0</td>\n      <td>0.0</td>\n      <td>1.0</td>\n      <td>0.0</td>\n      <td>0.0</td>\n      <td>1.0</td>\n      <td>0.0</td>\n      <td>0.0</td>\n      <td>0.0</td>\n      <td>0.0</td>\n      <td>0.0</td>\n      <td>0.0</td>\n      <td>0.0</td>\n      <td>0.0</td>\n      <td>1.0</td>\n      <td>0.0</td>\n      <td>0.0</td>\n      <td>0.0</td>\n      <td>0.0</td>\n      <td>1.0</td>\n      <td>0.0</td>\n      <td>0.0</td>\n    </tr>\n    <tr>\n      <td>20413</td>\n      <td>-0.100621</td>\n      <td>-0.965049</td>\n      <td>-0.379739</td>\n      <td>0.816767</td>\n      <td>0.0</td>\n      <td>0.0</td>\n      <td>1.0</td>\n      <td>0.0</td>\n      <td>0.0</td>\n      <td>0.0</td>\n      <td>0.0</td>\n      <td>0.0</td>\n      <td>0.0</td>\n      <td>0.0</td>\n      <td>0.0</td>\n      <td>0.0</td>\n      <td>0.0</td>\n      <td>0.0</td>\n      <td>0.0</td>\n      <td>0.0</td>\n      <td>0.0</td>\n      <td>0.0</td>\n      <td>0.0</td>\n      <td>1.0</td>\n      <td>0.0</td>\n      <td>0.0</td>\n      <td>0.0</td>\n      <td>0.0</td>\n      <td>0.0</td>\n      <td>0.0</td>\n      <td>0.0</td>\n      <td>0.0</td>\n      <td>0.0</td>\n      <td>0.0</td>\n      <td>0.0</td>\n      <td>0.0</td>\n      <td>0.0</td>\n      <td>0.0</td>\n      <td>0.0</td>\n      <td>0.0</td>\n      <td>...</td>\n      <td>0.0</td>\n      <td>0.0</td>\n      <td>0.0</td>\n      <td>0.0</td>\n      <td>0.0</td>\n      <td>0.0</td>\n      <td>1.0</td>\n      <td>1.0</td>\n      <td>0.0</td>\n      <td>0.0</td>\n      <td>0.0</td>\n      <td>0.0</td>\n      <td>0.0</td>\n      <td>0.0</td>\n      <td>0.0</td>\n      <td>0.0</td>\n      <td>0.0</td>\n      <td>0.0</td>\n      <td>0.0</td>\n      <td>0.0</td>\n      <td>1.0</td>\n      <td>0.0</td>\n      <td>0.0</td>\n      <td>1.0</td>\n      <td>0.0</td>\n      <td>0.0</td>\n      <td>0.0</td>\n      <td>0.0</td>\n      <td>0.0</td>\n      <td>0.0</td>\n      <td>0.0</td>\n      <td>0.0</td>\n      <td>1.0</td>\n      <td>0.0</td>\n      <td>0.0</td>\n      <td>0.0</td>\n      <td>0.0</td>\n      <td>0.0</td>\n      <td>0.0</td>\n      <td>1.0</td>\n    </tr>\n    <tr>\n      <td>52806</td>\n      <td>-0.100621</td>\n      <td>-0.965049</td>\n      <td>-0.379739</td>\n      <td>-0.251262</td>\n      <td>0.0</td>\n      <td>0.0</td>\n      <td>0.0</td>\n      <td>0.0</td>\n      <td>0.0</td>\n      <td>0.0</td>\n      <td>1.0</td>\n      <td>0.0</td>\n      <td>0.0</td>\n      <td>0.0</td>\n      <td>0.0</td>\n      <td>0.0</td>\n      <td>0.0</td>\n      <td>0.0</td>\n      <td>0.0</td>\n      <td>0.0</td>\n      <td>0.0</td>\n      <td>0.0</td>\n      <td>0.0</td>\n      <td>1.0</td>\n      <td>0.0</td>\n      <td>0.0</td>\n      <td>0.0</td>\n      <td>0.0</td>\n      <td>0.0</td>\n      <td>0.0</td>\n      <td>0.0</td>\n      <td>0.0</td>\n      <td>0.0</td>\n      <td>0.0</td>\n      <td>0.0</td>\n      <td>1.0</td>\n      <td>0.0</td>\n      <td>0.0</td>\n      <td>0.0</td>\n      <td>0.0</td>\n      <td>...</td>\n      <td>0.0</td>\n      <td>0.0</td>\n      <td>0.0</td>\n      <td>0.0</td>\n      <td>0.0</td>\n      <td>0.0</td>\n      <td>1.0</td>\n      <td>0.0</td>\n      <td>0.0</td>\n      <td>0.0</td>\n      <td>1.0</td>\n      <td>0.0</td>\n      <td>0.0</td>\n      <td>0.0</td>\n      <td>0.0</td>\n      <td>0.0</td>\n      <td>0.0</td>\n      <td>0.0</td>\n      <td>0.0</td>\n      <td>0.0</td>\n      <td>1.0</td>\n      <td>0.0</td>\n      <td>0.0</td>\n      <td>0.0</td>\n      <td>1.0</td>\n      <td>0.0</td>\n      <td>0.0</td>\n      <td>0.0</td>\n      <td>0.0</td>\n      <td>0.0</td>\n      <td>0.0</td>\n      <td>1.0</td>\n      <td>0.0</td>\n      <td>0.0</td>\n      <td>0.0</td>\n      <td>1.0</td>\n      <td>0.0</td>\n      <td>0.0</td>\n      <td>0.0</td>\n      <td>0.0</td>\n    </tr>\n    <tr>\n      <td>50091</td>\n      <td>-0.006889</td>\n      <td>0.511216</td>\n      <td>-0.125914</td>\n      <td>0.040018</td>\n      <td>0.0</td>\n      <td>0.0</td>\n      <td>0.0</td>\n      <td>0.0</td>\n      <td>0.0</td>\n      <td>0.0</td>\n      <td>0.0</td>\n      <td>0.0</td>\n      <td>1.0</td>\n      <td>0.0</td>\n      <td>0.0</td>\n      <td>0.0</td>\n      <td>0.0</td>\n      <td>0.0</td>\n      <td>0.0</td>\n      <td>0.0</td>\n      <td>0.0</td>\n      <td>0.0</td>\n      <td>0.0</td>\n      <td>0.0</td>\n      <td>1.0</td>\n      <td>0.0</td>\n      <td>0.0</td>\n      <td>0.0</td>\n      <td>0.0</td>\n      <td>0.0</td>\n      <td>0.0</td>\n      <td>0.0</td>\n      <td>0.0</td>\n      <td>0.0</td>\n      <td>0.0</td>\n      <td>0.0</td>\n      <td>0.0</td>\n      <td>0.0</td>\n      <td>0.0</td>\n      <td>0.0</td>\n      <td>...</td>\n      <td>0.0</td>\n      <td>0.0</td>\n      <td>0.0</td>\n      <td>0.0</td>\n      <td>0.0</td>\n      <td>0.0</td>\n      <td>1.0</td>\n      <td>0.0</td>\n      <td>0.0</td>\n      <td>0.0</td>\n      <td>0.0</td>\n      <td>0.0</td>\n      <td>1.0</td>\n      <td>0.0</td>\n      <td>0.0</td>\n      <td>0.0</td>\n      <td>0.0</td>\n      <td>0.0</td>\n      <td>1.0</td>\n      <td>0.0</td>\n      <td>0.0</td>\n      <td>0.0</td>\n      <td>0.0</td>\n      <td>1.0</td>\n      <td>0.0</td>\n      <td>0.0</td>\n      <td>0.0</td>\n      <td>0.0</td>\n      <td>0.0</td>\n      <td>0.0</td>\n      <td>0.0</td>\n      <td>0.0</td>\n      <td>1.0</td>\n      <td>0.0</td>\n      <td>0.0</td>\n      <td>0.0</td>\n      <td>0.0</td>\n      <td>0.0</td>\n      <td>0.0</td>\n      <td>1.0</td>\n    </tr>\n  </tbody>\n</table>\n<p>5 rows × 85 columns</p>\n</div>"
     },
     "metadata": {},
     "execution_count": 329
    }
   ],
   "source": [
    "X_train_f.head()"
   ]
  },
  {
   "cell_type": "code",
   "execution_count": 330,
   "metadata": {},
   "outputs": [
    {
     "output_type": "execute_result",
     "data": {
      "text/plain": "       amount_tsh  gps_height  ...  x8_improved spring  x8_other\n2980    -0.100621   -0.965049  ...                 0.0       1.0\n5246    -0.100621   -0.965049  ...                 0.0       0.0\n22659   -0.097497    1.452101  ...                 0.0       0.0\n39888   -0.100621   -0.965049  ...                 0.0       0.0\n13361   -0.084999    0.635320  ...                 0.0       0.0\n\n[5 rows x 85 columns]",
      "text/html": "<div>\n<style scoped>\n    .dataframe tbody tr th:only-of-type {\n        vertical-align: middle;\n    }\n\n    .dataframe tbody tr th {\n        vertical-align: top;\n    }\n\n    .dataframe thead th {\n        text-align: right;\n    }\n</style>\n<table border=\"1\" class=\"dataframe\">\n  <thead>\n    <tr style=\"text-align: right;\">\n      <th></th>\n      <th>amount_tsh</th>\n      <th>gps_height</th>\n      <th>population</th>\n      <th>age</th>\n      <th>x0_Internal</th>\n      <th>x0_Lake Nyasa</th>\n      <th>x0_Lake Rukwa</th>\n      <th>x0_Lake Tanganyika</th>\n      <th>x0_Lake Victoria</th>\n      <th>x0_Pangani</th>\n      <th>x0_Rufiji</th>\n      <th>x0_Ruvuma / Southern Coast</th>\n      <th>x0_Wami / Ruvu</th>\n      <th>x1_Arusha</th>\n      <th>x1_Dar es Salaam</th>\n      <th>x1_Dodoma</th>\n      <th>x1_Iringa</th>\n      <th>x1_Kagera</th>\n      <th>x1_Kigoma</th>\n      <th>x1_Kilimanjaro</th>\n      <th>x1_Lindi</th>\n      <th>x1_Manyara</th>\n      <th>x1_Mara</th>\n      <th>x1_Mbeya</th>\n      <th>x1_Morogoro</th>\n      <th>x1_Mtwara</th>\n      <th>x1_Mwanza</th>\n      <th>x1_Pwani</th>\n      <th>x1_Rukwa</th>\n      <th>x1_Ruvuma</th>\n      <th>x1_Shinyanga</th>\n      <th>x1_Singida</th>\n      <th>x1_Tabora</th>\n      <th>x1_Tanga</th>\n      <th>x2_afridev</th>\n      <th>x2_gravity</th>\n      <th>x2_india mark ii</th>\n      <th>x2_india mark iii</th>\n      <th>x2_mono</th>\n      <th>x2_nira/tanira</th>\n      <th>...</th>\n      <th>x2_swn 80</th>\n      <th>x2_wind-powered</th>\n      <th>x3_commercial</th>\n      <th>x3_other</th>\n      <th>x3_parastatal</th>\n      <th>x3_unknown</th>\n      <th>x3_user-group</th>\n      <th>x4_never pay</th>\n      <th>x4_other</th>\n      <th>x4_pay annually</th>\n      <th>x4_pay monthly</th>\n      <th>x4_pay per bucket</th>\n      <th>x4_pay when scheme fails</th>\n      <th>x4_unknown</th>\n      <th>x5_coloured</th>\n      <th>x5_fluoride</th>\n      <th>x5_fluoride abandoned</th>\n      <th>x5_milky</th>\n      <th>x5_salty</th>\n      <th>x5_salty abandoned</th>\n      <th>x5_soft</th>\n      <th>x5_unknown</th>\n      <th>x6_dry</th>\n      <th>x6_enough</th>\n      <th>x6_insufficient</th>\n      <th>x6_seasonal</th>\n      <th>x6_unknown</th>\n      <th>x7_borehole</th>\n      <th>x7_dam</th>\n      <th>x7_other</th>\n      <th>x7_rainwater harvesting</th>\n      <th>x7_river/lake</th>\n      <th>x7_shallow well</th>\n      <th>x7_spring</th>\n      <th>x8_cattle trough</th>\n      <th>x8_communal standpipe</th>\n      <th>x8_dam</th>\n      <th>x8_hand pump</th>\n      <th>x8_improved spring</th>\n      <th>x8_other</th>\n    </tr>\n  </thead>\n  <tbody>\n    <tr>\n      <td>2980</td>\n      <td>-0.100621</td>\n      <td>-0.965049</td>\n      <td>-0.379739</td>\n      <td>0.040018</td>\n      <td>0.0</td>\n      <td>0.0</td>\n      <td>0.0</td>\n      <td>1.0</td>\n      <td>0.0</td>\n      <td>0.0</td>\n      <td>0.0</td>\n      <td>0.0</td>\n      <td>0.0</td>\n      <td>0.0</td>\n      <td>0.0</td>\n      <td>0.0</td>\n      <td>0.0</td>\n      <td>0.0</td>\n      <td>0.0</td>\n      <td>0.0</td>\n      <td>0.0</td>\n      <td>0.0</td>\n      <td>0.0</td>\n      <td>0.0</td>\n      <td>0.0</td>\n      <td>0.0</td>\n      <td>0.0</td>\n      <td>0.0</td>\n      <td>0.0</td>\n      <td>0.0</td>\n      <td>1.0</td>\n      <td>0.0</td>\n      <td>0.0</td>\n      <td>0.0</td>\n      <td>0.0</td>\n      <td>0.0</td>\n      <td>0.0</td>\n      <td>0.0</td>\n      <td>0.0</td>\n      <td>0.0</td>\n      <td>...</td>\n      <td>0.0</td>\n      <td>0.0</td>\n      <td>0.0</td>\n      <td>0.0</td>\n      <td>0.0</td>\n      <td>0.0</td>\n      <td>1.0</td>\n      <td>0.0</td>\n      <td>0.0</td>\n      <td>0.0</td>\n      <td>0.0</td>\n      <td>0.0</td>\n      <td>0.0</td>\n      <td>1.0</td>\n      <td>0.0</td>\n      <td>0.0</td>\n      <td>0.0</td>\n      <td>0.0</td>\n      <td>0.0</td>\n      <td>0.0</td>\n      <td>1.0</td>\n      <td>0.0</td>\n      <td>1.0</td>\n      <td>0.0</td>\n      <td>0.0</td>\n      <td>0.0</td>\n      <td>0.0</td>\n      <td>0.0</td>\n      <td>0.0</td>\n      <td>0.0</td>\n      <td>0.0</td>\n      <td>0.0</td>\n      <td>1.0</td>\n      <td>0.0</td>\n      <td>0.0</td>\n      <td>0.0</td>\n      <td>0.0</td>\n      <td>0.0</td>\n      <td>0.0</td>\n      <td>1.0</td>\n    </tr>\n    <tr>\n      <td>5246</td>\n      <td>-0.100621</td>\n      <td>-0.965049</td>\n      <td>-0.379739</td>\n      <td>0.040018</td>\n      <td>0.0</td>\n      <td>0.0</td>\n      <td>0.0</td>\n      <td>1.0</td>\n      <td>0.0</td>\n      <td>0.0</td>\n      <td>0.0</td>\n      <td>0.0</td>\n      <td>0.0</td>\n      <td>0.0</td>\n      <td>0.0</td>\n      <td>0.0</td>\n      <td>0.0</td>\n      <td>0.0</td>\n      <td>0.0</td>\n      <td>0.0</td>\n      <td>0.0</td>\n      <td>0.0</td>\n      <td>0.0</td>\n      <td>0.0</td>\n      <td>0.0</td>\n      <td>0.0</td>\n      <td>0.0</td>\n      <td>0.0</td>\n      <td>0.0</td>\n      <td>0.0</td>\n      <td>0.0</td>\n      <td>0.0</td>\n      <td>1.0</td>\n      <td>0.0</td>\n      <td>0.0</td>\n      <td>0.0</td>\n      <td>1.0</td>\n      <td>0.0</td>\n      <td>0.0</td>\n      <td>0.0</td>\n      <td>...</td>\n      <td>0.0</td>\n      <td>0.0</td>\n      <td>0.0</td>\n      <td>0.0</td>\n      <td>0.0</td>\n      <td>0.0</td>\n      <td>1.0</td>\n      <td>1.0</td>\n      <td>0.0</td>\n      <td>0.0</td>\n      <td>0.0</td>\n      <td>0.0</td>\n      <td>0.0</td>\n      <td>0.0</td>\n      <td>0.0</td>\n      <td>0.0</td>\n      <td>0.0</td>\n      <td>1.0</td>\n      <td>0.0</td>\n      <td>0.0</td>\n      <td>0.0</td>\n      <td>0.0</td>\n      <td>0.0</td>\n      <td>0.0</td>\n      <td>1.0</td>\n      <td>0.0</td>\n      <td>0.0</td>\n      <td>0.0</td>\n      <td>0.0</td>\n      <td>0.0</td>\n      <td>0.0</td>\n      <td>0.0</td>\n      <td>1.0</td>\n      <td>0.0</td>\n      <td>0.0</td>\n      <td>0.0</td>\n      <td>0.0</td>\n      <td>1.0</td>\n      <td>0.0</td>\n      <td>0.0</td>\n    </tr>\n    <tr>\n      <td>22659</td>\n      <td>-0.097497</td>\n      <td>1.452101</td>\n      <td>-0.066689</td>\n      <td>-1.028011</td>\n      <td>1.0</td>\n      <td>0.0</td>\n      <td>0.0</td>\n      <td>0.0</td>\n      <td>0.0</td>\n      <td>0.0</td>\n      <td>0.0</td>\n      <td>0.0</td>\n      <td>0.0</td>\n      <td>0.0</td>\n      <td>0.0</td>\n      <td>0.0</td>\n      <td>0.0</td>\n      <td>0.0</td>\n      <td>0.0</td>\n      <td>0.0</td>\n      <td>0.0</td>\n      <td>1.0</td>\n      <td>0.0</td>\n      <td>0.0</td>\n      <td>0.0</td>\n      <td>0.0</td>\n      <td>0.0</td>\n      <td>0.0</td>\n      <td>0.0</td>\n      <td>0.0</td>\n      <td>0.0</td>\n      <td>0.0</td>\n      <td>0.0</td>\n      <td>0.0</td>\n      <td>0.0</td>\n      <td>1.0</td>\n      <td>0.0</td>\n      <td>0.0</td>\n      <td>0.0</td>\n      <td>0.0</td>\n      <td>...</td>\n      <td>0.0</td>\n      <td>0.0</td>\n      <td>0.0</td>\n      <td>0.0</td>\n      <td>0.0</td>\n      <td>0.0</td>\n      <td>1.0</td>\n      <td>0.0</td>\n      <td>0.0</td>\n      <td>0.0</td>\n      <td>0.0</td>\n      <td>1.0</td>\n      <td>0.0</td>\n      <td>0.0</td>\n      <td>0.0</td>\n      <td>0.0</td>\n      <td>0.0</td>\n      <td>0.0</td>\n      <td>0.0</td>\n      <td>0.0</td>\n      <td>1.0</td>\n      <td>0.0</td>\n      <td>0.0</td>\n      <td>0.0</td>\n      <td>1.0</td>\n      <td>0.0</td>\n      <td>0.0</td>\n      <td>0.0</td>\n      <td>0.0</td>\n      <td>0.0</td>\n      <td>0.0</td>\n      <td>0.0</td>\n      <td>0.0</td>\n      <td>1.0</td>\n      <td>0.0</td>\n      <td>1.0</td>\n      <td>0.0</td>\n      <td>0.0</td>\n      <td>0.0</td>\n      <td>0.0</td>\n    </tr>\n    <tr>\n      <td>39888</td>\n      <td>-0.100621</td>\n      <td>-0.965049</td>\n      <td>-0.379739</td>\n      <td>0.816767</td>\n      <td>0.0</td>\n      <td>0.0</td>\n      <td>1.0</td>\n      <td>0.0</td>\n      <td>0.0</td>\n      <td>0.0</td>\n      <td>0.0</td>\n      <td>0.0</td>\n      <td>0.0</td>\n      <td>0.0</td>\n      <td>0.0</td>\n      <td>0.0</td>\n      <td>0.0</td>\n      <td>0.0</td>\n      <td>0.0</td>\n      <td>0.0</td>\n      <td>0.0</td>\n      <td>0.0</td>\n      <td>0.0</td>\n      <td>1.0</td>\n      <td>0.0</td>\n      <td>0.0</td>\n      <td>0.0</td>\n      <td>0.0</td>\n      <td>0.0</td>\n      <td>0.0</td>\n      <td>0.0</td>\n      <td>0.0</td>\n      <td>0.0</td>\n      <td>0.0</td>\n      <td>0.0</td>\n      <td>0.0</td>\n      <td>0.0</td>\n      <td>0.0</td>\n      <td>0.0</td>\n      <td>1.0</td>\n      <td>...</td>\n      <td>0.0</td>\n      <td>0.0</td>\n      <td>0.0</td>\n      <td>0.0</td>\n      <td>0.0</td>\n      <td>0.0</td>\n      <td>1.0</td>\n      <td>1.0</td>\n      <td>0.0</td>\n      <td>0.0</td>\n      <td>0.0</td>\n      <td>0.0</td>\n      <td>0.0</td>\n      <td>0.0</td>\n      <td>0.0</td>\n      <td>0.0</td>\n      <td>0.0</td>\n      <td>0.0</td>\n      <td>0.0</td>\n      <td>0.0</td>\n      <td>1.0</td>\n      <td>0.0</td>\n      <td>0.0</td>\n      <td>0.0</td>\n      <td>0.0</td>\n      <td>1.0</td>\n      <td>0.0</td>\n      <td>0.0</td>\n      <td>0.0</td>\n      <td>0.0</td>\n      <td>0.0</td>\n      <td>0.0</td>\n      <td>1.0</td>\n      <td>0.0</td>\n      <td>0.0</td>\n      <td>0.0</td>\n      <td>0.0</td>\n      <td>1.0</td>\n      <td>0.0</td>\n      <td>0.0</td>\n    </tr>\n    <tr>\n      <td>13361</td>\n      <td>-0.084999</td>\n      <td>0.635320</td>\n      <td>0.117334</td>\n      <td>-1.319291</td>\n      <td>1.0</td>\n      <td>0.0</td>\n      <td>0.0</td>\n      <td>0.0</td>\n      <td>0.0</td>\n      <td>0.0</td>\n      <td>0.0</td>\n      <td>0.0</td>\n      <td>0.0</td>\n      <td>0.0</td>\n      <td>0.0</td>\n      <td>0.0</td>\n      <td>0.0</td>\n      <td>0.0</td>\n      <td>0.0</td>\n      <td>0.0</td>\n      <td>0.0</td>\n      <td>0.0</td>\n      <td>0.0</td>\n      <td>0.0</td>\n      <td>0.0</td>\n      <td>0.0</td>\n      <td>0.0</td>\n      <td>0.0</td>\n      <td>0.0</td>\n      <td>0.0</td>\n      <td>0.0</td>\n      <td>1.0</td>\n      <td>0.0</td>\n      <td>0.0</td>\n      <td>0.0</td>\n      <td>0.0</td>\n      <td>0.0</td>\n      <td>0.0</td>\n      <td>1.0</td>\n      <td>0.0</td>\n      <td>...</td>\n      <td>0.0</td>\n      <td>0.0</td>\n      <td>0.0</td>\n      <td>0.0</td>\n      <td>0.0</td>\n      <td>0.0</td>\n      <td>1.0</td>\n      <td>0.0</td>\n      <td>0.0</td>\n      <td>0.0</td>\n      <td>0.0</td>\n      <td>1.0</td>\n      <td>0.0</td>\n      <td>0.0</td>\n      <td>0.0</td>\n      <td>0.0</td>\n      <td>0.0</td>\n      <td>0.0</td>\n      <td>0.0</td>\n      <td>0.0</td>\n      <td>1.0</td>\n      <td>0.0</td>\n      <td>0.0</td>\n      <td>1.0</td>\n      <td>0.0</td>\n      <td>0.0</td>\n      <td>0.0</td>\n      <td>1.0</td>\n      <td>0.0</td>\n      <td>0.0</td>\n      <td>0.0</td>\n      <td>0.0</td>\n      <td>0.0</td>\n      <td>0.0</td>\n      <td>0.0</td>\n      <td>1.0</td>\n      <td>0.0</td>\n      <td>0.0</td>\n      <td>0.0</td>\n      <td>0.0</td>\n    </tr>\n  </tbody>\n</table>\n<p>5 rows × 85 columns</p>\n</div>"
     },
     "metadata": {},
     "execution_count": 330
    }
   ],
   "source": [
    "X_test_f.head()"
   ]
  },
  {
   "cell_type": "markdown",
   "metadata": {},
   "source": [
    "Now that I have my data, I can begin experimenting with some different models. I want to check cross validate my models. To accomplish this with multiple models, I am going to create a function that returns the recall results of training and testing data along with a confusion matrix"
   ]
  },
  {
   "cell_type": "code",
   "execution_count": 237,
   "metadata": {},
   "outputs": [],
   "source": [
    "def cross_validate_metrics(model, X_t, y_t, n):\n",
    "    folds = KFold(n_splits=n)\n",
    "\n",
    "    # fit model\n",
    "    model.fit(X_t, y_t)\n",
    "\n",
    "    # avg recall score over n splits\n",
    "    train_recall = []\n",
    "    val_recall = []\n",
    "    for train, val in folds.split(X_t):\n",
    "        # make predictions\n",
    "        train_preds = model.predict(X_t.iloc[train])\n",
    "        val_preds = model.predict(X_t.iloc[val])\n",
    "\n",
    "        # calculate scores and append to list\n",
    "        train_recall.append(recall_score(y_t.iloc[train], train_preds, average='weighted'))\n",
    "        val_recall.append(recall_score(y_t.iloc[val], val_preds, average='weighted'))\n",
    "    \n",
    "    # Print results\n",
    "    print('Training recall: {}'.format(np.mean(train_recall)))\n",
    "   \n",
    "    # predictions for confusion matrix\n",
    "    train_p = model.predict(X_t)\n",
    "\n",
    "    print('Training Confusion Matrix')\n",
    "    print(mcf.plot_confusion_matrix(y_t, train_p))\n"
   ]
  },
  {
   "cell_type": "code",
   "execution_count": 290,
   "metadata": {},
   "outputs": [],
   "source": [
    "# Instantiate logistic regression object\n",
    "logreg = LogisticRegression(solver='liblinear', penalty='l1')"
   ]
  },
  {
   "cell_type": "code",
   "execution_count": 239,
   "metadata": {
    "tags": []
   },
   "outputs": [
    {
     "output_type": "stream",
     "name": "stdout",
     "text": "Training recall: 0.7536826599326598\nTesting recall: 0.7536826599326599\nTraining Confusion Matrix\n            Functional  Repair  Failing\nFunctional       23238      77     2487\nRepair            2629     146      691\nFailing           5757      64    12431\nTesting Confusion Matrix\n            Functional  Repair  Failing\nFunctional       23238      77     2487\nRepair            2629     146      691\nFailing           5757      64    12431\n"
    }
   ],
   "source": [
    "# test function\n",
    "cross_validate_metrics(logreg, X_train_f, y_train, 10)"
   ]
  },
  {
   "cell_type": "code",
   "execution_count": 331,
   "metadata": {},
   "outputs": [
    {
     "output_type": "execute_result",
     "data": {
      "text/plain": "LogisticRegression(C=1.0, class_weight=None, dual=False, fit_intercept=True,\n                   intercept_scaling=1, l1_ratio=None, max_iter=100,\n                   multi_class='warn', n_jobs=None, penalty='l1',\n                   random_state=None, solver='liblinear', tol=0.0001, verbose=0,\n                   warm_start=False)"
     },
     "metadata": {},
     "execution_count": 331
    }
   ],
   "source": [
    "logreg.fit(X_train_f, y_train)"
   ]
  },
  {
   "cell_type": "code",
   "execution_count": 332,
   "metadata": {},
   "outputs": [],
   "source": [
    "train_preds = logreg.predict(X_train_f)"
   ]
  },
  {
   "cell_type": "code",
   "execution_count": 333,
   "metadata": {},
   "outputs": [
    {
     "output_type": "execute_result",
     "data": {
      "text/plain": "0.7271043771043771"
     },
     "metadata": {},
     "execution_count": 333
    }
   ],
   "source": [
    "recall_score(y_train, train_preds, average='weighted')"
   ]
  },
  {
   "cell_type": "code",
   "execution_count": 334,
   "metadata": {},
   "outputs": [
    {
     "output_type": "execute_result",
     "data": {
      "text/plain": "array([[ 1.00180282e-01,  6.88299166e-02,  7.87486270e-02,\n        -3.49367056e-01,  0.00000000e+00,  8.17408952e-01,\n        -1.29624666e-01,  3.50074398e-01, -1.25820412e-01,\n        -3.51550066e-02,  1.65612662e-01, -2.45694318e-02,\n         7.56737035e-02,  3.65755490e-01,  2.49563409e-01,\n        -4.34602540e-02,  5.88570195e-01,  9.13153015e-03,\n        -1.17413549e+00, -1.97645474e-01, -7.70783890e-01,\n         2.02363415e-01, -6.34921368e-01, -4.03782046e-01,\n         0.00000000e+00, -5.66074611e-01,  4.56016824e-01,\n        -1.11544786e-01, -5.70483021e-01,  7.30670337e-02,\n         1.61795957e-01,  2.55726749e-01, -3.04972353e-01,\n         3.45394114e-01,  8.13714788e-01,  0.00000000e+00,\n         7.71290487e-01,  0.00000000e+00, -4.79755375e-01,\n         1.02421204e+00, -7.38523908e-01,  1.02968739e-01,\n        -7.15772625e-01,  5.18709651e-01, -2.63418803e-01,\n         3.43667108e-01, -2.46029346e-01,  2.14087887e-01,\n         7.74540719e-01, -7.96811224e-02,  5.56813899e-01,\n        -3.48260146e-02, -4.04623090e-01, -4.38235583e-02,\n         5.00157397e-01,  2.91394354e-01,  7.54481536e-01,\n         1.55765927e-01, -2.43674875e-01,  2.45382724e-01,\n         8.85620016e-01, -4.63050444e-01,  1.15987623e+00,\n        -7.49652363e-02, -5.50047457e-01,  1.50558984e-02,\n        -6.65413644e-01, -3.87285229e+00,  4.59549934e-01,\n         0.00000000e+00,  1.71114170e-01, -4.81808204e-01,\n        -1.34318916e-01, -5.76680452e-01,  1.10952789e+00,\n         8.33385249e-01,  7.98754758e-02, -1.41009891e-01,\n         4.52150717e-01,  7.90031039e-01,  0.00000000e+00,\n         0.00000000e+00, -6.90830964e-02,  9.24913164e-01,\n        -1.20867249e+00],\n       [ 5.32432146e-03,  2.30484889e-01,  1.56830705e-02,\n         9.24892632e-02, -2.15626494e-02, -5.65339044e-01,\n         9.64772890e-02,  0.00000000e+00,  1.09911302e+00,\n        -2.60071230e-01, -2.98902377e-01,  5.70363009e-01,\n        -1.16233204e-01, -7.47829708e-01, -1.71678589e+00,\n         1.16371703e+00, -1.45448066e+00, -4.88046603e-01,\n         8.88345714e-01, -3.17804715e-01,  7.18002166e-02,\n        -4.04466167e-01, -1.71903765e+00,  9.19458359e-01,\n         3.48846765e-01,  2.82090879e-01, -4.77719171e-01,\n        -9.06131435e-01,  0.00000000e+00, -1.42617444e-01,\n         9.99173973e-01,  3.26729430e-01,  2.64950141e-02,\n        -6.80237526e-01, -8.46875705e-01,  6.41394551e-01,\n        -5.62501479e-01, -5.21121062e-01,  1.43386939e-02,\n         0.00000000e+00, -6.27068612e-01, -9.51799490e-02,\n        -1.89751491e-01,  5.49284473e-02,  4.69481619e-02,\n        -6.37620226e-02,  1.63073566e-01, -7.41409676e-01,\n        -3.77010878e-01,  0.00000000e+00,  4.56724360e-02,\n        -1.70006520e-01,  1.38839243e-03, -1.80865480e-01,\n         0.00000000e+00,  2.64527055e-01, -3.44243192e-01,\n        -2.04446401e-02, -4.95539522e-01,  1.57825240e-01,\n         0.00000000e+00,  0.00000000e+00, -1.04115927e+00,\n         5.44224476e-02,  9.24988119e-01, -2.28105454e-01,\n        -1.90605905e-01, -2.54898584e+00,  0.00000000e+00,\n         3.10296217e-01, -2.91174865e-02, -1.40789795e+00,\n        -1.12301812e-01, -6.31945148e-01, -6.76818546e-01,\n         4.21830232e-01,  1.92095247e-01, -2.38608769e-01,\n         0.00000000e+00, -1.35660289e+00,  0.00000000e+00,\n         0.00000000e+00, -8.77108985e-02, -1.03207792e-01,\n         7.31863199e-03],\n       [-1.60491284e-01, -1.88287131e-01, -9.30464879e-02,\n         3.49964805e-01,  9.12788516e-02, -6.75722135e-01,\n         9.62734533e-02, -3.90873498e-01, -5.06011640e-01,\n         1.68604775e-01,  0.00000000e+00, -7.93850452e-02,\n         3.48914758e-02, -2.02310041e-01, -2.62384974e-01,\n        -5.67076816e-01, -2.86168320e-01,  3.11642454e-01,\n         6.74275971e-01,  2.71733017e-01,  5.68748009e-01,\n        -1.47367767e-01,  1.43186590e+00,  1.15521476e-02,\n        -2.41747605e-01,  2.99764060e-01, -1.13041120e-01,\n         0.00000000e+00,  5.77082641e-01, -1.59411139e-01,\n        -7.34600817e-01, -4.92384977e-01,  1.37998771e-01,\n        -2.88518051e-01, -6.90947172e-01, -4.10005098e-01,\n        -6.19444250e-01,  1.76728220e-01,  4.54338758e-01,\n        -1.07701885e+00,  8.59383232e-01,  0.00000000e+00,\n         8.71996340e-01, -6.46353752e-01,  1.68248301e-01,\n        -2.89364316e-01,  8.66025631e-02, -4.22790292e-02,\n        -7.19448189e-01,  9.07998862e-03, -6.12831446e-01,\n         5.20414181e-02,  4.65439998e-01,  1.30156230e-01,\n        -5.62674566e-01, -4.31058725e-01, -6.60817339e-01,\n        -1.18058989e-01,  5.45239908e-01, -4.22997223e-01,\n        -1.09364417e+00,  8.77080758e-01, -8.95316935e-01,\n         0.00000000e+00, -8.87804959e-02,  1.47017050e-02,\n         6.61662724e-01,  3.79646937e+00, -7.47924151e-01,\n        -3.51501724e-01, -4.23860507e-01,  4.92416903e-01,\n         2.10394914e-01,  8.62425837e-01, -8.86926512e-01,\n        -1.08213678e+00, -9.09522248e-02,  2.11114729e-01,\n        -3.51020738e-01, -4.45482030e-01,  0.00000000e+00,\n        -5.78807531e-03,  4.99024943e-02, -1.06812902e+00,\n         1.09950949e+00]])"
     },
     "metadata": {},
     "execution_count": 334
    }
   ],
   "source": [
    "logreg.coef_"
   ]
  },
  {
   "cell_type": "code",
   "execution_count": 365,
   "metadata": {},
   "outputs": [],
   "source": [
    "rf = RandomForestClassifier(max_depth=10)"
   ]
  },
  {
   "cell_type": "code",
   "execution_count": 366,
   "metadata": {},
   "outputs": [
    {
     "output_type": "execute_result",
     "data": {
      "text/plain": "RandomForestClassifier(bootstrap=True, class_weight=None, criterion='gini',\n                       max_depth=10, max_features='auto', max_leaf_nodes=None,\n                       min_impurity_decrease=0.0, min_impurity_split=None,\n                       min_samples_leaf=1, min_samples_split=2,\n                       min_weight_fraction_leaf=0.0, n_estimators=10,\n                       n_jobs=None, oob_score=False, random_state=None,\n                       verbose=0, warm_start=False)"
     },
     "metadata": {},
     "execution_count": 366
    }
   ],
   "source": [
    "rf.fit(X_train_f, y_train)"
   ]
  },
  {
   "cell_type": "code",
   "execution_count": 367,
   "metadata": {},
   "outputs": [],
   "source": [
    "train_preds = rf.predict(X_train_f)"
   ]
  },
  {
   "cell_type": "code",
   "execution_count": 368,
   "metadata": {},
   "outputs": [
    {
     "output_type": "execute_result",
     "data": {
      "text/plain": "0.7493055555555556"
     },
     "metadata": {},
     "execution_count": 368
    }
   ],
   "source": [
    "recall_score(y_train, train_preds, average='weighted')"
   ]
  },
  {
   "cell_type": "code",
   "execution_count": 369,
   "metadata": {},
   "outputs": [],
   "source": [
    "test_preds = rf.predict(X_test_f)"
   ]
  },
  {
   "cell_type": "code",
   "execution_count": 370,
   "metadata": {},
   "outputs": [
    {
     "output_type": "execute_result",
     "data": {
      "text/plain": "0.7393939393939394"
     },
     "metadata": {},
     "execution_count": 370
    }
   ],
   "source": [
    "recall_score(y_test, test_preds, average='weighted')"
   ]
  },
  {
   "cell_type": "markdown",
   "metadata": {},
   "source": [
    "The random forest did not generalize well, it had a high variance."
   ]
  },
  {
   "cell_type": "code",
   "execution_count": 342,
   "metadata": {},
   "outputs": [],
   "source": [
    "dt = DecisionTreeClassifier()"
   ]
  },
  {
   "cell_type": "code",
   "execution_count": 343,
   "metadata": {},
   "outputs": [
    {
     "output_type": "execute_result",
     "data": {
      "text/plain": "DecisionTreeClassifier(class_weight=None, criterion='gini', max_depth=None,\n                       max_features=None, max_leaf_nodes=None,\n                       min_impurity_decrease=0.0, min_impurity_split=None,\n                       min_samples_leaf=1, min_samples_split=2,\n                       min_weight_fraction_leaf=0.0, presort=False,\n                       random_state=None, splitter='best')"
     },
     "metadata": {},
     "execution_count": 343
    }
   ],
   "source": [
    "dt.fit(X_train_f, y_train)"
   ]
  },
  {
   "cell_type": "code",
   "execution_count": 344,
   "metadata": {},
   "outputs": [],
   "source": [
    "dt_train_preds = dt.predict(X_train_f)"
   ]
  },
  {
   "cell_type": "code",
   "execution_count": 345,
   "metadata": {},
   "outputs": [
    {
     "output_type": "execute_result",
     "data": {
      "text/plain": "0.9301346801346801"
     },
     "metadata": {},
     "execution_count": 345
    }
   ],
   "source": [
    "recall_score(y_train, dt_train_preds, average='weighted')"
   ]
  },
  {
   "cell_type": "code",
   "execution_count": 346,
   "metadata": {},
   "outputs": [],
   "source": [
    "dt_test_preds = dt.predict(X_test_f)"
   ]
  },
  {
   "cell_type": "code",
   "execution_count": 347,
   "metadata": {},
   "outputs": [
    {
     "output_type": "execute_result",
     "data": {
      "text/plain": "0.7501683501683502"
     },
     "metadata": {},
     "execution_count": 347
    }
   ],
   "source": [
    "recall_score(y_test, dt_test_preds, average='weighted')"
   ]
  },
  {
   "cell_type": "markdown",
   "metadata": {},
   "source": [
    "The decison tree model also did not generalize very well. Obviously the model is fitting to much on the training data, so i think I need to drop some features. I want to check the coefficient's and see which features are not strongly influencing the model."
   ]
  },
  {
   "cell_type": "code",
   "execution_count": 371,
   "metadata": {},
   "outputs": [
    {
     "output_type": "execute_result",
     "data": {
      "text/plain": "array([4.00671297e-02, 1.97306177e-01, 9.39344408e-02, 9.61091499e-02,\n       6.08633326e-03, 3.78378670e-03, 1.56966498e-03, 6.64174024e-03,\n       9.49982944e-03, 5.96901748e-03, 4.00355654e-03, 3.82194145e-03,\n       3.21524434e-03, 3.25499462e-03, 8.17821108e-04, 2.31778282e-03,\n       8.31917290e-03, 2.54626077e-03, 5.30598062e-03, 5.13996657e-03,\n       1.87271989e-03, 1.80487297e-03, 3.95035351e-03, 2.22234929e-03,\n       6.69898247e-03, 3.15744470e-03, 3.40494099e-03, 4.12471601e-03,\n       1.00404109e-03, 2.47667937e-03, 5.47049484e-03, 1.08509748e-03,\n       2.60048055e-03, 2.28667250e-03, 2.50063796e-03, 8.69774346e-03,\n       3.83077901e-03, 6.92643433e-04, 3.74313832e-03, 7.63444317e-03,\n       1.01759595e-02, 1.57472070e-03, 1.95881931e-04, 1.30931142e-03,\n       9.12249389e-03, 4.73229519e-03, 1.02606946e-03, 7.40011377e-03,\n       1.72703268e-03, 3.46023238e-03, 1.45921771e-03, 9.41418953e-03,\n       7.57034582e-03, 1.80065343e-03, 3.05034271e-03, 6.12935554e-03,\n       4.71000639e-03, 4.66219022e-03, 6.11031566e-03, 2.06146179e-03,\n       5.24905852e-04, 1.62470488e-04, 3.30016504e-03, 5.82559809e-03,\n       2.28876896e-03, 7.87444726e-03, 3.53702795e-03, 1.58212312e-01,\n       9.72212146e-03, 9.40804433e-03, 4.10370933e-03, 3.68567937e-03,\n       1.10307101e-02, 3.40644054e-03, 1.20317611e-03, 5.24510530e-03,\n       6.26426023e-03, 3.66310367e-03, 9.60286779e-03, 1.16195682e-04,\n       8.07361974e-03, 0.00000000e+00, 2.94105536e-03, 2.01924444e-03,\n       8.11275585e-02])"
     },
     "metadata": {},
     "execution_count": 371
    }
   ],
   "source": [
    "dt.feature_importances_\n"
   ]
  },
  {
   "cell_type": "code",
   "execution_count": 380,
   "metadata": {},
   "outputs": [],
   "source": [
    "xgbc = XGBClassifier()"
   ]
  },
  {
   "cell_type": "code",
   "execution_count": 382,
   "metadata": {},
   "outputs": [
    {
     "output_type": "execute_result",
     "data": {
      "text/plain": "XGBClassifier(base_score=0.5, booster='gbtree', colsample_bylevel=1,\n              colsample_bynode=1, colsample_bytree=1, gamma=0,\n              learning_rate=0.1, max_delta_step=0, max_depth=3,\n              min_child_weight=1, missing=None, n_estimators=100, n_jobs=1,\n              nthread=None, objective='multi:softprob', random_state=0,\n              reg_alpha=0, reg_lambda=1, scale_pos_weight=1, seed=None,\n              silent=None, subsample=1, verbosity=1)"
     },
     "metadata": {},
     "execution_count": 382
    }
   ],
   "source": [
    "xgbc.fit(X_train_f, y_train)"
   ]
  },
  {
   "cell_type": "code",
   "execution_count": 383,
   "metadata": {},
   "outputs": [],
   "source": [
    "xg_train_preds = xgbc.predict(X_train_f)"
   ]
  },
  {
   "cell_type": "code",
   "execution_count": 384,
   "metadata": {},
   "outputs": [
    {
     "output_type": "execute_result",
     "data": {
      "text/plain": "0.7402356902356902"
     },
     "metadata": {},
     "execution_count": 384
    }
   ],
   "source": [
    "recall_score(y_train, xg_train_preds, average='weighted')"
   ]
  },
  {
   "cell_type": "code",
   "execution_count": 385,
   "metadata": {},
   "outputs": [],
   "source": [
    "xg_test_preds = xgbc.predict(X_test_f)"
   ]
  },
  {
   "cell_type": "code",
   "execution_count": 386,
   "metadata": {},
   "outputs": [
    {
     "output_type": "execute_result",
     "data": {
      "text/plain": "0.7371212121212121"
     },
     "metadata": {},
     "execution_count": 386
    }
   ],
   "source": [
    "recall_score(y_test, xg_test_preds, average='weighted')"
   ]
  },
  {
   "cell_type": "markdown",
   "metadata": {},
   "source": [
    "I need to tune the hyperparameters in each of these models, but first i want experiment with some other features. I want to create a processing function that takes in the dataframe, categorical columns, and numerical columns and returns processed dataframes ready for modeling."
   ]
  },
  {
   "cell_type": "code",
   "execution_count": 387,
   "metadata": {},
   "outputs": [],
   "source": [
    "def process_categories(train_df, test_df, cats):\n",
    "    ohe = OneHotEncoder()\n",
    "\n",
    "    # fit_transform training data\n",
    "    train_encoded = ohe.fit_transform(train_df[cats])\n",
    "    # transform testing data\n",
    "    test_encoded = ohe.transform(test_df[cats])\n",
    "\n",
    "    # create dataframes\n",
    "    train_df_e = pd.DataFrame(train_encoded.todense(), index=train_df[cats].index, columns=ohe.get_feature_names())\n",
    "    test_df_e = pd.DataFrame(test_encoded.todense(), index=test_df[cats].index, columns=ohe.get_feature_names())\n",
    "\n",
    "    # return dataframes\n",
    "    return train_df_e, test_df_e"
   ]
  },
  {
   "cell_type": "code",
   "execution_count": 388,
   "metadata": {},
   "outputs": [],
   "source": [
    "def process_numerics(train_df, test_df, nums):\n",
    "    scaler = StandardScaler()\n",
    "\n",
    "    # fit_transform training data\n",
    "    train_df[nums] = scaler.fit_transform(train_df[nums])\n",
    "    # transform testing data\n",
    "    test_df[nums] = scaler.transform(test_df[nums])\n",
    "\n",
    "    # return dataframes\n",
    "    return train_df, test_df"
   ]
  },
  {
   "cell_type": "code",
   "execution_count": 403,
   "metadata": {},
   "outputs": [],
   "source": [
    "def process_data(train_df, test_df, cats, nums):\n",
    "\n",
    "    # OHE categorical data\n",
    "    train_encoded, test_encoded = process_categories(train_df, test_df, cats)\n",
    "\n",
    "    # drop original categorical columns\n",
    "    train_df.drop(cats, axis=1, inplace=True)\n",
    "    test_df.drop(cats, axis=1, inplace=True)\n",
    "\n",
    "    # scale numerical data\n",
    "    train_df_sc, test_df_sc = process_numerics(train_df, test_df, nums)\n",
    "\n",
    "    # combine scaled numeric and OHE categorical\n",
    "    train_df_sc = pd.concat([train_df_sc, train_encoded], axis=1)\n",
    "    test_df_sc = pd.concat([test_df_sc, test_encoded], axis=1)\n",
    "\n",
    "    # return dataframes\n",
    "    return train_df_sc, test_df_sc"
   ]
  },
  {
   "cell_type": "markdown",
   "metadata": {},
   "source": [
    "Now I want to test the above functions with the data I used above"
   ]
  },
  {
   "cell_type": "code",
   "execution_count": 404,
   "metadata": {},
   "outputs": [],
   "source": [
    "nums = ['amount_tsh', 'gps_height', 'population', 'age']\n",
    "cats = ['basin', 'region', 'extraction_type_group', 'management_group',\n",
    "            'payment', 'water_quality', 'quantity', 'source_type', 'waterpoint_type_group']\n",
    "\n",
    "X_train2 = X_train.copy()\n",
    "X_train2 = X_train2[nums+cats]\n",
    "X_test2 = X_test.copy()\n",
    "X_test2 = X_test2[nums+cats]"
   ]
  },
  {
   "cell_type": "code",
   "execution_count": 405,
   "metadata": {},
   "outputs": [],
   "source": [
    "X_train2_f, X_test2_f = process_data(X_train2, X_test2, cats, nums)"
   ]
  },
  {
   "cell_type": "code",
   "execution_count": 406,
   "metadata": {
    "tags": []
   },
   "outputs": [
    {
     "output_type": "stream",
     "name": "stdout",
     "text": "<class 'pandas.core.frame.DataFrame'>\nInt64Index: 47520 entries, 3607 to 56422\nData columns (total 85 columns):\namount_tsh                    47520 non-null float64\ngps_height                    47520 non-null float64\npopulation                    47520 non-null float64\nage                           47520 non-null float64\nx0_Internal                   47520 non-null float64\nx0_Lake Nyasa                 47520 non-null float64\nx0_Lake Rukwa                 47520 non-null float64\nx0_Lake Tanganyika            47520 non-null float64\nx0_Lake Victoria              47520 non-null float64\nx0_Pangani                    47520 non-null float64\nx0_Rufiji                     47520 non-null float64\nx0_Ruvuma / Southern Coast    47520 non-null float64\nx0_Wami / Ruvu                47520 non-null float64\nx1_Arusha                     47520 non-null float64\nx1_Dar es Salaam              47520 non-null float64\nx1_Dodoma                     47520 non-null float64\nx1_Iringa                     47520 non-null float64\nx1_Kagera                     47520 non-null float64\nx1_Kigoma                     47520 non-null float64\nx1_Kilimanjaro                47520 non-null float64\nx1_Lindi                      47520 non-null float64\nx1_Manyara                    47520 non-null float64\nx1_Mara                       47520 non-null float64\nx1_Mbeya                      47520 non-null float64\nx1_Morogoro                   47520 non-null float64\nx1_Mtwara                     47520 non-null float64\nx1_Mwanza                     47520 non-null float64\nx1_Pwani                      47520 non-null float64\nx1_Rukwa                      47520 non-null float64\nx1_Ruvuma                     47520 non-null float64\nx1_Shinyanga                  47520 non-null float64\nx1_Singida                    47520 non-null float64\nx1_Tabora                     47520 non-null float64\nx1_Tanga                      47520 non-null float64\nx2_afridev                    47520 non-null float64\nx2_gravity                    47520 non-null float64\nx2_india mark ii              47520 non-null float64\nx2_india mark iii             47520 non-null float64\nx2_mono                       47520 non-null float64\nx2_nira/tanira                47520 non-null float64\nx2_other                      47520 non-null float64\nx2_other handpump             47520 non-null float64\nx2_other motorpump            47520 non-null float64\nx2_rope pump                  47520 non-null float64\nx2_submersible                47520 non-null float64\nx2_swn 80                     47520 non-null float64\nx2_wind-powered               47520 non-null float64\nx3_commercial                 47520 non-null float64\nx3_other                      47520 non-null float64\nx3_parastatal                 47520 non-null float64\nx3_unknown                    47520 non-null float64\nx3_user-group                 47520 non-null float64\nx4_never pay                  47520 non-null float64\nx4_other                      47520 non-null float64\nx4_pay annually               47520 non-null float64\nx4_pay monthly                47520 non-null float64\nx4_pay per bucket             47520 non-null float64\nx4_pay when scheme fails      47520 non-null float64\nx4_unknown                    47520 non-null float64\nx5_coloured                   47520 non-null float64\nx5_fluoride                   47520 non-null float64\nx5_fluoride abandoned         47520 non-null float64\nx5_milky                      47520 non-null float64\nx5_salty                      47520 non-null float64\nx5_salty abandoned            47520 non-null float64\nx5_soft                       47520 non-null float64\nx5_unknown                    47520 non-null float64\nx6_dry                        47520 non-null float64\nx6_enough                     47520 non-null float64\nx6_insufficient               47520 non-null float64\nx6_seasonal                   47520 non-null float64\nx6_unknown                    47520 non-null float64\nx7_borehole                   47520 non-null float64\nx7_dam                        47520 non-null float64\nx7_other                      47520 non-null float64\nx7_rainwater harvesting       47520 non-null float64\nx7_river/lake                 47520 non-null float64\nx7_shallow well               47520 non-null float64\nx7_spring                     47520 non-null float64\nx8_cattle trough              47520 non-null float64\nx8_communal standpipe         47520 non-null float64\nx8_dam                        47520 non-null float64\nx8_hand pump                  47520 non-null float64\nx8_improved spring            47520 non-null float64\nx8_other                      47520 non-null float64\ndtypes: float64(85)\nmemory usage: 31.2 MB\n"
    }
   ],
   "source": [
    "X_train2_f.info()"
   ]
  },
  {
   "cell_type": "code",
   "execution_count": 407,
   "metadata": {
    "tags": []
   },
   "outputs": [
    {
     "output_type": "stream",
     "name": "stdout",
     "text": "<class 'pandas.core.frame.DataFrame'>\nInt64Index: 11880 entries, 2980 to 41264\nData columns (total 85 columns):\namount_tsh                    11880 non-null float64\ngps_height                    11880 non-null float64\npopulation                    11880 non-null float64\nage                           11880 non-null float64\nx0_Internal                   11880 non-null float64\nx0_Lake Nyasa                 11880 non-null float64\nx0_Lake Rukwa                 11880 non-null float64\nx0_Lake Tanganyika            11880 non-null float64\nx0_Lake Victoria              11880 non-null float64\nx0_Pangani                    11880 non-null float64\nx0_Rufiji                     11880 non-null float64\nx0_Ruvuma / Southern Coast    11880 non-null float64\nx0_Wami / Ruvu                11880 non-null float64\nx1_Arusha                     11880 non-null float64\nx1_Dar es Salaam              11880 non-null float64\nx1_Dodoma                     11880 non-null float64\nx1_Iringa                     11880 non-null float64\nx1_Kagera                     11880 non-null float64\nx1_Kigoma                     11880 non-null float64\nx1_Kilimanjaro                11880 non-null float64\nx1_Lindi                      11880 non-null float64\nx1_Manyara                    11880 non-null float64\nx1_Mara                       11880 non-null float64\nx1_Mbeya                      11880 non-null float64\nx1_Morogoro                   11880 non-null float64\nx1_Mtwara                     11880 non-null float64\nx1_Mwanza                     11880 non-null float64\nx1_Pwani                      11880 non-null float64\nx1_Rukwa                      11880 non-null float64\nx1_Ruvuma                     11880 non-null float64\nx1_Shinyanga                  11880 non-null float64\nx1_Singida                    11880 non-null float64\nx1_Tabora                     11880 non-null float64\nx1_Tanga                      11880 non-null float64\nx2_afridev                    11880 non-null float64\nx2_gravity                    11880 non-null float64\nx2_india mark ii              11880 non-null float64\nx2_india mark iii             11880 non-null float64\nx2_mono                       11880 non-null float64\nx2_nira/tanira                11880 non-null float64\nx2_other                      11880 non-null float64\nx2_other handpump             11880 non-null float64\nx2_other motorpump            11880 non-null float64\nx2_rope pump                  11880 non-null float64\nx2_submersible                11880 non-null float64\nx2_swn 80                     11880 non-null float64\nx2_wind-powered               11880 non-null float64\nx3_commercial                 11880 non-null float64\nx3_other                      11880 non-null float64\nx3_parastatal                 11880 non-null float64\nx3_unknown                    11880 non-null float64\nx3_user-group                 11880 non-null float64\nx4_never pay                  11880 non-null float64\nx4_other                      11880 non-null float64\nx4_pay annually               11880 non-null float64\nx4_pay monthly                11880 non-null float64\nx4_pay per bucket             11880 non-null float64\nx4_pay when scheme fails      11880 non-null float64\nx4_unknown                    11880 non-null float64\nx5_coloured                   11880 non-null float64\nx5_fluoride                   11880 non-null float64\nx5_fluoride abandoned         11880 non-null float64\nx5_milky                      11880 non-null float64\nx5_salty                      11880 non-null float64\nx5_salty abandoned            11880 non-null float64\nx5_soft                       11880 non-null float64\nx5_unknown                    11880 non-null float64\nx6_dry                        11880 non-null float64\nx6_enough                     11880 non-null float64\nx6_insufficient               11880 non-null float64\nx6_seasonal                   11880 non-null float64\nx6_unknown                    11880 non-null float64\nx7_borehole                   11880 non-null float64\nx7_dam                        11880 non-null float64\nx7_other                      11880 non-null float64\nx7_rainwater harvesting       11880 non-null float64\nx7_river/lake                 11880 non-null float64\nx7_shallow well               11880 non-null float64\nx7_spring                     11880 non-null float64\nx8_cattle trough              11880 non-null float64\nx8_communal standpipe         11880 non-null float64\nx8_dam                        11880 non-null float64\nx8_hand pump                  11880 non-null float64\nx8_improved spring            11880 non-null float64\nx8_other                      11880 non-null float64\ndtypes: float64(85)\nmemory usage: 8.1 MB\n"
    }
   ],
   "source": [
    "X_test2_f.info()"
   ]
  },
  {
   "cell_type": "markdown",
   "metadata": {},
   "source": [
    "Awesome that worked. Now I want to try a smaller portion of features"
   ]
  },
  {
   "cell_type": "code",
   "execution_count": 408,
   "metadata": {},
   "outputs": [],
   "source": [
    "nums = ['amount_tsh', 'gps_height', 'population', 'age']\n",
    "cats = ['basin', 'extraction_type_group', 'management_group', 'water_quality', 'quantity', 'source_type', 'waterpoint_type_group']"
   ]
  },
  {
   "cell_type": "code",
   "execution_count": 409,
   "metadata": {},
   "outputs": [],
   "source": [
    "X_train2 = X_train.copy()\n",
    "X_train2 = X_train2[nums+cats]\n",
    "X_test2 = X_test.copy()\n",
    "X_test2 = X_test2[nums+cats]"
   ]
  },
  {
   "cell_type": "code",
   "execution_count": 410,
   "metadata": {},
   "outputs": [],
   "source": [
    "X_train2_f, X_test2_f = process_data(X_train2, X_test2, cats, nums)"
   ]
  },
  {
   "cell_type": "code",
   "execution_count": 411,
   "metadata": {},
   "outputs": [],
   "source": [
    "rf2 = RandomForestClassifier(max_depth=10, criterion='entropy', n_estimators=1000)"
   ]
  },
  {
   "cell_type": "code",
   "execution_count": 412,
   "metadata": {},
   "outputs": [
    {
     "output_type": "execute_result",
     "data": {
      "text/plain": "RandomForestClassifier(bootstrap=True, class_weight=None, criterion='entropy',\n                       max_depth=10, max_features='auto', max_leaf_nodes=None,\n                       min_impurity_decrease=0.0, min_impurity_split=None,\n                       min_samples_leaf=1, min_samples_split=2,\n                       min_weight_fraction_leaf=0.0, n_estimators=1000,\n                       n_jobs=None, oob_score=False, random_state=None,\n                       verbose=0, warm_start=False)"
     },
     "metadata": {},
     "execution_count": 412
    }
   ],
   "source": [
    "rf2.fit(X_train2_f, y_train)"
   ]
  },
  {
   "cell_type": "code",
   "execution_count": 413,
   "metadata": {},
   "outputs": [],
   "source": [
    "rf2_train_preds = rf2.predict(X_train2_f)"
   ]
  },
  {
   "cell_type": "code",
   "execution_count": 414,
   "metadata": {},
   "outputs": [
    {
     "output_type": "execute_result",
     "data": {
      "text/plain": "0.7459806397306398"
     },
     "metadata": {},
     "execution_count": 414
    }
   ],
   "source": [
    "recall_score(y_train, rf2_train_preds, average='weighted')"
   ]
  },
  {
   "cell_type": "code",
   "execution_count": 415,
   "metadata": {},
   "outputs": [],
   "source": [
    "rf2_test_preds = rf2.predict(X_test2_f)"
   ]
  },
  {
   "cell_type": "code",
   "execution_count": 416,
   "metadata": {},
   "outputs": [
    {
     "output_type": "execute_result",
     "data": {
      "text/plain": "0.7384680134680135"
     },
     "metadata": {},
     "execution_count": 416
    }
   ],
   "source": [
    "recall_score(y_test, rf2_test_preds, average='weighted')"
   ]
  },
  {
   "cell_type": "code",
   "execution_count": 417,
   "metadata": {},
   "outputs": [
    {
     "output_type": "execute_result",
     "data": {
      "text/plain": "            Lake Nyasa  Lake Victoria  Pangani  ...  Wami / Ruvu  Rufiji  Lake Rukwa\nfunctional        3324           5100     5372  ...         3136    5068        1000\nfailing           1511           4159     3091  ...         2582    2471        1184\nrepair             250            989      477  ...          269     437         270\n\n[3 rows x 9 columns]",
      "text/html": "<div>\n<style scoped>\n    .dataframe tbody tr th:only-of-type {\n        vertical-align: middle;\n    }\n\n    .dataframe tbody tr th {\n        vertical-align: top;\n    }\n\n    .dataframe thead th {\n        text-align: right;\n    }\n</style>\n<table border=\"1\" class=\"dataframe\">\n  <thead>\n    <tr style=\"text-align: right;\">\n      <th></th>\n      <th>Lake Nyasa</th>\n      <th>Lake Victoria</th>\n      <th>Pangani</th>\n      <th>Ruvuma / Southern Coast</th>\n      <th>Internal</th>\n      <th>Lake Tanganyika</th>\n      <th>Wami / Ruvu</th>\n      <th>Rufiji</th>\n      <th>Lake Rukwa</th>\n    </tr>\n  </thead>\n  <tbody>\n    <tr>\n      <td>functional</td>\n      <td>3324</td>\n      <td>5100</td>\n      <td>5372</td>\n      <td>1670</td>\n      <td>4482</td>\n      <td>3107</td>\n      <td>3136</td>\n      <td>5068</td>\n      <td>1000</td>\n    </tr>\n    <tr>\n      <td>failing</td>\n      <td>1511</td>\n      <td>4159</td>\n      <td>3091</td>\n      <td>2497</td>\n      <td>2746</td>\n      <td>2583</td>\n      <td>2582</td>\n      <td>2471</td>\n      <td>1184</td>\n    </tr>\n    <tr>\n      <td>repair</td>\n      <td>250</td>\n      <td>989</td>\n      <td>477</td>\n      <td>326</td>\n      <td>557</td>\n      <td>742</td>\n      <td>269</td>\n      <td>437</td>\n      <td>270</td>\n    </tr>\n  </tbody>\n</table>\n</div>"
     },
     "metadata": {},
     "execution_count": 417
    },
    {
     "output_type": "display_data",
     "data": {
      "text/plain": "<Figure size 1080x720 with 1 Axes>",
      "image/svg+xml": "<?xml version=\"1.0\" encoding=\"utf-8\" standalone=\"no\"?>\n<!DOCTYPE svg PUBLIC \"-//W3C//DTD SVG 1.1//EN\"\n  \"http://www.w3.org/Graphics/SVG/1.1/DTD/svg11.dtd\">\n<!-- Created with matplotlib (https://matplotlib.org/) -->\n<svg height=\"612.8725pt\" version=\"1.1\" viewBox=\"0 0 902.367188 612.8725\" width=\"902.367188pt\" xmlns=\"http://www.w3.org/2000/svg\" xmlns:xlink=\"http://www.w3.org/1999/xlink\">\n <defs>\n  <style type=\"text/css\">\n*{stroke-linecap:butt;stroke-linejoin:round;}\n  </style>\n </defs>\n <g id=\"figure_1\">\n  <g id=\"patch_1\">\n   <path d=\"M 0 612.8725 \nL 902.367188 612.8725 \nL 902.367188 0 \nL 0 0 \nz\n\" style=\"fill:none;\"/>\n  </g>\n  <g id=\"axes_1\">\n   <g id=\"patch_2\">\n    <path d=\"M 58.167188 570.477187 \nL 895.167187 570.477187 \nL 895.167187 26.877187 \nL 58.167188 26.877187 \nz\n\" style=\"fill:#ffffff;\"/>\n   </g>\n   <g id=\"patch_3\">\n    <path clip-path=\"url(#pc1ed560df1)\" d=\"M 96.212642 570.477187 \nL 117.952902 570.477187 \nL 117.952902 250.134245 \nL 96.212642 250.134245 \nz\n\" style=\"fill:#1f77b4;\"/>\n   </g>\n   <g id=\"patch_4\">\n    <path clip-path=\"url(#pc1ed560df1)\" d=\"M 183.173681 570.477187 \nL 204.913941 570.477187 \nL 204.913941 78.976283 \nL 183.173681 78.976283 \nz\n\" style=\"fill:#1f77b4;\"/>\n   </g>\n   <g id=\"patch_5\">\n    <path clip-path=\"url(#pc1ed560df1)\" d=\"M 270.13472 570.477187 \nL 291.87498 570.477187 \nL 291.87498 52.762902 \nL 270.13472 52.762902 \nz\n\" style=\"fill:#1f77b4;\"/>\n   </g>\n   <g id=\"patch_6\">\n    <path clip-path=\"url(#pc1ed560df1)\" d=\"M 357.095759 570.477187 \nL 378.836019 570.477187 \nL 378.836019 409.534735 \nL 357.095759 409.534735 \nz\n\" style=\"fill:#1f77b4;\"/>\n   </g>\n   <g id=\"patch_7\">\n    <path clip-path=\"url(#pc1ed560df1)\" d=\"M 444.056798 570.477187 \nL 465.797058 570.477187 \nL 465.797058 138.534628 \nL 444.056798 138.534628 \nz\n\" style=\"fill:#1f77b4;\"/>\n   </g>\n   <g id=\"patch_8\">\n    <path clip-path=\"url(#pc1ed560df1)\" d=\"M 531.017837 570.477187 \nL 552.758097 570.477187 \nL 552.758097 271.047127 \nL 531.017837 271.047127 \nz\n\" style=\"fill:#1f77b4;\"/>\n   </g>\n   <g id=\"patch_9\">\n    <path clip-path=\"url(#pc1ed560df1)\" d=\"M 617.978876 570.477187 \nL 639.719136 570.477187 \nL 639.719136 268.252318 \nL 617.978876 268.252318 \nz\n\" style=\"fill:#1f77b4;\"/>\n   </g>\n   <g id=\"patch_10\">\n    <path clip-path=\"url(#pc1ed560df1)\" d=\"M 704.939915 570.477187 \nL 726.680175 570.477187 \nL 726.680175 82.060211 \nL 704.939915 82.060211 \nz\n\" style=\"fill:#1f77b4;\"/>\n   </g>\n   <g id=\"patch_11\">\n    <path clip-path=\"url(#pc1ed560df1)\" d=\"M 791.900954 570.477187 \nL 813.641213 570.477187 \nL 813.641213 474.104461 \nL 791.900954 474.104461 \nz\n\" style=\"fill:#1f77b4;\"/>\n   </g>\n   <g id=\"patch_12\">\n    <path clip-path=\"url(#pc1ed560df1)\" d=\"M 117.952902 570.477187 \nL 139.693162 570.477187 \nL 139.693162 424.857998 \nL 117.952902 424.857998 \nz\n\" style=\"fill:#ff7f0e;\"/>\n   </g>\n   <g id=\"patch_13\">\n    <path clip-path=\"url(#pc1ed560df1)\" d=\"M 204.913941 570.477187 \nL 226.6542 570.477187 \nL 226.6542 169.663019 \nL 204.913941 169.663019 \nz\n\" style=\"fill:#ff7f0e;\"/>\n   </g>\n   <g id=\"patch_14\">\n    <path clip-path=\"url(#pc1ed560df1)\" d=\"M 291.87498 570.477187 \nL 313.615239 570.477187 \nL 313.615239 272.58909 \nL 291.87498 272.58909 \nz\n\" style=\"fill:#ff7f0e;\"/>\n   </g>\n   <g id=\"patch_15\">\n    <path clip-path=\"url(#pc1ed560df1)\" d=\"M 378.836019 570.477187 \nL 400.576278 570.477187 \nL 400.576278 329.83449 \nL 378.836019 329.83449 \nz\n\" style=\"fill:#ff7f0e;\"/>\n   </g>\n   <g id=\"patch_16\">\n    <path clip-path=\"url(#pc1ed560df1)\" d=\"M 465.797058 570.477187 \nL 487.537317 570.477187 \nL 487.537317 305.837681 \nL 465.797058 305.837681 \nz\n\" style=\"fill:#ff7f0e;\"/>\n   </g>\n   <g id=\"patch_17\">\n    <path clip-path=\"url(#pc1ed560df1)\" d=\"M 552.758097 570.477187 \nL 574.498356 570.477187 \nL 574.498356 321.546435 \nL 552.758097 321.546435 \nz\n\" style=\"fill:#ff7f0e;\"/>\n   </g>\n   <g id=\"patch_18\">\n    <path clip-path=\"url(#pc1ed560df1)\" d=\"M 639.719136 570.477187 \nL 661.459395 570.477187 \nL 661.459395 321.642808 \nL 639.719136 321.642808 \nz\n\" style=\"fill:#ff7f0e;\"/>\n   </g>\n   <g id=\"patch_19\">\n    <path clip-path=\"url(#pc1ed560df1)\" d=\"M 726.680175 570.477187 \nL 748.420434 570.477187 \nL 748.420434 332.340181 \nL 726.680175 332.340181 \nz\n\" style=\"fill:#ff7f0e;\"/>\n   </g>\n   <g id=\"patch_20\">\n    <path clip-path=\"url(#pc1ed560df1)\" d=\"M 813.641213 570.477187 \nL 835.381473 570.477187 \nL 835.381473 456.37188 \nL 813.641213 456.37188 \nz\n\" style=\"fill:#ff7f0e;\"/>\n   </g>\n   <g id=\"patch_21\">\n    <path clip-path=\"url(#pc1ed560df1)\" d=\"M 139.693162 570.477187 \nL 161.433421 570.477187 \nL 161.433421 546.384006 \nL 139.693162 546.384006 \nz\n\" style=\"fill:#2ca02c;\"/>\n   </g>\n   <g id=\"patch_22\">\n    <path clip-path=\"url(#pc1ed560df1)\" d=\"M 226.6542 570.477187 \nL 248.39446 570.477187 \nL 248.39446 475.164561 \nL 226.6542 475.164561 \nz\n\" style=\"fill:#2ca02c;\"/>\n   </g>\n   <g id=\"patch_23\">\n    <path clip-path=\"url(#pc1ed560df1)\" d=\"M 313.615239 570.477187 \nL 335.355499 570.477187 \nL 335.355499 524.507397 \nL 313.615239 524.507397 \nz\n\" style=\"fill:#2ca02c;\"/>\n   </g>\n   <g id=\"patch_24\">\n    <path clip-path=\"url(#pc1ed560df1)\" d=\"M 400.576278 570.477187 \nL 422.316538 570.477187 \nL 422.316538 539.059679 \nL 400.576278 539.059679 \nz\n\" style=\"fill:#2ca02c;\"/>\n   </g>\n   <g id=\"patch_25\">\n    <path clip-path=\"url(#pc1ed560df1)\" d=\"M 487.537317 570.477187 \nL 509.277577 570.477187 \nL 509.277577 516.797579 \nL 487.537317 516.797579 \nz\n\" style=\"fill:#2ca02c;\"/>\n   </g>\n   <g id=\"patch_26\">\n    <path clip-path=\"url(#pc1ed560df1)\" d=\"M 574.498356 570.477187 \nL 596.238616 570.477187 \nL 596.238616 498.968625 \nL 574.498356 498.968625 \nz\n\" style=\"fill:#2ca02c;\"/>\n   </g>\n   <g id=\"patch_27\">\n    <path clip-path=\"url(#pc1ed560df1)\" d=\"M 661.459395 570.477187 \nL 683.199655 570.477187 \nL 683.199655 544.552924 \nL 661.459395 544.552924 \nz\n\" style=\"fill:#2ca02c;\"/>\n   </g>\n   <g id=\"patch_28\">\n    <path clip-path=\"url(#pc1ed560df1)\" d=\"M 748.420434 570.477187 \nL 770.160694 570.477187 \nL 770.160694 528.362306 \nL 748.420434 528.362306 \nz\n\" style=\"fill:#2ca02c;\"/>\n   </g>\n   <g id=\"patch_29\">\n    <path clip-path=\"url(#pc1ed560df1)\" d=\"M 835.381473 570.477187 \nL 857.121733 570.477187 \nL 857.121733 544.456551 \nL 835.381473 544.456551 \nz\n\" style=\"fill:#2ca02c;\"/>\n   </g>\n   <g id=\"matplotlib.axis_1\">\n    <g id=\"xtick_1\">\n     <g id=\"line2d_1\">\n      <defs>\n       <path d=\"M 0 0 \nL 0 3.5 \n\" id=\"ma2929fa003\" style=\"stroke:#000000;stroke-width:0.8;\"/>\n      </defs>\n      <g>\n       <use style=\"stroke:#000000;stroke-width:0.8;\" x=\"128.823032\" xlink:href=\"#ma2929fa003\" y=\"570.477187\"/>\n      </g>\n     </g>\n     <g id=\"text_1\">\n      <!-- Lake Nyasa -->\n      <defs>\n       <path d=\"M 9.8125 72.90625 \nL 19.671875 72.90625 \nL 19.671875 8.296875 \nL 55.171875 8.296875 \nL 55.171875 0 \nL 9.8125 0 \nz\n\" id=\"DejaVuSans-76\"/>\n       <path d=\"M 34.28125 27.484375 \nQ 23.390625 27.484375 19.1875 25 \nQ 14.984375 22.515625 14.984375 16.5 \nQ 14.984375 11.71875 18.140625 8.90625 \nQ 21.296875 6.109375 26.703125 6.109375 \nQ 34.1875 6.109375 38.703125 11.40625 \nQ 43.21875 16.703125 43.21875 25.484375 \nL 43.21875 27.484375 \nz\nM 52.203125 31.203125 \nL 52.203125 0 \nL 43.21875 0 \nL 43.21875 8.296875 \nQ 40.140625 3.328125 35.546875 0.953125 \nQ 30.953125 -1.421875 24.3125 -1.421875 \nQ 15.921875 -1.421875 10.953125 3.296875 \nQ 6 8.015625 6 15.921875 \nQ 6 25.140625 12.171875 29.828125 \nQ 18.359375 34.515625 30.609375 34.515625 \nL 43.21875 34.515625 \nL 43.21875 35.40625 \nQ 43.21875 41.609375 39.140625 45 \nQ 35.0625 48.390625 27.6875 48.390625 \nQ 23 48.390625 18.546875 47.265625 \nQ 14.109375 46.140625 10.015625 43.890625 \nL 10.015625 52.203125 \nQ 14.9375 54.109375 19.578125 55.046875 \nQ 24.21875 56 28.609375 56 \nQ 40.484375 56 46.34375 49.84375 \nQ 52.203125 43.703125 52.203125 31.203125 \nz\n\" id=\"DejaVuSans-97\"/>\n       <path d=\"M 9.078125 75.984375 \nL 18.109375 75.984375 \nL 18.109375 31.109375 \nL 44.921875 54.6875 \nL 56.390625 54.6875 \nL 27.390625 29.109375 \nL 57.625 0 \nL 45.90625 0 \nL 18.109375 26.703125 \nL 18.109375 0 \nL 9.078125 0 \nz\n\" id=\"DejaVuSans-107\"/>\n       <path d=\"M 56.203125 29.59375 \nL 56.203125 25.203125 \nL 14.890625 25.203125 \nQ 15.484375 15.921875 20.484375 11.0625 \nQ 25.484375 6.203125 34.421875 6.203125 \nQ 39.59375 6.203125 44.453125 7.46875 \nQ 49.3125 8.734375 54.109375 11.28125 \nL 54.109375 2.78125 \nQ 49.265625 0.734375 44.1875 -0.34375 \nQ 39.109375 -1.421875 33.890625 -1.421875 \nQ 20.796875 -1.421875 13.15625 6.1875 \nQ 5.515625 13.8125 5.515625 26.8125 \nQ 5.515625 40.234375 12.765625 48.109375 \nQ 20.015625 56 32.328125 56 \nQ 43.359375 56 49.78125 48.890625 \nQ 56.203125 41.796875 56.203125 29.59375 \nz\nM 47.21875 32.234375 \nQ 47.125 39.59375 43.09375 43.984375 \nQ 39.0625 48.390625 32.421875 48.390625 \nQ 24.90625 48.390625 20.390625 44.140625 \nQ 15.875 39.890625 15.1875 32.171875 \nz\n\" id=\"DejaVuSans-101\"/>\n       <path id=\"DejaVuSans-32\"/>\n       <path d=\"M 9.8125 72.90625 \nL 23.09375 72.90625 \nL 55.421875 11.921875 \nL 55.421875 72.90625 \nL 64.984375 72.90625 \nL 64.984375 0 \nL 51.703125 0 \nL 19.390625 60.984375 \nL 19.390625 0 \nL 9.8125 0 \nz\n\" id=\"DejaVuSans-78\"/>\n       <path d=\"M 32.171875 -5.078125 \nQ 28.375 -14.84375 24.75 -17.8125 \nQ 21.140625 -20.796875 15.09375 -20.796875 \nL 7.90625 -20.796875 \nL 7.90625 -13.28125 \nL 13.1875 -13.28125 \nQ 16.890625 -13.28125 18.9375 -11.515625 \nQ 21 -9.765625 23.484375 -3.21875 \nL 25.09375 0.875 \nL 2.984375 54.6875 \nL 12.5 54.6875 \nL 29.59375 11.921875 \nL 46.6875 54.6875 \nL 56.203125 54.6875 \nz\n\" id=\"DejaVuSans-121\"/>\n       <path d=\"M 44.28125 53.078125 \nL 44.28125 44.578125 \nQ 40.484375 46.53125 36.375 47.5 \nQ 32.28125 48.484375 27.875 48.484375 \nQ 21.1875 48.484375 17.84375 46.4375 \nQ 14.5 44.390625 14.5 40.28125 \nQ 14.5 37.15625 16.890625 35.375 \nQ 19.28125 33.59375 26.515625 31.984375 \nL 29.59375 31.296875 \nQ 39.15625 29.25 43.1875 25.515625 \nQ 47.21875 21.78125 47.21875 15.09375 \nQ 47.21875 7.46875 41.1875 3.015625 \nQ 35.15625 -1.421875 24.609375 -1.421875 \nQ 20.21875 -1.421875 15.453125 -0.5625 \nQ 10.6875 0.296875 5.421875 2 \nL 5.421875 11.28125 \nQ 10.40625 8.6875 15.234375 7.390625 \nQ 20.0625 6.109375 24.8125 6.109375 \nQ 31.15625 6.109375 34.5625 8.28125 \nQ 37.984375 10.453125 37.984375 14.40625 \nQ 37.984375 18.0625 35.515625 20.015625 \nQ 33.0625 21.96875 24.703125 23.78125 \nL 21.578125 24.515625 \nQ 13.234375 26.265625 9.515625 29.90625 \nQ 5.8125 33.546875 5.8125 39.890625 \nQ 5.8125 47.609375 11.28125 51.796875 \nQ 16.75 56 26.8125 56 \nQ 31.78125 56 36.171875 55.265625 \nQ 40.578125 54.546875 44.28125 53.078125 \nz\n\" id=\"DejaVuSans-115\"/>\n      </defs>\n      <g transform=\"translate(99.981625 585.075625)scale(0.1 -0.1)\">\n       <use xlink:href=\"#DejaVuSans-76\"/>\n       <use x=\"55.712891\" xlink:href=\"#DejaVuSans-97\"/>\n       <use x=\"116.992188\" xlink:href=\"#DejaVuSans-107\"/>\n       <use x=\"174.855469\" xlink:href=\"#DejaVuSans-101\"/>\n       <use x=\"236.378906\" xlink:href=\"#DejaVuSans-32\"/>\n       <use x=\"268.166016\" xlink:href=\"#DejaVuSans-78\"/>\n       <use x=\"342.970703\" xlink:href=\"#DejaVuSans-121\"/>\n       <use x=\"402.150391\" xlink:href=\"#DejaVuSans-97\"/>\n       <use x=\"463.429688\" xlink:href=\"#DejaVuSans-115\"/>\n       <use x=\"515.529297\" xlink:href=\"#DejaVuSans-97\"/>\n      </g>\n     </g>\n    </g>\n    <g id=\"xtick_2\">\n     <g id=\"line2d_2\">\n      <g>\n       <use style=\"stroke:#000000;stroke-width:0.8;\" x=\"215.784071\" xlink:href=\"#ma2929fa003\" y=\"570.477187\"/>\n      </g>\n     </g>\n     <g id=\"text_2\">\n      <!-- Lake Victoria -->\n      <defs>\n       <path d=\"M 28.609375 0 \nL 0.78125 72.90625 \nL 11.078125 72.90625 \nL 34.1875 11.53125 \nL 57.328125 72.90625 \nL 67.578125 72.90625 \nL 39.796875 0 \nz\n\" id=\"DejaVuSans-86\"/>\n       <path d=\"M 9.421875 54.6875 \nL 18.40625 54.6875 \nL 18.40625 0 \nL 9.421875 0 \nz\nM 9.421875 75.984375 \nL 18.40625 75.984375 \nL 18.40625 64.59375 \nL 9.421875 64.59375 \nz\n\" id=\"DejaVuSans-105\"/>\n       <path d=\"M 48.78125 52.59375 \nL 48.78125 44.1875 \nQ 44.96875 46.296875 41.140625 47.34375 \nQ 37.3125 48.390625 33.40625 48.390625 \nQ 24.65625 48.390625 19.8125 42.84375 \nQ 14.984375 37.3125 14.984375 27.296875 \nQ 14.984375 17.28125 19.8125 11.734375 \nQ 24.65625 6.203125 33.40625 6.203125 \nQ 37.3125 6.203125 41.140625 7.25 \nQ 44.96875 8.296875 48.78125 10.40625 \nL 48.78125 2.09375 \nQ 45.015625 0.34375 40.984375 -0.53125 \nQ 36.96875 -1.421875 32.421875 -1.421875 \nQ 20.0625 -1.421875 12.78125 6.34375 \nQ 5.515625 14.109375 5.515625 27.296875 \nQ 5.515625 40.671875 12.859375 48.328125 \nQ 20.21875 56 33.015625 56 \nQ 37.15625 56 41.109375 55.140625 \nQ 45.0625 54.296875 48.78125 52.59375 \nz\n\" id=\"DejaVuSans-99\"/>\n       <path d=\"M 18.3125 70.21875 \nL 18.3125 54.6875 \nL 36.8125 54.6875 \nL 36.8125 47.703125 \nL 18.3125 47.703125 \nL 18.3125 18.015625 \nQ 18.3125 11.328125 20.140625 9.421875 \nQ 21.96875 7.515625 27.59375 7.515625 \nL 36.8125 7.515625 \nL 36.8125 0 \nL 27.59375 0 \nQ 17.1875 0 13.234375 3.875 \nQ 9.28125 7.765625 9.28125 18.015625 \nL 9.28125 47.703125 \nL 2.6875 47.703125 \nL 2.6875 54.6875 \nL 9.28125 54.6875 \nL 9.28125 70.21875 \nz\n\" id=\"DejaVuSans-116\"/>\n       <path d=\"M 30.609375 48.390625 \nQ 23.390625 48.390625 19.1875 42.75 \nQ 14.984375 37.109375 14.984375 27.296875 \nQ 14.984375 17.484375 19.15625 11.84375 \nQ 23.34375 6.203125 30.609375 6.203125 \nQ 37.796875 6.203125 41.984375 11.859375 \nQ 46.1875 17.53125 46.1875 27.296875 \nQ 46.1875 37.015625 41.984375 42.703125 \nQ 37.796875 48.390625 30.609375 48.390625 \nz\nM 30.609375 56 \nQ 42.328125 56 49.015625 48.375 \nQ 55.71875 40.765625 55.71875 27.296875 \nQ 55.71875 13.875 49.015625 6.21875 \nQ 42.328125 -1.421875 30.609375 -1.421875 \nQ 18.84375 -1.421875 12.171875 6.21875 \nQ 5.515625 13.875 5.515625 27.296875 \nQ 5.515625 40.765625 12.171875 48.375 \nQ 18.84375 56 30.609375 56 \nz\n\" id=\"DejaVuSans-111\"/>\n       <path d=\"M 41.109375 46.296875 \nQ 39.59375 47.171875 37.8125 47.578125 \nQ 36.03125 48 33.890625 48 \nQ 26.265625 48 22.1875 43.046875 \nQ 18.109375 38.09375 18.109375 28.8125 \nL 18.109375 0 \nL 9.078125 0 \nL 9.078125 54.6875 \nL 18.109375 54.6875 \nL 18.109375 46.1875 \nQ 20.953125 51.171875 25.484375 53.578125 \nQ 30.03125 56 36.53125 56 \nQ 37.453125 56 38.578125 55.875 \nQ 39.703125 55.765625 41.0625 55.515625 \nz\n\" id=\"DejaVuSans-114\"/>\n      </defs>\n      <g transform=\"translate(183.290321 585.075625)scale(0.1 -0.1)\">\n       <use xlink:href=\"#DejaVuSans-76\"/>\n       <use x=\"55.712891\" xlink:href=\"#DejaVuSans-97\"/>\n       <use x=\"116.992188\" xlink:href=\"#DejaVuSans-107\"/>\n       <use x=\"174.855469\" xlink:href=\"#DejaVuSans-101\"/>\n       <use x=\"236.378906\" xlink:href=\"#DejaVuSans-32\"/>\n       <use x=\"268.166016\" xlink:href=\"#DejaVuSans-86\"/>\n       <use x=\"336.542969\" xlink:href=\"#DejaVuSans-105\"/>\n       <use x=\"364.326172\" xlink:href=\"#DejaVuSans-99\"/>\n       <use x=\"419.306641\" xlink:href=\"#DejaVuSans-116\"/>\n       <use x=\"458.515625\" xlink:href=\"#DejaVuSans-111\"/>\n       <use x=\"519.697266\" xlink:href=\"#DejaVuSans-114\"/>\n       <use x=\"560.810547\" xlink:href=\"#DejaVuSans-105\"/>\n       <use x=\"588.59375\" xlink:href=\"#DejaVuSans-97\"/>\n      </g>\n     </g>\n    </g>\n    <g id=\"xtick_3\">\n     <g id=\"line2d_3\">\n      <g>\n       <use style=\"stroke:#000000;stroke-width:0.8;\" x=\"302.74511\" xlink:href=\"#ma2929fa003\" y=\"570.477187\"/>\n      </g>\n     </g>\n     <g id=\"text_3\">\n      <!-- Pangani -->\n      <defs>\n       <path d=\"M 19.671875 64.796875 \nL 19.671875 37.40625 \nL 32.078125 37.40625 \nQ 38.96875 37.40625 42.71875 40.96875 \nQ 46.484375 44.53125 46.484375 51.125 \nQ 46.484375 57.671875 42.71875 61.234375 \nQ 38.96875 64.796875 32.078125 64.796875 \nz\nM 9.8125 72.90625 \nL 32.078125 72.90625 \nQ 44.34375 72.90625 50.609375 67.359375 \nQ 56.890625 61.8125 56.890625 51.125 \nQ 56.890625 40.328125 50.609375 34.8125 \nQ 44.34375 29.296875 32.078125 29.296875 \nL 19.671875 29.296875 \nL 19.671875 0 \nL 9.8125 0 \nz\n\" id=\"DejaVuSans-80\"/>\n       <path d=\"M 54.890625 33.015625 \nL 54.890625 0 \nL 45.90625 0 \nL 45.90625 32.71875 \nQ 45.90625 40.484375 42.875 44.328125 \nQ 39.84375 48.1875 33.796875 48.1875 \nQ 26.515625 48.1875 22.3125 43.546875 \nQ 18.109375 38.921875 18.109375 30.90625 \nL 18.109375 0 \nL 9.078125 0 \nL 9.078125 54.6875 \nL 18.109375 54.6875 \nL 18.109375 46.1875 \nQ 21.34375 51.125 25.703125 53.5625 \nQ 30.078125 56 35.796875 56 \nQ 45.21875 56 50.046875 50.171875 \nQ 54.890625 44.34375 54.890625 33.015625 \nz\n\" id=\"DejaVuSans-110\"/>\n       <path d=\"M 45.40625 27.984375 \nQ 45.40625 37.75 41.375 43.109375 \nQ 37.359375 48.484375 30.078125 48.484375 \nQ 22.859375 48.484375 18.828125 43.109375 \nQ 14.796875 37.75 14.796875 27.984375 \nQ 14.796875 18.265625 18.828125 12.890625 \nQ 22.859375 7.515625 30.078125 7.515625 \nQ 37.359375 7.515625 41.375 12.890625 \nQ 45.40625 18.265625 45.40625 27.984375 \nz\nM 54.390625 6.78125 \nQ 54.390625 -7.171875 48.1875 -13.984375 \nQ 42 -20.796875 29.203125 -20.796875 \nQ 24.46875 -20.796875 20.265625 -20.09375 \nQ 16.0625 -19.390625 12.109375 -17.921875 \nL 12.109375 -9.1875 \nQ 16.0625 -11.328125 19.921875 -12.34375 \nQ 23.78125 -13.375 27.78125 -13.375 \nQ 36.625 -13.375 41.015625 -8.765625 \nQ 45.40625 -4.15625 45.40625 5.171875 \nL 45.40625 9.625 \nQ 42.625 4.78125 38.28125 2.390625 \nQ 33.9375 0 27.875 0 \nQ 17.828125 0 11.671875 7.65625 \nQ 5.515625 15.328125 5.515625 27.984375 \nQ 5.515625 40.671875 11.671875 48.328125 \nQ 17.828125 56 27.875 56 \nQ 33.9375 56 38.28125 53.609375 \nQ 42.625 51.21875 45.40625 46.390625 \nL 45.40625 54.6875 \nL 54.390625 54.6875 \nz\n\" id=\"DejaVuSans-103\"/>\n      </defs>\n      <g transform=\"translate(282.704485 585.075625)scale(0.1 -0.1)\">\n       <use xlink:href=\"#DejaVuSans-80\"/>\n       <use x=\"60.240234\" xlink:href=\"#DejaVuSans-97\"/>\n       <use x=\"121.519531\" xlink:href=\"#DejaVuSans-110\"/>\n       <use x=\"184.898438\" xlink:href=\"#DejaVuSans-103\"/>\n       <use x=\"248.375\" xlink:href=\"#DejaVuSans-97\"/>\n       <use x=\"309.654297\" xlink:href=\"#DejaVuSans-110\"/>\n       <use x=\"373.033203\" xlink:href=\"#DejaVuSans-105\"/>\n      </g>\n     </g>\n    </g>\n    <g id=\"xtick_4\">\n     <g id=\"line2d_4\">\n      <g>\n       <use style=\"stroke:#000000;stroke-width:0.8;\" x=\"389.706149\" xlink:href=\"#ma2929fa003\" y=\"570.477187\"/>\n      </g>\n     </g>\n     <g id=\"text_4\">\n      <!-- Ruvuma / Southern Coast -->\n      <defs>\n       <path d=\"M 44.390625 34.1875 \nQ 47.5625 33.109375 50.5625 29.59375 \nQ 53.5625 26.078125 56.59375 19.921875 \nL 66.609375 0 \nL 56 0 \nL 46.6875 18.703125 \nQ 43.0625 26.03125 39.671875 28.421875 \nQ 36.28125 30.8125 30.421875 30.8125 \nL 19.671875 30.8125 \nL 19.671875 0 \nL 9.8125 0 \nL 9.8125 72.90625 \nL 32.078125 72.90625 \nQ 44.578125 72.90625 50.734375 67.671875 \nQ 56.890625 62.453125 56.890625 51.90625 \nQ 56.890625 45.015625 53.6875 40.46875 \nQ 50.484375 35.9375 44.390625 34.1875 \nz\nM 19.671875 64.796875 \nL 19.671875 38.921875 \nL 32.078125 38.921875 \nQ 39.203125 38.921875 42.84375 42.21875 \nQ 46.484375 45.515625 46.484375 51.90625 \nQ 46.484375 58.296875 42.84375 61.546875 \nQ 39.203125 64.796875 32.078125 64.796875 \nz\n\" id=\"DejaVuSans-82\"/>\n       <path d=\"M 8.5 21.578125 \nL 8.5 54.6875 \nL 17.484375 54.6875 \nL 17.484375 21.921875 \nQ 17.484375 14.15625 20.5 10.265625 \nQ 23.53125 6.390625 29.59375 6.390625 \nQ 36.859375 6.390625 41.078125 11.03125 \nQ 45.3125 15.671875 45.3125 23.6875 \nL 45.3125 54.6875 \nL 54.296875 54.6875 \nL 54.296875 0 \nL 45.3125 0 \nL 45.3125 8.40625 \nQ 42.046875 3.421875 37.71875 1 \nQ 33.40625 -1.421875 27.6875 -1.421875 \nQ 18.265625 -1.421875 13.375 4.4375 \nQ 8.5 10.296875 8.5 21.578125 \nz\nM 31.109375 56 \nz\n\" id=\"DejaVuSans-117\"/>\n       <path d=\"M 2.984375 54.6875 \nL 12.5 54.6875 \nL 29.59375 8.796875 \nL 46.6875 54.6875 \nL 56.203125 54.6875 \nL 35.6875 0 \nL 23.484375 0 \nz\n\" id=\"DejaVuSans-118\"/>\n       <path d=\"M 52 44.1875 \nQ 55.375 50.25 60.0625 53.125 \nQ 64.75 56 71.09375 56 \nQ 79.640625 56 84.28125 50.015625 \nQ 88.921875 44.046875 88.921875 33.015625 \nL 88.921875 0 \nL 79.890625 0 \nL 79.890625 32.71875 \nQ 79.890625 40.578125 77.09375 44.375 \nQ 74.3125 48.1875 68.609375 48.1875 \nQ 61.625 48.1875 57.5625 43.546875 \nQ 53.515625 38.921875 53.515625 30.90625 \nL 53.515625 0 \nL 44.484375 0 \nL 44.484375 32.71875 \nQ 44.484375 40.625 41.703125 44.40625 \nQ 38.921875 48.1875 33.109375 48.1875 \nQ 26.21875 48.1875 22.15625 43.53125 \nQ 18.109375 38.875 18.109375 30.90625 \nL 18.109375 0 \nL 9.078125 0 \nL 9.078125 54.6875 \nL 18.109375 54.6875 \nL 18.109375 46.1875 \nQ 21.1875 51.21875 25.484375 53.609375 \nQ 29.78125 56 35.6875 56 \nQ 41.65625 56 45.828125 52.96875 \nQ 50 49.953125 52 44.1875 \nz\n\" id=\"DejaVuSans-109\"/>\n       <path d=\"M 25.390625 72.90625 \nL 33.6875 72.90625 \nL 8.296875 -9.28125 \nL 0 -9.28125 \nz\n\" id=\"DejaVuSans-47\"/>\n       <path d=\"M 53.515625 70.515625 \nL 53.515625 60.890625 \nQ 47.90625 63.578125 42.921875 64.890625 \nQ 37.9375 66.21875 33.296875 66.21875 \nQ 25.25 66.21875 20.875 63.09375 \nQ 16.5 59.96875 16.5 54.203125 \nQ 16.5 49.359375 19.40625 46.890625 \nQ 22.3125 44.4375 30.421875 42.921875 \nL 36.375 41.703125 \nQ 47.40625 39.59375 52.65625 34.296875 \nQ 57.90625 29 57.90625 20.125 \nQ 57.90625 9.515625 50.796875 4.046875 \nQ 43.703125 -1.421875 29.984375 -1.421875 \nQ 24.8125 -1.421875 18.96875 -0.25 \nQ 13.140625 0.921875 6.890625 3.21875 \nL 6.890625 13.375 \nQ 12.890625 10.015625 18.65625 8.296875 \nQ 24.421875 6.59375 29.984375 6.59375 \nQ 38.421875 6.59375 43.015625 9.90625 \nQ 47.609375 13.234375 47.609375 19.390625 \nQ 47.609375 24.75 44.3125 27.78125 \nQ 41.015625 30.8125 33.5 32.328125 \nL 27.484375 33.5 \nQ 16.453125 35.6875 11.515625 40.375 \nQ 6.59375 45.0625 6.59375 53.421875 \nQ 6.59375 63.09375 13.40625 68.65625 \nQ 20.21875 74.21875 32.171875 74.21875 \nQ 37.3125 74.21875 42.625 73.28125 \nQ 47.953125 72.359375 53.515625 70.515625 \nz\n\" id=\"DejaVuSans-83\"/>\n       <path d=\"M 54.890625 33.015625 \nL 54.890625 0 \nL 45.90625 0 \nL 45.90625 32.71875 \nQ 45.90625 40.484375 42.875 44.328125 \nQ 39.84375 48.1875 33.796875 48.1875 \nQ 26.515625 48.1875 22.3125 43.546875 \nQ 18.109375 38.921875 18.109375 30.90625 \nL 18.109375 0 \nL 9.078125 0 \nL 9.078125 75.984375 \nL 18.109375 75.984375 \nL 18.109375 46.1875 \nQ 21.34375 51.125 25.703125 53.5625 \nQ 30.078125 56 35.796875 56 \nQ 45.21875 56 50.046875 50.171875 \nQ 54.890625 44.34375 54.890625 33.015625 \nz\n\" id=\"DejaVuSans-104\"/>\n       <path d=\"M 64.40625 67.28125 \nL 64.40625 56.890625 \nQ 59.421875 61.53125 53.78125 63.8125 \nQ 48.140625 66.109375 41.796875 66.109375 \nQ 29.296875 66.109375 22.65625 58.46875 \nQ 16.015625 50.828125 16.015625 36.375 \nQ 16.015625 21.96875 22.65625 14.328125 \nQ 29.296875 6.6875 41.796875 6.6875 \nQ 48.140625 6.6875 53.78125 8.984375 \nQ 59.421875 11.28125 64.40625 15.921875 \nL 64.40625 5.609375 \nQ 59.234375 2.09375 53.4375 0.328125 \nQ 47.65625 -1.421875 41.21875 -1.421875 \nQ 24.65625 -1.421875 15.125 8.703125 \nQ 5.609375 18.84375 5.609375 36.375 \nQ 5.609375 53.953125 15.125 64.078125 \nQ 24.65625 74.21875 41.21875 74.21875 \nQ 47.75 74.21875 53.53125 72.484375 \nQ 59.328125 70.75 64.40625 67.28125 \nz\n\" id=\"DejaVuSans-67\"/>\n      </defs>\n      <g transform=\"translate(325.541305 585.075625)scale(0.1 -0.1)\">\n       <use xlink:href=\"#DejaVuSans-82\"/>\n       <use x=\"69.419922\" xlink:href=\"#DejaVuSans-117\"/>\n       <use x=\"132.798828\" xlink:href=\"#DejaVuSans-118\"/>\n       <use x=\"191.978516\" xlink:href=\"#DejaVuSans-117\"/>\n       <use x=\"255.357422\" xlink:href=\"#DejaVuSans-109\"/>\n       <use x=\"352.769531\" xlink:href=\"#DejaVuSans-97\"/>\n       <use x=\"414.048828\" xlink:href=\"#DejaVuSans-32\"/>\n       <use x=\"445.835938\" xlink:href=\"#DejaVuSans-47\"/>\n       <use x=\"479.527344\" xlink:href=\"#DejaVuSans-32\"/>\n       <use x=\"511.314453\" xlink:href=\"#DejaVuSans-83\"/>\n       <use x=\"574.791016\" xlink:href=\"#DejaVuSans-111\"/>\n       <use x=\"635.972656\" xlink:href=\"#DejaVuSans-117\"/>\n       <use x=\"699.351562\" xlink:href=\"#DejaVuSans-116\"/>\n       <use x=\"738.560547\" xlink:href=\"#DejaVuSans-104\"/>\n       <use x=\"801.939453\" xlink:href=\"#DejaVuSans-101\"/>\n       <use x=\"863.462891\" xlink:href=\"#DejaVuSans-114\"/>\n       <use x=\"904.560547\" xlink:href=\"#DejaVuSans-110\"/>\n       <use x=\"967.939453\" xlink:href=\"#DejaVuSans-32\"/>\n       <use x=\"999.726562\" xlink:href=\"#DejaVuSans-67\"/>\n       <use x=\"1069.550781\" xlink:href=\"#DejaVuSans-111\"/>\n       <use x=\"1130.732422\" xlink:href=\"#DejaVuSans-97\"/>\n       <use x=\"1192.011719\" xlink:href=\"#DejaVuSans-115\"/>\n       <use x=\"1244.111328\" xlink:href=\"#DejaVuSans-116\"/>\n      </g>\n     </g>\n    </g>\n    <g id=\"xtick_5\">\n     <g id=\"line2d_5\">\n      <g>\n       <use style=\"stroke:#000000;stroke-width:0.8;\" x=\"476.667188\" xlink:href=\"#ma2929fa003\" y=\"570.477187\"/>\n      </g>\n     </g>\n     <g id=\"text_5\">\n      <!-- Internal -->\n      <defs>\n       <path d=\"M 9.8125 72.90625 \nL 19.671875 72.90625 \nL 19.671875 0 \nL 9.8125 0 \nz\n\" id=\"DejaVuSans-73\"/>\n       <path d=\"M 9.421875 75.984375 \nL 18.40625 75.984375 \nL 18.40625 0 \nL 9.421875 0 \nz\n\" id=\"DejaVuSans-108\"/>\n      </defs>\n      <g transform=\"translate(457.310156 585.075625)scale(0.1 -0.1)\">\n       <use xlink:href=\"#DejaVuSans-73\"/>\n       <use x=\"29.492188\" xlink:href=\"#DejaVuSans-110\"/>\n       <use x=\"92.871094\" xlink:href=\"#DejaVuSans-116\"/>\n       <use x=\"132.080078\" xlink:href=\"#DejaVuSans-101\"/>\n       <use x=\"193.603516\" xlink:href=\"#DejaVuSans-114\"/>\n       <use x=\"234.701172\" xlink:href=\"#DejaVuSans-110\"/>\n       <use x=\"298.080078\" xlink:href=\"#DejaVuSans-97\"/>\n       <use x=\"359.359375\" xlink:href=\"#DejaVuSans-108\"/>\n      </g>\n     </g>\n    </g>\n    <g id=\"xtick_6\">\n     <g id=\"line2d_6\">\n      <g>\n       <use style=\"stroke:#000000;stroke-width:0.8;\" x=\"563.628226\" xlink:href=\"#ma2929fa003\" y=\"570.477187\"/>\n      </g>\n     </g>\n     <g id=\"text_6\">\n      <!-- Lake Tanganyika -->\n      <defs>\n       <path d=\"M -0.296875 72.90625 \nL 61.375 72.90625 \nL 61.375 64.59375 \nL 35.5 64.59375 \nL 35.5 0 \nL 25.59375 0 \nL 25.59375 64.59375 \nL -0.296875 64.59375 \nz\n\" id=\"DejaVuSans-84\"/>\n      </defs>\n      <g transform=\"translate(521.231351 585.075625)scale(0.1 -0.1)\">\n       <use xlink:href=\"#DejaVuSans-76\"/>\n       <use x=\"55.712891\" xlink:href=\"#DejaVuSans-97\"/>\n       <use x=\"116.992188\" xlink:href=\"#DejaVuSans-107\"/>\n       <use x=\"174.855469\" xlink:href=\"#DejaVuSans-101\"/>\n       <use x=\"236.378906\" xlink:href=\"#DejaVuSans-32\"/>\n       <use x=\"268.166016\" xlink:href=\"#DejaVuSans-84\"/>\n       <use x=\"329\" xlink:href=\"#DejaVuSans-97\"/>\n       <use x=\"390.279297\" xlink:href=\"#DejaVuSans-110\"/>\n       <use x=\"453.658203\" xlink:href=\"#DejaVuSans-103\"/>\n       <use x=\"517.134766\" xlink:href=\"#DejaVuSans-97\"/>\n       <use x=\"578.414062\" xlink:href=\"#DejaVuSans-110\"/>\n       <use x=\"641.792969\" xlink:href=\"#DejaVuSans-121\"/>\n       <use x=\"700.972656\" xlink:href=\"#DejaVuSans-105\"/>\n       <use x=\"728.755859\" xlink:href=\"#DejaVuSans-107\"/>\n       <use x=\"786.650391\" xlink:href=\"#DejaVuSans-97\"/>\n      </g>\n     </g>\n    </g>\n    <g id=\"xtick_7\">\n     <g id=\"line2d_7\">\n      <g>\n       <use style=\"stroke:#000000;stroke-width:0.8;\" x=\"650.589265\" xlink:href=\"#ma2929fa003\" y=\"570.477187\"/>\n      </g>\n     </g>\n     <g id=\"text_7\">\n      <!-- Wami / Ruvu -->\n      <defs>\n       <path d=\"M 3.328125 72.90625 \nL 13.28125 72.90625 \nL 28.609375 11.28125 \nL 43.890625 72.90625 \nL 54.984375 72.90625 \nL 70.3125 11.28125 \nL 85.59375 72.90625 \nL 95.609375 72.90625 \nL 77.296875 0 \nL 64.890625 0 \nL 49.515625 63.28125 \nL 33.984375 0 \nL 21.578125 0 \nz\n\" id=\"DejaVuSans-87\"/>\n      </defs>\n      <g transform=\"translate(618.696297 585.075625)scale(0.1 -0.1)\">\n       <use xlink:href=\"#DejaVuSans-87\"/>\n       <use x=\"98.783203\" xlink:href=\"#DejaVuSans-97\"/>\n       <use x=\"160.0625\" xlink:href=\"#DejaVuSans-109\"/>\n       <use x=\"257.474609\" xlink:href=\"#DejaVuSans-105\"/>\n       <use x=\"285.257812\" xlink:href=\"#DejaVuSans-32\"/>\n       <use x=\"317.044922\" xlink:href=\"#DejaVuSans-47\"/>\n       <use x=\"350.736328\" xlink:href=\"#DejaVuSans-32\"/>\n       <use x=\"382.523438\" xlink:href=\"#DejaVuSans-82\"/>\n       <use x=\"451.943359\" xlink:href=\"#DejaVuSans-117\"/>\n       <use x=\"515.322266\" xlink:href=\"#DejaVuSans-118\"/>\n       <use x=\"574.501953\" xlink:href=\"#DejaVuSans-117\"/>\n      </g>\n     </g>\n    </g>\n    <g id=\"xtick_8\">\n     <g id=\"line2d_8\">\n      <g>\n       <use style=\"stroke:#000000;stroke-width:0.8;\" x=\"737.550304\" xlink:href=\"#ma2929fa003\" y=\"570.477187\"/>\n      </g>\n     </g>\n     <g id=\"text_8\">\n      <!-- Rufiji -->\n      <defs>\n       <path d=\"M 37.109375 75.984375 \nL 37.109375 68.5 \nL 28.515625 68.5 \nQ 23.6875 68.5 21.796875 66.546875 \nQ 19.921875 64.59375 19.921875 59.515625 \nL 19.921875 54.6875 \nL 34.71875 54.6875 \nL 34.71875 47.703125 \nL 19.921875 47.703125 \nL 19.921875 0 \nL 10.890625 0 \nL 10.890625 47.703125 \nL 2.296875 47.703125 \nL 2.296875 54.6875 \nL 10.890625 54.6875 \nL 10.890625 58.5 \nQ 10.890625 67.625 15.140625 71.796875 \nQ 19.390625 75.984375 28.609375 75.984375 \nz\n\" id=\"DejaVuSans-102\"/>\n       <path d=\"M 9.421875 54.6875 \nL 18.40625 54.6875 \nL 18.40625 -0.984375 \nQ 18.40625 -11.421875 14.421875 -16.109375 \nQ 10.453125 -20.796875 1.609375 -20.796875 \nL -1.8125 -20.796875 \nL -1.8125 -13.1875 \nL 0.59375 -13.1875 \nQ 5.71875 -13.1875 7.5625 -10.8125 \nQ 9.421875 -8.453125 9.421875 -0.984375 \nz\nM 9.421875 75.984375 \nL 18.40625 75.984375 \nL 18.40625 64.59375 \nL 9.421875 64.59375 \nz\n\" id=\"DejaVuSans-106\"/>\n      </defs>\n      <g transform=\"translate(724.983117 585.075625)scale(0.1 -0.1)\">\n       <use xlink:href=\"#DejaVuSans-82\"/>\n       <use x=\"69.419922\" xlink:href=\"#DejaVuSans-117\"/>\n       <use x=\"132.798828\" xlink:href=\"#DejaVuSans-102\"/>\n       <use x=\"168.003906\" xlink:href=\"#DejaVuSans-105\"/>\n       <use x=\"195.787109\" xlink:href=\"#DejaVuSans-106\"/>\n       <use x=\"223.570312\" xlink:href=\"#DejaVuSans-105\"/>\n      </g>\n     </g>\n    </g>\n    <g id=\"xtick_9\">\n     <g id=\"line2d_9\">\n      <g>\n       <use style=\"stroke:#000000;stroke-width:0.8;\" x=\"824.511343\" xlink:href=\"#ma2929fa003\" y=\"570.477187\"/>\n      </g>\n     </g>\n     <g id=\"text_9\">\n      <!-- Lake Rukwa -->\n      <defs>\n       <path d=\"M 4.203125 54.6875 \nL 13.1875 54.6875 \nL 24.421875 12.015625 \nL 35.59375 54.6875 \nL 46.1875 54.6875 \nL 57.421875 12.015625 \nL 68.609375 54.6875 \nL 77.59375 54.6875 \nL 63.28125 0 \nL 52.6875 0 \nL 40.921875 44.828125 \nL 29.109375 0 \nL 18.5 0 \nz\n\" id=\"DejaVuSans-119\"/>\n      </defs>\n      <g transform=\"translate(794.414468 585.075625)scale(0.1 -0.1)\">\n       <use xlink:href=\"#DejaVuSans-76\"/>\n       <use x=\"55.712891\" xlink:href=\"#DejaVuSans-97\"/>\n       <use x=\"116.992188\" xlink:href=\"#DejaVuSans-107\"/>\n       <use x=\"174.855469\" xlink:href=\"#DejaVuSans-101\"/>\n       <use x=\"236.378906\" xlink:href=\"#DejaVuSans-32\"/>\n       <use x=\"268.166016\" xlink:href=\"#DejaVuSans-82\"/>\n       <use x=\"337.585938\" xlink:href=\"#DejaVuSans-117\"/>\n       <use x=\"400.964844\" xlink:href=\"#DejaVuSans-107\"/>\n       <use x=\"458.875\" xlink:href=\"#DejaVuSans-119\"/>\n       <use x=\"540.662109\" xlink:href=\"#DejaVuSans-97\"/>\n      </g>\n     </g>\n    </g>\n    <g id=\"text_10\">\n     <!-- Basin Categories -->\n     <defs>\n      <path d=\"M 19.671875 34.8125 \nL 19.671875 8.109375 \nL 35.5 8.109375 \nQ 43.453125 8.109375 47.28125 11.40625 \nQ 51.125 14.703125 51.125 21.484375 \nQ 51.125 28.328125 47.28125 31.5625 \nQ 43.453125 34.8125 35.5 34.8125 \nz\nM 19.671875 64.796875 \nL 19.671875 42.828125 \nL 34.28125 42.828125 \nQ 41.5 42.828125 45.03125 45.53125 \nQ 48.578125 48.25 48.578125 53.8125 \nQ 48.578125 59.328125 45.03125 62.0625 \nQ 41.5 64.796875 34.28125 64.796875 \nz\nM 9.8125 72.90625 \nL 35.015625 72.90625 \nQ 46.296875 72.90625 52.390625 68.21875 \nQ 58.5 63.53125 58.5 54.890625 \nQ 58.5 48.1875 55.375 44.234375 \nQ 52.25 40.28125 46.1875 39.3125 \nQ 53.46875 37.75 57.5 32.78125 \nQ 61.53125 27.828125 61.53125 20.40625 \nQ 61.53125 10.640625 54.890625 5.3125 \nQ 48.25 0 35.984375 0 \nL 9.8125 0 \nz\n\" id=\"DejaVuSans-66\"/>\n     </defs>\n     <g transform=\"translate(413.370703 602.552969)scale(0.15 -0.15)\">\n      <use xlink:href=\"#DejaVuSans-66\"/>\n      <use x=\"68.603516\" xlink:href=\"#DejaVuSans-97\"/>\n      <use x=\"129.882812\" xlink:href=\"#DejaVuSans-115\"/>\n      <use x=\"181.982422\" xlink:href=\"#DejaVuSans-105\"/>\n      <use x=\"209.765625\" xlink:href=\"#DejaVuSans-110\"/>\n      <use x=\"273.144531\" xlink:href=\"#DejaVuSans-32\"/>\n      <use x=\"304.931641\" xlink:href=\"#DejaVuSans-67\"/>\n      <use x=\"374.755859\" xlink:href=\"#DejaVuSans-97\"/>\n      <use x=\"436.035156\" xlink:href=\"#DejaVuSans-116\"/>\n      <use x=\"475.244141\" xlink:href=\"#DejaVuSans-101\"/>\n      <use x=\"536.767578\" xlink:href=\"#DejaVuSans-103\"/>\n      <use x=\"600.244141\" xlink:href=\"#DejaVuSans-111\"/>\n      <use x=\"661.425781\" xlink:href=\"#DejaVuSans-114\"/>\n      <use x=\"702.539062\" xlink:href=\"#DejaVuSans-105\"/>\n      <use x=\"730.322266\" xlink:href=\"#DejaVuSans-101\"/>\n      <use x=\"791.845703\" xlink:href=\"#DejaVuSans-115\"/>\n     </g>\n    </g>\n   </g>\n   <g id=\"matplotlib.axis_2\">\n    <g id=\"ytick_1\">\n     <g id=\"line2d_10\">\n      <defs>\n       <path d=\"M 0 0 \nL -3.5 0 \n\" id=\"mc77fc6844a\" style=\"stroke:#000000;stroke-width:0.8;\"/>\n      </defs>\n      <g>\n       <use style=\"stroke:#000000;stroke-width:0.8;\" x=\"58.167188\" xlink:href=\"#mc77fc6844a\" y=\"570.477187\"/>\n      </g>\n     </g>\n     <g id=\"text_11\">\n      <!-- 0 -->\n      <defs>\n       <path d=\"M 31.78125 66.40625 \nQ 24.171875 66.40625 20.328125 58.90625 \nQ 16.5 51.421875 16.5 36.375 \nQ 16.5 21.390625 20.328125 13.890625 \nQ 24.171875 6.390625 31.78125 6.390625 \nQ 39.453125 6.390625 43.28125 13.890625 \nQ 47.125 21.390625 47.125 36.375 \nQ 47.125 51.421875 43.28125 58.90625 \nQ 39.453125 66.40625 31.78125 66.40625 \nz\nM 31.78125 74.21875 \nQ 44.046875 74.21875 50.515625 64.515625 \nQ 56.984375 54.828125 56.984375 36.375 \nQ 56.984375 17.96875 50.515625 8.265625 \nQ 44.046875 -1.421875 31.78125 -1.421875 \nQ 19.53125 -1.421875 13.0625 8.265625 \nQ 6.59375 17.96875 6.59375 36.375 \nQ 6.59375 54.828125 13.0625 64.515625 \nQ 19.53125 74.21875 31.78125 74.21875 \nz\n\" id=\"DejaVuSans-48\"/>\n      </defs>\n      <g transform=\"translate(44.804688 574.276406)scale(0.1 -0.1)\">\n       <use xlink:href=\"#DejaVuSans-48\"/>\n      </g>\n     </g>\n    </g>\n    <g id=\"ytick_2\">\n     <g id=\"line2d_11\">\n      <g>\n       <use style=\"stroke:#000000;stroke-width:0.8;\" x=\"58.167188\" xlink:href=\"#mc77fc6844a\" y=\"474.104461\"/>\n      </g>\n     </g>\n     <g id=\"text_12\">\n      <!-- 1000 -->\n      <defs>\n       <path d=\"M 12.40625 8.296875 \nL 28.515625 8.296875 \nL 28.515625 63.921875 \nL 10.984375 60.40625 \nL 10.984375 69.390625 \nL 28.421875 72.90625 \nL 38.28125 72.90625 \nL 38.28125 8.296875 \nL 54.390625 8.296875 \nL 54.390625 0 \nL 12.40625 0 \nz\n\" id=\"DejaVuSans-49\"/>\n      </defs>\n      <g transform=\"translate(25.717188 477.90368)scale(0.1 -0.1)\">\n       <use xlink:href=\"#DejaVuSans-49\"/>\n       <use x=\"63.623047\" xlink:href=\"#DejaVuSans-48\"/>\n       <use x=\"127.246094\" xlink:href=\"#DejaVuSans-48\"/>\n       <use x=\"190.869141\" xlink:href=\"#DejaVuSans-48\"/>\n      </g>\n     </g>\n    </g>\n    <g id=\"ytick_3\">\n     <g id=\"line2d_12\">\n      <g>\n       <use style=\"stroke:#000000;stroke-width:0.8;\" x=\"58.167188\" xlink:href=\"#mc77fc6844a\" y=\"377.731735\"/>\n      </g>\n     </g>\n     <g id=\"text_13\">\n      <!-- 2000 -->\n      <defs>\n       <path d=\"M 19.1875 8.296875 \nL 53.609375 8.296875 \nL 53.609375 0 \nL 7.328125 0 \nL 7.328125 8.296875 \nQ 12.9375 14.109375 22.625 23.890625 \nQ 32.328125 33.6875 34.8125 36.53125 \nQ 39.546875 41.84375 41.421875 45.53125 \nQ 43.3125 49.21875 43.3125 52.78125 \nQ 43.3125 58.59375 39.234375 62.25 \nQ 35.15625 65.921875 28.609375 65.921875 \nQ 23.96875 65.921875 18.8125 64.3125 \nQ 13.671875 62.703125 7.8125 59.421875 \nL 7.8125 69.390625 \nQ 13.765625 71.78125 18.9375 73 \nQ 24.125 74.21875 28.421875 74.21875 \nQ 39.75 74.21875 46.484375 68.546875 \nQ 53.21875 62.890625 53.21875 53.421875 \nQ 53.21875 48.921875 51.53125 44.890625 \nQ 49.859375 40.875 45.40625 35.40625 \nQ 44.1875 33.984375 37.640625 27.21875 \nQ 31.109375 20.453125 19.1875 8.296875 \nz\n\" id=\"DejaVuSans-50\"/>\n      </defs>\n      <g transform=\"translate(25.717188 381.530954)scale(0.1 -0.1)\">\n       <use xlink:href=\"#DejaVuSans-50\"/>\n       <use x=\"63.623047\" xlink:href=\"#DejaVuSans-48\"/>\n       <use x=\"127.246094\" xlink:href=\"#DejaVuSans-48\"/>\n       <use x=\"190.869141\" xlink:href=\"#DejaVuSans-48\"/>\n      </g>\n     </g>\n    </g>\n    <g id=\"ytick_4\">\n     <g id=\"line2d_13\">\n      <g>\n       <use style=\"stroke:#000000;stroke-width:0.8;\" x=\"58.167188\" xlink:href=\"#mc77fc6844a\" y=\"281.359009\"/>\n      </g>\n     </g>\n     <g id=\"text_14\">\n      <!-- 3000 -->\n      <defs>\n       <path d=\"M 40.578125 39.3125 \nQ 47.65625 37.796875 51.625 33 \nQ 55.609375 28.21875 55.609375 21.1875 \nQ 55.609375 10.40625 48.1875 4.484375 \nQ 40.765625 -1.421875 27.09375 -1.421875 \nQ 22.515625 -1.421875 17.65625 -0.515625 \nQ 12.796875 0.390625 7.625 2.203125 \nL 7.625 11.71875 \nQ 11.71875 9.328125 16.59375 8.109375 \nQ 21.484375 6.890625 26.8125 6.890625 \nQ 36.078125 6.890625 40.9375 10.546875 \nQ 45.796875 14.203125 45.796875 21.1875 \nQ 45.796875 27.640625 41.28125 31.265625 \nQ 36.765625 34.90625 28.71875 34.90625 \nL 20.21875 34.90625 \nL 20.21875 43.015625 \nL 29.109375 43.015625 \nQ 36.375 43.015625 40.234375 45.921875 \nQ 44.09375 48.828125 44.09375 54.296875 \nQ 44.09375 59.90625 40.109375 62.90625 \nQ 36.140625 65.921875 28.71875 65.921875 \nQ 24.65625 65.921875 20.015625 65.03125 \nQ 15.375 64.15625 9.8125 62.3125 \nL 9.8125 71.09375 \nQ 15.4375 72.65625 20.34375 73.4375 \nQ 25.25 74.21875 29.59375 74.21875 \nQ 40.828125 74.21875 47.359375 69.109375 \nQ 53.90625 64.015625 53.90625 55.328125 \nQ 53.90625 49.265625 50.4375 45.09375 \nQ 46.96875 40.921875 40.578125 39.3125 \nz\n\" id=\"DejaVuSans-51\"/>\n      </defs>\n      <g transform=\"translate(25.717188 285.158227)scale(0.1 -0.1)\">\n       <use xlink:href=\"#DejaVuSans-51\"/>\n       <use x=\"63.623047\" xlink:href=\"#DejaVuSans-48\"/>\n       <use x=\"127.246094\" xlink:href=\"#DejaVuSans-48\"/>\n       <use x=\"190.869141\" xlink:href=\"#DejaVuSans-48\"/>\n      </g>\n     </g>\n    </g>\n    <g id=\"ytick_5\">\n     <g id=\"line2d_14\">\n      <g>\n       <use style=\"stroke:#000000;stroke-width:0.8;\" x=\"58.167188\" xlink:href=\"#mc77fc6844a\" y=\"184.986282\"/>\n      </g>\n     </g>\n     <g id=\"text_15\">\n      <!-- 4000 -->\n      <defs>\n       <path d=\"M 37.796875 64.3125 \nL 12.890625 25.390625 \nL 37.796875 25.390625 \nz\nM 35.203125 72.90625 \nL 47.609375 72.90625 \nL 47.609375 25.390625 \nL 58.015625 25.390625 \nL 58.015625 17.1875 \nL 47.609375 17.1875 \nL 47.609375 0 \nL 37.796875 0 \nL 37.796875 17.1875 \nL 4.890625 17.1875 \nL 4.890625 26.703125 \nz\n\" id=\"DejaVuSans-52\"/>\n      </defs>\n      <g transform=\"translate(25.717188 188.785501)scale(0.1 -0.1)\">\n       <use xlink:href=\"#DejaVuSans-52\"/>\n       <use x=\"63.623047\" xlink:href=\"#DejaVuSans-48\"/>\n       <use x=\"127.246094\" xlink:href=\"#DejaVuSans-48\"/>\n       <use x=\"190.869141\" xlink:href=\"#DejaVuSans-48\"/>\n      </g>\n     </g>\n    </g>\n    <g id=\"ytick_6\">\n     <g id=\"line2d_15\">\n      <g>\n       <use style=\"stroke:#000000;stroke-width:0.8;\" x=\"58.167188\" xlink:href=\"#mc77fc6844a\" y=\"88.613556\"/>\n      </g>\n     </g>\n     <g id=\"text_16\">\n      <!-- 5000 -->\n      <defs>\n       <path d=\"M 10.796875 72.90625 \nL 49.515625 72.90625 \nL 49.515625 64.59375 \nL 19.828125 64.59375 \nL 19.828125 46.734375 \nQ 21.96875 47.46875 24.109375 47.828125 \nQ 26.265625 48.1875 28.421875 48.1875 \nQ 40.625 48.1875 47.75 41.5 \nQ 54.890625 34.8125 54.890625 23.390625 \nQ 54.890625 11.625 47.5625 5.09375 \nQ 40.234375 -1.421875 26.90625 -1.421875 \nQ 22.3125 -1.421875 17.546875 -0.640625 \nQ 12.796875 0.140625 7.71875 1.703125 \nL 7.71875 11.625 \nQ 12.109375 9.234375 16.796875 8.0625 \nQ 21.484375 6.890625 26.703125 6.890625 \nQ 35.15625 6.890625 40.078125 11.328125 \nQ 45.015625 15.765625 45.015625 23.390625 \nQ 45.015625 31 40.078125 35.4375 \nQ 35.15625 39.890625 26.703125 39.890625 \nQ 22.75 39.890625 18.8125 39.015625 \nQ 14.890625 38.140625 10.796875 36.28125 \nz\n\" id=\"DejaVuSans-53\"/>\n      </defs>\n      <g transform=\"translate(25.717188 92.412775)scale(0.1 -0.1)\">\n       <use xlink:href=\"#DejaVuSans-53\"/>\n       <use x=\"63.623047\" xlink:href=\"#DejaVuSans-48\"/>\n       <use x=\"127.246094\" xlink:href=\"#DejaVuSans-48\"/>\n       <use x=\"190.869141\" xlink:href=\"#DejaVuSans-48\"/>\n      </g>\n     </g>\n    </g>\n    <g id=\"text_17\">\n     <!-- Number of Pumps -->\n     <defs>\n      <path d=\"M 48.6875 27.296875 \nQ 48.6875 37.203125 44.609375 42.84375 \nQ 40.53125 48.484375 33.40625 48.484375 \nQ 26.265625 48.484375 22.1875 42.84375 \nQ 18.109375 37.203125 18.109375 27.296875 \nQ 18.109375 17.390625 22.1875 11.75 \nQ 26.265625 6.109375 33.40625 6.109375 \nQ 40.53125 6.109375 44.609375 11.75 \nQ 48.6875 17.390625 48.6875 27.296875 \nz\nM 18.109375 46.390625 \nQ 20.953125 51.265625 25.265625 53.625 \nQ 29.59375 56 35.59375 56 \nQ 45.5625 56 51.78125 48.09375 \nQ 58.015625 40.1875 58.015625 27.296875 \nQ 58.015625 14.40625 51.78125 6.484375 \nQ 45.5625 -1.421875 35.59375 -1.421875 \nQ 29.59375 -1.421875 25.265625 0.953125 \nQ 20.953125 3.328125 18.109375 8.203125 \nL 18.109375 0 \nL 9.078125 0 \nL 9.078125 75.984375 \nL 18.109375 75.984375 \nz\n\" id=\"DejaVuSans-98\"/>\n      <path d=\"M 18.109375 8.203125 \nL 18.109375 -20.796875 \nL 9.078125 -20.796875 \nL 9.078125 54.6875 \nL 18.109375 54.6875 \nL 18.109375 46.390625 \nQ 20.953125 51.265625 25.265625 53.625 \nQ 29.59375 56 35.59375 56 \nQ 45.5625 56 51.78125 48.09375 \nQ 58.015625 40.1875 58.015625 27.296875 \nQ 58.015625 14.40625 51.78125 6.484375 \nQ 45.5625 -1.421875 35.59375 -1.421875 \nQ 29.59375 -1.421875 25.265625 0.953125 \nQ 20.953125 3.328125 18.109375 8.203125 \nz\nM 48.6875 27.296875 \nQ 48.6875 37.203125 44.609375 42.84375 \nQ 40.53125 48.484375 33.40625 48.484375 \nQ 26.265625 48.484375 22.1875 42.84375 \nQ 18.109375 37.203125 18.109375 27.296875 \nQ 18.109375 17.390625 22.1875 11.75 \nQ 26.265625 6.109375 33.40625 6.109375 \nQ 40.53125 6.109375 44.609375 11.75 \nQ 48.6875 17.390625 48.6875 27.296875 \nz\n\" id=\"DejaVuSans-112\"/>\n     </defs>\n     <g transform=\"translate(18.597656 366.050625)rotate(-90)scale(0.15 -0.15)\">\n      <use xlink:href=\"#DejaVuSans-78\"/>\n      <use x=\"74.804688\" xlink:href=\"#DejaVuSans-117\"/>\n      <use x=\"138.183594\" xlink:href=\"#DejaVuSans-109\"/>\n      <use x=\"235.595703\" xlink:href=\"#DejaVuSans-98\"/>\n      <use x=\"299.072266\" xlink:href=\"#DejaVuSans-101\"/>\n      <use x=\"360.595703\" xlink:href=\"#DejaVuSans-114\"/>\n      <use x=\"401.708984\" xlink:href=\"#DejaVuSans-32\"/>\n      <use x=\"433.496094\" xlink:href=\"#DejaVuSans-111\"/>\n      <use x=\"494.677734\" xlink:href=\"#DejaVuSans-102\"/>\n      <use x=\"529.882812\" xlink:href=\"#DejaVuSans-32\"/>\n      <use x=\"561.669922\" xlink:href=\"#DejaVuSans-80\"/>\n      <use x=\"621.957031\" xlink:href=\"#DejaVuSans-117\"/>\n      <use x=\"685.335938\" xlink:href=\"#DejaVuSans-109\"/>\n      <use x=\"782.748047\" xlink:href=\"#DejaVuSans-112\"/>\n      <use x=\"846.224609\" xlink:href=\"#DejaVuSans-115\"/>\n     </g>\n    </g>\n   </g>\n   <g id=\"patch_30\">\n    <path d=\"M 58.167188 570.477187 \nL 58.167188 26.877187 \n\" style=\"fill:none;stroke:#000000;stroke-linecap:square;stroke-linejoin:miter;stroke-width:0.8;\"/>\n   </g>\n   <g id=\"patch_31\">\n    <path d=\"M 895.167187 570.477187 \nL 895.167187 26.877187 \n\" style=\"fill:none;stroke:#000000;stroke-linecap:square;stroke-linejoin:miter;stroke-width:0.8;\"/>\n   </g>\n   <g id=\"patch_32\">\n    <path d=\"M 58.167188 570.477187 \nL 895.167188 570.477187 \n\" style=\"fill:none;stroke:#000000;stroke-linecap:square;stroke-linejoin:miter;stroke-width:0.8;\"/>\n   </g>\n   <g id=\"patch_33\">\n    <path d=\"M 58.167188 26.877187 \nL 895.167188 26.877187 \n\" style=\"fill:none;stroke:#000000;stroke-linecap:square;stroke-linejoin:miter;stroke-width:0.8;\"/>\n   </g>\n   <g id=\"text_18\">\n    <!-- Number of Pumps Per Basin Category -->\n    <g transform=\"translate(306.882187 20.877187)scale(0.18 -0.18)\">\n     <use xlink:href=\"#DejaVuSans-78\"/>\n     <use x=\"74.804688\" xlink:href=\"#DejaVuSans-117\"/>\n     <use x=\"138.183594\" xlink:href=\"#DejaVuSans-109\"/>\n     <use x=\"235.595703\" xlink:href=\"#DejaVuSans-98\"/>\n     <use x=\"299.072266\" xlink:href=\"#DejaVuSans-101\"/>\n     <use x=\"360.595703\" xlink:href=\"#DejaVuSans-114\"/>\n     <use x=\"401.708984\" xlink:href=\"#DejaVuSans-32\"/>\n     <use x=\"433.496094\" xlink:href=\"#DejaVuSans-111\"/>\n     <use x=\"494.677734\" xlink:href=\"#DejaVuSans-102\"/>\n     <use x=\"529.882812\" xlink:href=\"#DejaVuSans-32\"/>\n     <use x=\"561.669922\" xlink:href=\"#DejaVuSans-80\"/>\n     <use x=\"621.957031\" xlink:href=\"#DejaVuSans-117\"/>\n     <use x=\"685.335938\" xlink:href=\"#DejaVuSans-109\"/>\n     <use x=\"782.748047\" xlink:href=\"#DejaVuSans-112\"/>\n     <use x=\"846.224609\" xlink:href=\"#DejaVuSans-115\"/>\n     <use x=\"898.324219\" xlink:href=\"#DejaVuSans-32\"/>\n     <use x=\"930.111328\" xlink:href=\"#DejaVuSans-80\"/>\n     <use x=\"990.367188\" xlink:href=\"#DejaVuSans-101\"/>\n     <use x=\"1051.890625\" xlink:href=\"#DejaVuSans-114\"/>\n     <use x=\"1093.003906\" xlink:href=\"#DejaVuSans-32\"/>\n     <use x=\"1124.791016\" xlink:href=\"#DejaVuSans-66\"/>\n     <use x=\"1193.394531\" xlink:href=\"#DejaVuSans-97\"/>\n     <use x=\"1254.673828\" xlink:href=\"#DejaVuSans-115\"/>\n     <use x=\"1306.773438\" xlink:href=\"#DejaVuSans-105\"/>\n     <use x=\"1334.556641\" xlink:href=\"#DejaVuSans-110\"/>\n     <use x=\"1397.935547\" xlink:href=\"#DejaVuSans-32\"/>\n     <use x=\"1429.722656\" xlink:href=\"#DejaVuSans-67\"/>\n     <use x=\"1499.546875\" xlink:href=\"#DejaVuSans-97\"/>\n     <use x=\"1560.826172\" xlink:href=\"#DejaVuSans-116\"/>\n     <use x=\"1600.035156\" xlink:href=\"#DejaVuSans-101\"/>\n     <use x=\"1661.558594\" xlink:href=\"#DejaVuSans-103\"/>\n     <use x=\"1725.035156\" xlink:href=\"#DejaVuSans-111\"/>\n     <use x=\"1786.216797\" xlink:href=\"#DejaVuSans-114\"/>\n     <use x=\"1827.330078\" xlink:href=\"#DejaVuSans-121\"/>\n    </g>\n   </g>\n   <g id=\"legend_1\">\n    <g id=\"patch_34\">\n     <path d=\"M 806.4125 78.911562 \nL 888.167187 78.911562 \nQ 890.167187 78.911562 890.167187 76.911562 \nL 890.167187 33.877187 \nQ 890.167187 31.877187 888.167187 31.877187 \nL 806.4125 31.877187 \nQ 804.4125 31.877187 804.4125 33.877187 \nL 804.4125 76.911562 \nQ 804.4125 78.911562 806.4125 78.911562 \nz\n\" style=\"fill:#ffffff;opacity:0.8;stroke:#cccccc;stroke-linejoin:miter;\"/>\n    </g>\n    <g id=\"patch_35\">\n     <path d=\"M 808.4125 43.475625 \nL 828.4125 43.475625 \nL 828.4125 36.475625 \nL 808.4125 36.475625 \nz\n\" style=\"fill:#1f77b4;\"/>\n    </g>\n    <g id=\"text_19\">\n     <!-- functional -->\n     <g transform=\"translate(836.4125 43.475625)scale(0.1 -0.1)\">\n      <use xlink:href=\"#DejaVuSans-102\"/>\n      <use x=\"35.205078\" xlink:href=\"#DejaVuSans-117\"/>\n      <use x=\"98.583984\" xlink:href=\"#DejaVuSans-110\"/>\n      <use x=\"161.962891\" xlink:href=\"#DejaVuSans-99\"/>\n      <use x=\"216.943359\" xlink:href=\"#DejaVuSans-116\"/>\n      <use x=\"256.152344\" xlink:href=\"#DejaVuSans-105\"/>\n      <use x=\"283.935547\" xlink:href=\"#DejaVuSans-111\"/>\n      <use x=\"345.117188\" xlink:href=\"#DejaVuSans-110\"/>\n      <use x=\"408.496094\" xlink:href=\"#DejaVuSans-97\"/>\n      <use x=\"469.775391\" xlink:href=\"#DejaVuSans-108\"/>\n     </g>\n    </g>\n    <g id=\"patch_36\">\n     <path d=\"M 808.4125 58.15375 \nL 828.4125 58.15375 \nL 828.4125 51.15375 \nL 808.4125 51.15375 \nz\n\" style=\"fill:#ff7f0e;\"/>\n    </g>\n    <g id=\"text_20\">\n     <!-- failing -->\n     <g transform=\"translate(836.4125 58.15375)scale(0.1 -0.1)\">\n      <use xlink:href=\"#DejaVuSans-102\"/>\n      <use x=\"35.205078\" xlink:href=\"#DejaVuSans-97\"/>\n      <use x=\"96.484375\" xlink:href=\"#DejaVuSans-105\"/>\n      <use x=\"124.267578\" xlink:href=\"#DejaVuSans-108\"/>\n      <use x=\"152.050781\" xlink:href=\"#DejaVuSans-105\"/>\n      <use x=\"179.833984\" xlink:href=\"#DejaVuSans-110\"/>\n      <use x=\"243.212891\" xlink:href=\"#DejaVuSans-103\"/>\n     </g>\n    </g>\n    <g id=\"patch_37\">\n     <path d=\"M 808.4125 72.831875 \nL 828.4125 72.831875 \nL 828.4125 65.831875 \nL 808.4125 65.831875 \nz\n\" style=\"fill:#2ca02c;\"/>\n    </g>\n    <g id=\"text_21\">\n     <!-- repair -->\n     <g transform=\"translate(836.4125 72.831875)scale(0.1 -0.1)\">\n      <use xlink:href=\"#DejaVuSans-114\"/>\n      <use x=\"41.082031\" xlink:href=\"#DejaVuSans-101\"/>\n      <use x=\"102.605469\" xlink:href=\"#DejaVuSans-112\"/>\n      <use x=\"166.082031\" xlink:href=\"#DejaVuSans-97\"/>\n      <use x=\"227.361328\" xlink:href=\"#DejaVuSans-105\"/>\n      <use x=\"255.144531\" xlink:href=\"#DejaVuSans-114\"/>\n     </g>\n    </g>\n   </g>\n  </g>\n </g>\n <defs>\n  <clipPath id=\"pc1ed560df1\">\n   <rect height=\"543.6\" width=\"837\" x=\"58.167188\" y=\"26.877187\"/>\n  </clipPath>\n </defs>\n</svg>\n",
      "image/png": "[encoded data removed]"
     },
     "metadata": {
      "needs_background": "light"
     }
    }
   ],
   "source": [
    "mcf.plot_category(df, 'basin')"
   ]
  },
  {
   "cell_type": "markdown",
   "metadata": {},
   "source": [
    "Ruvanna/Southern Coast and Lake Rukwa have a lot more failing pumps than the other basin areas. Why is that?"
   ]
  },
  {
   "cell_type": "code",
   "execution_count": 421,
   "metadata": {},
   "outputs": [
    {
     "output_type": "execute_result",
     "data": {
      "text/plain": "basin\nInternal                   19.661150\nLake Nyasa                 20.772048\nLake Rukwa                 30.238671\nLake Tanganyika            23.571677\nLake Victoria              22.125533\nPangani                    24.474031\nRufiji                     22.409098\nRuvuma / Southern Coast    25.095278\nWami / Ruvu                20.018526\nName: age, dtype: float64"
     },
     "metadata": {},
     "execution_count": 421
    }
   ],
   "source": [
    "X_train.groupby('basin').mean()['age']"
   ]
  },
  {
   "cell_type": "markdown",
   "metadata": {},
   "source": [
    "It seems like the average age of the pump is greatest in those two areas. The older pumps may be a good indication that they are failing"
   ]
  },
  {
   "cell_type": "code",
   "execution_count": 422,
   "metadata": {},
   "outputs": [],
   "source": [
    "df2 = pd.concat([X_train, y_train], axis=1)"
   ]
  },
  {
   "cell_type": "code",
   "execution_count": 423,
   "metadata": {},
   "outputs": [
    {
     "output_type": "execute_result",
     "data": {
      "text/plain": "status_group\nfunctional                 20.493024\nfunctional needs repair    23.460473\nnon functional             25.383465\nName: age, dtype: float64"
     },
     "metadata": {},
     "execution_count": 423
    }
   ],
   "source": [
    "df2.groupby('status_group').mean()['age']"
   ]
  },
  {
   "cell_type": "markdown",
   "metadata": {},
   "source": [
    "It seems like overall the older pumps are more likely to be failing as well. That may be a good visual. Percentage of pumps failing in each basin grouped with average age of pump in that region. On second thought, that just sounds like an overly cluttered plot, but it is still good to know, that means age should be a good predictor for the model."
   ]
  }
 ],
 "metadata": {
  "language_info": {
   "codemirror_mode": {
    "name": "ipython",
    "version": 3
   },
   "file_extension": ".py",
   "mimetype": "text/x-python",
   "name": "python",
   "nbconvert_exporter": "python",
   "pygments_lexer": "ipython3",
   "version": 3
  },
  "orig_nbformat": 2,
  "kernelspec": {
   "name": "python_defaultSpec_1594141193422",
   "display_name": "Python 3.6.9 64-bit ('learn-env': conda)"
  }
 },
 "nbformat": 4,
 "nbformat_minor": 2
}