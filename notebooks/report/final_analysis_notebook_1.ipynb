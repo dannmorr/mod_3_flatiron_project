{
 "cells": [
  {
   "cell_type": "markdown",
   "metadata": {},
   "source": [
    "# Tanzania Water Well Classification\n",
    "\n",
    "Analysis and model by Matt Carr, Dann Morr, and Amanda Potter"
   ]
  },
  {
   "cell_type": "markdown",
   "metadata": {},
   "source": [
    "## Introduction\n",
    "Tanzania, as a developing country, struggles with providing clean water to its population of over 57,000,000. There are many waterpoints already established in the country, but some are in need of repair while others have failed altogether.  Understanding which waterpoints will fail can improve maintenance operations and ensure that clean, potable water is available to communities across Tanzania."
   ]
  },
  {
   "cell_type": "markdown",
   "metadata": {},
   "source": [
    "## Goal\n",
    "This project seeks to develop a model to classify the functional status of water wells in Tanzania, using data from Taarifa and the Tanzanian Ministry of Water.  This analysis is being prepared for the Tanzanian Ministry of Water to aid in improving maintenance operations by lessening the number of fully functional waterpoints that are to be inspected for repairs and limiting those inspections to the waterpoints that have a high liklihood of being in need of repair or having failed altogether. "
   ]
  },
  {
   "cell_type": "markdown",
   "metadata": {},
   "source": [
    "## Data Set\n",
    "This project uses the data from the Pump it Up: Data Mining the Water Table originally compiled by Taarifa and the Tanzanian Ministry of Water.\n",
    "\n",
    "A cleaned copy of the data is saved in this repo as `data/geodata_clean.csv`."
   ]
  },
  {
   "cell_type": "markdown",
   "metadata": {},
   "source": [
    "## Definitions\n",
    "### Water well status\n",
    "Functional - supplies adequate water to the population\n",
    "\n",
    "Functional needs repair - has less than 3 months of interruption in service.\n",
    "\n",
    "Nonfunctional  - has more than 3 months of interruption\n",
    "\n",
    "### Water Quality definitions\n",
    "Milky — Indication of turbidity as measured in NTU, water will appear milky white at 4 NTU. For household use, turbidity should ideally be kept below 5 NTU. Milky-white can also be caused by supersaturated air being released. This could have been introduced during pipe repair, or following changes in water pressure.\n",
    "https://www.who.int/water_sanitation_health/publications/turbidity-information-200217.pdf\n",
    "\n",
    "Soft — Indication of the level of calcium carbonate present in water. Below 60 mg/L is considered soft water.\n",
    "https://www.usgs.gov/special-topic/water-science-school/science/hardness-water?qt-science_center_objects=0#qt-science_center_objects\n",
    "\n",
    "Salty — measure of salinity. Fresh water contains less than 1000 ppm of dissolved salts. For our purposed assume salty is slightly or moderately saline — between 1000 and 10000 ppm dissolved salts. Ocean water is roughly 35000 ppm dissolved salts\n",
    "https://www.usgs.gov/special-topic/water-science-school/science/saline-water-and-salinity?qt-science_center_objects=0#qt-science_center_objects\n",
    "\n",
    "Fluoride — water from rivers, lakes, springs with fluoride concentration exceeding 1.5mg/L. https://www.hindawi.com/journals/jchem/2018/7140902/\n",
    "\n",
    "Colored — indication of dissolved, suspended materials. A brown shade is generally an indication of rusted pipes. For our purposes we will assume that the water is generally safe and is an indication of rust.\n",
    "https://www.usgs.gov/special-topic/water-science-school/science/water-color?qt-science_center_objects=0#qt-science_center_objects"
   ]
  },
  {
   "cell_type": "markdown",
   "metadata": {},
   "source": [
    "## Table of contents:\n",
    "- Imports\n",
    "- EDA\n",
    " - Inspecting the Data\n",
    " - Data Anaylsis using Pandas-Profiling\n",
    " - Target variable - Status Group\n",
    " - Dropping Features\n",
    " - Train test split\n",
    " - One Hot Encoding\n",
    "- Visualizations\n",
    " - Maps\n",
    " - Graphs\n",
    "- Dummy Model\n",
    "- First Simple Model\n",
    "- Model Iterations \n",
    "- Final Model Interpretation\n",
    "- Conclusion\n",
    "- Further exploration "
   ]
  },
  {
   "cell_type": "markdown",
   "metadata": {},
   "source": [
    "# Imports"
   ]
  },
  {
   "cell_type": "code",
   "execution_count": 17,
   "metadata": {
    "tags": []
   },
   "outputs": [
    {
     "output_type": "stream",
     "name": "stdout",
     "text": "The autoreload extension is already loaded. To reload it, use:\n  %reload_ext autoreload\n"
    }
   ],
   "source": [
    "# Standard imports\n",
    "import pandas as pd\n",
    "import numpy as np\n",
    "import matplotlib.pyplot as plt\n",
    "import seaborn as sns\n",
    "%matplotlib inline\n",
    "\n",
    "#EDA\n",
    "from pandas_profiling import ProfileReport\n",
    "\n",
    "#Visualizations\n",
    "import geopandas as gpd\n",
    "from shapely.geometry import Point, Polygon\n",
    "import plotly\n",
    "import seaborn as sns\n",
    "\n",
    "\n",
    "# Model selection\n",
    "from sklearn.model_selection import train_test_split, KFold, cross_val_score, GridSearchCV\n",
    "\n",
    "# Preprocessing\n",
    "from sklearn.dummy import DummyClassifier\n",
    "from sklearn.impute import SimpleImputer\n",
    "from sklearn.preprocessing import StandardScaler, OneHotEncoder\n",
    "\n",
    "# Models\n",
    "from sklearn.linear_model import LogisticRegression\n",
    "from sklearn.tree import DecisionTreeClassifier\n",
    "from sklearn.neighbors import KNeighborsClassifier\n",
    "\n",
    "# Metrics\n",
    "from sklearn.metrics import recall_score, confusion_matrix, classification_report, plot_confusion_matrix\n",
    "from sklearn.tree import export_graphviz\n",
    "from IPython.display import Image  \n",
    "from sklearn.tree import export_graphviz\n",
    "from pydotplus import graph_from_dot_data\n",
    "from sklearn.tree import plot_tree\n",
    "\n",
    "# Ensemble/XGBoost\n",
    "from sklearn.ensemble import RandomForestClassifier, GradientBoostingClassifier\n",
    "\n",
    "#.py file\n",
    "%load_ext autoreload\n",
    "%autoreload 2\n",
    "import os\n",
    "import sys\n",
    "module_path = os.path.abspath(os.path.join(os.pardir, os.pardir))\n",
    "if module_path not in sys.path:\n",
    "    sys.path.append(module_path)\n",
    "    \n",
    "import src.mc_functions as mcf"
   ]
  },
  {
   "cell_type": "markdown",
   "metadata": {},
   "source": [
    "## Exploratory Data Analysis \n",
    "    Please note: this is a streamlined version of the EDA. Each member of the team explored the data separately, then compared results in order to select features for our models. See the folder `notebooks/exploratory` to review each team member's individual exploration."
   ]
  },
  {
   "cell_type": "markdown",
   "metadata": {},
   "source": [
    "### Inspecting the data\n",
    "    The data was downloaded from DrivenData.Org as two csv files:\n",
    "    \"training_set_values\" and \"training_set_labels\""
   ]
  },
  {
   "cell_type": "code",
   "execution_count": 5,
   "metadata": {},
   "outputs": [
    {
     "output_type": "execute_result",
     "data": {
      "text/plain": "      id  amount_tsh date_recorded        funder  gps_height     installer  \\\n0  69572      6000.0    2011-03-14         Roman        1390         Roman   \n1   8776         0.0    2013-03-06       Grumeti        1399       GRUMETI   \n2  34310        25.0    2013-02-25  Lottery Club         686  World vision   \n3  67743         0.0    2013-01-28        Unicef         263        UNICEF   \n4  19728         0.0    2011-07-13   Action In A           0       Artisan   \n\n   longitude   latitude              wpt_name  num_private  ... payment_type  \\\n0  34.938093  -9.856322                  none            0  ...     annually   \n1  34.698766  -2.147466              Zahanati            0  ...    never pay   \n2  37.460664  -3.821329           Kwa Mahundi            0  ...   per bucket   \n3  38.486161 -11.155298  Zahanati Ya Nanyumbu            0  ...    never pay   \n4  31.130847  -1.825359               Shuleni            0  ...    never pay   \n\n  water_quality quality_group      quantity  quantity_group  \\\n0          soft          good        enough          enough   \n1          soft          good  insufficient    insufficient   \n2          soft          good        enough          enough   \n3          soft          good           dry             dry   \n4          soft          good      seasonal        seasonal   \n\n                 source           source_type  source_class  \\\n0                spring                spring   groundwater   \n1  rainwater harvesting  rainwater harvesting       surface   \n2                   dam                   dam       surface   \n3           machine dbh              borehole   groundwater   \n4  rainwater harvesting  rainwater harvesting       surface   \n\n               waterpoint_type waterpoint_type_group  \n0           communal standpipe    communal standpipe  \n1           communal standpipe    communal standpipe  \n2  communal standpipe multiple    communal standpipe  \n3  communal standpipe multiple    communal standpipe  \n4           communal standpipe    communal standpipe  \n\n[5 rows x 40 columns]",
      "text/html": "<div>\n<style scoped>\n    .dataframe tbody tr th:only-of-type {\n        vertical-align: middle;\n    }\n\n    .dataframe tbody tr th {\n        vertical-align: top;\n    }\n\n    .dataframe thead th {\n        text-align: right;\n    }\n</style>\n<table border=\"1\" class=\"dataframe\">\n  <thead>\n    <tr style=\"text-align: right;\">\n      <th></th>\n      <th>id</th>\n      <th>amount_tsh</th>\n      <th>date_recorded</th>\n      <th>funder</th>\n      <th>gps_height</th>\n      <th>installer</th>\n      <th>longitude</th>\n      <th>latitude</th>\n      <th>wpt_name</th>\n      <th>num_private</th>\n      <th>...</th>\n      <th>payment_type</th>\n      <th>water_quality</th>\n      <th>quality_group</th>\n      <th>quantity</th>\n      <th>quantity_group</th>\n      <th>source</th>\n      <th>source_type</th>\n      <th>source_class</th>\n      <th>waterpoint_type</th>\n      <th>waterpoint_type_group</th>\n    </tr>\n  </thead>\n  <tbody>\n    <tr>\n      <th>0</th>\n      <td>69572</td>\n      <td>6000.0</td>\n      <td>2011-03-14</td>\n      <td>Roman</td>\n      <td>1390</td>\n      <td>Roman</td>\n      <td>34.938093</td>\n      <td>-9.856322</td>\n      <td>none</td>\n      <td>0</td>\n      <td>...</td>\n      <td>annually</td>\n      <td>soft</td>\n      <td>good</td>\n      <td>enough</td>\n      <td>enough</td>\n      <td>spring</td>\n      <td>spring</td>\n      <td>groundwater</td>\n      <td>communal standpipe</td>\n      <td>communal standpipe</td>\n    </tr>\n    <tr>\n      <th>1</th>\n      <td>8776</td>\n      <td>0.0</td>\n      <td>2013-03-06</td>\n      <td>Grumeti</td>\n      <td>1399</td>\n      <td>GRUMETI</td>\n      <td>34.698766</td>\n      <td>-2.147466</td>\n      <td>Zahanati</td>\n      <td>0</td>\n      <td>...</td>\n      <td>never pay</td>\n      <td>soft</td>\n      <td>good</td>\n      <td>insufficient</td>\n      <td>insufficient</td>\n      <td>rainwater harvesting</td>\n      <td>rainwater harvesting</td>\n      <td>surface</td>\n      <td>communal standpipe</td>\n      <td>communal standpipe</td>\n    </tr>\n    <tr>\n      <th>2</th>\n      <td>34310</td>\n      <td>25.0</td>\n      <td>2013-02-25</td>\n      <td>Lottery Club</td>\n      <td>686</td>\n      <td>World vision</td>\n      <td>37.460664</td>\n      <td>-3.821329</td>\n      <td>Kwa Mahundi</td>\n      <td>0</td>\n      <td>...</td>\n      <td>per bucket</td>\n      <td>soft</td>\n      <td>good</td>\n      <td>enough</td>\n      <td>enough</td>\n      <td>dam</td>\n      <td>dam</td>\n      <td>surface</td>\n      <td>communal standpipe multiple</td>\n      <td>communal standpipe</td>\n    </tr>\n    <tr>\n      <th>3</th>\n      <td>67743</td>\n      <td>0.0</td>\n      <td>2013-01-28</td>\n      <td>Unicef</td>\n      <td>263</td>\n      <td>UNICEF</td>\n      <td>38.486161</td>\n      <td>-11.155298</td>\n      <td>Zahanati Ya Nanyumbu</td>\n      <td>0</td>\n      <td>...</td>\n      <td>never pay</td>\n      <td>soft</td>\n      <td>good</td>\n      <td>dry</td>\n      <td>dry</td>\n      <td>machine dbh</td>\n      <td>borehole</td>\n      <td>groundwater</td>\n      <td>communal standpipe multiple</td>\n      <td>communal standpipe</td>\n    </tr>\n    <tr>\n      <th>4</th>\n      <td>19728</td>\n      <td>0.0</td>\n      <td>2011-07-13</td>\n      <td>Action In A</td>\n      <td>0</td>\n      <td>Artisan</td>\n      <td>31.130847</td>\n      <td>-1.825359</td>\n      <td>Shuleni</td>\n      <td>0</td>\n      <td>...</td>\n      <td>never pay</td>\n      <td>soft</td>\n      <td>good</td>\n      <td>seasonal</td>\n      <td>seasonal</td>\n      <td>rainwater harvesting</td>\n      <td>rainwater harvesting</td>\n      <td>surface</td>\n      <td>communal standpipe</td>\n      <td>communal standpipe</td>\n    </tr>\n  </tbody>\n</table>\n<p>5 rows × 40 columns</p>\n</div>"
     },
     "metadata": {},
     "execution_count": 5
    }
   ],
   "source": [
    "vals = pd.read_csv('https://s3.amazonaws.com/drivendata-prod/data/7/public/4910797b-ee55-40a7-8668-10efd5c1b960.csv')\n",
    "vals.head()"
   ]
  },
  {
   "cell_type": "code",
   "execution_count": 6,
   "metadata": {},
   "outputs": [
    {
     "output_type": "execute_result",
     "data": {
      "text/plain": "      id    status_group\n0  69572      functional\n1   8776      functional\n2  34310      functional\n3  67743  non functional\n4  19728      functional",
      "text/html": "<div>\n<style scoped>\n    .dataframe tbody tr th:only-of-type {\n        vertical-align: middle;\n    }\n\n    .dataframe tbody tr th {\n        vertical-align: top;\n    }\n\n    .dataframe thead th {\n        text-align: right;\n    }\n</style>\n<table border=\"1\" class=\"dataframe\">\n  <thead>\n    <tr style=\"text-align: right;\">\n      <th></th>\n      <th>id</th>\n      <th>status_group</th>\n    </tr>\n  </thead>\n  <tbody>\n    <tr>\n      <th>0</th>\n      <td>69572</td>\n      <td>functional</td>\n    </tr>\n    <tr>\n      <th>1</th>\n      <td>8776</td>\n      <td>functional</td>\n    </tr>\n    <tr>\n      <th>2</th>\n      <td>34310</td>\n      <td>functional</td>\n    </tr>\n    <tr>\n      <th>3</th>\n      <td>67743</td>\n      <td>non functional</td>\n    </tr>\n    <tr>\n      <th>4</th>\n      <td>19728</td>\n      <td>functional</td>\n    </tr>\n  </tbody>\n</table>\n</div>"
     },
     "metadata": {},
     "execution_count": 6
    }
   ],
   "source": [
    "labels = pd.read_csv('https://s3.amazonaws.com/drivendata-prod/data/7/public/0bf8bc6e-30d0-4c50-956a-603fc693d966.csv')\n",
    "labels.head()"
   ]
  },
  {
   "cell_type": "markdown",
   "metadata": {},
   "source": [
    "These two data sets were merged on the column \"id\" - which is the unique identifier for each of the water wells in this data set - and saved as a new csv that named `geodata_clean.csv`. We will use that for the rest of the work in this notebook."
   ]
  },
  {
   "cell_type": "code",
   "execution_count": 11,
   "metadata": {},
   "outputs": [
    {
     "output_type": "execute_result",
     "data": {
      "text/plain": "   Unnamed: 0     id  amount_tsh date_recorded        funder  gps_height  \\\n0           0  69572      6000.0    2011-03-14         Roman        1390   \n1           1   8776         0.0    2013-03-06       Grumeti        1399   \n2           2  34310        25.0    2013-02-25  Lottery Club         686   \n3           3  67743         0.0    2013-01-28        Unicef         263   \n4           4  19728         0.0    2011-07-13   Action In A           0   \n\n      installer  longitude   latitude              wpt_name  ...  \\\n0         Roman  34.938093  -9.856322                  none  ...   \n1       GRUMETI  34.698766  -2.147466              Zahanati  ...   \n2  World vision  37.460664  -3.821329           Kwa Mahundi  ...   \n3        UNICEF  38.486161 -11.155298  Zahanati Ya Nanyumbu  ...   \n4       Artisan  31.130847  -1.825359               Shuleni  ...   \n\n   quantity_group                source           source_type source_class  \\\n0          enough                spring                spring  groundwater   \n1    insufficient  rainwater harvesting  rainwater harvesting      surface   \n2          enough                   dam                   dam      surface   \n3             dry           machine dbh              borehole  groundwater   \n4        seasonal  rainwater harvesting  rainwater harvesting      surface   \n\n               waterpoint_type  waterpoint_type_group    status_group  \\\n0           communal standpipe     communal standpipe      functional   \n1           communal standpipe     communal standpipe      functional   \n2  communal standpipe multiple     communal standpipe      functional   \n3  communal standpipe multiple     communal standpipe  non functional   \n4           communal standpipe     communal standpipe      functional   \n\n                                 geometry          x          y  \n0  POINT (34.93809275 -9.856321769999999)  34.938093  -9.856322  \n1          POINT (34.6987661 -2.14746569)  34.698766  -2.147466  \n2         POINT (37.46066446 -3.82132853)  37.460664  -3.821329  \n3        POINT (38.48616088 -11.15529772)  38.486161 -11.155298  \n4         POINT (31.13084671 -1.82535885)  31.130847  -1.825359  \n\n[5 rows x 45 columns]",
      "text/html": "<div>\n<style scoped>\n    .dataframe tbody tr th:only-of-type {\n        vertical-align: middle;\n    }\n\n    .dataframe tbody tr th {\n        vertical-align: top;\n    }\n\n    .dataframe thead th {\n        text-align: right;\n    }\n</style>\n<table border=\"1\" class=\"dataframe\">\n  <thead>\n    <tr style=\"text-align: right;\">\n      <th></th>\n      <th>Unnamed: 0</th>\n      <th>id</th>\n      <th>amount_tsh</th>\n      <th>date_recorded</th>\n      <th>funder</th>\n      <th>gps_height</th>\n      <th>installer</th>\n      <th>longitude</th>\n      <th>latitude</th>\n      <th>wpt_name</th>\n      <th>...</th>\n      <th>quantity_group</th>\n      <th>source</th>\n      <th>source_type</th>\n      <th>source_class</th>\n      <th>waterpoint_type</th>\n      <th>waterpoint_type_group</th>\n      <th>status_group</th>\n      <th>geometry</th>\n      <th>x</th>\n      <th>y</th>\n    </tr>\n  </thead>\n  <tbody>\n    <tr>\n      <th>0</th>\n      <td>0</td>\n      <td>69572</td>\n      <td>6000.0</td>\n      <td>2011-03-14</td>\n      <td>Roman</td>\n      <td>1390</td>\n      <td>Roman</td>\n      <td>34.938093</td>\n      <td>-9.856322</td>\n      <td>none</td>\n      <td>...</td>\n      <td>enough</td>\n      <td>spring</td>\n      <td>spring</td>\n      <td>groundwater</td>\n      <td>communal standpipe</td>\n      <td>communal standpipe</td>\n      <td>functional</td>\n      <td>POINT (34.93809275 -9.856321769999999)</td>\n      <td>34.938093</td>\n      <td>-9.856322</td>\n    </tr>\n    <tr>\n      <th>1</th>\n      <td>1</td>\n      <td>8776</td>\n      <td>0.0</td>\n      <td>2013-03-06</td>\n      <td>Grumeti</td>\n      <td>1399</td>\n      <td>GRUMETI</td>\n      <td>34.698766</td>\n      <td>-2.147466</td>\n      <td>Zahanati</td>\n      <td>...</td>\n      <td>insufficient</td>\n      <td>rainwater harvesting</td>\n      <td>rainwater harvesting</td>\n      <td>surface</td>\n      <td>communal standpipe</td>\n      <td>communal standpipe</td>\n      <td>functional</td>\n      <td>POINT (34.6987661 -2.14746569)</td>\n      <td>34.698766</td>\n      <td>-2.147466</td>\n    </tr>\n    <tr>\n      <th>2</th>\n      <td>2</td>\n      <td>34310</td>\n      <td>25.0</td>\n      <td>2013-02-25</td>\n      <td>Lottery Club</td>\n      <td>686</td>\n      <td>World vision</td>\n      <td>37.460664</td>\n      <td>-3.821329</td>\n      <td>Kwa Mahundi</td>\n      <td>...</td>\n      <td>enough</td>\n      <td>dam</td>\n      <td>dam</td>\n      <td>surface</td>\n      <td>communal standpipe multiple</td>\n      <td>communal standpipe</td>\n      <td>functional</td>\n      <td>POINT (37.46066446 -3.82132853)</td>\n      <td>37.460664</td>\n      <td>-3.821329</td>\n    </tr>\n    <tr>\n      <th>3</th>\n      <td>3</td>\n      <td>67743</td>\n      <td>0.0</td>\n      <td>2013-01-28</td>\n      <td>Unicef</td>\n      <td>263</td>\n      <td>UNICEF</td>\n      <td>38.486161</td>\n      <td>-11.155298</td>\n      <td>Zahanati Ya Nanyumbu</td>\n      <td>...</td>\n      <td>dry</td>\n      <td>machine dbh</td>\n      <td>borehole</td>\n      <td>groundwater</td>\n      <td>communal standpipe multiple</td>\n      <td>communal standpipe</td>\n      <td>non functional</td>\n      <td>POINT (38.48616088 -11.15529772)</td>\n      <td>38.486161</td>\n      <td>-11.155298</td>\n    </tr>\n    <tr>\n      <th>4</th>\n      <td>4</td>\n      <td>19728</td>\n      <td>0.0</td>\n      <td>2011-07-13</td>\n      <td>Action In A</td>\n      <td>0</td>\n      <td>Artisan</td>\n      <td>31.130847</td>\n      <td>-1.825359</td>\n      <td>Shuleni</td>\n      <td>...</td>\n      <td>seasonal</td>\n      <td>rainwater harvesting</td>\n      <td>rainwater harvesting</td>\n      <td>surface</td>\n      <td>communal standpipe</td>\n      <td>communal standpipe</td>\n      <td>functional</td>\n      <td>POINT (31.13084671 -1.82535885)</td>\n      <td>31.130847</td>\n      <td>-1.825359</td>\n    </tr>\n  </tbody>\n</table>\n<p>5 rows × 45 columns</p>\n</div>"
     },
     "metadata": {},
     "execution_count": 11
    }
   ],
   "source": [
    "df = pd.read_csv(\"../../data/geodata_clean.csv\")\n",
    "df.head()"
   ]
  },
  {
   "cell_type": "markdown",
   "metadata": {},
   "source": [
    "#### Data Anaylsis using Pandas-Profiling\n",
    "    This package produces an overview of all the data, which proved very useful in expediting the process to gather informatino on the target variable (status group) identify rows and columns with duplicate information, missing values, and \"zero\" values."
   ]
  },
  {
   "cell_type": "code",
   "execution_count": 13,
   "metadata": {},
   "outputs": [
    {
     "output_type": "error",
     "ename": "TypeError",
     "evalue": "_plot_histogram() got an unexpected keyword argument 'title'",
     "traceback": [
      "\u001b[0;31m---------------------------------------------------------------------------\u001b[0m",
      "\u001b[0;31mRemoteTraceback\u001b[0m                           Traceback (most recent call last)",
      "\u001b[0;31mRemoteTraceback\u001b[0m: \n\"\"\"\nTraceback (most recent call last):\n  File \"/Users/mattcarr/opt/anaconda3/envs/wells/lib/python3.7/multiprocessing/pool.py\", line 121, in worker\n    result = (True, func(*args, **kwds))\n  File \"/Users/mattcarr/opt/anaconda3/envs/wells/lib/python3.7/multiprocessing/pool.py\", line 44, in mapstar\n    return list(map(*args))\n  File \"/Users/mattcarr/opt/anaconda3/envs/wells/lib/python3.7/site-packages/pandas_profiling/describe.py\", line 282, in multiprocess_func\n    return x[0], describe_1d(x[1], **kwargs)\n  File \"/Users/mattcarr/opt/anaconda3/envs/wells/lib/python3.7/site-packages/pandas_profiling/describe.py\", line 270, in describe_1d\n    result = result.append(describe_numeric_1d(data, **kwargs))\n  File \"/Users/mattcarr/opt/anaconda3/envs/wells/lib/python3.7/site-packages/pandas_profiling/describe.py\", line 54, in describe_numeric_1d\n    stats['histogram'] = histogram(series, **kwargs)\n  File \"/Users/mattcarr/opt/anaconda3/envs/wells/lib/python3.7/site-packages/pandas_profiling/plot.py\", line 73, in histogram\n    plot = _plot_histogram(series, **kwargs)\nTypeError: _plot_histogram() got an unexpected keyword argument 'title'\n\"\"\"",
      "\nThe above exception was the direct cause of the following exception:\n",
      "\u001b[0;31mTypeError\u001b[0m                                 Traceback (most recent call last)",
      "\u001b[0;32m<ipython-input-13-bdd767e67208>\u001b[0m in \u001b[0;36m<module>\u001b[0;34m\u001b[0m\n\u001b[0;32m----> 1\u001b[0;31m \u001b[0mprofile\u001b[0m \u001b[0;34m=\u001b[0m \u001b[0mProfileReport\u001b[0m\u001b[0;34m(\u001b[0m\u001b[0mdf\u001b[0m\u001b[0;34m,\u001b[0m \u001b[0mtitle\u001b[0m\u001b[0;34m=\u001b[0m\u001b[0;34m'Waterpoint Profiling Report'\u001b[0m\u001b[0;34m,\u001b[0m \u001b[0mexplorative\u001b[0m\u001b[0;34m=\u001b[0m\u001b[0;32mTrue\u001b[0m\u001b[0;34m)\u001b[0m\u001b[0;34m\u001b[0m\u001b[0;34m\u001b[0m\u001b[0m\n\u001b[0m\u001b[1;32m      2\u001b[0m \u001b[0mprofile\u001b[0m\u001b[0;34m.\u001b[0m\u001b[0mto_notebook_iframe\u001b[0m\u001b[0;34m(\u001b[0m\u001b[0;34m)\u001b[0m\u001b[0;34m\u001b[0m\u001b[0;34m\u001b[0m\u001b[0m\n",
      "\u001b[0;32m~/opt/anaconda3/envs/wells/lib/python3.7/site-packages/pandas_profiling/__init__.py\u001b[0m in \u001b[0;36m__init__\u001b[0;34m(self, df, **kwargs)\u001b[0m\n\u001b[1;32m     64\u001b[0m         \u001b[0msample\u001b[0m \u001b[0;34m=\u001b[0m \u001b[0mkwargs\u001b[0m\u001b[0;34m.\u001b[0m\u001b[0mget\u001b[0m\u001b[0;34m(\u001b[0m\u001b[0;34m'sample'\u001b[0m\u001b[0;34m,\u001b[0m \u001b[0mdf\u001b[0m\u001b[0;34m.\u001b[0m\u001b[0mhead\u001b[0m\u001b[0;34m(\u001b[0m\u001b[0;34m)\u001b[0m\u001b[0;34m)\u001b[0m\u001b[0;34m\u001b[0m\u001b[0;34m\u001b[0m\u001b[0m\n\u001b[1;32m     65\u001b[0m \u001b[0;34m\u001b[0m\u001b[0m\n\u001b[0;32m---> 66\u001b[0;31m         \u001b[0mdescription_set\u001b[0m \u001b[0;34m=\u001b[0m \u001b[0mdescribe\u001b[0m\u001b[0;34m(\u001b[0m\u001b[0mdf\u001b[0m\u001b[0;34m,\u001b[0m \u001b[0;34m**\u001b[0m\u001b[0mkwargs\u001b[0m\u001b[0;34m)\u001b[0m\u001b[0;34m\u001b[0m\u001b[0;34m\u001b[0m\u001b[0m\n\u001b[0m\u001b[1;32m     67\u001b[0m \u001b[0;34m\u001b[0m\u001b[0m\n\u001b[1;32m     68\u001b[0m         self.html = to_html(sample,\n",
      "\u001b[0;32m~/opt/anaconda3/envs/wells/lib/python3.7/site-packages/pandas_profiling/describe.py\u001b[0m in \u001b[0;36mdescribe\u001b[0;34m(df, bins, check_correlation, correlation_threshold, correlation_overrides, check_recoded, pool_size, **kwargs)\u001b[0m\n\u001b[1;32m    349\u001b[0m     \u001b[0mpool\u001b[0m \u001b[0;34m=\u001b[0m \u001b[0mmultiprocessing\u001b[0m\u001b[0;34m.\u001b[0m\u001b[0mPool\u001b[0m\u001b[0;34m(\u001b[0m\u001b[0mpool_size\u001b[0m\u001b[0;34m)\u001b[0m\u001b[0;34m\u001b[0m\u001b[0;34m\u001b[0m\u001b[0m\n\u001b[1;32m    350\u001b[0m     \u001b[0mlocal_multiprocess_func\u001b[0m \u001b[0;34m=\u001b[0m \u001b[0mpartial\u001b[0m\u001b[0;34m(\u001b[0m\u001b[0mmultiprocess_func\u001b[0m\u001b[0;34m,\u001b[0m \u001b[0;34m**\u001b[0m\u001b[0mkwargs\u001b[0m\u001b[0;34m)\u001b[0m\u001b[0;34m\u001b[0m\u001b[0;34m\u001b[0m\u001b[0m\n\u001b[0;32m--> 351\u001b[0;31m     \u001b[0mldesc\u001b[0m \u001b[0;34m=\u001b[0m \u001b[0;34m{\u001b[0m\u001b[0mcol\u001b[0m\u001b[0;34m:\u001b[0m \u001b[0ms\u001b[0m \u001b[0;32mfor\u001b[0m \u001b[0mcol\u001b[0m\u001b[0;34m,\u001b[0m \u001b[0ms\u001b[0m \u001b[0;32min\u001b[0m \u001b[0mpool\u001b[0m\u001b[0;34m.\u001b[0m\u001b[0mmap\u001b[0m\u001b[0;34m(\u001b[0m\u001b[0mlocal_multiprocess_func\u001b[0m\u001b[0;34m,\u001b[0m \u001b[0mdf\u001b[0m\u001b[0;34m.\u001b[0m\u001b[0miteritems\u001b[0m\u001b[0;34m(\u001b[0m\u001b[0;34m)\u001b[0m\u001b[0;34m)\u001b[0m\u001b[0;34m}\u001b[0m\u001b[0;34m\u001b[0m\u001b[0;34m\u001b[0m\u001b[0m\n\u001b[0m\u001b[1;32m    352\u001b[0m     \u001b[0mpool\u001b[0m\u001b[0;34m.\u001b[0m\u001b[0mclose\u001b[0m\u001b[0;34m(\u001b[0m\u001b[0;34m)\u001b[0m\u001b[0;34m\u001b[0m\u001b[0;34m\u001b[0m\u001b[0m\n\u001b[1;32m    353\u001b[0m \u001b[0;34m\u001b[0m\u001b[0m\n",
      "\u001b[0;32m~/opt/anaconda3/envs/wells/lib/python3.7/multiprocessing/pool.py\u001b[0m in \u001b[0;36mmap\u001b[0;34m(self, func, iterable, chunksize)\u001b[0m\n\u001b[1;32m    266\u001b[0m         \u001b[0;32min\u001b[0m \u001b[0ma\u001b[0m \u001b[0mlist\u001b[0m \u001b[0mthat\u001b[0m \u001b[0;32mis\u001b[0m \u001b[0mreturned\u001b[0m\u001b[0;34m.\u001b[0m\u001b[0;34m\u001b[0m\u001b[0;34m\u001b[0m\u001b[0m\n\u001b[1;32m    267\u001b[0m         '''\n\u001b[0;32m--> 268\u001b[0;31m         \u001b[0;32mreturn\u001b[0m \u001b[0mself\u001b[0m\u001b[0;34m.\u001b[0m\u001b[0m_map_async\u001b[0m\u001b[0;34m(\u001b[0m\u001b[0mfunc\u001b[0m\u001b[0;34m,\u001b[0m \u001b[0miterable\u001b[0m\u001b[0;34m,\u001b[0m \u001b[0mmapstar\u001b[0m\u001b[0;34m,\u001b[0m \u001b[0mchunksize\u001b[0m\u001b[0;34m)\u001b[0m\u001b[0;34m.\u001b[0m\u001b[0mget\u001b[0m\u001b[0;34m(\u001b[0m\u001b[0;34m)\u001b[0m\u001b[0;34m\u001b[0m\u001b[0;34m\u001b[0m\u001b[0m\n\u001b[0m\u001b[1;32m    269\u001b[0m \u001b[0;34m\u001b[0m\u001b[0m\n\u001b[1;32m    270\u001b[0m     \u001b[0;32mdef\u001b[0m \u001b[0mstarmap\u001b[0m\u001b[0;34m(\u001b[0m\u001b[0mself\u001b[0m\u001b[0;34m,\u001b[0m \u001b[0mfunc\u001b[0m\u001b[0;34m,\u001b[0m \u001b[0miterable\u001b[0m\u001b[0;34m,\u001b[0m \u001b[0mchunksize\u001b[0m\u001b[0;34m=\u001b[0m\u001b[0;32mNone\u001b[0m\u001b[0;34m)\u001b[0m\u001b[0;34m:\u001b[0m\u001b[0;34m\u001b[0m\u001b[0;34m\u001b[0m\u001b[0m\n",
      "\u001b[0;32m~/opt/anaconda3/envs/wells/lib/python3.7/multiprocessing/pool.py\u001b[0m in \u001b[0;36mget\u001b[0;34m(self, timeout)\u001b[0m\n\u001b[1;32m    655\u001b[0m             \u001b[0;32mreturn\u001b[0m \u001b[0mself\u001b[0m\u001b[0;34m.\u001b[0m\u001b[0m_value\u001b[0m\u001b[0;34m\u001b[0m\u001b[0;34m\u001b[0m\u001b[0m\n\u001b[1;32m    656\u001b[0m         \u001b[0;32melse\u001b[0m\u001b[0;34m:\u001b[0m\u001b[0;34m\u001b[0m\u001b[0;34m\u001b[0m\u001b[0m\n\u001b[0;32m--> 657\u001b[0;31m             \u001b[0;32mraise\u001b[0m \u001b[0mself\u001b[0m\u001b[0;34m.\u001b[0m\u001b[0m_value\u001b[0m\u001b[0;34m\u001b[0m\u001b[0;34m\u001b[0m\u001b[0m\n\u001b[0m\u001b[1;32m    658\u001b[0m \u001b[0;34m\u001b[0m\u001b[0m\n\u001b[1;32m    659\u001b[0m     \u001b[0;32mdef\u001b[0m \u001b[0m_set\u001b[0m\u001b[0;34m(\u001b[0m\u001b[0mself\u001b[0m\u001b[0;34m,\u001b[0m \u001b[0mi\u001b[0m\u001b[0;34m,\u001b[0m \u001b[0mobj\u001b[0m\u001b[0;34m)\u001b[0m\u001b[0;34m:\u001b[0m\u001b[0;34m\u001b[0m\u001b[0;34m\u001b[0m\u001b[0m\n",
      "\u001b[0;31mTypeError\u001b[0m: _plot_histogram() got an unexpected keyword argument 'title'"
     ]
    }
   ],
   "source": [
    "profile = ProfileReport(df, title='Waterpoint Profiling Report', explorative=True)\n",
    "profile.to_notebook_iframe()"
   ]
  },
  {
   "cell_type": "markdown",
   "metadata": {},
   "source": [
    "####  Information on target variable - Status Group"
   ]
  },
  {
   "cell_type": "markdown",
   "metadata": {},
   "source": [
    "From our EDA we learned that values and counts for our Status Group are as follows:\n",
    "\n",
    "- functional: 31389 \n",
    "- non functional: 22268 \n",
    "- functional needs repair: 3931\n",
    "\n",
    "A topic that we discussed was how do handle the imbalance in the classes. \n",
    "Would it be an issue for a ternary classification? \n",
    "Should we try to balance the values? combine them into two categories? Over- or under-sample?\n",
    "\n",
    "We decided to perform some further analysis before making a decision."
   ]
  },
  {
   "cell_type": "markdown",
   "metadata": {},
   "source": [
    "####  Dropping features"
   ]
  },
  {
   "cell_type": "markdown",
   "metadata": {},
   "source": [
    "Our anaylsis did show that several columns  could be ignored or dropped as they contained duplicate information.\n",
    "For example, there are columns for 'extraction_type' (18 categories), 'extraction_type_group' (13 categories), and 'extraction_type_class' (7 categories). All contain the same number of values, just categorized in slightly different ways. We did try several combinations of features in our models to test the different features before deciding on our final model."
   ]
  },
  {
   "cell_type": "markdown",
   "metadata": {},
   "source": [
    "#### Train test split"
   ]
  },
  {
   "cell_type": "markdown",
   "metadata": {},
   "source": [
    "Regardless of the feature selection, our exploration and modeling would be carried out after performing a train test split on the data.\n",
    "following this format for any given DataFrame:\n",
    "```\n",
    "# target variable\n",
    "y = df['status_group']\n",
    "# features\n",
    "X = df.drop('status_group', axis=1)\n",
    "# Train test split\n",
    "X_train, X_test, y_train, y_test = train_test_split(X, y, random_state=42, test_size=.2)\n",
    "```\n",
    "**Random State of 42 is used for all modelling** in order assure the tests could be replicated."
   ]
  },
  {
   "cell_type": "markdown",
   "metadata": {},
   "source": [
    "#### OneHotEncoding"
   ]
  },
  {
   "cell_type": "markdown",
   "metadata": {},
   "source": [
    "The data set is predominantly categorical values, so we decided we would also need to implement encoding to convert the values from objects to numbers in order to perform any mode"
   ]
  },
  {
   "cell_type": "markdown",
   "metadata": {},
   "source": [
    "## Visualizations using GeoPandas"
   ]
  },
  {
   "cell_type": "markdown",
   "metadata": {},
   "source": [
    "A number of visualizations were created using GeoPandas to help us understand how the different values were distributed geographically, the more important visuzlizations are below, more information can be seen in the asp_explore notebooks folder.  "
   ]
  },
  {
   "cell_type": "code",
   "execution_count": null,
   "metadata": {},
   "outputs": [],
   "source": [
    "fig,ax = plt.subplots(1,1, figsize=(10,10))\n",
    "TZ.plot(ax=ax,alpha=.5,color='white',linewidth=2,edgecolor='grey')\n",
    "\n",
    "bok_df[bok_df['status_group']== 'functional'].plot(ax = ax, markersize = 3,\n",
    "                                                  color='#0081A7', marker = 'o',label = 'Functional');\n",
    "bok_df[bok_df['status_group']== 'functional needs repair'].plot(ax=ax,markersize=3,\n",
    "                                                                color='#FB8B24', marker = 'o',label = 'Repair Needed')\n",
    "bok_df[bok_df['status_group']== 'non functional'].plot(ax=ax,markersize=3,alpha = .25,\n",
    "                                                     color='#E71D36',marker='o',label = 'Non Functional')\n",
    "ax.axis('off')\n",
    "plt.legend(loc='upper right', fontsize='12',markerscale=8);\n",
    "plt.title('Waterpoint Functional Status', loc='left', fontsize = '20');\n",
    "#plt.savefig('../reports/figures/waterpoints_by_function_map', bbox_inches='tight')"
   ]
  },
  {
   "cell_type": "code",
   "execution_count": null,
   "metadata": {},
   "outputs": [],
   "source": [
    "fig,ax = plt.subplots(1,1, figsize=(10,10))\n",
    "TZ.plot(ax=ax,alpha=.5,color='white',linewidth=2,edgecolor='grey')\n",
    "bok_df[bok_df['quantity_group']== 'enough'].plot(ax = ax, markersize = 3, alpha=.5,\n",
    "                                                  color='blue', marker = 'o',label = 'Enough');\n",
    "bok_df[bok_df['quantity_group']== 'insufficient'].plot(ax=ax,markersize=3,alpha=.5,\n",
    "                                                                color='orange', marker = 'o',label = 'Insufficient')\n",
    "bok_df[bok_df['quantity_group']== 'dry'].plot(ax=ax,markersize=3,alpha=.25,\n",
    "                                                      color='brown',marker='o',label = 'Dry')\n",
    "bok_df[bok_df['quantity_group']== 'seasonal'].plot(ax=ax,markersize=3,alpha=.5,\n",
    "                                                                color='green', marker = 'o',label = 'Seasonal')\n",
    "bok_df[bok_df['quantity_group']== 'unknown'].plot(ax=ax,markersize=3,alpha=.25,\n",
    "                                                      color='black',marker='o',label = 'unknown')\n",
    "ax.axis('off')\n",
    "plt.legend(loc='upper right', fontsize='12',markerscale=8)\n",
    "plt.title('Water Quantity Map', loc='left', fontsize = '20');\n",
    "# #plt.savefig('../reports/figures/water_quantity_map', bbox_inches='tight')"
   ]
  },
  {
   "cell_type": "code",
   "execution_count": null,
   "metadata": {},
   "outputs": [],
   "source": [
    "fig,ax = plt.subplots(1,1, figsize=(10,10))\n",
    "TZ.plot(ax=ax,alpha=.5,color='white',linewidth=2,edgecolor='grey')\n",
    "bok_df[bok_df['waterpoint_type_group']== 'communal standpipe'].plot(ax = ax, markersize = 3, alpha=.5,\n",
    "                                                  color='red', marker = 'o',label = 'Communal Standpipe');\n",
    "bok_df[bok_df['waterpoint_type_group']== 'hand pump'].plot(ax=ax,markersize=3,alpha=.5,\n",
    "                                                                color='orange', marker = 'o',label = 'Hand Pump')\n",
    "bok_df[bok_df['waterpoint_type_group']== 'improved spring'].plot(ax=ax,markersize=3,alpha=.5,\n",
    "                                                      color='yellow',marker='o',label = 'Improved Spring')\n",
    "bok_df[bok_df['waterpoint_type_group']== 'cattle trough'].plot(ax = ax, markersize = 3, alpha=.5,\n",
    "                                                  color='green', marker = 'o',label = 'Cattle Trough');\n",
    "bok_df[bok_df['waterpoint_type_group']== 'dam'].plot(ax=ax,markersize=3,alpha=.5,\n",
    "                                                               color='blue', marker = 'o',label = 'Dam')\n",
    "bok_df[bok_df['waterpoint_type_group']== 'other'].plot(ax=ax,markersize=3,alpha=.25,\n",
    "                                                      color='grey',marker='o',label = 'Other')\n",
    "ax.axis('off')\n",
    "plt.legend(loc='upper right', fontsize='10',markerscale=8);\n",
    "plt.title('Waterpoint Type Map', loc='left', fontsize = '20');\n",
    "#plt.savefig('../reports/figures/waterpoints_by_type_map', bbox_inches='tight')"
   ]
  },
  {
   "cell_type": "markdown",
   "metadata": {},
   "source": [
    "## Visualizations using Matplotlib and Seaborn"
   ]
  },
  {
   "cell_type": "markdown",
   "metadata": {},
   "source": [
    "Create dictionaries to plot the different proportions of waterwell status in varying waterpoint types."
   ]
  },
  {
   "cell_type": "code",
   "execution_count": 14,
   "metadata": {},
   "outputs": [],
   "source": [
    "wq_types = df['quantity_group'].unique()\n",
    "wq_b_bar = {}\n",
    "wq_m_bar = {}\n",
    "wq_t_bar = {}\n",
    "\n",
    "for wq in wq_types:\n",
    "    tot_observs = len(df[df['quantity_group'] == wq])\n",
    "    func = len(df[(df['quantity_group'] == wq) & (df['status_group'] == 'functional')])\n",
    "    fail = len(df[(df['quantity_group'] == wq) & (df['status_group'] == 'non functional')])\n",
    "    repair = len(df[(df['quantity_group'] == wq) & (df['status_group'] == 'functional needs repair')])\n",
    "    wq_b_bar[wq] = 100\n",
    "    wq_m_bar[wq] = round(((fail+func)/tot_observs)*100, 0)\n",
    "    wq_t_bar[wq] = round((func/tot_observs)*100, 0)"
   ]
  },
  {
   "cell_type": "code",
   "execution_count": 35,
   "metadata": {},
   "outputs": [
    {
     "output_type": "display_data",
     "data": {
      "text/plain": "<Figure size 1080x720 with 1 Axes>",
      "image/svg+xml": "<?xml version=\"1.0\" encoding=\"utf-8\" standalone=\"no\"?>\n<!DOCTYPE svg PUBLIC \"-//W3C//DTD SVG 1.1//EN\"\n  \"http://www.w3.org/Graphics/SVG/1.1/DTD/svg11.dtd\">\n<!-- Created with matplotlib (https://matplotlib.org/) -->\n<svg height=\"688.106213pt\" version=\"1.1\" viewBox=\"0 0 920.902227 688.106213\" width=\"920.902227pt\" xmlns=\"http://www.w3.org/2000/svg\" xmlns:xlink=\"http://www.w3.org/1999/xlink\">\n <defs>\n  <style type=\"text/css\">\n*{stroke-linecap:butt;stroke-linejoin:round;}\n  </style>\n </defs>\n <g id=\"figure_1\">\n  <g id=\"patch_1\">\n   <path d=\"M 0 688.106213 \nL 920.902227 688.106213 \nL 920.902227 0 \nL 0 0 \nz\n\" style=\"fill:#ffffff;\"/>\n  </g>\n  <g id=\"axes_1\">\n   <g id=\"patch_2\">\n    <path d=\"M 76.702227 588.999219 \nL 913.702227 588.999219 \nL 913.702227 45.399219 \nL 76.702227 45.399219 \nz\n\" style=\"fill:#ffffff;\"/>\n   </g>\n   <g id=\"matplotlib.axis_1\">\n    <g id=\"xtick_1\">\n     <g id=\"text_1\">\n      <!-- enough -->\n      <defs>\n       <path d=\"M 42.09375 16.703125 \nL 51.171875 15.578125 \nQ 49.03125 7.625 43.21875 3.21875 \nQ 37.40625 -1.171875 28.375 -1.171875 \nQ 17 -1.171875 10.328125 5.828125 \nQ 3.65625 12.84375 3.65625 25.484375 \nQ 3.65625 38.578125 10.390625 45.796875 \nQ 17.140625 53.03125 27.875 53.03125 \nQ 38.28125 53.03125 44.875 45.953125 \nQ 51.46875 38.875 51.46875 26.03125 \nQ 51.46875 25.25 51.421875 23.6875 \nL 12.75 23.6875 \nQ 13.234375 15.140625 17.578125 10.59375 \nQ 21.921875 6.0625 28.421875 6.0625 \nQ 33.25 6.0625 36.671875 8.59375 \nQ 40.09375 11.140625 42.09375 16.703125 \nz\nM 13.234375 30.90625 \nL 42.1875 30.90625 \nQ 41.609375 37.453125 38.875 40.71875 \nQ 34.671875 45.796875 27.984375 45.796875 \nQ 21.921875 45.796875 17.796875 41.75 \nQ 13.671875 37.703125 13.234375 30.90625 \nz\n\" id=\"ArialMT-101\"/>\n       <path d=\"M 6.59375 0 \nL 6.59375 51.859375 \nL 14.5 51.859375 \nL 14.5 44.484375 \nQ 20.21875 53.03125 31 53.03125 \nQ 35.6875 53.03125 39.625 51.34375 \nQ 43.5625 49.65625 45.515625 46.921875 \nQ 47.46875 44.1875 48.25 40.4375 \nQ 48.734375 37.984375 48.734375 31.890625 \nL 48.734375 0 \nL 39.9375 0 \nL 39.9375 31.546875 \nQ 39.9375 36.921875 38.90625 39.578125 \nQ 37.890625 42.234375 35.28125 43.8125 \nQ 32.671875 45.40625 29.15625 45.40625 \nQ 23.53125 45.40625 19.453125 41.84375 \nQ 15.375 38.28125 15.375 28.328125 \nL 15.375 0 \nz\n\" id=\"ArialMT-110\"/>\n       <path d=\"M 3.328125 25.921875 \nQ 3.328125 40.328125 11.328125 47.265625 \nQ 18.015625 53.03125 27.640625 53.03125 \nQ 38.328125 53.03125 45.109375 46.015625 \nQ 51.90625 39.015625 51.90625 26.65625 \nQ 51.90625 16.65625 48.90625 10.90625 \nQ 45.90625 5.171875 40.15625 2 \nQ 34.421875 -1.171875 27.640625 -1.171875 \nQ 16.75 -1.171875 10.03125 5.8125 \nQ 3.328125 12.796875 3.328125 25.921875 \nz\nM 12.359375 25.921875 \nQ 12.359375 15.96875 16.703125 11.015625 \nQ 21.046875 6.0625 27.640625 6.0625 \nQ 34.1875 6.0625 38.53125 11.03125 \nQ 42.875 16.015625 42.875 26.21875 \nQ 42.875 35.84375 38.5 40.796875 \nQ 34.125 45.75 27.640625 45.75 \nQ 21.046875 45.75 16.703125 40.8125 \nQ 12.359375 35.890625 12.359375 25.921875 \nz\n\" id=\"ArialMT-111\"/>\n       <path d=\"M 40.578125 0 \nL 40.578125 7.625 \nQ 34.515625 -1.171875 24.125 -1.171875 \nQ 19.53125 -1.171875 15.546875 0.578125 \nQ 11.578125 2.34375 9.640625 5 \nQ 7.71875 7.671875 6.9375 11.53125 \nQ 6.390625 14.109375 6.390625 19.734375 \nL 6.390625 51.859375 \nL 15.1875 51.859375 \nL 15.1875 23.09375 \nQ 15.1875 16.21875 15.71875 13.8125 \nQ 16.546875 10.359375 19.234375 8.375 \nQ 21.921875 6.390625 25.875 6.390625 \nQ 29.828125 6.390625 33.296875 8.421875 \nQ 36.765625 10.453125 38.203125 13.9375 \nQ 39.65625 17.4375 39.65625 24.078125 \nL 39.65625 51.859375 \nL 48.4375 51.859375 \nL 48.4375 0 \nz\n\" id=\"ArialMT-117\"/>\n       <path d=\"M 4.984375 -4.296875 \nL 13.53125 -5.5625 \nQ 14.0625 -9.515625 16.5 -11.328125 \nQ 19.78125 -13.765625 25.4375 -13.765625 \nQ 31.546875 -13.765625 34.859375 -11.328125 \nQ 38.1875 -8.890625 39.359375 -4.5 \nQ 40.046875 -1.8125 39.984375 6.78125 \nQ 34.234375 0 25.640625 0 \nQ 14.9375 0 9.078125 7.71875 \nQ 3.21875 15.4375 3.21875 26.21875 \nQ 3.21875 33.640625 5.90625 39.90625 \nQ 8.59375 46.1875 13.6875 49.609375 \nQ 18.796875 53.03125 25.6875 53.03125 \nQ 34.859375 53.03125 40.828125 45.609375 \nL 40.828125 51.859375 \nL 48.921875 51.859375 \nL 48.921875 7.03125 \nQ 48.921875 -5.078125 46.453125 -10.125 \nQ 44 -15.1875 38.640625 -18.109375 \nQ 33.296875 -21.046875 25.484375 -21.046875 \nQ 16.21875 -21.046875 10.5 -16.875 \nQ 4.78125 -12.703125 4.984375 -4.296875 \nz\nM 12.25 26.859375 \nQ 12.25 16.65625 16.296875 11.96875 \nQ 20.359375 7.28125 26.46875 7.28125 \nQ 32.515625 7.28125 36.609375 11.9375 \nQ 40.71875 16.609375 40.71875 26.5625 \nQ 40.71875 36.078125 36.5 40.90625 \nQ 32.28125 45.75 26.3125 45.75 \nQ 20.453125 45.75 16.34375 40.984375 \nQ 12.25 36.234375 12.25 26.859375 \nz\n\" id=\"ArialMT-103\"/>\n       <path d=\"M 6.59375 0 \nL 6.59375 71.578125 \nL 15.375 71.578125 \nL 15.375 45.90625 \nQ 21.53125 53.03125 30.90625 53.03125 \nQ 36.671875 53.03125 40.921875 50.75 \nQ 45.171875 48.484375 47 44.484375 \nQ 48.828125 40.484375 48.828125 32.859375 \nL 48.828125 0 \nL 40.046875 0 \nL 40.046875 32.859375 \nQ 40.046875 39.453125 37.1875 42.453125 \nQ 34.328125 45.453125 29.109375 45.453125 \nQ 25.203125 45.453125 21.75 43.421875 \nQ 18.3125 41.40625 16.84375 37.9375 \nQ 15.375 34.46875 15.375 28.375 \nL 15.375 0 \nz\n\" id=\"ArialMT-104\"/>\n      </defs>\n      <g style=\"fill:#262626;\" transform=\"translate(133.352143 641.631318)rotate(-25)scale(0.1925 -0.1925)\">\n       <use xlink:href=\"#ArialMT-101\"/>\n       <use x=\"55.615234\" xlink:href=\"#ArialMT-110\"/>\n       <use x=\"111.230469\" xlink:href=\"#ArialMT-111\"/>\n       <use x=\"166.845703\" xlink:href=\"#ArialMT-117\"/>\n       <use x=\"222.460938\" xlink:href=\"#ArialMT-103\"/>\n       <use x=\"278.076172\" xlink:href=\"#ArialMT-104\"/>\n      </g>\n     </g>\n    </g>\n    <g id=\"xtick_2\">\n     <g id=\"text_2\">\n      <!-- insufficient -->\n      <defs>\n       <path d=\"M 6.640625 61.46875 \nL 6.640625 71.578125 \nL 15.4375 71.578125 \nL 15.4375 61.46875 \nz\nM 6.640625 0 \nL 6.640625 51.859375 \nL 15.4375 51.859375 \nL 15.4375 0 \nz\n\" id=\"ArialMT-105\"/>\n       <path d=\"M 3.078125 15.484375 \nL 11.765625 16.84375 \nQ 12.5 11.625 15.84375 8.84375 \nQ 19.1875 6.0625 25.203125 6.0625 \nQ 31.25 6.0625 34.171875 8.515625 \nQ 37.109375 10.984375 37.109375 14.3125 \nQ 37.109375 17.28125 34.515625 19 \nQ 32.71875 20.171875 25.53125 21.96875 \nQ 15.875 24.421875 12.140625 26.203125 \nQ 8.40625 27.984375 6.46875 31.125 \nQ 4.546875 34.28125 4.546875 38.09375 \nQ 4.546875 41.546875 6.125 44.5 \nQ 7.71875 47.46875 10.453125 49.421875 \nQ 12.5 50.921875 16.03125 51.96875 \nQ 19.578125 53.03125 23.640625 53.03125 \nQ 29.734375 53.03125 34.34375 51.265625 \nQ 38.96875 49.515625 41.15625 46.5 \nQ 43.359375 43.5 44.1875 38.484375 \nL 35.59375 37.3125 \nQ 35.015625 41.3125 32.203125 43.546875 \nQ 29.390625 45.796875 24.265625 45.796875 \nQ 18.21875 45.796875 15.625 43.796875 \nQ 13.03125 41.796875 13.03125 39.109375 \nQ 13.03125 37.40625 14.109375 36.03125 \nQ 15.1875 34.625 17.484375 33.6875 \nQ 18.796875 33.203125 25.25 31.453125 \nQ 34.578125 28.953125 38.25 27.359375 \nQ 41.9375 25.78125 44.03125 22.75 \nQ 46.140625 19.734375 46.140625 15.234375 \nQ 46.140625 10.84375 43.578125 6.953125 \nQ 41.015625 3.078125 36.171875 0.953125 \nQ 31.34375 -1.171875 25.25 -1.171875 \nQ 15.140625 -1.171875 9.84375 3.03125 \nQ 4.546875 7.234375 3.078125 15.484375 \nz\n\" id=\"ArialMT-115\"/>\n       <path d=\"M 8.6875 0 \nL 8.6875 45.015625 \nL 0.921875 45.015625 \nL 0.921875 51.859375 \nL 8.6875 51.859375 \nL 8.6875 57.375 \nQ 8.6875 62.59375 9.625 65.140625 \nQ 10.890625 68.5625 14.078125 70.671875 \nQ 17.28125 72.796875 23.046875 72.796875 \nQ 26.765625 72.796875 31.25 71.921875 \nL 29.9375 64.265625 \nQ 27.203125 64.75 24.75 64.75 \nQ 20.75 64.75 19.09375 63.03125 \nQ 17.4375 61.328125 17.4375 56.640625 \nL 17.4375 51.859375 \nL 27.546875 51.859375 \nL 27.546875 45.015625 \nL 17.4375 45.015625 \nL 17.4375 0 \nz\n\" id=\"ArialMT-102\"/>\n       <path d=\"M 40.4375 19 \nL 49.078125 17.875 \nQ 47.65625 8.9375 41.8125 3.875 \nQ 35.984375 -1.171875 27.484375 -1.171875 \nQ 16.84375 -1.171875 10.375 5.78125 \nQ 3.90625 12.75 3.90625 25.734375 \nQ 3.90625 34.125 6.6875 40.421875 \nQ 9.46875 46.734375 15.15625 49.875 \nQ 20.84375 53.03125 27.546875 53.03125 \nQ 35.984375 53.03125 41.359375 48.75 \nQ 46.734375 44.484375 48.25 36.625 \nL 39.703125 35.296875 \nQ 38.484375 40.53125 35.375 43.15625 \nQ 32.28125 45.796875 27.875 45.796875 \nQ 21.234375 45.796875 17.078125 41.03125 \nQ 12.9375 36.28125 12.9375 25.984375 \nQ 12.9375 15.53125 16.9375 10.796875 \nQ 20.953125 6.0625 27.390625 6.0625 \nQ 32.5625 6.0625 36.03125 9.234375 \nQ 39.5 12.40625 40.4375 19 \nz\n\" id=\"ArialMT-99\"/>\n       <path d=\"M 25.78125 7.859375 \nL 27.046875 0.09375 \nQ 23.34375 -0.6875 20.40625 -0.6875 \nQ 15.625 -0.6875 12.984375 0.828125 \nQ 10.359375 2.34375 9.28125 4.8125 \nQ 8.203125 7.28125 8.203125 15.1875 \nL 8.203125 45.015625 \nL 1.765625 45.015625 \nL 1.765625 51.859375 \nL 8.203125 51.859375 \nL 8.203125 64.703125 \nL 16.9375 69.96875 \nL 16.9375 51.859375 \nL 25.78125 51.859375 \nL 25.78125 45.015625 \nL 16.9375 45.015625 \nL 16.9375 14.703125 \nQ 16.9375 10.9375 17.40625 9.859375 \nQ 17.875 8.796875 18.921875 8.15625 \nQ 19.96875 7.515625 21.921875 7.515625 \nQ 23.390625 7.515625 25.78125 7.859375 \nz\n\" id=\"ArialMT-116\"/>\n      </defs>\n      <g style=\"fill:#262626;\" transform=\"translate(288.846284 652.779361)rotate(-25)scale(0.1925 -0.1925)\">\n       <use xlink:href=\"#ArialMT-105\"/>\n       <use x=\"22.216797\" xlink:href=\"#ArialMT-110\"/>\n       <use x=\"77.832031\" xlink:href=\"#ArialMT-115\"/>\n       <use x=\"127.832031\" xlink:href=\"#ArialMT-117\"/>\n       <use x=\"183.447266\" xlink:href=\"#ArialMT-102\"/>\n       <use x=\"209.480469\" xlink:href=\"#ArialMT-102\"/>\n       <use x=\"237.263672\" xlink:href=\"#ArialMT-105\"/>\n       <use x=\"259.480469\" xlink:href=\"#ArialMT-99\"/>\n       <use x=\"309.480469\" xlink:href=\"#ArialMT-105\"/>\n       <use x=\"331.697266\" xlink:href=\"#ArialMT-101\"/>\n       <use x=\"387.3125\" xlink:href=\"#ArialMT-110\"/>\n       <use x=\"442.927734\" xlink:href=\"#ArialMT-116\"/>\n      </g>\n     </g>\n    </g>\n    <g id=\"xtick_3\">\n     <g id=\"text_3\">\n      <!-- dry -->\n      <defs>\n       <path d=\"M 40.234375 0 \nL 40.234375 6.546875 \nQ 35.296875 -1.171875 25.734375 -1.171875 \nQ 19.53125 -1.171875 14.328125 2.25 \nQ 9.125 5.671875 6.265625 11.796875 \nQ 3.421875 17.921875 3.421875 25.875 \nQ 3.421875 33.640625 6 39.96875 \nQ 8.59375 46.296875 13.765625 49.65625 \nQ 18.953125 53.03125 25.34375 53.03125 \nQ 30.03125 53.03125 33.6875 51.046875 \nQ 37.359375 49.078125 39.65625 45.90625 \nL 39.65625 71.578125 \nL 48.390625 71.578125 \nL 48.390625 0 \nz\nM 12.453125 25.875 \nQ 12.453125 15.921875 16.640625 10.984375 \nQ 20.84375 6.0625 26.5625 6.0625 \nQ 32.328125 6.0625 36.34375 10.765625 \nQ 40.375 15.484375 40.375 25.140625 \nQ 40.375 35.796875 36.265625 40.765625 \nQ 32.171875 45.75 26.171875 45.75 \nQ 20.3125 45.75 16.375 40.96875 \nQ 12.453125 36.1875 12.453125 25.875 \nz\n\" id=\"ArialMT-100\"/>\n       <path d=\"M 6.5 0 \nL 6.5 51.859375 \nL 14.40625 51.859375 \nL 14.40625 44 \nQ 17.4375 49.515625 20 51.265625 \nQ 22.5625 53.03125 25.640625 53.03125 \nQ 30.078125 53.03125 34.671875 50.203125 \nL 31.640625 42.046875 \nQ 28.421875 43.953125 25.203125 43.953125 \nQ 22.3125 43.953125 20.015625 42.21875 \nQ 17.71875 40.484375 16.75 37.40625 \nQ 15.28125 32.71875 15.28125 27.15625 \nL 15.28125 0 \nz\n\" id=\"ArialMT-114\"/>\n       <path d=\"M 6.203125 -19.96875 \nL 5.21875 -11.71875 \nQ 8.109375 -12.5 10.25 -12.5 \nQ 13.1875 -12.5 14.9375 -11.515625 \nQ 16.703125 -10.546875 17.828125 -8.796875 \nQ 18.65625 -7.46875 20.515625 -2.25 \nQ 20.75 -1.515625 21.296875 -0.09375 \nL 1.609375 51.859375 \nL 11.078125 51.859375 \nL 21.875 21.828125 \nQ 23.96875 16.109375 25.640625 9.8125 \nQ 27.15625 15.875 29.25 21.625 \nL 40.328125 51.859375 \nL 49.125 51.859375 \nL 29.390625 -0.875 \nQ 26.21875 -9.421875 24.46875 -12.640625 \nQ 22.125 -17 19.09375 -19.015625 \nQ 16.0625 -21.046875 11.859375 -21.046875 \nQ 9.328125 -21.046875 6.203125 -19.96875 \nz\n\" id=\"ArialMT-121\"/>\n      </defs>\n      <g style=\"fill:#262626;\" transform=\"translate(485.140599 625.787624)rotate(-25)scale(0.1925 -0.1925)\">\n       <use xlink:href=\"#ArialMT-100\"/>\n       <use x=\"55.615234\" xlink:href=\"#ArialMT-114\"/>\n       <use x=\"88.916016\" xlink:href=\"#ArialMT-121\"/>\n      </g>\n     </g>\n    </g>\n    <g id=\"xtick_4\">\n     <g id=\"text_4\">\n      <!-- seasonal -->\n      <defs>\n       <path d=\"M 40.4375 6.390625 \nQ 35.546875 2.25 31.03125 0.53125 \nQ 26.515625 -1.171875 21.34375 -1.171875 \nQ 12.796875 -1.171875 8.203125 3 \nQ 3.609375 7.171875 3.609375 13.671875 \nQ 3.609375 17.484375 5.34375 20.625 \nQ 7.078125 23.78125 9.890625 25.6875 \nQ 12.703125 27.59375 16.21875 28.5625 \nQ 18.796875 29.25 24.03125 29.890625 \nQ 34.671875 31.15625 39.703125 32.90625 \nQ 39.75 34.71875 39.75 35.203125 \nQ 39.75 40.578125 37.25 42.78125 \nQ 33.890625 45.75 27.25 45.75 \nQ 21.046875 45.75 18.09375 43.578125 \nQ 15.140625 41.40625 13.71875 35.890625 \nL 5.125 37.0625 \nQ 6.296875 42.578125 8.984375 45.96875 \nQ 11.671875 49.359375 16.75 51.1875 \nQ 21.828125 53.03125 28.515625 53.03125 \nQ 35.15625 53.03125 39.296875 51.46875 \nQ 43.453125 49.90625 45.40625 47.53125 \nQ 47.359375 45.171875 48.140625 41.546875 \nQ 48.578125 39.3125 48.578125 33.453125 \nL 48.578125 21.734375 \nQ 48.578125 9.46875 49.140625 6.21875 \nQ 49.703125 2.984375 51.375 0 \nL 42.1875 0 \nQ 40.828125 2.734375 40.4375 6.390625 \nz\nM 39.703125 26.03125 \nQ 34.90625 24.078125 25.34375 22.703125 \nQ 19.921875 21.921875 17.671875 20.9375 \nQ 15.4375 19.96875 14.203125 18.09375 \nQ 12.984375 16.21875 12.984375 13.921875 \nQ 12.984375 10.40625 15.640625 8.0625 \nQ 18.3125 5.71875 23.4375 5.71875 \nQ 28.515625 5.71875 32.46875 7.9375 \nQ 36.421875 10.15625 38.28125 14.015625 \nQ 39.703125 17 39.703125 22.796875 \nz\n\" id=\"ArialMT-97\"/>\n       <path d=\"M 6.390625 0 \nL 6.390625 71.578125 \nL 15.1875 71.578125 \nL 15.1875 0 \nz\n\" id=\"ArialMT-108\"/>\n      </defs>\n      <g style=\"fill:#262626;\" transform=\"translate(629.789334 647.050258)rotate(-25)scale(0.1925 -0.1925)\">\n       <use xlink:href=\"#ArialMT-115\"/>\n       <use x=\"50\" xlink:href=\"#ArialMT-101\"/>\n       <use x=\"105.615234\" xlink:href=\"#ArialMT-97\"/>\n       <use x=\"161.230469\" xlink:href=\"#ArialMT-115\"/>\n       <use x=\"211.230469\" xlink:href=\"#ArialMT-111\"/>\n       <use x=\"266.845703\" xlink:href=\"#ArialMT-110\"/>\n       <use x=\"322.460938\" xlink:href=\"#ArialMT-97\"/>\n       <use x=\"378.076172\" xlink:href=\"#ArialMT-108\"/>\n      </g>\n     </g>\n    </g>\n    <g id=\"xtick_5\">\n     <g id=\"text_5\">\n      <!-- unknown -->\n      <defs>\n       <path d=\"M 6.640625 0 \nL 6.640625 71.578125 \nL 15.4375 71.578125 \nL 15.4375 30.765625 \nL 36.234375 51.859375 \nL 47.609375 51.859375 \nL 27.78125 32.625 \nL 49.609375 0 \nL 38.765625 0 \nL 21.625 26.515625 \nL 15.4375 20.5625 \nL 15.4375 0 \nz\n\" id=\"ArialMT-107\"/>\n       <path d=\"M 16.15625 0 \nL 0.296875 51.859375 \nL 9.375 51.859375 \nL 17.625 21.921875 \nL 20.703125 10.796875 \nQ 20.90625 11.625 23.390625 21.484375 \nL 31.640625 51.859375 \nL 40.671875 51.859375 \nL 48.4375 21.78125 \nL 51.03125 11.859375 \nL 54 21.875 \nL 62.890625 51.859375 \nL 71.4375 51.859375 \nL 55.21875 0 \nL 46.09375 0 \nL 37.84375 31.0625 \nL 35.84375 39.890625 \nL 25.34375 0 \nz\n\" id=\"ArialMT-119\"/>\n      </defs>\n      <g style=\"fill:#262626;\" transform=\"translate(797.189334 647.050258)rotate(-25)scale(0.1925 -0.1925)\">\n       <use xlink:href=\"#ArialMT-117\"/>\n       <use x=\"55.615234\" xlink:href=\"#ArialMT-110\"/>\n       <use x=\"111.230469\" xlink:href=\"#ArialMT-107\"/>\n       <use x=\"161.230469\" xlink:href=\"#ArialMT-110\"/>\n       <use x=\"216.845703\" xlink:href=\"#ArialMT-111\"/>\n       <use x=\"272.460938\" xlink:href=\"#ArialMT-119\"/>\n       <use x=\"344.677734\" xlink:href=\"#ArialMT-110\"/>\n      </g>\n     </g>\n    </g>\n    <g id=\"text_6\">\n     <!-- Water Quantity -->\n     <defs>\n      <path d=\"M 20.21875 0 \nL 1.21875 71.578125 \nL 10.9375 71.578125 \nL 21.828125 24.65625 \nQ 23.578125 17.28125 24.859375 10.015625 \nQ 27.59375 21.484375 28.078125 23.25 \nL 41.703125 71.578125 \nL 53.125 71.578125 \nL 63.375 35.359375 \nQ 67.234375 21.875 68.953125 10.015625 \nQ 70.3125 16.796875 72.515625 25.59375 \nL 83.734375 71.578125 \nL 93.265625 71.578125 \nL 73.640625 0 \nL 64.5 0 \nL 49.421875 54.546875 \nQ 47.515625 61.375 47.171875 62.9375 \nQ 46.046875 58.015625 45.0625 54.546875 \nL 29.890625 0 \nz\n\" id=\"ArialMT-87\"/>\n      <path id=\"ArialMT-32\"/>\n      <path d=\"M 61.96875 7.671875 \nQ 68.5625 3.125 74.125 1.03125 \nL 71.34375 -5.5625 \nQ 63.625 -2.78125 55.953125 3.21875 \nQ 48 -1.21875 38.375 -1.21875 \nQ 28.65625 -1.21875 20.75 3.46875 \nQ 12.84375 8.15625 8.5625 16.640625 \nQ 4.296875 25.140625 4.296875 35.796875 \nQ 4.296875 46.390625 8.59375 55.078125 \nQ 12.890625 63.765625 20.828125 68.3125 \nQ 28.765625 72.859375 38.578125 72.859375 \nQ 48.484375 72.859375 56.4375 68.140625 \nQ 64.40625 63.421875 68.578125 54.953125 \nQ 72.75 46.484375 72.75 35.84375 \nQ 72.75 27 70.0625 19.9375 \nQ 67.390625 12.890625 61.96875 7.671875 \nz\nM 41.109375 19.78125 \nQ 49.3125 17.484375 54.640625 12.9375 \nQ 62.984375 20.5625 62.984375 35.84375 \nQ 62.984375 44.53125 60.03125 51.015625 \nQ 57.078125 57.515625 51.390625 61.109375 \nQ 45.703125 64.703125 38.625 64.703125 \nQ 28.03125 64.703125 21.046875 57.453125 \nQ 14.0625 50.203125 14.0625 35.796875 \nQ 14.0625 21.828125 20.96875 14.359375 \nQ 27.875 6.890625 38.625 6.890625 \nQ 43.703125 6.890625 48.1875 8.796875 \nQ 43.75 11.671875 38.8125 12.890625 \nz\n\" id=\"ArialMT-81\"/>\n     </defs>\n     <g style=\"fill:#262626;\" transform=\"translate(422.260195 676.2759)scale(0.22 -0.22)\">\n      <use xlink:href=\"#ArialMT-87\"/>\n      <use x=\"90.634766\" xlink:href=\"#ArialMT-97\"/>\n      <use x=\"146.25\" xlink:href=\"#ArialMT-116\"/>\n      <use x=\"174.033203\" xlink:href=\"#ArialMT-101\"/>\n      <use x=\"229.648438\" xlink:href=\"#ArialMT-114\"/>\n      <use x=\"262.949219\" xlink:href=\"#ArialMT-32\"/>\n      <use x=\"290.732422\" xlink:href=\"#ArialMT-81\"/>\n      <use x=\"368.515625\" xlink:href=\"#ArialMT-117\"/>\n      <use x=\"424.130859\" xlink:href=\"#ArialMT-97\"/>\n      <use x=\"479.746094\" xlink:href=\"#ArialMT-110\"/>\n      <use x=\"535.361328\" xlink:href=\"#ArialMT-116\"/>\n      <use x=\"563.144531\" xlink:href=\"#ArialMT-105\"/>\n      <use x=\"585.361328\" xlink:href=\"#ArialMT-116\"/>\n      <use x=\"613.144531\" xlink:href=\"#ArialMT-121\"/>\n     </g>\n    </g>\n   </g>\n   <g id=\"matplotlib.axis_2\">\n    <g id=\"ytick_1\">\n     <g id=\"text_7\">\n      <!-- 0 -->\n      <defs>\n       <path d=\"M 4.15625 35.296875 \nQ 4.15625 48 6.765625 55.734375 \nQ 9.375 63.484375 14.515625 67.671875 \nQ 19.671875 71.875 27.484375 71.875 \nQ 33.25 71.875 37.59375 69.546875 \nQ 41.9375 67.234375 44.765625 62.859375 \nQ 47.609375 58.5 49.21875 52.21875 \nQ 50.828125 45.953125 50.828125 35.296875 \nQ 50.828125 22.703125 48.234375 14.96875 \nQ 45.65625 7.234375 40.5 3 \nQ 35.359375 -1.21875 27.484375 -1.21875 \nQ 17.140625 -1.21875 11.234375 6.203125 \nQ 4.15625 15.140625 4.15625 35.296875 \nz\nM 13.1875 35.296875 \nQ 13.1875 17.671875 17.3125 11.828125 \nQ 21.4375 6 27.484375 6 \nQ 33.546875 6 37.671875 11.859375 \nQ 41.796875 17.71875 41.796875 35.296875 \nQ 41.796875 52.984375 37.671875 58.78125 \nQ 33.546875 64.59375 27.390625 64.59375 \nQ 21.34375 64.59375 17.71875 59.46875 \nQ 13.1875 52.9375 13.1875 35.296875 \nz\n\" id=\"ArialMT-48\"/>\n      </defs>\n      <g style=\"fill:#262626;\" transform=\"translate(52.997422 595.888613)scale(0.1925 -0.1925)\">\n       <use xlink:href=\"#ArialMT-48\"/>\n      </g>\n     </g>\n    </g>\n    <g id=\"ytick_2\">\n     <g id=\"text_8\">\n      <!-- 20 -->\n      <defs>\n       <path d=\"M 50.34375 8.453125 \nL 50.34375 0 \nL 3.03125 0 \nQ 2.9375 3.171875 4.046875 6.109375 \nQ 5.859375 10.9375 9.828125 15.625 \nQ 13.8125 20.3125 21.34375 26.46875 \nQ 33.015625 36.03125 37.109375 41.625 \nQ 41.21875 47.21875 41.21875 52.203125 \nQ 41.21875 57.421875 37.46875 61 \nQ 33.734375 64.59375 27.734375 64.59375 \nQ 21.390625 64.59375 17.578125 60.78125 \nQ 13.765625 56.984375 13.71875 50.25 \nL 4.6875 51.171875 \nQ 5.609375 61.28125 11.65625 66.578125 \nQ 17.71875 71.875 27.9375 71.875 \nQ 38.234375 71.875 44.234375 66.15625 \nQ 50.25 60.453125 50.25 52 \nQ 50.25 47.703125 48.484375 43.546875 \nQ 46.734375 39.40625 42.65625 34.8125 \nQ 38.578125 30.21875 29.109375 22.21875 \nQ 21.1875 15.578125 18.9375 13.203125 \nQ 16.703125 10.84375 15.234375 8.453125 \nz\n\" id=\"ArialMT-50\"/>\n      </defs>\n      <g style=\"fill:#262626;\" transform=\"translate(42.292617 492.345756)scale(0.1925 -0.1925)\">\n       <use xlink:href=\"#ArialMT-50\"/>\n       <use x=\"55.615234\" xlink:href=\"#ArialMT-48\"/>\n      </g>\n     </g>\n    </g>\n    <g id=\"ytick_3\">\n     <g id=\"text_9\">\n      <!-- 40 -->\n      <defs>\n       <path d=\"M 32.328125 0 \nL 32.328125 17.140625 \nL 1.265625 17.140625 \nL 1.265625 25.203125 \nL 33.9375 71.578125 \nL 41.109375 71.578125 \nL 41.109375 25.203125 \nL 50.78125 25.203125 \nL 50.78125 17.140625 \nL 41.109375 17.140625 \nL 41.109375 0 \nz\nM 32.328125 25.203125 \nL 32.328125 57.46875 \nL 9.90625 25.203125 \nz\n\" id=\"ArialMT-52\"/>\n      </defs>\n      <g style=\"fill:#262626;\" transform=\"translate(42.292617 388.802899)scale(0.1925 -0.1925)\">\n       <use xlink:href=\"#ArialMT-52\"/>\n       <use x=\"55.615234\" xlink:href=\"#ArialMT-48\"/>\n      </g>\n     </g>\n    </g>\n    <g id=\"ytick_4\">\n     <g id=\"text_10\">\n      <!-- 60 -->\n      <defs>\n       <path d=\"M 49.75 54.046875 \nL 41.015625 53.375 \nQ 39.84375 58.546875 37.703125 60.890625 \nQ 34.125 64.65625 28.90625 64.65625 \nQ 24.703125 64.65625 21.53125 62.3125 \nQ 17.390625 59.28125 14.984375 53.46875 \nQ 12.59375 47.65625 12.5 36.921875 \nQ 15.671875 41.75 20.265625 44.09375 \nQ 24.859375 46.4375 29.890625 46.4375 \nQ 38.671875 46.4375 44.84375 39.96875 \nQ 51.03125 33.5 51.03125 23.25 \nQ 51.03125 16.5 48.125 10.71875 \nQ 45.21875 4.9375 40.140625 1.859375 \nQ 35.0625 -1.21875 28.609375 -1.21875 \nQ 17.625 -1.21875 10.6875 6.859375 \nQ 3.765625 14.9375 3.765625 33.5 \nQ 3.765625 54.25 11.421875 63.671875 \nQ 18.109375 71.875 29.4375 71.875 \nQ 37.890625 71.875 43.28125 67.140625 \nQ 48.6875 62.40625 49.75 54.046875 \nz\nM 13.875 23.1875 \nQ 13.875 18.65625 15.796875 14.5 \nQ 17.71875 10.359375 21.1875 8.171875 \nQ 24.65625 6 28.46875 6 \nQ 34.03125 6 38.03125 10.484375 \nQ 42.046875 14.984375 42.046875 22.703125 \nQ 42.046875 30.125 38.078125 34.390625 \nQ 34.125 38.671875 28.125 38.671875 \nQ 22.171875 38.671875 18.015625 34.390625 \nQ 13.875 30.125 13.875 23.1875 \nz\n\" id=\"ArialMT-54\"/>\n      </defs>\n      <g style=\"fill:#262626;\" transform=\"translate(42.292617 285.260042)scale(0.1925 -0.1925)\">\n       <use xlink:href=\"#ArialMT-54\"/>\n       <use x=\"55.615234\" xlink:href=\"#ArialMT-48\"/>\n      </g>\n     </g>\n    </g>\n    <g id=\"ytick_5\">\n     <g id=\"text_11\">\n      <!-- 80 -->\n      <defs>\n       <path d=\"M 17.671875 38.8125 \nQ 12.203125 40.828125 9.5625 44.53125 \nQ 6.9375 48.25 6.9375 53.421875 \nQ 6.9375 61.234375 12.546875 66.546875 \nQ 18.171875 71.875 27.484375 71.875 \nQ 36.859375 71.875 42.578125 66.421875 \nQ 48.296875 60.984375 48.296875 53.171875 \nQ 48.296875 48.1875 45.671875 44.5 \nQ 43.0625 40.828125 37.75 38.8125 \nQ 44.34375 36.671875 47.78125 31.875 \nQ 51.21875 27.09375 51.21875 20.453125 \nQ 51.21875 11.28125 44.71875 5.03125 \nQ 38.234375 -1.21875 27.640625 -1.21875 \nQ 17.046875 -1.21875 10.546875 5.046875 \nQ 4.046875 11.328125 4.046875 20.703125 \nQ 4.046875 27.6875 7.59375 32.390625 \nQ 11.140625 37.109375 17.671875 38.8125 \nz\nM 15.921875 53.71875 \nQ 15.921875 48.640625 19.1875 45.40625 \nQ 22.46875 42.1875 27.6875 42.1875 \nQ 32.765625 42.1875 36.015625 45.375 \nQ 39.265625 48.578125 39.265625 53.21875 \nQ 39.265625 58.0625 35.90625 61.359375 \nQ 32.5625 64.65625 27.59375 64.65625 \nQ 22.5625 64.65625 19.234375 61.421875 \nQ 15.921875 58.203125 15.921875 53.71875 \nz\nM 13.09375 20.65625 \nQ 13.09375 16.890625 14.875 13.375 \nQ 16.65625 9.859375 20.171875 7.921875 \nQ 23.6875 6 27.734375 6 \nQ 34.03125 6 38.125 10.046875 \nQ 42.234375 14.109375 42.234375 20.359375 \nQ 42.234375 26.703125 38.015625 30.859375 \nQ 33.796875 35.015625 27.4375 35.015625 \nQ 21.234375 35.015625 17.15625 30.90625 \nQ 13.09375 26.8125 13.09375 20.65625 \nz\n\" id=\"ArialMT-56\"/>\n      </defs>\n      <g style=\"fill:#262626;\" transform=\"translate(42.292617 181.717185)scale(0.1925 -0.1925)\">\n       <use xlink:href=\"#ArialMT-56\"/>\n       <use x=\"55.615234\" xlink:href=\"#ArialMT-48\"/>\n      </g>\n     </g>\n    </g>\n    <g id=\"ytick_6\">\n     <g id=\"text_12\">\n      <!-- 100 -->\n      <defs>\n       <path d=\"M 37.25 0 \nL 28.46875 0 \nL 28.46875 56 \nQ 25.296875 52.984375 20.140625 49.953125 \nQ 14.984375 46.921875 10.890625 45.40625 \nL 10.890625 53.90625 \nQ 18.265625 57.375 23.78125 62.296875 \nQ 29.296875 67.234375 31.59375 71.875 \nL 37.25 71.875 \nz\n\" id=\"ArialMT-49\"/>\n      </defs>\n      <g style=\"fill:#262626;\" transform=\"translate(31.587813 78.174328)scale(0.1925 -0.1925)\">\n       <use xlink:href=\"#ArialMT-49\"/>\n       <use x=\"55.615234\" xlink:href=\"#ArialMT-48\"/>\n       <use x=\"111.230469\" xlink:href=\"#ArialMT-48\"/>\n      </g>\n     </g>\n    </g>\n    <g id=\"text_13\">\n     <!-- Proportion of Pumps -->\n     <defs>\n      <path d=\"M 7.71875 0 \nL 7.71875 71.578125 \nL 34.71875 71.578125 \nQ 41.84375 71.578125 45.609375 70.90625 \nQ 50.875 70.015625 54.4375 67.546875 \nQ 58.015625 65.09375 60.1875 60.640625 \nQ 62.359375 56.203125 62.359375 50.875 \nQ 62.359375 41.75 56.546875 35.421875 \nQ 50.734375 29.109375 35.546875 29.109375 \nL 17.1875 29.109375 \nL 17.1875 0 \nz\nM 17.1875 37.546875 \nL 35.6875 37.546875 \nQ 44.875 37.546875 48.734375 40.96875 \nQ 52.59375 44.390625 52.59375 50.59375 \nQ 52.59375 55.078125 50.3125 58.265625 \nQ 48.046875 61.46875 44.34375 62.5 \nQ 41.9375 63.140625 35.5 63.140625 \nL 17.1875 63.140625 \nz\n\" id=\"ArialMT-80\"/>\n      <path d=\"M 6.59375 -19.875 \nL 6.59375 51.859375 \nL 14.59375 51.859375 \nL 14.59375 45.125 \nQ 17.4375 49.078125 21 51.046875 \nQ 24.5625 53.03125 29.640625 53.03125 \nQ 36.28125 53.03125 41.359375 49.609375 \nQ 46.4375 46.1875 49.015625 39.953125 \nQ 51.609375 33.734375 51.609375 26.3125 \nQ 51.609375 18.359375 48.75 11.984375 \nQ 45.90625 5.609375 40.453125 2.21875 \nQ 35.015625 -1.171875 29 -1.171875 \nQ 24.609375 -1.171875 21.109375 0.6875 \nQ 17.625 2.546875 15.375 5.375 \nL 15.375 -19.875 \nz\nM 14.546875 25.640625 \nQ 14.546875 15.625 18.59375 10.84375 \nQ 22.65625 6.0625 28.421875 6.0625 \nQ 34.28125 6.0625 38.453125 11.015625 \nQ 42.625 15.96875 42.625 26.375 \nQ 42.625 36.28125 38.546875 41.203125 \nQ 34.46875 46.140625 28.8125 46.140625 \nQ 23.1875 46.140625 18.859375 40.890625 \nQ 14.546875 35.640625 14.546875 25.640625 \nz\n\" id=\"ArialMT-112\"/>\n      <path d=\"M 6.59375 0 \nL 6.59375 51.859375 \nL 14.453125 51.859375 \nL 14.453125 44.578125 \nQ 16.890625 48.390625 20.9375 50.703125 \nQ 25 53.03125 30.171875 53.03125 \nQ 35.9375 53.03125 39.625 50.640625 \nQ 43.3125 48.25 44.828125 43.953125 \nQ 50.984375 53.03125 60.84375 53.03125 \nQ 68.5625 53.03125 72.703125 48.75 \nQ 76.859375 44.484375 76.859375 35.59375 \nL 76.859375 0 \nL 68.109375 0 \nL 68.109375 32.671875 \nQ 68.109375 37.9375 67.25 40.25 \nQ 66.40625 42.578125 64.15625 43.984375 \nQ 61.921875 45.40625 58.890625 45.40625 \nQ 53.421875 45.40625 49.796875 41.765625 \nQ 46.1875 38.140625 46.1875 30.125 \nL 46.1875 0 \nL 37.40625 0 \nL 37.40625 33.6875 \nQ 37.40625 39.546875 35.25 42.46875 \nQ 33.109375 45.40625 28.21875 45.40625 \nQ 24.515625 45.40625 21.359375 43.453125 \nQ 18.21875 41.5 16.796875 37.734375 \nQ 15.375 33.984375 15.375 26.90625 \nL 15.375 0 \nz\n\" id=\"ArialMT-109\"/>\n     </defs>\n     <g style=\"fill:#262626;\" transform=\"translate(23.215313 417.465938)rotate(-90)scale(0.22 -0.22)\">\n      <use xlink:href=\"#ArialMT-80\"/>\n      <use x=\"66.699219\" xlink:href=\"#ArialMT-114\"/>\n      <use x=\"100\" xlink:href=\"#ArialMT-111\"/>\n      <use x=\"155.615234\" xlink:href=\"#ArialMT-112\"/>\n      <use x=\"211.230469\" xlink:href=\"#ArialMT-111\"/>\n      <use x=\"266.845703\" xlink:href=\"#ArialMT-114\"/>\n      <use x=\"300.146484\" xlink:href=\"#ArialMT-116\"/>\n      <use x=\"327.929688\" xlink:href=\"#ArialMT-105\"/>\n      <use x=\"350.146484\" xlink:href=\"#ArialMT-111\"/>\n      <use x=\"405.761719\" xlink:href=\"#ArialMT-110\"/>\n      <use x=\"461.376953\" xlink:href=\"#ArialMT-32\"/>\n      <use x=\"489.160156\" xlink:href=\"#ArialMT-111\"/>\n      <use x=\"544.775391\" xlink:href=\"#ArialMT-102\"/>\n      <use x=\"572.558594\" xlink:href=\"#ArialMT-32\"/>\n      <use x=\"600.341797\" xlink:href=\"#ArialMT-80\"/>\n      <use x=\"667.041016\" xlink:href=\"#ArialMT-117\"/>\n      <use x=\"722.65625\" xlink:href=\"#ArialMT-109\"/>\n      <use x=\"805.957031\" xlink:href=\"#ArialMT-112\"/>\n      <use x=\"861.572266\" xlink:href=\"#ArialMT-115\"/>\n     </g>\n    </g>\n   </g>\n   <g id=\"patch_3\">\n    <path clip-path=\"url(#p3e27d249d8)\" d=\"M 93.442227 588.999219 \nL 227.362227 588.999219 \nL 227.362227 71.284933 \nL 93.442227 71.284933 \nz\n\" style=\"fill:#e08c3f;stroke:#ffffff;stroke-linejoin:miter;\"/>\n   </g>\n   <g id=\"patch_4\">\n    <path clip-path=\"url(#p3e27d249d8)\" d=\"M 260.842227 588.999219 \nL 394.762227 588.999219 \nL 394.762227 71.284933 \nL 260.842227 71.284933 \nz\n\" style=\"fill:#e08c3f;stroke:#ffffff;stroke-linejoin:miter;\"/>\n   </g>\n   <g id=\"patch_5\">\n    <path clip-path=\"url(#p3e27d249d8)\" d=\"M 428.242227 588.999219 \nL 562.162227 588.999219 \nL 562.162227 71.284933 \nL 428.242227 71.284933 \nz\n\" style=\"fill:#e08c3f;stroke:#ffffff;stroke-linejoin:miter;\"/>\n   </g>\n   <g id=\"patch_6\">\n    <path clip-path=\"url(#p3e27d249d8)\" d=\"M 595.642227 588.999219 \nL 729.562227 588.999219 \nL 729.562227 71.284933 \nL 595.642227 71.284933 \nz\n\" style=\"fill:#e08c3f;stroke:#ffffff;stroke-linejoin:miter;\"/>\n   </g>\n   <g id=\"patch_7\">\n    <path clip-path=\"url(#p3e27d249d8)\" d=\"M 763.042227 588.999219 \nL 896.962227 588.999219 \nL 896.962227 71.284933 \nL 763.042227 71.284933 \nz\n\" style=\"fill:#e08c3f;stroke:#ffffff;stroke-linejoin:miter;\"/>\n   </g>\n   <g id=\"patch_8\">\n    <path clip-path=\"url(#p3e27d249d8)\" d=\"M 93.442227 588.999219 \nL 227.362227 588.999219 \nL 227.362227 107.524933 \nL 93.442227 107.524933 \nz\n\" style=\"fill:#ce3649;stroke:#ffffff;stroke-linejoin:miter;\"/>\n   </g>\n   <g id=\"patch_9\">\n    <path clip-path=\"url(#p3e27d249d8)\" d=\"M 260.842227 588.999219 \nL 394.762227 588.999219 \nL 394.762227 117.879219 \nL 260.842227 117.879219 \nz\n\" style=\"fill:#ce3649;stroke:#ffffff;stroke-linejoin:miter;\"/>\n   </g>\n   <g id=\"patch_10\">\n    <path clip-path=\"url(#p3e27d249d8)\" d=\"M 428.242227 588.999219 \nL 562.162227 588.999219 \nL 562.162227 76.462076 \nL 428.242227 76.462076 \nz\n\" style=\"fill:#ce3649;stroke:#ffffff;stroke-linejoin:miter;\"/>\n   </g>\n   <g id=\"patch_11\">\n    <path clip-path=\"url(#p3e27d249d8)\" d=\"M 595.642227 588.999219 \nL 729.562227 588.999219 \nL 729.562227 123.056362 \nL 595.642227 123.056362 \nz\n\" style=\"fill:#ce3649;stroke:#ffffff;stroke-linejoin:miter;\"/>\n   </g>\n   <g id=\"patch_12\">\n    <path clip-path=\"url(#p3e27d249d8)\" d=\"M 763.042227 588.999219 \nL 896.962227 588.999219 \nL 896.962227 81.639219 \nL 763.042227 81.639219 \nz\n\" style=\"fill:#ce3649;stroke:#ffffff;stroke-linejoin:miter;\"/>\n   </g>\n   <g id=\"patch_13\">\n    <path clip-path=\"url(#p3e27d249d8)\" d=\"M 93.442227 588.999219 \nL 227.362227 588.999219 \nL 227.362227 252.484933 \nL 93.442227 252.484933 \nz\n\" style=\"fill:#157692;stroke:#ffffff;stroke-linejoin:miter;\"/>\n   </g>\n   <g id=\"patch_14\">\n    <path clip-path=\"url(#p3e27d249d8)\" d=\"M 260.842227 588.999219 \nL 394.762227 588.999219 \nL 394.762227 319.78779 \nL 260.842227 319.78779 \nz\n\" style=\"fill:#157692;stroke:#ffffff;stroke-linejoin:miter;\"/>\n   </g>\n   <g id=\"patch_15\">\n    <path clip-path=\"url(#p3e27d249d8)\" d=\"M 428.242227 588.999219 \nL 562.162227 588.999219 \nL 562.162227 573.46779 \nL 428.242227 573.46779 \nz\n\" style=\"fill:#157692;stroke:#ffffff;stroke-linejoin:miter;\"/>\n   </g>\n   <g id=\"patch_16\">\n    <path clip-path=\"url(#p3e27d249d8)\" d=\"M 595.642227 588.999219 \nL 729.562227 588.999219 \nL 729.562227 288.724933 \nL 595.642227 288.724933 \nz\n\" style=\"fill:#157692;stroke:#ffffff;stroke-linejoin:miter;\"/>\n   </g>\n   <g id=\"patch_17\">\n    <path clip-path=\"url(#p3e27d249d8)\" d=\"M 763.042227 588.999219 \nL 896.962227 588.999219 \nL 896.962227 454.393504 \nL 763.042227 454.393504 \nz\n\" style=\"fill:#157692;stroke:#ffffff;stroke-linejoin:miter;\"/>\n   </g>\n   <g id=\"line2d_1\">\n    <path clip-path=\"url(#p3e27d249d8)\" d=\"M 0 0 \n\" style=\"fill:none;stroke:#424242;stroke-linecap:round;stroke-width:2.7;\"/>\n   </g>\n   <g id=\"line2d_2\">\n    <path clip-path=\"url(#p3e27d249d8)\" d=\"M 0 0 \n\" style=\"fill:none;stroke:#424242;stroke-linecap:round;stroke-width:2.7;\"/>\n   </g>\n   <g id=\"line2d_3\">\n    <path clip-path=\"url(#p3e27d249d8)\" d=\"M 0 0 \n\" style=\"fill:none;stroke:#424242;stroke-linecap:round;stroke-width:2.7;\"/>\n   </g>\n   <g id=\"line2d_4\">\n    <path clip-path=\"url(#p3e27d249d8)\" d=\"M 0 0 \n\" style=\"fill:none;stroke:#424242;stroke-linecap:round;stroke-width:2.7;\"/>\n   </g>\n   <g id=\"line2d_5\">\n    <path clip-path=\"url(#p3e27d249d8)\" d=\"M 0 0 \n\" style=\"fill:none;stroke:#424242;stroke-linecap:round;stroke-width:2.7;\"/>\n   </g>\n   <g id=\"line2d_6\">\n    <path clip-path=\"url(#p3e27d249d8)\" d=\"M 0 0 \n\" style=\"fill:none;stroke:#424242;stroke-linecap:round;stroke-width:2.7;\"/>\n   </g>\n   <g id=\"line2d_7\">\n    <path clip-path=\"url(#p3e27d249d8)\" d=\"M 0 0 \n\" style=\"fill:none;stroke:#424242;stroke-linecap:round;stroke-width:2.7;\"/>\n   </g>\n   <g id=\"line2d_8\">\n    <path clip-path=\"url(#p3e27d249d8)\" d=\"M 0 0 \n\" style=\"fill:none;stroke:#424242;stroke-linecap:round;stroke-width:2.7;\"/>\n   </g>\n   <g id=\"line2d_9\">\n    <path clip-path=\"url(#p3e27d249d8)\" d=\"M 0 0 \n\" style=\"fill:none;stroke:#424242;stroke-linecap:round;stroke-width:2.7;\"/>\n   </g>\n   <g id=\"line2d_10\">\n    <path clip-path=\"url(#p3e27d249d8)\" d=\"M 0 0 \n\" style=\"fill:none;stroke:#424242;stroke-linecap:round;stroke-width:2.7;\"/>\n   </g>\n   <g id=\"line2d_11\">\n    <path clip-path=\"url(#p3e27d249d8)\" d=\"M 0 0 \n\" style=\"fill:none;stroke:#424242;stroke-linecap:round;stroke-width:2.7;\"/>\n   </g>\n   <g id=\"line2d_12\">\n    <path clip-path=\"url(#p3e27d249d8)\" d=\"M 0 0 \n\" style=\"fill:none;stroke:#424242;stroke-linecap:round;stroke-width:2.7;\"/>\n   </g>\n   <g id=\"line2d_13\">\n    <path clip-path=\"url(#p3e27d249d8)\" d=\"M 0 0 \n\" style=\"fill:none;stroke:#424242;stroke-linecap:round;stroke-width:2.7;\"/>\n   </g>\n   <g id=\"line2d_14\">\n    <path clip-path=\"url(#p3e27d249d8)\" d=\"M 0 0 \n\" style=\"fill:none;stroke:#424242;stroke-linecap:round;stroke-width:2.7;\"/>\n   </g>\n   <g id=\"line2d_15\">\n    <path clip-path=\"url(#p3e27d249d8)\" d=\"M 0 0 \n\" style=\"fill:none;stroke:#424242;stroke-linecap:round;stroke-width:2.7;\"/>\n   </g>\n   <g id=\"patch_18\">\n    <path d=\"M 76.702227 588.999219 \nL 76.702227 45.399219 \n\" style=\"fill:none;stroke:#262626;stroke-linecap:square;stroke-linejoin:miter;stroke-width:1.25;\"/>\n   </g>\n   <g id=\"patch_19\">\n    <path d=\"M 76.702227 588.999219 \nL 913.702227 588.999219 \n\" style=\"fill:none;stroke:#262626;stroke-linecap:square;stroke-linejoin:miter;stroke-width:1.25;\"/>\n   </g>\n   <g id=\"text_14\">\n    <!-- Functional Status Proportions Per Waterpoint Type -->\n    <defs>\n     <path d=\"M 8.203125 0 \nL 8.203125 71.578125 \nL 56.5 71.578125 \nL 56.5 63.140625 \nL 17.671875 63.140625 \nL 17.671875 40.96875 \nL 51.265625 40.96875 \nL 51.265625 32.515625 \nL 17.671875 32.515625 \nL 17.671875 0 \nz\n\" id=\"ArialMT-70\"/>\n     <path d=\"M 4.5 23 \nL 13.421875 23.78125 \nQ 14.0625 18.40625 16.375 14.96875 \nQ 18.703125 11.53125 23.578125 9.40625 \nQ 28.46875 7.28125 34.578125 7.28125 \nQ 39.984375 7.28125 44.140625 8.890625 \nQ 48.296875 10.5 50.3125 13.296875 \nQ 52.34375 16.109375 52.34375 19.4375 \nQ 52.34375 22.796875 50.390625 25.3125 \nQ 48.4375 27.828125 43.953125 29.546875 \nQ 41.0625 30.671875 31.203125 33.03125 \nQ 21.34375 35.40625 17.390625 37.5 \nQ 12.25 40.1875 9.734375 44.15625 \nQ 7.234375 48.140625 7.234375 53.078125 \nQ 7.234375 58.5 10.296875 63.203125 \nQ 13.375 67.921875 19.28125 70.359375 \nQ 25.203125 72.796875 32.421875 72.796875 \nQ 40.375 72.796875 46.453125 70.234375 \nQ 52.546875 67.671875 55.8125 62.6875 \nQ 59.078125 57.71875 59.328125 51.421875 \nL 50.25 50.734375 \nQ 49.515625 57.515625 45.28125 60.984375 \nQ 41.0625 64.453125 32.8125 64.453125 \nQ 24.21875 64.453125 20.28125 61.296875 \nQ 16.359375 58.15625 16.359375 53.71875 \nQ 16.359375 49.859375 19.140625 47.359375 \nQ 21.875 44.875 33.421875 42.265625 \nQ 44.96875 39.65625 49.265625 37.703125 \nQ 55.515625 34.8125 58.484375 30.390625 \nQ 61.46875 25.984375 61.46875 20.21875 \nQ 61.46875 14.5 58.203125 9.4375 \nQ 54.9375 4.390625 48.796875 1.578125 \nQ 42.671875 -1.21875 35.015625 -1.21875 \nQ 25.296875 -1.21875 18.71875 1.609375 \nQ 12.15625 4.4375 8.421875 10.125 \nQ 4.6875 15.828125 4.5 23 \nz\n\" id=\"ArialMT-83\"/>\n     <path d=\"M 25.921875 0 \nL 25.921875 63.140625 \nL 2.34375 63.140625 \nL 2.34375 71.578125 \nL 59.078125 71.578125 \nL 59.078125 63.140625 \nL 35.40625 63.140625 \nL 35.40625 0 \nz\n\" id=\"ArialMT-84\"/>\n    </defs>\n    <g style=\"fill:#262626;\" transform=\"translate(214.514727 25.399219)scale(0.25 -0.25)\">\n     <use xlink:href=\"#ArialMT-70\"/>\n     <use x=\"61.083984\" xlink:href=\"#ArialMT-117\"/>\n     <use x=\"116.699219\" xlink:href=\"#ArialMT-110\"/>\n     <use x=\"172.314453\" xlink:href=\"#ArialMT-99\"/>\n     <use x=\"222.314453\" xlink:href=\"#ArialMT-116\"/>\n     <use x=\"250.097656\" xlink:href=\"#ArialMT-105\"/>\n     <use x=\"272.314453\" xlink:href=\"#ArialMT-111\"/>\n     <use x=\"327.929688\" xlink:href=\"#ArialMT-110\"/>\n     <use x=\"383.544922\" xlink:href=\"#ArialMT-97\"/>\n     <use x=\"439.160156\" xlink:href=\"#ArialMT-108\"/>\n     <use x=\"461.376953\" xlink:href=\"#ArialMT-32\"/>\n     <use x=\"489.160156\" xlink:href=\"#ArialMT-83\"/>\n     <use x=\"555.859375\" xlink:href=\"#ArialMT-116\"/>\n     <use x=\"583.642578\" xlink:href=\"#ArialMT-97\"/>\n     <use x=\"639.257812\" xlink:href=\"#ArialMT-116\"/>\n     <use x=\"667.041016\" xlink:href=\"#ArialMT-117\"/>\n     <use x=\"722.65625\" xlink:href=\"#ArialMT-115\"/>\n     <use x=\"772.65625\" xlink:href=\"#ArialMT-32\"/>\n     <use x=\"800.439453\" xlink:href=\"#ArialMT-80\"/>\n     <use x=\"867.138672\" xlink:href=\"#ArialMT-114\"/>\n     <use x=\"900.439453\" xlink:href=\"#ArialMT-111\"/>\n     <use x=\"956.054688\" xlink:href=\"#ArialMT-112\"/>\n     <use x=\"1011.669922\" xlink:href=\"#ArialMT-111\"/>\n     <use x=\"1067.285156\" xlink:href=\"#ArialMT-114\"/>\n     <use x=\"1100.585938\" xlink:href=\"#ArialMT-116\"/>\n     <use x=\"1128.369141\" xlink:href=\"#ArialMT-105\"/>\n     <use x=\"1150.585938\" xlink:href=\"#ArialMT-111\"/>\n     <use x=\"1206.201172\" xlink:href=\"#ArialMT-110\"/>\n     <use x=\"1261.816406\" xlink:href=\"#ArialMT-115\"/>\n     <use x=\"1311.816406\" xlink:href=\"#ArialMT-32\"/>\n     <use x=\"1339.599609\" xlink:href=\"#ArialMT-80\"/>\n     <use x=\"1406.298828\" xlink:href=\"#ArialMT-101\"/>\n     <use x=\"1461.914062\" xlink:href=\"#ArialMT-114\"/>\n     <use x=\"1495.214844\" xlink:href=\"#ArialMT-32\"/>\n     <use x=\"1522.998047\" xlink:href=\"#ArialMT-87\"/>\n     <use x=\"1613.632812\" xlink:href=\"#ArialMT-97\"/>\n     <use x=\"1669.248047\" xlink:href=\"#ArialMT-116\"/>\n     <use x=\"1697.03125\" xlink:href=\"#ArialMT-101\"/>\n     <use x=\"1752.646484\" xlink:href=\"#ArialMT-114\"/>\n     <use x=\"1785.947266\" xlink:href=\"#ArialMT-112\"/>\n     <use x=\"1841.5625\" xlink:href=\"#ArialMT-111\"/>\n     <use x=\"1897.177734\" xlink:href=\"#ArialMT-105\"/>\n     <use x=\"1919.394531\" xlink:href=\"#ArialMT-110\"/>\n     <use x=\"1975.009766\" xlink:href=\"#ArialMT-116\"/>\n     <use x=\"2002.792969\" xlink:href=\"#ArialMT-32\"/>\n     <use x=\"2028.826172\" xlink:href=\"#ArialMT-84\"/>\n     <use x=\"2084.410156\" xlink:href=\"#ArialMT-121\"/>\n     <use x=\"2134.410156\" xlink:href=\"#ArialMT-112\"/>\n     <use x=\"2190.025391\" xlink:href=\"#ArialMT-101\"/>\n    </g>\n   </g>\n   <g id=\"legend_1\">\n    <g id=\"patch_20\">\n     <path d=\"M 284.900488 54.993617 \nL 323.400488 54.993617 \nL 323.400488 41.518617 \nL 284.900488 41.518617 \nz\n\" style=\"fill:#e08c3f;stroke:#ffffff;stroke-linejoin:miter;\"/>\n    </g>\n    <g id=\"text_15\">\n     <!-- repair -->\n     <g style=\"fill:#262626;\" transform=\"translate(338.800488 54.993617)scale(0.1925 -0.1925)\">\n      <use xlink:href=\"#ArialMT-114\"/>\n      <use x=\"33.300781\" xlink:href=\"#ArialMT-101\"/>\n      <use x=\"88.916016\" xlink:href=\"#ArialMT-112\"/>\n      <use x=\"144.53125\" xlink:href=\"#ArialMT-97\"/>\n      <use x=\"200.146484\" xlink:href=\"#ArialMT-105\"/>\n      <use x=\"222.363281\" xlink:href=\"#ArialMT-114\"/>\n     </g>\n    </g>\n    <g id=\"patch_21\">\n     <path d=\"M 426.511309 54.993617 \nL 465.011309 54.993617 \nL 465.011309 41.518617 \nL 426.511309 41.518617 \nz\n\" style=\"fill:#ce3649;stroke:#ffffff;stroke-linejoin:miter;\"/>\n    </g>\n    <g id=\"text_16\">\n     <!-- failing -->\n     <g style=\"fill:#262626;\" transform=\"translate(480.411309 54.993617)scale(0.1925 -0.1925)\">\n      <use xlink:href=\"#ArialMT-102\"/>\n      <use x=\"27.783203\" xlink:href=\"#ArialMT-97\"/>\n      <use x=\"83.398438\" xlink:href=\"#ArialMT-105\"/>\n      <use x=\"105.615234\" xlink:href=\"#ArialMT-108\"/>\n      <use x=\"127.832031\" xlink:href=\"#ArialMT-105\"/>\n      <use x=\"150.048828\" xlink:href=\"#ArialMT-110\"/>\n      <use x=\"205.664062\" xlink:href=\"#ArialMT-103\"/>\n     </g>\n    </g>\n    <g id=\"patch_22\">\n     <path d=\"M 569.204941 54.993617 \nL 607.704941 54.993617 \nL 607.704941 41.518617 \nL 569.204941 41.518617 \nz\n\" style=\"fill:#157692;stroke:#ffffff;stroke-linejoin:miter;\"/>\n    </g>\n    <g id=\"text_17\">\n     <!-- functional -->\n     <g style=\"fill:#262626;\" transform=\"translate(623.104941 54.993617)scale(0.1925 -0.1925)\">\n      <use xlink:href=\"#ArialMT-102\"/>\n      <use x=\"27.783203\" xlink:href=\"#ArialMT-117\"/>\n      <use x=\"83.398438\" xlink:href=\"#ArialMT-110\"/>\n      <use x=\"139.013672\" xlink:href=\"#ArialMT-99\"/>\n      <use x=\"189.013672\" xlink:href=\"#ArialMT-116\"/>\n      <use x=\"216.796875\" xlink:href=\"#ArialMT-105\"/>\n      <use x=\"239.013672\" xlink:href=\"#ArialMT-111\"/>\n      <use x=\"294.628906\" xlink:href=\"#ArialMT-110\"/>\n      <use x=\"350.244141\" xlink:href=\"#ArialMT-97\"/>\n      <use x=\"405.859375\" xlink:href=\"#ArialMT-108\"/>\n     </g>\n    </g>\n   </g>\n  </g>\n </g>\n <defs>\n  <clipPath id=\"p3e27d249d8\">\n   <rect height=\"543.6\" width=\"837\" x=\"76.702227\" y=\"45.399219\"/>\n  </clipPath>\n </defs>\n</svg>\n",
      "image/png": "[encoded data removed]"
     },
     "metadata": {}
    }
   ],
   "source": [
    "sns.set_context({\"figure.figsize\": (15, 10)})\n",
    "sns.set(font_scale=1.75)\n",
    "sns.set_style(\"white\")\n",
    "\n",
    "x = list(wq_b_bar.keys())\n",
    "y1 = list(wq_b_bar.values())\n",
    "y2 = list(wq_m_bar.values())\n",
    "y3 = list(wq_t_bar.values())\n",
    "\n",
    "bottom_bar = sns.barplot(x=x, y=y1, color='#fb8b24', label='repair')\n",
    "middle_bar = sns.barplot(x=x, y=y2, color='#e71d36', label='failing')\n",
    "top_bar = sns.barplot(x=x, y=y3, color='#0081a7', label='functional')\n",
    "\n",
    "bottom_bar.set_xlabel('Water Quantity', fontsize=22)\n",
    "bottom_bar.set_ylabel('Proportion of Pumps', fontsize=22)\n",
    "bottom_bar.set_xticklabels(x, rotation=25)\n",
    "bottom_bar.set_title('Functional Status Proportions Per Waterpoint Type', fontsize=25, pad=20)\n",
    "\n",
    "sns.despine(top=True, right=True)\n",
    "\n",
    "plt.legend(loc=\"upper center\", bbox_to_anchor=(0.5, 1.04), ncol=3);"
   ]
  },
  {
   "cell_type": "markdown",
   "metadata": {},
   "source": [
    "## Dummy and First Simple Models\n",
    "\n",
    "To set a base line, a dummy model was created using a Dummy Classifier model.\n",
    "Random state of 42 was assigned, first value in each columns was dropped, but all other settings are default."
   ]
  },
  {
   "cell_type": "code",
   "execution_count": null,
   "metadata": {},
   "outputs": [],
   "source": [
    "#Instantiate OneHotEncoder.\n",
    "\n",
    "ohe = OneHotEncoder(drop='first')\n",
    "\n",
    "# Fit and transform a seleceted feature group.\n",
    "\n",
    "dummies = ohe.fit_transform(df[['extraction_type_class', 'quality_group', \n",
    "                                'quantity_group','source_class', 'basin', \n",
    "                                'management_group', 'payment', 'region']])\n",
    "\n",
    "# Create a dataframe of dummy values.\n",
    "\n",
    "dummies_df = pd.DataFrame(dummies.todense(), columns=ohe.get_feature_names(),\n",
    "                         index=df.index)\n",
    "\n",
    "# Check results of encoding - not necessary but I'm cautious.\n",
    "\n",
    "dummies_df.head()"
   ]
  },
  {
   "cell_type": "markdown",
   "metadata": {},
   "source": [
    "    Train test split"
   ]
  },
  {
   "cell_type": "code",
   "execution_count": null,
   "metadata": {},
   "outputs": [],
   "source": [
    "# Identify target variable\n",
    "\n",
    "y = df['status_group']\n",
    "\n",
    "# Identify features\n",
    "\n",
    "X = dummies_df\n",
    "\n",
    "# Train test split\n",
    "\n",
    "X_train, X_test, y_train, y_test = train_test_split(X, y, random_state=42, test_size=0.2)"
   ]
  },
  {
   "cell_type": "markdown",
   "metadata": {},
   "source": [
    "### Dummy Model"
   ]
  },
  {
   "cell_type": "markdown",
   "metadata": {},
   "source": [
    "    Instantiate Dummy classifier, fit data, and predict."
   ]
  },
  {
   "cell_type": "code",
   "execution_count": null,
   "metadata": {},
   "outputs": [],
   "source": [
    "#Instantiate.\n",
    "\n",
    "dummy_model = DummyClassifier(random_state=42)\n",
    "\n",
    "#Fit.\n",
    "\n",
    "dummy_model.fit(X_train, y_train)\n",
    "\n",
    "#Predict.\n",
    "\n",
    "dummy_preds=dummy_model.predict(X_train)"
   ]
  },
  {
   "cell_type": "markdown",
   "metadata": {},
   "source": [
    "This function returns the Recall Score, Classification Report, and Confusion Matrix for a model."
   ]
  },
  {
   "cell_type": "code",
   "execution_count": null,
   "metadata": {},
   "outputs": [],
   "source": [
    "# Display scores.\n",
    "\n",
    "mcf.display_scores(y_train, dummy_preds, model_name = \"Dummy Model\");"
   ]
  },
  {
   "cell_type": "markdown",
   "metadata": {},
   "source": [
    "    Plotting the Confusion Matrix - redundant, but I like a visualization too"
   ]
  },
  {
   "cell_type": "code",
   "execution_count": null,
   "metadata": {},
   "outputs": [],
   "source": [
    "fig, ax = plt.subplots()\n",
    "fig.suptitle(\"Confusion Matrix - Dummy Model\")\n",
    "plot_confusion_matrix(dummy_model, X_train, y_train, ax=ax, cmap=\"Blues\");"
   ]
  },
  {
   "cell_type": "markdown",
   "metadata": {},
   "source": [
    "#### Now we have a base line to improve upon.\n",
    "- Overall recall score 0.45\n",
    " - functional 0.55\n",
    " - functional needs repair 0.06\n",
    " - nonfunctional 0.39"
   ]
  },
  {
   "cell_type": "markdown",
   "metadata": {},
   "source": [
    "### First Simple Model\n",
    "    Note: As with the EDA, this is a streamlined version of the modelling process. Each member of the team ran separate models. We would then compare results and make adjustments to further iterations.\n",
    "    See the folder `notebooks/exploratory` to review each team member's individual exploration."
   ]
  },
  {
   "cell_type": "markdown",
   "metadata": {},
   "source": [
    "### This first simple model is a Decision Tree Classifier\n",
    "using the same X and y as for the Dummy Model"
   ]
  },
  {
   "cell_type": "code",
   "execution_count": null,
   "metadata": {},
   "outputs": [],
   "source": [
    "# Instantiate.\n",
    "\n",
    "clf = DecisionTreeClassifier(max_depth=3,random_state=42)\n",
    "\n",
    "# Fit.\n",
    "\n",
    "clf.fit(X_train, y_train)\n",
    "\n",
    "# Predict.\n",
    "\n",
    "y_pred = (clf.predict(X_train))\n",
    "\n",
    "# Display scores.\n",
    "mcf.display_scores(y_train, y_pred, model_name = \"FSM\");"
   ]
  },
  {
   "cell_type": "markdown",
   "metadata": {},
   "source": [
    "#### This shows some improvement over the Dummy - which is definitely good.\n",
    "- Overall recall score 0.45 -> 0.67\n",
    " - functional 0.55 -> 0.89\n",
    " - functional needs repair 0.06 -> 0.00 (?)\n",
    " - nonfunctional 0.39 -> 0.48\n",
    " \n",
    "These scores could probably be improved with a \"deeper\" model. This tree had a max depth of 3.\n",
    "\n",
    "I'm going to plot a graph to see how the tree splits..."
   ]
  },
  {
   "cell_type": "code",
   "execution_count": null,
   "metadata": {},
   "outputs": [],
   "source": [
    "# Create DOT data\n",
    "\n",
    "dot_data = export_graphviz(clf, out_file=None, \n",
    "                           feature_names=X_train.columns,  \n",
    "                           class_names=np.unique(y).astype('str'), \n",
    "                           filled=True, rounded=True, special_characters=True)\n",
    "\n",
    "# Draw graph\n",
    "\n",
    "graph = graph_from_dot_data(dot_data)  \n",
    "\n",
    "# Show graph\n",
    "\n",
    "Image(graph.create_png())"
   ]
  },
  {
   "cell_type": "markdown",
   "metadata": {},
   "source": [
    "... and review the Feature Importances"
   ]
  },
  {
   "cell_type": "code",
   "execution_count": null,
   "metadata": {},
   "outputs": [],
   "source": [
    "for col, feature in zip(X_train.columns, clf.feature_importances_):\n",
    "    print(col, feature)"
   ]
  },
  {
   "cell_type": "markdown",
   "metadata": {},
   "source": [
    "#### The features of highest importance on this model are: \n",
    "- Extraction Type other 0.44(!) <- wow, that's high\n",
    "- Water Quantity enough 0.28\n",
    "- Water Quantity insufficient 0.18"
   ]
  },
  {
   "cell_type": "markdown",
   "metadata": {},
   "source": [
    "## Model interations"
   ]
  },
  {
   "cell_type": "markdown",
   "metadata": {},
   "source": [
    "After comparing results of individual FSMs, we argeed that we should move forward with a Random Forest Classifier and the features should include one feature from each group of categories\n",
    "\n",
    "- Geographic Location\n",
    "- Quantity of Water\n",
    "- Quality of Water\n",
    "- How the waterpoint is managed\n",
    "- Extraction type the waterpoint uses\n",
    "- Water Source\n",
    "\n",
    "Changes to iterations included selection of features, hyperparameter tuning, and boosting methods."
   ]
  },
  {
   "cell_type": "markdown",
   "metadata": {},
   "source": [
    "## Final model"
   ]
  },
  {
   "cell_type": "markdown",
   "metadata": {},
   "source": [
    "### The final model is a Random Forest Classifier, using 500 estimators and the following feature set:\n",
    "- lga (Geographic Location)\n",
    "- quantity_group (Quantity of Water)\n",
    "- quality_group (Quality of Water)\n",
    "- management_group (How the waterpoint is managed)\n",
    "- extraction_type (Extraction type the waterpoint uses)\n",
    "- source_type (Water Source)"
   ]
  },
  {
   "cell_type": "markdown",
   "metadata": {},
   "source": [
    "Created a smaller dataframe of the feature set."
   ]
  },
  {
   "cell_type": "code",
   "execution_count": null,
   "metadata": {},
   "outputs": [],
   "source": [
    "st_df = df[['status_group','lga','quantity_group','quality_group','management_group',\n",
    "            'extraction_type','source_type','waterpoint_type']]\n",
    "st_df.head()"
   ]
  },
  {
   "cell_type": "markdown",
   "metadata": {},
   "source": [
    "Identify target and features."
   ]
  },
  {
   "cell_type": "code",
   "execution_count": null,
   "metadata": {},
   "outputs": [],
   "source": [
    "# Identify target variable.\n",
    "y = st_df['status_group']\n",
    "\n",
    "# Identify features.\n",
    "\n",
    "X = st_df.drop('status_group', axis=1)"
   ]
  },
  {
   "cell_type": "raw",
   "metadata": {},
   "source": [
    "Perform a train test split"
   ]
  },
  {
   "cell_type": "code",
   "execution_count": null,
   "metadata": {},
   "outputs": [],
   "source": [
    "# train test split\n",
    "\n",
    "X_train, X_test, y_train, y_test = train_test_split(X, y, random_state=42, test_size=.2)"
   ]
  },
  {
   "cell_type": "markdown",
   "metadata": {},
   "source": [
    "OneHotEncode the training set"
   ]
  },
  {
   "cell_type": "code",
   "execution_count": null,
   "metadata": {},
   "outputs": [],
   "source": [
    "# Fit.\n",
    "\n",
    "ohe.fit(X_train)\n",
    "\n",
    "# Transform.\n",
    "\n",
    "X_train_ohe = ohe.transform(X_train).toarray()"
   ]
  },
  {
   "cell_type": "markdown",
   "metadata": {},
   "source": [
    "Instantiate Random Forest Classifier.\n",
    "\n",
    "Fit.\n",
    "\n",
    "Predict.\n",
    "\n",
    "Display Scores."
   ]
  },
  {
   "cell_type": "code",
   "execution_count": null,
   "metadata": {},
   "outputs": [],
   "source": [
    "# Instantiate a RandomForestClassifier.\n",
    "\n",
    "rfc = RandomForestClassifier(n_estimators=500, random_state=42)\n",
    "\n",
    "# Fit.\n",
    "\n",
    "rfc.fit(X_train_ohe, y_train)\n",
    "\n",
    "# Predict.\n",
    "\n",
    "rfc_preds = rfc.predict(X_train_ohe)\n",
    "\n",
    "# Display scores.\n",
    "\n",
    "mcf.display_scores(y_train, rfc_preds , model_name='Random Forest Final Training');"
   ]
  },
  {
   "cell_type": "markdown",
   "metadata": {},
   "source": [
    "### Run the test set"
   ]
  },
  {
   "cell_type": "markdown",
   "metadata": {},
   "source": [
    "Encode the test set."
   ]
  },
  {
   "cell_type": "code",
   "execution_count": null,
   "metadata": {},
   "outputs": [],
   "source": [
    "X_test_ohe = ohe.transform(X_test)"
   ]
  },
  {
   "cell_type": "markdown",
   "metadata": {},
   "source": [
    "Fit.\n",
    "\n",
    "Predict.\n",
    "\n",
    "Display Scores."
   ]
  },
  {
   "cell_type": "code",
   "execution_count": null,
   "metadata": {},
   "outputs": [],
   "source": [
    "# Fit.\n",
    "\n",
    "rfc.fit(X_test_ohe, y_test)\n",
    "\n",
    "# Predict.\n",
    "\n",
    "y_preds = rfc.predict(X_test_ohe)\n",
    "\n",
    "# Display scores.\n",
    "\n",
    "mcf.display_scores(y_test, y_preds , model_name='Random Forest Test Data');"
   ]
  },
  {
   "cell_type": "markdown",
   "metadata": {},
   "source": [
    "#### Plot the final confusion matrix"
   ]
  },
  {
   "cell_type": "code",
   "execution_count": null,
   "metadata": {},
   "outputs": [],
   "source": [
    "fig, ax = plt.subplots()\n",
    "figsize=(20,20)\n",
    "fig.suptitle(\"Final Model Confusion Matrix\")\n",
    "plot_confusion_matrix(rfc, X_test_ohe, y_test, ax=ax, cmap=\"Blues\");"
   ]
  },
  {
   "cell_type": "markdown",
   "metadata": {},
   "source": [
    "#### Comparison of our scores, Dummy to FSM to Final Model test \n",
    "- **Overall recall score** 0.45 -> 0.67 -> **0.83**\n",
    " - **functional** 0.55 -> 0.89 -> **0.93**\n",
    " - **functional needs repair** 0.06 -> 0.00 -> **0.36**\n",
    " - **nonfunctional** 0.39 -> 0.48 -> **0.77**"
   ]
  },
  {
   "cell_type": "markdown",
   "metadata": {},
   "source": [
    "## Conclusions and Recommendations\n",
    "\n",
    "The final model was a Random Forest Classifier that achieved an overall Recall Score of  0.83.\n",
    "\n",
    "\n",
    "### The recall scores for each catergory are as follows:\n",
    "- Functional  0.93\n",
    "- Nonfunctional 0.77\n",
    "- Functional needs repair 0.36\n",
    "\n",
    "The model performed best at the Functional wells, adequately on Nonfunctional wells, and had the most trouble correctly predicting the Functional needs repair.\n",
    "\n",
    "We found that overall the data was not reliably gathered, so the results were not expected to be particularly accurate.\n",
    "\n",
    "### Recommendations are:\n",
    "\n",
    "- Focus resources on pumps that are failing or in need of repairs.\n",
    "\n",
    "- Implement pumps types in the future that are least likely to fail.\n",
    "\n",
    "- Work with local governments to ensure accurate gathering of further data.\n",
    "\n",
    "- Create standard definition for governments to follow when classifying functional status of water pumps."
   ]
  },
  {
   "cell_type": "markdown",
   "metadata": {},
   "source": [
    "## Further exploration \n",
    "- Are there areas/regions that have more failing wells?\n",
    "- Does water quality appear to contribute to the likelihood of a well failing/needing repair?\n",
    "- How is the status of a well associated with the population using the well, if at all?\n",
    "- Is there a difference in rates of failure/repair between groundwater and surface water wells?\n",
    "- is there a difference in failure/repair with the type of pump?\n",
    "- Does the age of the well indicate liklihood of needed repair or failure?"
   ]
  },
  {
   "cell_type": "code",
   "execution_count": null,
   "metadata": {},
   "outputs": [],
   "source": []
  }
 ],
 "metadata": {
  "kernelspec": {
   "display_name": "Python 3.7.7 64-bit",
   "language": "python",
   "name": "python_defaultSpec_1594598189878"
  },
  "language_info": {
   "codemirror_mode": {
    "name": "ipython",
    "version": 3
   },
   "file_extension": ".py",
   "mimetype": "text/x-python",
   "name": "python",
   "nbconvert_exporter": "python",
   "pygments_lexer": "ipython3",
   "version": "3.8.2"
  },
  "toc": {
   "base_numbering": 1,
   "nav_menu": {},
   "number_sections": true,
   "sideBar": true,
   "skip_h1_title": false,
   "title_cell": "Table of Contents",
   "title_sidebar": "Contents",
   "toc_cell": false,
   "toc_position": {},
   "toc_section_display": true,
   "toc_window_display": false
  }
 },
 "nbformat": 4,
 "nbformat_minor": 4
}