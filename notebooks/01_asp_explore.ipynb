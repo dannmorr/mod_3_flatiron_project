{
 "cells": [
  {
   "cell_type": "code",
   "execution_count": 1,
   "metadata": {},
   "outputs": [
    {
     "data": {
      "text/html": [
       "<div>\n",
       "<style scoped>\n",
       "    .dataframe tbody tr th:only-of-type {\n",
       "        vertical-align: middle;\n",
       "    }\n",
       "\n",
       "    .dataframe tbody tr th {\n",
       "        vertical-align: top;\n",
       "    }\n",
       "\n",
       "    .dataframe thead th {\n",
       "        text-align: right;\n",
       "    }\n",
       "</style>\n",
       "<table border=\"1\" class=\"dataframe\">\n",
       "  <thead>\n",
       "    <tr style=\"text-align: right;\">\n",
       "      <th></th>\n",
       "      <th>Indicator</th>\n",
       "      <th>Unit</th>\n",
       "      <th>Subgroup</th>\n",
       "      <th>Area</th>\n",
       "      <th>Area ID</th>\n",
       "      <th>Time Period</th>\n",
       "      <th>Source</th>\n",
       "      <th>Data Value</th>\n",
       "      <th>Footnotes</th>\n",
       "    </tr>\n",
       "  </thead>\n",
       "  <tbody>\n",
       "    <tr>\n",
       "      <td>0</td>\n",
       "      <td>Annual turnover</td>\n",
       "      <td>Million of Tshs</td>\n",
       "      <td>Government grants</td>\n",
       "      <td>Mainland</td>\n",
       "      <td>TZA001</td>\n",
       "      <td>2007-2008</td>\n",
       "      <td>TBA_Annual Report_Yearly</td>\n",
       "      <td>2501.92</td>\n",
       "      <td>TZA_TBA Annual Report</td>\n",
       "    </tr>\n",
       "    <tr>\n",
       "      <td>1</td>\n",
       "      <td>Annual turnover</td>\n",
       "      <td>Million of Tshs</td>\n",
       "      <td>Government grants</td>\n",
       "      <td>Mainland</td>\n",
       "      <td>TZA001</td>\n",
       "      <td>2008-2009</td>\n",
       "      <td>TBA_Annual Report_Yearly</td>\n",
       "      <td>3653.95</td>\n",
       "      <td>TZA_TBA Annual Report</td>\n",
       "    </tr>\n",
       "    <tr>\n",
       "      <td>2</td>\n",
       "      <td>Annual turnover</td>\n",
       "      <td>Million of Tshs</td>\n",
       "      <td>Government grants</td>\n",
       "      <td>Mainland</td>\n",
       "      <td>TZA001</td>\n",
       "      <td>2009-2010</td>\n",
       "      <td>TBA_Annual Report_Yearly</td>\n",
       "      <td>6942.68</td>\n",
       "      <td>TZA_TBA Annual Report</td>\n",
       "    </tr>\n",
       "    <tr>\n",
       "      <td>3</td>\n",
       "      <td>Annual turnover</td>\n",
       "      <td>Million of Tshs</td>\n",
       "      <td>Government grants</td>\n",
       "      <td>Mainland</td>\n",
       "      <td>TZA001</td>\n",
       "      <td>2010-2011</td>\n",
       "      <td>TBA_Annual Report_Yearly</td>\n",
       "      <td>7258.88</td>\n",
       "      <td>TZA_TBA Annual Report</td>\n",
       "    </tr>\n",
       "    <tr>\n",
       "      <td>4</td>\n",
       "      <td>Annual turnover</td>\n",
       "      <td>Million of Tshs</td>\n",
       "      <td>TBA own source</td>\n",
       "      <td>Mainland</td>\n",
       "      <td>TZA001</td>\n",
       "      <td>2007-2008</td>\n",
       "      <td>TBA_Annual Report_Yearly</td>\n",
       "      <td>13465.42</td>\n",
       "      <td>TZA_TBA Annual Report</td>\n",
       "    </tr>\n",
       "  </tbody>\n",
       "</table>\n",
       "</div>"
      ],
      "text/plain": [
       "         Indicator             Unit           Subgroup      Area Area ID  \\\n",
       "0  Annual turnover  Million of Tshs  Government grants  Mainland  TZA001   \n",
       "1  Annual turnover  Million of Tshs  Government grants  Mainland  TZA001   \n",
       "2  Annual turnover  Million of Tshs  Government grants  Mainland  TZA001   \n",
       "3  Annual turnover  Million of Tshs  Government grants  Mainland  TZA001   \n",
       "4  Annual turnover  Million of Tshs     TBA own source  Mainland  TZA001   \n",
       "\n",
       "  Time Period                    Source  Data Value              Footnotes  \n",
       "0   2007-2008  TBA_Annual Report_Yearly     2501.92  TZA_TBA Annual Report  \n",
       "1   2008-2009  TBA_Annual Report_Yearly     3653.95  TZA_TBA Annual Report  \n",
       "2   2009-2010  TBA_Annual Report_Yearly     6942.68  TZA_TBA Annual Report  \n",
       "3   2010-2011  TBA_Annual Report_Yearly     7258.88  TZA_TBA Annual Report  \n",
       "4   2007-2008  TBA_Annual Report_Yearly    13465.42  TZA_TBA Annual Report  "
      ]
     },
     "execution_count": 1,
     "metadata": {},
     "output_type": "execute_result"
    }
   ],
   "source": [
    "import pandas as pd\n",
    "\n",
    "df = pd.read_csv('Tanzania_2012_en.csv')\n",
    "df.head()"
   ]
  },
  {
   "cell_type": "code",
   "execution_count": 2,
   "metadata": {},
   "outputs": [
    {
     "data": {
      "text/plain": [
       "Population size                                                                                 1803\n",
       "Source of improved drinking water by households                                                 1472\n",
       "Improved toilet facilities by household                                                         1465\n",
       "Primary school net enrolment ratio                                                              1299\n",
       "Source of non improved drinking water by households                                             1288\n",
       "                                                                                                ... \n",
       "Children who work more than 4 hrs per day-standard definition                                      1\n",
       "Share of total employment in crop sub-sector                                                       1\n",
       "Population of married women 15-49 years currently using any modern method of family planning       1\n",
       "Share of livestock subsector to total employment                                                   1\n",
       "HIV Viral load suppression among people living with HIV ages 0-14 years                            1\n",
       "Name: Indicator, Length: 789, dtype: int64"
      ]
     },
     "execution_count": 2,
     "metadata": {},
     "output_type": "execute_result"
    }
   ],
   "source": [
    "df['Indicator'].value_counts()"
   ]
  },
  {
   "cell_type": "code",
   "execution_count": 3,
   "metadata": {},
   "outputs": [],
   "source": [
    "source = df['Indicator'] == 'Source of improved drinking water by households'"
   ]
  },
  {
   "cell_type": "code",
   "execution_count": 4,
   "metadata": {},
   "outputs": [],
   "source": [
    "df = df[source]"
   ]
  },
  {
   "cell_type": "code",
   "execution_count": 5,
   "metadata": {},
   "outputs": [
    {
     "data": {
      "text/html": [
       "<div>\n",
       "<style scoped>\n",
       "    .dataframe tbody tr th:only-of-type {\n",
       "        vertical-align: middle;\n",
       "    }\n",
       "\n",
       "    .dataframe tbody tr th {\n",
       "        vertical-align: top;\n",
       "    }\n",
       "\n",
       "    .dataframe thead th {\n",
       "        text-align: right;\n",
       "    }\n",
       "</style>\n",
       "<table border=\"1\" class=\"dataframe\">\n",
       "  <thead>\n",
       "    <tr style=\"text-align: right;\">\n",
       "      <th></th>\n",
       "      <th>Indicator</th>\n",
       "      <th>Unit</th>\n",
       "      <th>Subgroup</th>\n",
       "      <th>Area</th>\n",
       "      <th>Area ID</th>\n",
       "      <th>Time Period</th>\n",
       "      <th>Source</th>\n",
       "      <th>Data Value</th>\n",
       "      <th>Footnotes</th>\n",
       "    </tr>\n",
       "  </thead>\n",
       "  <tbody>\n",
       "    <tr>\n",
       "      <td>53558</td>\n",
       "      <td>Source of improved drinking water by households</td>\n",
       "      <td>Percent</td>\n",
       "      <td>Piped Water into dwelling</td>\n",
       "      <td>Kagera</td>\n",
       "      <td>TZA001018</td>\n",
       "      <td>2012</td>\n",
       "      <td>NBS_Population and Housing Census, 2012_2013-2018</td>\n",
       "      <td>2.9</td>\n",
       "      <td>TZA_Population and Housing Census (PHC) 2012, ...</td>\n",
       "    </tr>\n",
       "    <tr>\n",
       "      <td>53559</td>\n",
       "      <td>Source of improved drinking water by households</td>\n",
       "      <td>Percent</td>\n",
       "      <td>Piped Water into dwelling</td>\n",
       "      <td>Tarime</td>\n",
       "      <td>TZA001020001</td>\n",
       "      <td>2012</td>\n",
       "      <td>NBS_Population and Housing Census, 2012_2013-2018</td>\n",
       "      <td>1.5</td>\n",
       "      <td>TZA_Population and Housing Census (PHC) 2012, ...</td>\n",
       "    </tr>\n",
       "    <tr>\n",
       "      <td>53560</td>\n",
       "      <td>Source of improved drinking water by households</td>\n",
       "      <td>Percent</td>\n",
       "      <td>Piped Water into dwelling</td>\n",
       "      <td>Njombe</td>\n",
       "      <td>TZA001022</td>\n",
       "      <td>2012</td>\n",
       "      <td>NBS_Population and Housing Census, 2012_2013-2018</td>\n",
       "      <td>13.6</td>\n",
       "      <td>TZA_Population and Housing Census (PHC) 2012, ...</td>\n",
       "    </tr>\n",
       "    <tr>\n",
       "      <td>53561</td>\n",
       "      <td>Source of improved drinking water by households</td>\n",
       "      <td>Percent</td>\n",
       "      <td>Piped Water into dwelling</td>\n",
       "      <td>Ruvuma</td>\n",
       "      <td>TZA001010</td>\n",
       "      <td>2012</td>\n",
       "      <td>NBS_Population and Housing Census, 2012_2013-2018</td>\n",
       "      <td>12.5</td>\n",
       "      <td>TZA_Population and Housing Census (PHC) 2012, ...</td>\n",
       "    </tr>\n",
       "    <tr>\n",
       "      <td>53562</td>\n",
       "      <td>Source of improved drinking water by households</td>\n",
       "      <td>Percent</td>\n",
       "      <td>Piped Water into dwelling</td>\n",
       "      <td>Rukwa</td>\n",
       "      <td>TZA001015</td>\n",
       "      <td>2012</td>\n",
       "      <td>NBS_Population and Housing Census, 2012_2013-2018</td>\n",
       "      <td>6.8</td>\n",
       "      <td>TZA_Population and Housing Census (PHC) 2012, ...</td>\n",
       "    </tr>\n",
       "  </tbody>\n",
       "</table>\n",
       "</div>"
      ],
      "text/plain": [
       "                                             Indicator     Unit  \\\n",
       "53558  Source of improved drinking water by households  Percent   \n",
       "53559  Source of improved drinking water by households  Percent   \n",
       "53560  Source of improved drinking water by households  Percent   \n",
       "53561  Source of improved drinking water by households  Percent   \n",
       "53562  Source of improved drinking water by households  Percent   \n",
       "\n",
       "                        Subgroup    Area       Area ID Time Period  \\\n",
       "53558  Piped Water into dwelling  Kagera     TZA001018        2012   \n",
       "53559  Piped Water into dwelling  Tarime  TZA001020001        2012   \n",
       "53560  Piped Water into dwelling  Njombe     TZA001022        2012   \n",
       "53561  Piped Water into dwelling  Ruvuma     TZA001010        2012   \n",
       "53562  Piped Water into dwelling   Rukwa     TZA001015        2012   \n",
       "\n",
       "                                                  Source  Data Value  \\\n",
       "53558  NBS_Population and Housing Census, 2012_2013-2018         2.9   \n",
       "53559  NBS_Population and Housing Census, 2012_2013-2018         1.5   \n",
       "53560  NBS_Population and Housing Census, 2012_2013-2018        13.6   \n",
       "53561  NBS_Population and Housing Census, 2012_2013-2018        12.5   \n",
       "53562  NBS_Population and Housing Census, 2012_2013-2018         6.8   \n",
       "\n",
       "                                               Footnotes  \n",
       "53558  TZA_Population and Housing Census (PHC) 2012, ...  \n",
       "53559  TZA_Population and Housing Census (PHC) 2012, ...  \n",
       "53560  TZA_Population and Housing Census (PHC) 2012, ...  \n",
       "53561  TZA_Population and Housing Census (PHC) 2012, ...  \n",
       "53562  TZA_Population and Housing Census (PHC) 2012, ...  "
      ]
     },
     "execution_count": 5,
     "metadata": {},
     "output_type": "execute_result"
    }
   ],
   "source": [
    "df.head()"
   ]
  },
  {
   "cell_type": "code",
   "execution_count": 6,
   "metadata": {},
   "outputs": [
    {
     "data": {
      "text/plain": [
       "(1472, 9)"
      ]
     },
     "execution_count": 6,
     "metadata": {},
     "output_type": "execute_result"
    }
   ],
   "source": [
    "df.shape"
   ]
  },
  {
   "cell_type": "code",
   "execution_count": 7,
   "metadata": {},
   "outputs": [
    {
     "data": {
      "text/plain": [
       "Indicator      0\n",
       "Unit           0\n",
       "Subgroup       0\n",
       "Area           0\n",
       "Area ID        0\n",
       "Time Period    0\n",
       "Source         0\n",
       "Data Value     0\n",
       "Footnotes      0\n",
       "dtype: int64"
      ]
     },
     "execution_count": 7,
     "metadata": {},
     "output_type": "execute_result"
    }
   ],
   "source": [
    "df.isnull().sum()"
   ]
  },
  {
   "cell_type": "code",
   "execution_count": 8,
   "metadata": {},
   "outputs": [
    {
     "data": {
      "text/plain": [
       "2012    1472\n",
       "Name: Time Period, dtype: int64"
      ]
     },
     "execution_count": 8,
     "metadata": {},
     "output_type": "execute_result"
    }
   ],
   "source": [
    "df['Time Period'].value_counts()"
   ]
  },
  {
   "cell_type": "code",
   "execution_count": null,
   "metadata": {},
   "outputs": [],
   "source": []
  }
 ],
 "metadata": {
  "kernelspec": {
   "display_name": "learn-env",
   "language": "python",
   "name": "learn-env"
  },
  "language_info": {
   "codemirror_mode": {
    "name": "ipython",
    "version": 3
   },
   "file_extension": ".py",
   "mimetype": "text/x-python",
   "name": "python",
   "nbconvert_exporter": "python",
   "pygments_lexer": "ipython3",
   "version": "3.6.9"
  }
 },
 "nbformat": 4,
 "nbformat_minor": 4
}
